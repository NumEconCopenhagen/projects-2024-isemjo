{
 "cells": [
  {
   "cell_type": "markdown",
   "metadata": {},
   "source": [
    "**Table of contents**<a id='toc0_'></a>    \n",
    "- 1. [Imports](#toc1_)    \n",
    "- 2. [Model class](#toc2_)    \n",
    "  - 2.1. [Basic Edgeworth box](#toc2_1_)    \n",
    "\n",
    "<!-- vscode-jupyter-toc-config\n",
    "\tnumbering=true\n",
    "\tanchor=true\n",
    "\tflat=false\n",
    "\tminLevel=2\n",
    "\tmaxLevel=6\n",
    "\t/vscode-jupyter-toc-config -->\n",
    "<!-- THIS CELL WILL BE REPLACED ON TOC UPDATE. DO NOT WRITE YOUR TEXT IN THIS CELL -->"
   ]
  },
  {
   "cell_type": "markdown",
   "metadata": {},
   "source": [
    "## 1. <a id='toc1_'></a>[Imports](#toc0_)"
   ]
  },
  {
   "cell_type": "code",
   "execution_count": null,
   "metadata": {},
   "outputs": [],
   "source": [
    "from types import SimpleNamespace\n",
    "import numpy as np\n",
    "from scipy import optimize\n",
    "import pandas as pd \n",
    "import matplotlib.pyplot as plt\n",
    "import warnings\n",
    "\n",
    "plt.rcParams.update({\"axes.grid\":True,\"grid.color\":\"black\",\"grid.alpha\":\"0.25\",\"grid.linestyle\":\"--\"})\n",
    "plt.rcParams.update({'font.size': 14})\n",
    "\n",
    "%load_ext autoreload\n",
    "%autoreload 2"
   ]
  },
  {
   "cell_type": "markdown",
   "metadata": {},
   "source": [
    "## 2. <a id='toc2_'></a>[Model class](#toc0_)"
   ]
  },
  {
   "cell_type": "code",
   "execution_count": null,
   "metadata": {},
   "outputs": [],
   "source": [
    "from inauguralproject import *"
   ]
  },
  {
   "cell_type": "markdown",
   "metadata": {},
   "source": [
    "### 2.1. <a id='toc2_1_'></a>[Basic Edgeworth box](#toc0_)"
   ]
  },
  {
   "cell_type": "code",
   "execution_count": null,
   "metadata": {},
   "outputs": [],
   "source": [
    "model = ExchangeEconomyClass()"
   ]
  },
  {
   "cell_type": "code",
   "execution_count": null,
   "metadata": {},
   "outputs": [],
   "source": [
    "par = model.par\n",
    "\n",
    "# a. total endowment\n",
    "w1bar = 1.0\n",
    "w2bar = 1.0\n",
    "\n",
    "# b. figure set up\n",
    "fig = plt.figure(frameon=False,figsize=(6,6), dpi=100)\n",
    "ax_A = fig.add_subplot(1, 1, 1)\n",
    "\n",
    "ax_A.set_xlabel(\"$x_1^A$\")\n",
    "ax_A.set_ylabel(\"$x_2^A$\")\n",
    "\n",
    "temp = ax_A.twinx()\n",
    "temp.set_ylabel(\"$x_2^B$\")\n",
    "ax_B = temp.twiny()\n",
    "ax_B.set_xlabel(\"$x_1^B$\")\n",
    "ax_B.invert_xaxis()\n",
    "ax_B.invert_yaxis()\n",
    "\n",
    "# A\n",
    "ax_A.scatter(par.w1A,par.w2A,marker='s',color='black',label='endowment')\n",
    "\n",
    "# limits\n",
    "ax_A.plot([0,w1bar],[0,0],lw=2,color='black')\n",
    "ax_A.plot([0,w1bar],[w2bar,w2bar],lw=2,color='black')\n",
    "ax_A.plot([0,0],[0,w2bar],lw=2,color='black')\n",
    "ax_A.plot([w1bar,w1bar],[0,w2bar],lw=2,color='black')\n",
    "\n",
    "ax_A.set_xlim([-0.1, w1bar + 0.1])\n",
    "ax_A.set_ylim([-0.1, w2bar + 0.1])    \n",
    "ax_B.set_xlim([w1bar + 0.1, -0.1])\n",
    "ax_B.set_ylim([w2bar + 0.1, -0.1])\n",
    "\n",
    "ax_A.legend(frameon=True,loc='upper right',bbox_to_anchor=(1.6,1.0));"
   ]
  },
  {
   "cell_type": "markdown",
   "metadata": {},
   "source": [
    "## 3. <a id='toc2_'></a>[Assignment](#toc0_)"
   ]
  },
  {
   "cell_type": "markdown",
   "metadata": {},
   "source": [
    "Question 1"
   ]
  },
  {
   "cell_type": "code",
   "execution_count": null,
   "metadata": {},
   "outputs": [],
   "source": [
    "# Definding a list of possible x values: \n",
    "N = 75\n",
    "x_vals = np.linspace(0, 1, N+1)\n",
    "\n",
    "# Definding an emty list: \n",
    "pareto_efficient_allocations = []\n",
    "\n",
    "# Finding all x values which fullfills the requirements for c: \n",
    "for x1A in x_vals:\n",
    "    for x2A in x_vals:\n",
    "        x1B = 1 - x1A\n",
    "        x2B = 1 - x2A\n",
    "        if model.utility_A(x1A,x2A) >= model.utility_A(par.w1A, par.w2A):\n",
    "            if model.utility_B(x1B, x2B) >=  model.utility_B(par.w1B, par.w2B):\n",
    "                # Tranfering all pareto efficients x values to the emty list:\n",
    "                pareto_efficient_allocations.append([x1A, x2A])\n",
    "print(\"Pareto efficient allocations:\")\n",
    "print(pareto_efficient_allocations)\n"
   ]
  },
  {
   "cell_type": "markdown",
   "metadata": {},
   "source": [
    "Figure 1"
   ]
  },
  {
   "cell_type": "code",
   "execution_count": null,
   "metadata": {},
   "outputs": [],
   "source": [
    "# Define the parameters\n",
    "par = model.par\n",
    "w1bar = 1.0\n",
    "w2bar = 1.0\n",
    "\n",
    "# Plotting\n",
    "fig = plt.figure(frameon=False, figsize=(6, 6), dpi=100)\n",
    "ax_A = fig.add_subplot(1, 1, 1)\n",
    "\n",
    "# Set labels\n",
    "ax_A.set_xlabel(\"$x_1^A$\")\n",
    "ax_A.set_ylabel(\"$x_2^A$\")\n",
    "\n",
    "temp = ax_A.twinx()\n",
    "temp.set_ylabel(\"$x_2^B$\")\n",
    "ax_B = temp.twiny()\n",
    "ax_B.set_xlabel(\"$x_1^B$\")\n",
    "ax_B.invert_xaxis()\n",
    "ax_B.invert_yaxis()\n",
    "\n",
    "# Plot endowment of agent A:\n",
    "ax_A.scatter(par.w1A, par.w2A, marker='s', color='black', label='Endowment of Agent A')\n",
    "\n",
    "# Plot Pareto efficient allocations:\n",
    "pareto_x1A = [allocation[0] for allocation in pareto_efficient_allocations]\n",
    "pareto_x2A = [allocation[1] for allocation in pareto_efficient_allocations]\n",
    "ax_A.scatter(pareto_x1A, pareto_x2A, marker='o', color='red', label='Pareto efficient allocations')\n",
    "\n",
    "# Plot limits of the Edgeworth box:\n",
    "ax_A.plot([0, w1bar], [0, 0], lw=2, color='black')\n",
    "ax_A.plot([0, w1bar], [w2bar, w2bar], lw=2, color='black')\n",
    "ax_A.plot([0, 0], [0, w2bar], lw=2, color='black')\n",
    "ax_A.plot([w1bar, w1bar], [0, w2bar], lw=2, color='black')\n",
    "\n",
    "# Set limits\n",
    "ax_A.set_xlim([-0.1, w1bar + 0.1])\n",
    "ax_A.set_ylim([-0.1, w2bar + 0.1])\n",
    "ax_B.set_xlim([w1bar + 0.1, -0.1])\n",
    "ax_B.set_ylim([w2bar + 0.1, -0.1])\n",
    "\n",
    "# Legend\n",
    "ax_A.legend(frameon=True, loc='upper right', bbox_to_anchor=(1.6, 1.0))\n",
    "\n",
    "plt.show()\n"
   ]
  },
  {
   "cell_type": "markdown",
   "metadata": {},
   "source": [
    "Question 2"
   ]
  },
  {
   "cell_type": "code",
   "execution_count": null,
   "metadata": {},
   "outputs": [],
   "source": [
    "# Definding the intervals of P1: \n",
    "P1 = [0.5] + [0.5 + 2*i/N for i in range(1, N+1)] + [2.5]\n",
    "\n",
    "# Creating two emty lists: \n",
    "error_1 = []\n",
    "error_2 = []\n",
    "\n",
    "# Definding the demand as \"x_star\"\n",
    "for p1 in P1:\n",
    "    x1A_star, x2A_star = model.demand_A(p1)\n",
    "    x1B_star, x2B_star = model.demand_B(p1)\n",
    "    \n",
    "    # Definding the error in the market clearing condition s, which is defined as the demand minus the supply:\n",
    "    eps1 = x1A_star - model.par.w1A + x1B_star - model.par.w1B\n",
    "    eps2 = x2A_star - model.par.w2A + x2B_star - model.par.w2B\n",
    "    \n",
    "    # Tranfering all errors to the emty list:\n",
    "    error_1.append(eps1)\n",
    "    error_2.append(eps2)\n",
    "\n",
    "print(\"Error in market clearing condition 1:\")\n",
    "print(error_1)\n",
    "print(\"Error in market clearing condition 2:\")\n",
    "print(error_2)"
   ]
  },
  {
   "cell_type": "markdown",
   "metadata": {},
   "source": [
    "Question 3"
   ]
  },
  {
   "cell_type": "code",
   "execution_count": null,
   "metadata": {},
   "outputs": [],
   "source": [
    "# Define a function to compute the squared sum of errors\n",
    "def error_function(p):\n",
    "    eps1, eps2 = model.check_market_clearing(p[0])\n",
    "    return eps1**2 + eps2**2  \n",
    "\n",
    "# Initial guess for the price of good A (p1)\n",
    "initial_guess = 1.0  \n",
    "\n",
    "# Perform optimization to minimize the error function\n",
    "result = minimize(error_function, [initial_guess], method='Nelder-Mead')\n",
    "\n",
    "# Extract the optimized price of good A\n",
    "market_clearing_price = result.x[0]\n",
    "\n",
    "print(\"Market clearing price:\", market_clearing_price)"
   ]
  },
  {
   "cell_type": "code",
   "execution_count": null,
   "metadata": {},
   "outputs": [],
   "source": [
    "# Finding the market clearing allocation for the market clearing price for agent A:\n",
    "x1A_star, x2A_star = model.demand_A(market_clearing_price)\n",
    "\n",
    "print(\"Allocations at market clearing price:\")\n",
    "print(f\"Agent A: x1 = \", x1A_star)\n",
    "print(f\"Agent A: x2 = \", x2A_star)\n",
    "\n",
    "# Finding the market clearing allocation for the market clearing price for agent B:\n",
    "x1B_star, x2B_star = model.demand_B(market_clearing_price)\n",
    "print(\"Allocations at market clearing price:\")\n",
    "print(f\"Agent B: x1 = \", x1B_star)\n",
    "print(f\"Agent B: x2 = \", x2B_star)"
   ]
  },
  {
   "cell_type": "markdown",
   "metadata": {},
   "source": [
    "Question 4a"
   ]
  },
  {
   "cell_type": "code",
   "execution_count": null,
   "metadata": {},
   "outputs": [],
   "source": [
    "# Initializing variable for max utility\n",
    "max_utility = -np.inf\n",
    "# Initializing a variable to store optimal price after calculating maximum utility\n",
    "optimal_price = None\n",
    "\n",
    "# Creating loop:\n",
    "for p1 in P1:\n",
    "    # Calculating Agent B's demand at this price\n",
    "    x1B_star, x2B_star = model.demand_B(p1)\n",
    "    \n",
    "    # Ensuring allocations are non-negative; if not, the iteration is skipped.\n",
    "    if x1B_star > 1 or x2B_star > 1:\n",
    "        continue\n",
    "    \n",
    "    # Calculating remaining allocations for Agent A\n",
    "    remaining_x1A = 1 - x1B_star\n",
    "    remaining_x2A = 1 - x2B_star\n",
    "    \n",
    "    # Ensuring remaining allocations are non-negative\n",
    "    if remaining_x1A < 0 or remaining_x2A < 0:\n",
    "        continue\n",
    "    \n",
    "    # Calculating Agent A's utility with the remaining allocations\n",
    "    utility_A = model.utility_A(remaining_x1A, remaining_x2A)\n",
    "    \n",
    "    # Optimal price is sat at maximum utility \n",
    "    if utility_A > max_utility:\n",
    "        max_utility = utility_A\n",
    "        optimal_price = p1\n",
    "\n",
    "print(f\"Optimal price for Agent A: {optimal_price}\")\n",
    "print(f\"Maximum utility for Agent A: {max_utility}\")\n",
    "\n",
    "# At the optimal price, we calculate final allocations\n",
    "x1B_opt, x2B_opt = model.demand_B(optimal_price)\n",
    "optimal_allocation_A = (1 - x1B_opt,1 - x2B_opt)\n",
    "optimal_allocation_B = (x1B_opt, x2B_opt)\n",
    "\n",
    "print(f\"Optimal allocations at price {optimal_price}:\")\n",
    "\n",
    "print(\"Optimal allocation chosen by agent A (1-xB1, 1-xB2):\", optimal_allocation_A)\n",
    "print(\"Optimal allocation chosen by agent B (xB1, xB2):\", optimal_allocation_B)"
   ]
  },
  {
   "cell_type": "markdown",
   "metadata": {},
   "source": [
    "Question 4b"
   ]
  },
  {
   "cell_type": "code",
   "execution_count": 53,
   "metadata": {},
   "outputs": [
    {
     "name": "stdout",
     "output_type": "stream",
     "text": [
      "Optimal price chosen by agent A: 1.8992871628632455\n",
      "Optimal allocation chosen by agent A (1-xB1, 1-xB2): (0.6209604481487943, 0.6400475224757837)\n",
      "Utility of agent A's optimal allocation: 0.6336208505886598\n",
      "Optimal allocation chosen by agent B (xB1, xB2): (0.37903955185120575, 0.35995247752421633)\n",
      "Utility of agent B's optimal allocation: 0.3725673067189618\n"
     ]
    }
   ],
   "source": [
    "# Define the utility function for agent A\n",
    "def utility_A(p1, omega_B):\n",
    "    x1B, x2B = model.demand_B(p1)\n",
    "    return model.utility_A(1 - x1B, 1 - x2B)\n",
    "\n",
    "# Define the objective function to be maximized\n",
    "def objective_function(p1):\n",
    "    if p1 <= 0:\n",
    "        return float('inf')  # Return infinity if p1 is not positive\n",
    "    return -utility_A(p1, model.par.w2B)  # Negate utility to turn maximization into minimization\n",
    "\n",
    "# Initial guess for p1\n",
    "initial_guess = 1.0\n",
    "\n",
    "# Perform optimization to maximize utility\n",
    "result = minimize(objective_function, initial_guess, bounds=[(0, None)], method='L-BFGS-B')\n",
    "\n",
    "# Extract the optimal price\n",
    "optimal_price_p1 = result.x[0]\n",
    "\n",
    "# Calculate the corresponding allocation\n",
    "optimal_x1B, optimal_x2B = model.demand_B(optimal_price_p1)\n",
    "optimal_allocation_A = (1 - optimal_x1B, 1 - optimal_x2B)\n",
    "optimal_allocation_B = (optimal_x1B, optimal_x2B)\n",
    "\n",
    "optimal_utility_A = model.utility_A(0.6209604481487943, 0.6400475224757837)\n",
    "optimal_utility_B = model.utility_B(0.37903955185120575, 0.35995247752421633)\n",
    "\n",
    "print(\"Optimal price chosen by agent A:\", optimal_price_p1)\n",
    "print(\"Optimal allocation chosen by agent A (1-xB1, 1-xB2):\", optimal_allocation_A)\n",
    "print(\"Utility of agent A's optimal allocation:\", optimal_utility_A)\n",
    "print(\"Optimal allocation chosen by agent B (xB1, xB2):\", optimal_allocation_B)\n",
    "print(\"Utility of agent B's optimal allocation:\", optimal_utility_B)\n"
   ]
  },
  {
   "cell_type": "markdown",
   "metadata": {},
   "source": [
    "Question 5a"
   ]
  },
  {
   "cell_type": "code",
   "execution_count": null,
   "metadata": {},
   "outputs": [],
   "source": [
    "# Generate possible allocations from 0 to 1 with step 1/N\n",
    "options = np.arange(0, 1.01, 1/N)  \n",
    "\n",
    "# as before we initialize max utility and make variables to store optimal allocations \n",
    "max_utility_A = -np.inf\n",
    "optimal_allocation_A = (None, None)\n",
    "\n",
    "# We calculate initial utilities for comparison\n",
    "initial_utility_A = model.utility_A(model.par.w1A, model.par.w2A)\n",
    "initial_utility_B = model.utility_B(model.par.w1B, model.par.w2B)\n",
    "\n",
    "# we create a loop to iterate through all possible allocations for A\n",
    "for xA1 in options:\n",
    "    for xA2 in options:\n",
    "        xB1 = 1 - xA1\n",
    "        xB2 = 1 - xA2\n",
    "        \n",
    "        # Calculating utilities for these allocations\n",
    "        utility_A = model.utility_A(xA1, xA2)\n",
    "        utility_B = model.utility_B(xB1, xB2)\n",
    "        \n",
    "        # Checking if these allocations satisfy the constraints\n",
    "        if utility_A >= initial_utility_A and utility_B >= initial_utility_B:\n",
    "            # and update if this allocation provides a higher utility for A\n",
    "            if utility_A > max_utility_A:\n",
    "                max_utility_A = utility_A\n",
    "                optimal_allocation_A = (xA1, xA2)\n",
    "\n",
    "print(f\"Optimal allocation chosen by Agent A: xA1 = {optimal_allocation_A[0]}, xA2 = {optimal_allocation_A[1]}\")\n",
    "print(f\"Maximum utility for Agent A: {max_utility_A}\")"
   ]
  },
  {
   "cell_type": "markdown",
   "metadata": {},
   "source": [
    "Question 5b "
   ]
  },
  {
   "cell_type": "code",
   "execution_count": 54,
   "metadata": {},
   "outputs": [
    {
     "name": "stdout",
     "output_type": "stream",
     "text": [
      "Optimal allocation for Agent A: xA1 = 0.5757450591663252, xA2 = 0.8444377866494914\n",
      "Maximum utility for Agent A: 0.7432276287150864\n"
     ]
    }
   ],
   "source": [
    "# We calculate initial utility of B for comparison\n",
    "initial_utility_B = model.utility_B(model.par.w1B, model.par.w2B)\n",
    "\n",
    "#  We define the objective function to be maximized (negative because minimize is used)\n",
    "def objective(x):\n",
    "    return -model.utility_A(x[0], x[1])  \n",
    "\n",
    "# We define the constraint that B's utility must be at least as high as initial utility \n",
    "def constraint(x):\n",
    "    return model.utility_B(1 - x[0], 1 - x[1]) - initial_utility_B\n",
    "\n",
    "# We define constraint for the form expected by minimize\n",
    "cons = [{'type': 'ineq', 'fun': constraint}]\n",
    "\n",
    "# The bounds for xA1 and xA2:\n",
    "bounds = [(0, 1), (0, 1)]\n",
    "\n",
    "# The initial guess for the allocation:\n",
    "x0 = [model.par.w1A, model.par.w2A]\n",
    "\n",
    "# Solving the constrained optimization problem\n",
    "result = minimize(objective, x0, method='SLSQP', bounds=bounds, constraints=cons)\n",
    "\n",
    "# Checking if the optimization was successful\n",
    "if result.success:\n",
    "    optimal_xA1, optimal_xA2 = result.x\n",
    "    max_utility_A = -result.fun  # (Change sign because we minimized the negative utility)\n",
    "    \n",
    "    print(f\"Optimal allocation for Agent A: xA1 = {optimal_xA1}, xA2 = {optimal_xA2}\")\n",
    "    print(f\"Maximum utility for Agent A: {max_utility_A}\")\n",
    "else:\n",
    "    print(\"Optimization was unsuccessful. Details:\", result.message)"
   ]
  },
  {
   "cell_type": "markdown",
   "metadata": {},
   "source": [
    "Question 6a"
   ]
  },
  {
   "cell_type": "code",
   "execution_count": 59,
   "metadata": {},
   "outputs": [
    {
     "name": "stdout",
     "output_type": "stream",
     "text": [
      "Optimal allocation chosen to maximize aggregate utility (xA1, xA2): [0.33333337 0.66666662]\n",
      "Utility of optimal allocation agent A: 0.529133678698061\n",
      "Utility of optimal allocation agent B: 0.5291336892807343\n",
      "Sum of utility A and B: 1.0582673679787953\n"
     ]
    }
   ],
   "source": [
    "# Define the utility function for agent A\n",
    "def utility_A(xA1, xA2):\n",
    "    return model.utility_A(xA1, xA2)\n",
    "\n",
    "# Define the utility function for agent B\n",
    "def utility_B(xB1, xB2):\n",
    "    return model.utility_B(xB1, xB2)\n",
    "\n",
    "# Define the objective function to be maximized (aggregate utility)\n",
    "def objective_function(x):\n",
    "    xA1, xA2 = x\n",
    "    xB1 = 1 - xA1\n",
    "    xB2 = 1 - xA2\n",
    "    return -(utility_A(xA1, xA2) + utility_B(xB1, xB2))\n",
    "\n",
    "# Initial guess for xA1 and xA2\n",
    "initial_guess = [0.5, 0.5]\n",
    "\n",
    "# Perform optimization to maximize aggregate utility\n",
    "result = minimize(objective_function, initial_guess, bounds=[(0, 1), (0, 1)])\n",
    "\n",
    "# Extract the optimal allocation\n",
    "optimal_allocation_A = result.x\n",
    "\n",
    "print(\"Optimal allocation chosen to maximize aggregate utility (xA1, xA2):\", optimal_allocation_A)\n",
    "\n",
    "utilty_of_allo_A = model.utility_A(0.33333337, 0.66666662)\n",
    "utilty_of_allo_B = model.utility_B(1-0.33333337, 1-0.66666662)\n",
    "utility_sum = utilty_of_allo_A + utilty_of_allo_B\n",
    "\n",
    "print(\"Utility of optimal allocation agent A:\", utilty_of_allo_A)\n",
    "print(\"Utility of optimal allocation agent B:\", utilty_of_allo_B)\n",
    "print(\"Sum of utility A and B:\", utility_sum)"
   ]
  },
  {
   "cell_type": "markdown",
   "metadata": {},
   "source": [
    "Question 6b"
   ]
  },
  {
   "cell_type": "code",
   "execution_count": null,
   "metadata": {},
   "outputs": [],
   "source": [
    "# Defining the parameters\n",
    "par = model.par\n",
    "w1bar = 1.0\n",
    "w2bar = 1.0\n",
    "\n",
    "# Plotting\n",
    "fig = plt.figure(frameon=False, figsize=(6, 6), dpi=100)\n",
    "ax_A = fig.add_subplot(1, 1, 1)\n",
    "\n",
    "# Setting labels\n",
    "ax_A.set_xlabel(\"$x_1^A$\")\n",
    "ax_A.set_ylabel(\"$x_2^A$\")\n",
    "\n",
    "temp = ax_A.twinx()\n",
    "temp.set_ylabel(\"$x_2^B$\")\n",
    "ax_B = temp.twiny()\n",
    "ax_B.set_xlabel(\"$x_1^B$\")\n",
    "ax_B.invert_xaxis()\n",
    "ax_B.invert_yaxis()\n",
    "\n",
    "# Plot endowment of agent A\n",
    "ax_A.scatter(par.w1A, par.w2A, marker='s', alpha=1, color='black', label='Endowment of Agent A')\n",
    "ax_A.scatter(0.37, 0.77, marker='s', alpha=1, color='blue', label='3')\n",
    "ax_A.scatter(0.62, 0.64, marker='s', alpha=1, color='brown', label='4.a + 4.b')\n",
    "ax_A.scatter(0.56, 0.85, marker='s', alpha=1, color='purple', label='5.a ')\n",
    "ax_A.scatter(0.58, 0.84, marker='s', alpha=1, color='grey', label='5.b')\n",
    "ax_A.scatter(0.33, 0.66, marker='s', alpha=1, color='green', label='6.a')\n",
    "\n",
    "# Ploting Pareto efficient allocations\n",
    "pareto_x1A = [allocation[0] for allocation in pareto_efficient_allocations]\n",
    "pareto_x2A = [allocation[1] for allocation in pareto_efficient_allocations]\n",
    "ax_A.scatter(pareto_x1A, pareto_x2A, marker='o', alpha=0.05, color='red', label='Pareto efficient allocations')\n",
    "\n",
    "# Ploting limits of the Edgeworth box\n",
    "ax_A.plot([0, w1bar], [0, 0], lw=2, color='black')\n",
    "ax_A.plot([0, w1bar], [w2bar, w2bar], lw=2, color='black')\n",
    "ax_A.plot([0, 0], [0, w2bar], lw=2, color='black')\n",
    "ax_A.plot([w1bar, w1bar], [0, w2bar], lw=2, color='black')\n",
    "\n",
    "# Setting limits\n",
    "ax_A.set_xlim([-0.1, w1bar + 0.1])\n",
    "ax_A.set_ylim([-0.1, w2bar + 0.1])\n",
    "ax_B.set_xlim([w1bar + 0.1, -0.1])\n",
    "ax_B.set_ylim([w2bar + 0.1, -0.1])\n",
    "\n",
    "# Legend\n",
    "ax_A.legend(frameon=True, loc='upper right', bbox_to_anchor=(1.9, 1.0))\n",
    "\n",
    "plt.show()\n"
   ]
  },
  {
   "cell_type": "markdown",
   "metadata": {},
   "source": [
    "Question 7"
   ]
  },
  {
   "cell_type": "code",
   "execution_count": null,
   "metadata": {},
   "outputs": [],
   "source": [
    "# seeting the seed \n",
    "np.random.seed(42)\n",
    "\n",
    "# Number of elements in the set W\n",
    "num_elements = 50\n",
    "\n",
    "# Generate random samples for omega_A1 and omega_A2 with a uniform distribution \n",
    "omega_A1 = np.random.uniform(0, 1, num_elements)\n",
    "omega_A2 = np.random.uniform(0, 1, num_elements)\n",
    "\n",
    "# Create the set W by combining omega_A1 and omega_A2\n",
    "W = np.column_stack((omega_A1, omega_A2))\n",
    "\n",
    "# Plotting the set W\n",
    "plt.figure(figsize=(6, 6))\n",
    "plt.scatter(W[:, 0], W[:, 1], color='blue', marker='o')\n",
    "plt.xlabel('$\\omega_{A1}$')\n",
    "plt.ylabel('$\\omega_{A2}$')\n",
    "plt.title('Set W with 50 Elements')\n",
    "plt.grid(True)\n",
    "plt.show()\n"
   ]
  },
  {
   "cell_type": "markdown",
   "metadata": {},
   "source": [
    "Question 8"
   ]
  },
  {
   "cell_type": "code",
   "execution_count": 60,
   "metadata": {},
   "outputs": [
    {
     "data": {
      "image/png": "[encoded data removed]",
      "text/plain": [
       "<Figure size 600x600 with 1 Axes>"
      ]
     },
     "metadata": {},
     "output_type": "display_data"
    },
    {
     "name": "stdout",
     "output_type": "stream",
     "text": [
      "[[0.33333337 0.66666662]\n",
      " [0.33333337 0.66666662]\n",
      " [0.33333337 0.66666662]\n",
      " [0.33333337 0.66666662]\n",
      " [0.33333337 0.66666662]\n",
      " [0.33333337 0.66666662]\n",
      " [0.33333337 0.66666662]\n",
      " [0.33333337 0.66666662]\n",
      " [0.33333337 0.66666662]\n",
      " [0.33333337 0.66666662]\n",
      " [0.33333337 0.66666662]\n",
      " [0.33333337 0.66666662]\n",
      " [0.33333337 0.66666662]\n",
      " [0.33333337 0.66666662]\n",
      " [0.33333337 0.66666662]\n",
      " [0.33333337 0.66666662]\n",
      " [0.33333337 0.66666662]\n",
      " [0.33333337 0.66666662]\n",
      " [0.33333337 0.66666662]\n",
      " [0.33333337 0.66666662]\n",
      " [0.33333337 0.66666662]\n",
      " [0.33333337 0.66666662]\n",
      " [0.33333337 0.66666662]\n",
      " [0.33333337 0.66666662]\n",
      " [0.33333337 0.66666662]\n",
      " [0.33333337 0.66666662]\n",
      " [0.33333337 0.66666662]\n",
      " [0.33333337 0.66666662]\n",
      " [0.33333337 0.66666662]\n",
      " [0.33333337 0.66666662]\n",
      " [0.33333337 0.66666662]\n",
      " [0.33333337 0.66666662]\n",
      " [0.33333337 0.66666662]\n",
      " [0.33333337 0.66666662]\n",
      " [0.33333337 0.66666662]\n",
      " [0.33333337 0.66666662]\n",
      " [0.33333337 0.66666662]\n",
      " [0.33333337 0.66666662]\n",
      " [0.33333337 0.66666662]\n",
      " [0.33333337 0.66666662]\n",
      " [0.33333337 0.66666662]\n",
      " [0.33333337 0.66666662]\n",
      " [0.33333337 0.66666662]\n",
      " [0.33333337 0.66666662]\n",
      " [0.33333337 0.66666662]\n",
      " [0.33333337 0.66666662]\n",
      " [0.33333337 0.66666662]\n",
      " [0.33333337 0.66666662]\n",
      " [0.33333337 0.66666662]\n",
      " [0.33333337 0.66666662]]\n"
     ]
    }
   ],
   "source": [
    "# Define the parameters\n",
    "w1bar = 1.0\n",
    "w2bar = 1.0\n",
    "\n",
    "# Create empty lists to store equilibrium allocations\n",
    "equilibrium_allocations = []\n",
    "\n",
    "# Iterate over each ωA in W\n",
    "for omega_A in W:\n",
    "    # Extract ωA1 and ωA2\n",
    "    omega_A1, omega_A2 = omega_A\n",
    "    \n",
    "    # Define the utility functions for agents A and B\n",
    "    utility_A = lambda xA1, xA2: model.utility_A(xA1, xA2)\n",
    "    utility_B = lambda xB1, xB2: model.utility_B(xB1, xB2)\n",
    "    \n",
    "    # Define the objective function to maximize aggregate utility\n",
    "    def objective_function(x):\n",
    "        xA1, xA2 = x\n",
    "        xB1 = 1 - xA1\n",
    "        xB2 = 1 - xA2\n",
    "        return -(utility_A(xA1, xA2) + utility_B(xB1, xB2))\n",
    "    \n",
    "    # Initial guess for xA1 and xA2\n",
    "    initial_guess = [0.5, 0.5]\n",
    "    \n",
    "    # Perform optimization to maximize aggregate utility\n",
    "    result = minimize(objective_function, initial_guess, bounds=[(0, 1), (0, 1)])\n",
    "    \n",
    "    # Extract the optimal allocation\n",
    "    optimal_allocation_A = result.x\n",
    "    \n",
    "    # Store the equilibrium allocation for this ωA\n",
    "    equilibrium_allocations.append(optimal_allocation_A)\n",
    "\n",
    "# Convert equilibrium_allocations to a NumPy array\n",
    "equilibrium_allocations = np.array(equilibrium_allocations)\n",
    "\n",
    "# Plot the set W and equilibrium allocations in the Edgeworth box\n",
    "plt.figure(figsize=(6, 6))\n",
    "plt.scatter(W[:, 0], W[:, 1], color='blue', marker='o', label='Set W')\n",
    "plt.scatter(equilibrium_allocations[:, 0], equilibrium_allocations[:, 1], color='red', marker='s', label='Equilibrium Allocations')\n",
    "plt.xlabel('$\\omega_{A1}$')\n",
    "plt.ylabel('$\\omega_{A2}$')\n",
    "plt.title('Market Equilibrium Allocations in the Edgeworth Box')\n",
    "plt.legend()\n",
    "plt.grid(True)\n",
    "plt.show()\n",
    "\n",
    "print(equilibrium_allocations)"
   ]
  }
 ],
 "metadata": {
  "kernelspec": {
   "display_name": "base",
   "language": "python",
   "name": "python3"
  },
  "language_info": {
   "codemirror_mode": {
    "name": "ipython",
    "version": 3
   },
   "file_extension": ".py",
   "mimetype": "text/x-python",
   "name": "python",
   "nbconvert_exporter": "python",
   "pygments_lexer": "ipython3",
   "version": "3.11.7"
  },
  "orig_nbformat": 4,
  "vscode": {
   "interpreter": {
    "hash": "47ef90cdf3004d3f859f1fb202523c65c07ba7c22eefd261b181f4744e2d0403"
   }
  }
 },
 "nbformat": 4,
 "nbformat_minor": 2
}
