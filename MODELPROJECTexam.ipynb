{
 "cells": [
  {
   "cell_type": "markdown",
   "metadata": {},
   "source": [
    "# The Solow Model with Land"
   ]
  },
  {
   "cell_type": "markdown",
   "metadata": {},
   "source": [
    "In this section of the code, we import the required libraries and Python scripts."
   ]
  },
  {
   "cell_type": "code",
   "execution_count": 1,
   "metadata": {},
   "outputs": [],
   "source": [
    "# Importing the relevant packages\n",
    "import numpy as np\n",
    "import sympy as sm\n",
    "import matplotlib.pyplot as plt\n",
    "from ipywidgets import interact, FloatSlider\n",
    "from scipy.optimize import fsolve\n",
    "import ipywidgets as widgets\n",
    "\n",
    "\n",
    "# Importing the class Solowmodelkap7 from the py file\n",
    "from modelprojectexam import Solowmodelkap7"
   ]
  },
  {
   "cell_type": "markdown",
   "metadata": {},
   "source": [
    "# 1. Model description"
   ]
  },
  {
   "cell_type": "markdown",
   "metadata": {},
   "source": [
    "We use Chapter 7.1 in Introducing Advanced Macroeconomics by Hans Jørgen Whitta-Jacobsen and Peter Birch Sørensen as our baseline model, which highlights the importance of a natural resource by emphasizing the role of land in the Solow model where we have the following equations:"
   ]
  },
  {
   "cell_type": "markdown",
   "metadata": {},
   "source": [
    "\\begin{aligned}\n",
    "    Y_{t} &= K^{\\alpha}_{t}(A_{t}L_{t})^{\\beta}X^{\\kappa}, \\quad \\alpha>0, \\beta>0, \\kappa>0, \\alpha+\\beta+\\kappa=1 \\hspace{4em} &(1)\\\\\n",
    "    K_{t+1} &= sY_{t} + (1-\\delta)K_{t}, \\quad 0 < s < 1, 0 < \\delta < 1, \\quad K_{0} \\text{ given}\\hspace{4em} &(2)\\\\\n",
    "    L_{t+1} &= (1+n)L_{t}, \\quad n≥0,  \\quad L_{0} \\text{ given}\\hspace{4em} &(3)\\\\\n",
    "    A_{t+1} &= (1+g)A_{t}, \\quad g≥0, \\quad A_{0}  \\text{ given} \\hspace{4em} &(4)\n",
    "\\end{aligned}\n",
    "\n",
    "1. The first equation is a Cobb-Douglas aggregate production function with land and exogenous constant technical coefficients $\\alpha$, $\\beta$ and $\\kappa$. The input X of land does not carry a time subscript since land is in fixed supply. The production function have constant return to scale for $K_{t}$, $L_{t}$ and X. However, when one of the three factors are constant over time there is diminishing returns to scale for the other factors.<br>\n",
    "2. The second equation is the capital accumulation equation, assuming given rates of gross investments in capital and of depreciation. <br>\n",
    "3. Equation (3) and (4) assume given growth rates for the labour force, $L_{t}$, and for the labour-augmenting productivity factor, $A_{t}$. Thus n is the growth rate of the labour force, and g reflects the rate of labour-augmenting technological progress. We assume both of these rates are at least zero. <br>\n",
    "\n",
    "\n"
   ]
  },
  {
   "cell_type": "markdown",
   "metadata": {},
   "source": [
    "Analysing the sources of economic growth, we analyze the factors relative to the workers. Therefore, we define the output per worker as $y_t \\equiv \\frac{Y_t}{L_t}$, capital per worker as $k_t \\equiv \\frac{K_t}{L_t}$, and land per worker as $x_t \\equiv \\frac{X}{L_t}$. "
   ]
  },
  {
   "cell_type": "markdown",
   "metadata": {},
   "source": [
    "## 1.1 Income shares of production factors"
   ]
  },
  {
   "cell_type": "markdown",
   "metadata": {},
   "source": [
    "In this section, we calculate the rent, wage and land by  maximizing the production function. Additionally, we show that the income shares of capital, labor, and land are respectively $\\alpha$, $\\beta$ and $\\kappa$.\n",
    "\n",
    "We use SymPy to calculate the derivative of the producers' profit function because it simplifies the code, ensures clarity and visualizes the math. Additionally, it does not require any external libraries."
   ]
  },
  {
   "cell_type": "code",
   "execution_count": 2,
   "metadata": {},
   "outputs": [
    {
     "data": {
      "text/latex": [
       "$\\displaystyle r_{t} = \\frac{K_{t}^{\\alpha} X^{\\kappa} \\alpha \\left(A_{t} L_{t}\\right)^{\\beta}}{K_{t}}$"
      ],
      "text/plain": [
       "Eq(r_t, K_t**alpha*X**kappa*alpha*(A_t*L_t)**beta/K_t)"
      ]
     },
     "metadata": {},
     "output_type": "display_data"
    },
    {
     "data": {
      "text/latex": [
       "$\\displaystyle w_{t} = \\frac{K_{t}^{\\alpha} X^{\\kappa} \\beta \\left(A_{t} L_{t}\\right)^{\\beta}}{L_{t}}$"
      ],
      "text/plain": [
       "Eq(w_t, K_t**alpha*X**kappa*beta*(A_t*L_t)**beta/L_t)"
      ]
     },
     "metadata": {},
     "output_type": "display_data"
    },
    {
     "data": {
      "text/latex": [
       "$\\displaystyle landrent_{t} = \\frac{K_{t}^{\\alpha} X^{\\kappa} \\kappa \\left(A_{t} L_{t}\\right)^{\\beta}}{X}$"
      ],
      "text/plain": [
       "Eq(landrent_t, K_t**alpha*X**kappa*kappa*(A_t*L_t)**beta/X)"
      ]
     },
     "metadata": {},
     "output_type": "display_data"
    }
   ],
   "source": [
    "# This line creates symbolic representation for various variables and parameters\n",
    "z_t, Y_t, K_t, X, A_t, L_t, n, g, s, alpha, beta, delta, kappa, r_t, w_t, landrent_t = sm.symbols('z_t, Y_t, K_t, X, A_t, L_t, n, g, s, alpha, beta, delta, kappa, r_t, w_t, landrent_t', real=True, positive=True)\n",
    "\n",
    "# This line defines the production function\n",
    "production_function = K_t**alpha * (A_t*L_t)**beta * X**kappa\n",
    "\n",
    "# These lines computes the partial derivative of the production function respect to capital, labour, and, land to find the rent of the capital, the wages, and, the rent of the land.\n",
    "rent = sm.diff(production_function, K_t)\n",
    "wages = sm.diff(production_function, L_t)\n",
    "landrent = sm.diff(production_function, X)\n",
    "\n",
    "# To show the equations for rent, wages and landrent, we create them as an equation:\n",
    "display_rent = sm.Eq(r_t, rent)\n",
    "display_wages = sm.Eq(w_t, wages)\n",
    "display_landrent = sm.Eq(landrent_t, landrent)\n",
    "\n",
    "# Command for displaying in SymPy format\n",
    "display(display_rent, display_wages, display_landrent)"
   ]
  },
  {
   "cell_type": "code",
   "execution_count": 3,
   "metadata": {},
   "outputs": [
    {
     "data": {
      "text/latex": [
       "$\\displaystyle r_{t} = \\frac{Y_{t} \\alpha}{K_{t}}$"
      ],
      "text/plain": [
       "Eq(r_t, Y_t*alpha/K_t)"
      ]
     },
     "metadata": {},
     "output_type": "display_data"
    },
    {
     "data": {
      "text/latex": [
       "$\\displaystyle w_{t} = \\frac{Y_{t} \\beta}{L_{t}}$"
      ],
      "text/plain": [
       "Eq(w_t, Y_t*beta/L_t)"
      ]
     },
     "metadata": {},
     "output_type": "display_data"
    },
    {
     "data": {
      "text/latex": [
       "$\\displaystyle landrent_{t} = \\frac{Y_{t} \\kappa}{X}$"
      ],
      "text/plain": [
       "Eq(landrent_t, Y_t*kappa/X)"
      ]
     },
     "metadata": {},
     "output_type": "display_data"
    }
   ],
   "source": [
    "# Then we would like to substistute the production function with Y_t\n",
    "rent = rent.subs(production_function, Y_t)\n",
    "wages = wages.subs(production_function, Y_t)\n",
    "landrent = landrent.subs(production_function, Y_t)\n",
    "\n",
    "# Again, we create equations for rent, wages and landrent:\n",
    "display_rent = sm.Eq(r_t, rent)\n",
    "display_wages = sm.Eq(w_t, wages)\n",
    "display_landrent = sm.Eq(landrent_t, landrent)\n",
    "\n",
    "# Display rent and wages in SymPy format\n",
    "display(display_rent, display_wages, display_landrent)"
   ]
  },
  {
   "cell_type": "markdown",
   "metadata": {},
   "source": [
    "We have now shown that the income shares of capital, labour and land ($r_{t}K_{t}/Y_{t}$, etc.) are $\\alpha$, $\\beta$ and $\\kappa$, respectively, so the model is one of constant income shares."
   ]
  },
  {
   "cell_type": "markdown",
   "metadata": {},
   "source": [
    "## 1.2 Solving the Steady-State"
   ]
  },
  {
   "cell_type": "markdown",
   "metadata": {},
   "source": [
    "The Solow model with land can be analyzed directly in terms of the capital-output ratio, $z_{t}≡K_{t}/Y_{t}=k_{t}/y_{t}$, for which we want to establish convergence to a constant steady state (SS) level. We will start by using the transition equation for $z_{t}$:\n",
    "\\begin{aligned}\n",
    "    z_{t+1} &= \\left(\\frac{1}{(1+n)(1+g)}\\right)^{\\beta}[s+(1-\\delta)z_{t}]^{1-\\alpha}z_{t}^{\\alpha} \\hspace{4em} &(8)\n",
    "\\end{aligned}"
   ]
  },
  {
   "cell_type": "markdown",
   "metadata": {},
   "source": [
    "To show that the transition equation converge to a particular and constant SS level, meaning $z_{t_+1}=z_{t}=z^{*}$ from any strictly positive initial level, we demonstrate that the equation satisfies the inada conditions. "
   ]
  },
  {
   "cell_type": "code",
   "execution_count": 7,
   "metadata": {},
   "outputs": [
    {
     "name": "stdout",
     "output_type": "stream",
     "text": [
      "Inada condition, 1: z(t+1) at z_t=0: 0\n",
      "Inada condition, 2: Derivative of z(t+1) with respect to z_t is positive for all z_t > 0: (alpha*z_t**alpha*(s - z_t*(delta - 1))**(2 - alpha) + z_t**(alpha + 1)*(alpha - 1)*(delta - 1)*(s - z_t*(delta - 1))**(1 - alpha))/(z_t*((g + 1)*(n + 1))**beta*(s - z_t*(delta - 1))) > 0\n"
     ]
    },
    {
     "data": {
      "image/png": "[encoded data removed]",
      "text/plain": [
       "<Figure size 1200x600 with 1 Axes>"
      ]
     },
     "metadata": {},
     "output_type": "display_data"
    }
   ],
   "source": [
    "# Define the transition equation\n",
    "z_t_plus_1_expr = (1 / ((1 + n) * (1 + g)))**beta * (s + (1 - delta) * z_t)**(1 - alpha) * z_t**alpha\n",
    "\n",
    "# This line computes the derivative the partial derivative of the production function respect to capital-output ratio in period t.\n",
    "z_t_plus_1_derivative = sm.diff(z_t_plus_1_expr, z_t)\n",
    "\n",
    "# Simplifing the derivative\n",
    "z_t_plus_1_derivative_simplified = sm.simplify(z_t_plus_1_derivative)\n",
    "\n",
    "# Inada condition, 1: Check if the function passes through (0, 0)\n",
    "z_t_at_zero = z_t_plus_1_expr.subs(z_t, 0)\n",
    "print(f\"Inada condition, 1: z(t+1) at z_t=0: {z_t_at_zero}\")\n",
    "\n",
    "# Inada condition, 2: Check if the function is strictly increasing\n",
    "derivative_positive = sm.simplify(z_t_plus_1_derivative > 0)\n",
    "print(f\"Inada condition, 2: Derivative of z(t+1) with respect to z_t is positive for all z_t > 0: {derivative_positive}\")\n",
    "\n",
    "# Inada condition, 3: Check for exactly one strictly positive intersection with the 45° line which we will show by calculate the SS solution. \n",
    "\n",
    "# Inada condition, 4: limit of the derivative as z_t approaches 0 and infinity. \n",
    "# The following code, illustrating the derivative of transition equation is provided by OpenAI (2024) ChatGPT 4o.\n",
    "# \"\n",
    "# Define parameters\n",
    "param_values = {\n",
    "    s: 0.2,\n",
    "    n: 0.005,\n",
    "    g: 0.02,\n",
    "    delta: 0.06,\n",
    "    alpha: 0.2,\n",
    "    beta: 0.6\n",
    "}\n",
    "\n",
    "# Substitute parameter values into the transition equation and its derivative\n",
    "z_t_plus_1_expr = z_t_plus_1_expr.subs(param_values)\n",
    "z_t_plus_1_derivative_simplified = z_t_plus_1_derivative_simplified.subs(param_values)\n",
    "\n",
    "# Define functions for numerical evaluation\n",
    "z_t_plus_1 = sm.lambdify(z_t, z_t_plus_1_expr, 'numpy')\n",
    "derivative_z_t_plus_1 = sm.lambdify(z_t, z_t_plus_1_derivative_simplified, 'numpy')\n",
    "\n",
    "# Generate values for z_t\n",
    "z_t_values = np.linspace(0.01, 5.0, 100)  # Avoid z_t = 0 to prevent division by zero\n",
    "\n",
    "# Calculate z(t+1) and its derivative for the range of z_t values\n",
    "z_t_plus_1_values = z_t_plus_1(z_t_values)\n",
    "derivative_values = derivative_z_t_plus_1(z_t_values)\n",
    "\n",
    "# Plotting the derivative of z(t+1) with respect to z_t\n",
    "plt.figure(figsize=(12, 6))\n",
    "\n",
    "plt.subplot(1, 2, 2)\n",
    "plt.plot(z_t_values, derivative_values, label='dz(t+1)/dz_t')\n",
    "plt.axhline(y=0, color='black', linestyle='--', alpha=0.5)\n",
    "plt.title('Derivative of z(t+1) with respect to z_t')\n",
    "plt.xlabel('z_t')\n",
    "plt.ylabel('dz(t+1)/dz_t')\n",
    "plt.legend()\n",
    "\n",
    "plt.tight_layout()\n",
    "plt.show()\n",
    "# \" "
   ]
  },
  {
   "cell_type": "markdown",
   "metadata": {},
   "source": [
    "Thus, we see that the transition equation satisfies three of the Inada conditions: it passes through (0,0), it is positive for all $z_t > 0$ and when $z_t \\rightarrow 0$, $z_{t+1} \\rightarrow \\infty$."
   ]
  },
  {
   "cell_type": "markdown",
   "metadata": {},
   "source": [
    "The last propertie of the transtion curve is the curve only has one strictly positive intersection with the 45-degree-line which we show by solving the transition equation. To do that we do following in the py.file: \n",
    "\n",
    "Creating a class Solowmodelkap7 with:\n",
    "1. Parameter values (and initial values for the simulation). \n",
    "2. Creating the capital-output transition equation.\n",
    "3. Creating the function for scipy optimizer. \n",
    "\n",
    "The Multi_hybr function is used to determine the SS value of z. It leverages the Scipy optimization library, which provides a suite of tools for minimizing or maximizing objective functions. Scipy's optimize module includes solvers for a variety of problems, such as nonlinear optimization, linear programming, constrained and nonlinear least-squares, root finding, and curve fitting. For our purposes, we use the default method \"hybr\". This method is a modification of the Powell hybrid method, combining Newton's method with a descent check. If Newton steps do not lead to a descent in the sum-of-squared-residuals, the method reverts to using the gradient of these residuals for optimization."
   ]
  },
  {
   "cell_type": "code",
   "execution_count": null,
   "metadata": {},
   "outputs": [],
   "source": [
    "# 2. Create an instance of the class\n",
    "mp = Solowmodelkap7()\n",
    "\n",
    "# 3. Call the multi_hybr method to solve for the steady state\n",
    "steady_state_z, residual = mp.multi_hybr()\n",
    "\n",
    "# 4. Print the steady state value and residual\n",
    "print(\"The unique SS solution value for the capital-output ratio is\", steady_state_z[0], \"solved by the MultiHybr function.\")"
   ]
  },
  {
   "cell_type": "markdown",
   "metadata": {},
   "source": [
    "## 1.3 Graphical solution"
   ]
  },
  {
   "cell_type": "markdown",
   "metadata": {},
   "source": [
    "In this section, we graphically demonstrate how the transition equation for the capital-output ratio, 𝑧, converges to a specific and constant steady state level, 𝑧∗ Additionally, we visually illustrate the properties of the transition curve: it passes through the origin (0,0), is strictly increasing everywhere, and intersects the 45-degree line at exactly one point where it is strictly positive."
   ]
  },
  {
   "cell_type": "code",
   "execution_count": null,
   "metadata": {},
   "outputs": [],
   "source": [
    "# This function defines the transition equation \n",
    "def equation(beta, alpha, delta, n, g, s, z):\n",
    "    z_next = ((1 / ((1 + n) * (1 + g))) ** beta) * (s + (1 - delta) * z) ** (1 - alpha) * z ** alpha\n",
    "    return z_next\n",
    "\n",
    "# Function to find the intersection point\n",
    "def find_intersection(beta, alpha, delta, n, g, s):\n",
    "    func = lambda z: equation(beta, alpha, delta, n, g, s, z) - z\n",
    "    z_intersect = fsolve(func, 1.0)[0]  # Use 1.0 as an initial guess\n",
    "    return z_intersect\n",
    "\n",
    "# The following code, illustrating the transition equation is provided by OpenAI (2024) ChatGPT 4o.\n",
    "# \"\n",
    "def plot_graph(beta, alpha, delta, n, g, s):\n",
    "    z = np.linspace(0, 4, 100)\n",
    "    z_next = equation(beta, alpha, delta, n, g, s, z)\n",
    "    \n",
    "    plt.figure(figsize=(8, 6))\n",
    "    plt.clf()  # Clear the current figure to avoid overlapping plots\n",
    "\n",
    "    # Plot the transition equation and the 45-degree line\n",
    "    plt.plot(z, z_next, label='Transition equation')\n",
    "    plt.plot(z, z, 'r--', label='45-degree line')\n",
    "    \n",
    "    # Find and plot the intersection point\n",
    "    z_intersect = find_intersection(beta, alpha, delta, n, g, s)\n",
    "    plt.scatter(z_intersect, z_intersect, color='blue', zorder=5)\n",
    "    plt.text(z_intersect, z_intersect, f'({z_intersect:.2f}, {z_intersect:.2f})', fontsize=12, ha='left')\n",
    "    \n",
    "    # Writing plot aesthetic such as labels, title, legend, and axes limits.\n",
    "    plt.xlabel('$z_{t}$')\n",
    "    plt.ylabel('$z_{t+1}$')\n",
    "    plt.title('Transition equation vs 45-degree line')\n",
    "    plt.legend()\n",
    "    plt.xlim(0, 4)\n",
    "    plt.ylim(0, 4)\n",
    "    \n",
    "    plt.show()\n",
    "\n",
    "# Define sliders with default values\n",
    "beta_slider = FloatSlider(min=0, max=2, step=0.1, value=mp.par.beta_val, description='beta');\n",
    "alpha_slider = FloatSlider(min=0, max=1, step=0.1, value=mp.par.alpha_val, description='alpha');\n",
    "delta_slider = FloatSlider(min=0, max=1, step=0.01, value=mp.par.delta_val, description='delta');\n",
    "n_slider = FloatSlider(min=0, max=1, step=0.001, value=mp.par.n_val, description='n');\n",
    "g_slider = FloatSlider(min=0, max=1, step=0.01, value=mp.par.g_val, description='g');\n",
    "s_slider = FloatSlider(min=0, max=1, step=0.01, value=mp.par.s_val, description='s');\n",
    "\n",
    "# Create interactive plot\n",
    "interact(plot_graph, beta=beta_slider, alpha=alpha_slider, delta=delta_slider, \n",
    "         n=n_slider, g=g_slider, s=s_slider);\n",
    "# \"\"\n"
   ]
  },
  {
   "cell_type": "markdown",
   "metadata": {},
   "source": [
    "## 1.4 Simulation of growth path "
   ]
  },
  {
   "cell_type": "markdown",
   "metadata": {},
   "source": [
    "In this section, we simulate the growth paths of the technology-adjusted output and capital per capita, wage, rent and landrent. In period 100, we simulate a shock to the growth in y by indcreasing X. \n"
   ]
  },
  {
   "cell_type": "code",
   "execution_count": null,
   "metadata": {},
   "outputs": [],
   "source": [
    "# 1. Calling class\n",
    "mp = Solowmodelkap7()\n",
    "\n",
    "# The following code, illustrating the growth in y is provided by OpenAI (2024) ChatGPT 4o.\n",
    "# \"\n",
    "# 2. Setting the slider parameters\n",
    "shock_slider = widgets.FloatSlider(\n",
    "                min=100, max=150, step=10, value=100, description=\"X:\",continuous_update=True)\n",
    "\n",
    "# 3. Defining the slider \n",
    "def shock_update(shock):\n",
    "    mp.X_shock(shock)\n",
    "    # Clearing y_growth list to allow for new values\n",
    "    plt.show()\n",
    "\n",
    "# 4. Adding the sliders to our diagram\n",
    "widgets.interact(shock_update, shock=shock_slider);\n",
    "# \""
   ]
  },
  {
   "cell_type": "markdown",
   "metadata": {},
   "source": [
    "# 2 Adding Exhaustible Natural Resources"
   ]
  },
  {
   "cell_type": "markdown",
   "metadata": {},
   "source": [
    "Land is not the only significant natural resource in aggregate production. Other crucial nonrenewable resources include oil, gas, coal, metals, and non-metallic minerals. Unlike land, whose quantity remains constant during production, non-renewable resources diminish as they are utilized. This depletion implies a greater barrier to growth compared to land. To explore this hypothesis, we plan to expand our Solow model, which currently includes land, to also account for exhaustible natural resources. We denote the total stock by R which each period will be reduced by the amount of E.\n",
    "\n",
    "The model with land and exhustible natural resources will then be: "
   ]
  },
  {
   "cell_type": "markdown",
   "metadata": {},
   "source": [
    "\\begin{aligned}\n",
    "    Y_{t} &= K^{\\alpha}_{t}(A_{t}L_{t})^{\\beta}X^{\\kappa}E_t^{\\varepsilon}, \\quad \\alpha>0, \\beta>0, \\kappa>0, \\varepsilon>0, \\alpha+\\beta+\\kappa+ \\varepsilon=1 \\hspace{4em} &(1)\\\\\n",
    "    K_{t+1} &= sY_{t} + (1-\\delta)K_{t}, \\quad 0 < s < 1, 0 < \\delta < 1, \\quad K_{0} \\text{ given}\\hspace{4em} &(2)\\\\\n",
    "    L_{t+1} &= (1+n)L_{t}, \\quad n≥0,  \\quad L_{0} \\text{ given}\\hspace{4em} &(3)\\\\\n",
    "    A_{t+1} &= (1+g)A_{t}, \\quad g≥0, \\quad A_{0}  \\text{ given} \\hspace{4em} &(4)\\\\\n",
    "    R_{t+1} &= R_t-E_t\\\\\n",
    "    E_t &= \\psi R_t \\quad 0<\\psi<1\n",
    "\\end{aligned}\n",
    "\n",
    "Adding this to model\n",
    "1. We enhance the Cobb-Douglas aggregate production function, which already includes land, by adding the variable, E, representing the amount of natural resources utilized.  <br>\n",
    "4. The depletion of the natural resource, detailing the remaining stock, $R_{t+1}$ , after the natural resources are consumed in production at time, t. <br>\n",
    "5. The consumption rate of the natural resource in production, which is a constant fraction of the remaining stock each period. <br>\n"
   ]
  },
  {
   "cell_type": "markdown",
   "metadata": {},
   "source": [
    "## 2.1 Solving SS"
   ]
  },
  {
   "cell_type": "markdown",
   "metadata": {},
   "source": [
    "Following the same steps as before to calculate the SS for the new transition equation: \n",
    "\n",
    "Creating a class Solowmodelkap7 with:\n",
    "1. Parameter values (and initial values for the simulation). \n",
    "2. Creating the capital-output transition equation.\n",
    "3. Creating the function for scipy optimizer. \n",
    "\n",
    "The new transition equation is given as\n",
    "\n",
    "\\begin{aligned}\n",
    "    j_{t+1} &= \\frac{1}{((1+n)(1+g))^{\\beta}(1-\\psi)^\\epsilon}[s+(1-\\delta)j_{t}]^{1-\\alpha}j_{t}^{a} \\hspace{4em} &(8)\n",
    "\\end{aligned}\n",
    "\n",
    "Naming the capital-output ratio j in this version with exhaustible natural resources. "
   ]
  },
  {
   "cell_type": "code",
   "execution_count": null,
   "metadata": {},
   "outputs": [],
   "source": [
    "# 2. Create an instance of the class\n",
    "mp = Solowmodelkap7()\n",
    "\n",
    "# 3. Call the multi_hybr method to solve for the steady state\n",
    "steady_state_j, residual = mp.multi_hybr1()\n",
    "\n",
    "# 4. Print the steady state value and residual\n",
    "print(\"The unique SS solution value for the capital-output ratio is\", steady_state_j[0], \"solved by the MultiHybr function.\")"
   ]
  },
  {
   "cell_type": "markdown",
   "metadata": {},
   "source": [
    "## 2.2 Graphical solution"
   ]
  },
  {
   "cell_type": "markdown",
   "metadata": {},
   "source": [
    "Again, we graphically demonstrate how the transition equation for the capital-output ratio, j, converges to a specific and constant steady state level, j∗. "
   ]
  },
  {
   "cell_type": "code",
   "execution_count": null,
   "metadata": {},
   "outputs": [],
   "source": [
    "# This function defines the new transition equation\n",
    "def new_equation(beta, alpha, delta, n, g, s, j, psi, epsilon):\n",
    "    j_next = ((1 / ((1 + n) * (1 + g))) ** beta) * (1 - psi) ** epsilon * (s + (1 - delta) * j) ** (1 - alpha) * j ** alpha\n",
    "    return j_next\n",
    "\n",
    "# Function to find the intersection point\n",
    "def find_new_intersection(beta, alpha, delta, n, g, s, psi, epsilon):\n",
    "    func = lambda j: new_equation(beta, alpha, delta, n, g, s, j, psi, epsilon) - j\n",
    "    j_intersect = fsolve(func, 1.0)[0]  # Use 1.0 as an initial guess\n",
    "    return j_intersect\n",
    "\n",
    "# The following code, illustrating the transition equation for the extended model is provided by OpenAI (2024) ChatGPT 4o.\n",
    "# \"\n",
    "def plot_new_graph(beta, alpha, delta, n, g, s, psi, epsilon):\n",
    "    j = np.linspace(0, 4, 100)\n",
    "    j_next = new_equation(beta, alpha, delta, n, g, s, j, psi, epsilon)\n",
    "    \n",
    "    plt.figure(figsize=(8, 6))\n",
    "    \n",
    "    # Plot the transition equation and the 45-degree line\n",
    "    plt.plot(j, j_next, label='Transition equation')\n",
    "    plt.plot(j, j, 'r--', label='45-degree line')\n",
    "    \n",
    "    # Find and plot the intersection point\n",
    "    j_intersect = find_new_intersection(beta, alpha, delta, n, g, s, psi, epsilon)\n",
    "    plt.scatter(j_intersect, j_intersect, color='blue', zorder=5)\n",
    "    plt.text(j_intersect, j_intersect, f'({j_intersect:.2f}, {j_intersect:.2f})', fontsize=12, ha='left')\n",
    "    \n",
    "    # Writing plot aesthetic such as labels, title, legend, and axes limits.\n",
    "    plt.xlabel('$j_{t}$')\n",
    "    plt.ylabel('$j_{t+1}$')\n",
    "    plt.title('Transition equation vs 45-degree line')\n",
    "    plt.legend()\n",
    "    plt.xlim(0, 4)\n",
    "    plt.ylim(0, 4)\n",
    "    \n",
    "    plt.show()\n",
    "\n",
    "# Define sliders with default values\n",
    "beta_slider = FloatSlider(min=0, max=2, step=0.1, value=0.6, description='beta')\n",
    "alpha_slider = FloatSlider(min=0, max=1, step=0.1, value=0.2, description='alpha')\n",
    "delta_slider = FloatSlider(min=0, max=1, step=0.01, value=0.06, description='delta')\n",
    "n_slider = FloatSlider(min=0, max=1, step=0.001, value=0.005, description='n')\n",
    "g_slider = FloatSlider(min=0, max=1, step=0.01, value=0.02, description='g')\n",
    "s_slider = FloatSlider(min=0, max=1, step=0.01, value=0.2, description='s')\n",
    "psi_slider = FloatSlider(min=0, max=1, step=0.01, value=0.05, description='psi')\n",
    "epsilon_slider = FloatSlider(min=0, max=1, step=0.01, value=0.1, description='epsilon')\n",
    "\n",
    "# Create interactive plot\n",
    "interact(plot_new_graph, beta=beta_slider, alpha=alpha_slider, delta=delta_slider, \n",
    "         n=n_slider, g=g_slider, s=s_slider, psi=psi_slider, epsilon=epsilon_slider);\n",
    "# \""
   ]
  },
  {
   "cell_type": "markdown",
   "metadata": {},
   "source": [
    "# 3 Conclusion "
   ]
  },
  {
   "cell_type": "markdown",
   "metadata": {},
   "source": [
    "In this project, we explored the Solow model with land and its implications using Python. We implemented the Solow Model with land and its extensions (natural resource), analyzing steady states, dynamics, and the impact of different parameters on economic growth. \n",
    "\n",
    "The interactive plots and simulations provided insights into how changes in savings rates, population growth, and technological progress can affect the long-term economic output. \n",
    "\n",
    "In the Solow model with land we calculate the SS value of capital-output to 2.54 and when we extend the model with natural resource the capital-output SS value falls to 2.34. "
   ]
  }
 ],
 "metadata": {
  "kernelspec": {
   "display_name": "base",
   "language": "python",
   "name": "python3"
  },
  "language_info": {
   "codemirror_mode": {
    "name": "ipython",
    "version": 3
   },
   "file_extension": ".py",
   "mimetype": "text/x-python",
   "name": "python",
   "nbconvert_exporter": "python",
   "pygments_lexer": "ipython3",
   "version": "3.11.7"
  },
  "toc-autonumbering": true,
  "vscode": {
   "interpreter": {
    "hash": "47ef90cdf3004d3f859f1fb202523c65c07ba7c22eefd261b181f4744e2d0403"
   }
  }
 },
 "nbformat": 4,
 "nbformat_minor": 4
}
