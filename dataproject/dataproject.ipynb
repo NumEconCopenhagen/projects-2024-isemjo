{
 "cells": [
  {
   "cell_type": "markdown",
   "metadata": {},
   "source": [
    "# YOUR PROJECT TITLE"
   ]
  },
  {
   "attachments": {},
   "cell_type": "markdown",
   "metadata": {},
   "source": [
    "> **Note the following:** \n",
    "> 1. This is *not* meant to be an example of an actual **data analysis project**, just an example of how to structure such a project.\n",
    "> 1. Remember the general advice on structuring and commenting your code\n",
    "> 1. The `dataproject.py` file includes a function which can be used multiple times in this notebook."
   ]
  },
  {
   "cell_type": "code",
   "execution_count": 109,
   "metadata": {},
   "outputs": [
    {
     "name": "stdout",
     "output_type": "stream",
     "text": [
      "Collecting git+https://github.com/alemartinello/dstapi\n",
      "  Cloning https://github.com/alemartinello/dstapi to /private/var/folders/zt/j3vldpcn0kl54_5vmb_wxwpc0000gn/T/pip-req-build-9zys4x5l\n",
      "  Running command git clone --filter=blob:none --quiet https://github.com/alemartinello/dstapi /private/var/folders/zt/j3vldpcn0kl54_5vmb_wxwpc0000gn/T/pip-req-build-9zys4x5l\n",
      "  Resolved https://github.com/alemartinello/dstapi to commit d9eeb5a82cbc70b7d63b2ff44d92632fd77123a4\n",
      "  Preparing metadata (setup.py) ... \u001b[?25ldone\n",
      "\u001b[?25hRequirement already satisfied: pandas in /Users/isabellagrunwald/anaconda3/lib/python3.11/site-packages (from dstapi==0.2) (2.1.4)\n",
      "Requirement already satisfied: requests in /Users/isabellagrunwald/anaconda3/lib/python3.11/site-packages (from dstapi==0.2) (2.31.0)\n",
      "Requirement already satisfied: numpy<2,>=1.23.2 in /Users/isabellagrunwald/anaconda3/lib/python3.11/site-packages (from pandas->dstapi==0.2) (1.26.3)\n",
      "Requirement already satisfied: python-dateutil>=2.8.2 in /Users/isabellagrunwald/anaconda3/lib/python3.11/site-packages (from pandas->dstapi==0.2) (2.8.2)\n",
      "Requirement already satisfied: pytz>=2020.1 in /Users/isabellagrunwald/anaconda3/lib/python3.11/site-packages (from pandas->dstapi==0.2) (2023.3.post1)\n",
      "Requirement already satisfied: tzdata>=2022.1 in /Users/isabellagrunwald/anaconda3/lib/python3.11/site-packages (from pandas->dstapi==0.2) (2023.3)\n",
      "Requirement already satisfied: charset-normalizer<4,>=2 in /Users/isabellagrunwald/anaconda3/lib/python3.11/site-packages (from requests->dstapi==0.2) (2.0.4)\n",
      "Requirement already satisfied: idna<4,>=2.5 in /Users/isabellagrunwald/anaconda3/lib/python3.11/site-packages (from requests->dstapi==0.2) (3.4)\n",
      "Requirement already satisfied: urllib3<3,>=1.21.1 in /Users/isabellagrunwald/anaconda3/lib/python3.11/site-packages (from requests->dstapi==0.2) (2.0.7)\n",
      "Requirement already satisfied: certifi>=2017.4.17 in /Users/isabellagrunwald/anaconda3/lib/python3.11/site-packages (from requests->dstapi==0.2) (2024.2.2)\n",
      "Requirement already satisfied: six>=1.5 in /Users/isabellagrunwald/anaconda3/lib/python3.11/site-packages (from python-dateutil>=2.8.2->pandas->dstapi==0.2) (1.16.0)\n",
      "Note: you may need to restart the kernel to use updated packages.\n",
      "Requirement already satisfied: pandas-datareader in /Users/isabellagrunwald/anaconda3/lib/python3.11/site-packages (0.10.0)\n",
      "Requirement already satisfied: lxml in /Users/isabellagrunwald/anaconda3/lib/python3.11/site-packages (from pandas-datareader) (4.9.3)\n",
      "Requirement already satisfied: pandas>=0.23 in /Users/isabellagrunwald/anaconda3/lib/python3.11/site-packages (from pandas-datareader) (2.1.4)\n",
      "Requirement already satisfied: requests>=2.19.0 in /Users/isabellagrunwald/anaconda3/lib/python3.11/site-packages (from pandas-datareader) (2.31.0)\n",
      "Requirement already satisfied: numpy<2,>=1.23.2 in /Users/isabellagrunwald/anaconda3/lib/python3.11/site-packages (from pandas>=0.23->pandas-datareader) (1.26.3)\n",
      "Requirement already satisfied: python-dateutil>=2.8.2 in /Users/isabellagrunwald/anaconda3/lib/python3.11/site-packages (from pandas>=0.23->pandas-datareader) (2.8.2)\n",
      "Requirement already satisfied: pytz>=2020.1 in /Users/isabellagrunwald/anaconda3/lib/python3.11/site-packages (from pandas>=0.23->pandas-datareader) (2023.3.post1)\n",
      "Requirement already satisfied: tzdata>=2022.1 in /Users/isabellagrunwald/anaconda3/lib/python3.11/site-packages (from pandas>=0.23->pandas-datareader) (2023.3)\n",
      "Requirement already satisfied: charset-normalizer<4,>=2 in /Users/isabellagrunwald/anaconda3/lib/python3.11/site-packages (from requests>=2.19.0->pandas-datareader) (2.0.4)\n",
      "Requirement already satisfied: idna<4,>=2.5 in /Users/isabellagrunwald/anaconda3/lib/python3.11/site-packages (from requests>=2.19.0->pandas-datareader) (3.4)\n",
      "Requirement already satisfied: urllib3<3,>=1.21.1 in /Users/isabellagrunwald/anaconda3/lib/python3.11/site-packages (from requests>=2.19.0->pandas-datareader) (2.0.7)\n",
      "Requirement already satisfied: certifi>=2017.4.17 in /Users/isabellagrunwald/anaconda3/lib/python3.11/site-packages (from requests>=2.19.0->pandas-datareader) (2024.2.2)\n",
      "Requirement already satisfied: six>=1.5 in /Users/isabellagrunwald/anaconda3/lib/python3.11/site-packages (from python-dateutil>=2.8.2->pandas>=0.23->pandas-datareader) (1.16.0)\n",
      "Note: you may need to restart the kernel to use updated packages.\n",
      "Requirement already satisfied: seaborn in /Users/isabellagrunwald/anaconda3/lib/python3.11/site-packages (0.12.2)\n",
      "Requirement already satisfied: numpy!=1.24.0,>=1.17 in /Users/isabellagrunwald/anaconda3/lib/python3.11/site-packages (from seaborn) (1.26.3)\n",
      "Requirement already satisfied: pandas>=0.25 in /Users/isabellagrunwald/anaconda3/lib/python3.11/site-packages (from seaborn) (2.1.4)\n",
      "Requirement already satisfied: matplotlib!=3.6.1,>=3.1 in /Users/isabellagrunwald/anaconda3/lib/python3.11/site-packages (from seaborn) (3.8.0)\n",
      "Requirement already satisfied: contourpy>=1.0.1 in /Users/isabellagrunwald/anaconda3/lib/python3.11/site-packages (from matplotlib!=3.6.1,>=3.1->seaborn) (1.2.0)\n",
      "Requirement already satisfied: cycler>=0.10 in /Users/isabellagrunwald/anaconda3/lib/python3.11/site-packages (from matplotlib!=3.6.1,>=3.1->seaborn) (0.11.0)\n",
      "Requirement already satisfied: fonttools>=4.22.0 in /Users/isabellagrunwald/anaconda3/lib/python3.11/site-packages (from matplotlib!=3.6.1,>=3.1->seaborn) (4.25.0)\n",
      "Requirement already satisfied: kiwisolver>=1.0.1 in /Users/isabellagrunwald/anaconda3/lib/python3.11/site-packages (from matplotlib!=3.6.1,>=3.1->seaborn) (1.4.4)\n",
      "Requirement already satisfied: packaging>=20.0 in /Users/isabellagrunwald/anaconda3/lib/python3.11/site-packages (from matplotlib!=3.6.1,>=3.1->seaborn) (23.1)\n",
      "Requirement already satisfied: pillow>=6.2.0 in /Users/isabellagrunwald/anaconda3/lib/python3.11/site-packages (from matplotlib!=3.6.1,>=3.1->seaborn) (10.2.0)\n",
      "Requirement already satisfied: pyparsing>=2.3.1 in /Users/isabellagrunwald/anaconda3/lib/python3.11/site-packages (from matplotlib!=3.6.1,>=3.1->seaborn) (3.0.9)\n",
      "Requirement already satisfied: python-dateutil>=2.7 in /Users/isabellagrunwald/anaconda3/lib/python3.11/site-packages (from matplotlib!=3.6.1,>=3.1->seaborn) (2.8.2)\n",
      "Requirement already satisfied: pytz>=2020.1 in /Users/isabellagrunwald/anaconda3/lib/python3.11/site-packages (from pandas>=0.25->seaborn) (2023.3.post1)\n",
      "Requirement already satisfied: tzdata>=2022.1 in /Users/isabellagrunwald/anaconda3/lib/python3.11/site-packages (from pandas>=0.25->seaborn) (2023.3)\n",
      "Requirement already satisfied: six>=1.5 in /Users/isabellagrunwald/anaconda3/lib/python3.11/site-packages (from python-dateutil>=2.7->matplotlib!=3.6.1,>=3.1->seaborn) (1.16.0)\n",
      "Note: you may need to restart the kernel to use updated packages.\n"
     ]
    }
   ],
   "source": [
    "# The DST API wrapper\n",
    "%pip install git+https://github.com/alemartinello/dstapi\n",
    "\n",
    "# A wrapper for multiple APIs with a pandas interface\n",
    "%pip install pandas-datareader\n",
    "\n",
    "# For data visualization\n",
    "%pip install seaborn"
   ]
  },
  {
   "cell_type": "markdown",
   "metadata": {},
   "source": [
    "Imports and set magics:"
   ]
  },
  {
   "cell_type": "code",
   "execution_count": 110,
   "metadata": {},
   "outputs": [
    {
     "name": "stdout",
     "output_type": "stream",
     "text": [
      "The autoreload extension is already loaded. To reload it, use:\n",
      "  %reload_ext autoreload\n"
     ]
    }
   ],
   "source": [
    "import pandas as pd\n",
    "import numpy as np\n",
    "import ipywidgets as widgets\n",
    "import warnings\n",
    "import seaborn as sns\n",
    "import plotly.express as px\n",
    "\n",
    "import datetime\n",
    "import pandas_datareader \n",
    "from dstapi import DstApi\n",
    "\n",
    "import matplotlib.pyplot as plt\n",
    "plt.rcParams.update({\"axes.grid\":True,\"grid.color\":\"black\",\"grid.alpha\":\"0.25\",\"grid.linestyle\":\"--\"})\n",
    "plt.rcParams.update({'font.size': 14})\n",
    "\n",
    "# autoreload modules when code is run\n",
    "%load_ext autoreload\n",
    "%autoreload 2\n",
    "\n",
    "# user written modules\n",
    "import dataproject\n"
   ]
  },
  {
   "cell_type": "markdown",
   "metadata": {},
   "source": [
    "# Read and clean data"
   ]
  },
  {
   "cell_type": "markdown",
   "metadata": {},
   "source": [
    "Importing the first data set about income where one of the variables is age from DST through an API (we will refer to the data set as income-age)."
   ]
  },
  {
   "cell_type": "code",
   "execution_count": 111,
   "metadata": {},
   "outputs": [],
   "source": [
    "ind = DstApi('LONS50') "
   ]
  },
  {
   "cell_type": "markdown",
   "metadata": {},
   "source": [
    "Getting a quick overview over the data"
   ]
  },
  {
   "cell_type": "code",
   "execution_count": 112,
   "metadata": {},
   "outputs": [
    {
     "name": "stdout",
     "output_type": "stream",
     "text": [
      "Table LONS50: Earnings by age, sector, salary, salary earners, components, sex and time\n",
      "Last update: 2023-11-29T08:00:00\n"
     ]
    },
    {
     "data": {
      "text/html": [
       "<div>\n",
       "<style scoped>\n",
       "    .dataframe tbody tr th:only-of-type {\n",
       "        vertical-align: middle;\n",
       "    }\n",
       "\n",
       "    .dataframe tbody tr th {\n",
       "        vertical-align: top;\n",
       "    }\n",
       "\n",
       "    .dataframe thead th {\n",
       "        text-align: right;\n",
       "    }\n",
       "</style>\n",
       "<table border=\"1\" class=\"dataframe\">\n",
       "  <thead>\n",
       "    <tr style=\"text-align: right;\">\n",
       "      <th></th>\n",
       "      <th>variable name</th>\n",
       "      <th># values</th>\n",
       "      <th>First value</th>\n",
       "      <th>First value label</th>\n",
       "      <th>Last value</th>\n",
       "      <th>Last value label</th>\n",
       "      <th>Time variable</th>\n",
       "    </tr>\n",
       "  </thead>\n",
       "  <tbody>\n",
       "    <tr>\n",
       "      <th>0</th>\n",
       "      <td>ALDER1</td>\n",
       "      <td>11</td>\n",
       "      <td>TOT</td>\n",
       "      <td>Age, total</td>\n",
       "      <td>60-</td>\n",
       "      <td>60 years and over</td>\n",
       "      <td>False</td>\n",
       "    </tr>\n",
       "    <tr>\n",
       "      <th>1</th>\n",
       "      <td>SEKTOR</td>\n",
       "      <td>7</td>\n",
       "      <td>1000</td>\n",
       "      <td>All sectors</td>\n",
       "      <td>1046</td>\n",
       "      <td>Corporations and organizations</td>\n",
       "      <td>False</td>\n",
       "    </tr>\n",
       "    <tr>\n",
       "      <th>2</th>\n",
       "      <td>AFLOEN</td>\n",
       "      <td>3</td>\n",
       "      <td>TIFA</td>\n",
       "      <td>All forms of pay</td>\n",
       "      <td>FAST</td>\n",
       "      <td>Fixed salary-earners</td>\n",
       "      <td>False</td>\n",
       "    </tr>\n",
       "    <tr>\n",
       "      <th>3</th>\n",
       "      <td>LONGRP</td>\n",
       "      <td>6</td>\n",
       "      <td>LTOT</td>\n",
       "      <td>Employee group total</td>\n",
       "      <td>ELE</td>\n",
       "      <td>Trainees</td>\n",
       "      <td>False</td>\n",
       "    </tr>\n",
       "    <tr>\n",
       "      <th>4</th>\n",
       "      <td>LØNMÅL</td>\n",
       "      <td>25</td>\n",
       "      <td>FORINKL</td>\n",
       "      <td>EARNINGS IN DKK PER HOUR WORKED</td>\n",
       "      <td>ANTAL</td>\n",
       "      <td>Number of fulltime employees in the earnings s...</td>\n",
       "      <td>False</td>\n",
       "    </tr>\n",
       "    <tr>\n",
       "      <th>5</th>\n",
       "      <td>KØN</td>\n",
       "      <td>3</td>\n",
       "      <td>MOK</td>\n",
       "      <td>Men and women, total</td>\n",
       "      <td>K</td>\n",
       "      <td>Women</td>\n",
       "      <td>False</td>\n",
       "    </tr>\n",
       "    <tr>\n",
       "      <th>6</th>\n",
       "      <td>Tid</td>\n",
       "      <td>10</td>\n",
       "      <td>2013</td>\n",
       "      <td>2013</td>\n",
       "      <td>2022</td>\n",
       "      <td>2022</td>\n",
       "      <td>True</td>\n",
       "    </tr>\n",
       "  </tbody>\n",
       "</table>\n",
       "</div>"
      ],
      "text/plain": [
       "  variable name  # values First value                First value label  \\\n",
       "0        ALDER1        11         TOT                       Age, total   \n",
       "1        SEKTOR         7        1000                      All sectors   \n",
       "2        AFLOEN         3        TIFA                 All forms of pay   \n",
       "3        LONGRP         6        LTOT             Employee group total   \n",
       "4        LØNMÅL        25     FORINKL  EARNINGS IN DKK PER HOUR WORKED   \n",
       "5           KØN         3         MOK             Men and women, total   \n",
       "6           Tid        10        2013                             2013   \n",
       "\n",
       "  Last value                                   Last value label  Time variable  \n",
       "0        60-                                  60 years and over          False  \n",
       "1       1046                     Corporations and organizations          False  \n",
       "2       FAST                               Fixed salary-earners          False  \n",
       "3        ELE                                           Trainees          False  \n",
       "4      ANTAL  Number of fulltime employees in the earnings s...          False  \n",
       "5          K                                              Women          False  \n",
       "6       2022                                               2022           True  "
      ]
     },
     "metadata": {},
     "output_type": "display_data"
    }
   ],
   "source": [
    "tabsum = ind.tablesummary(language='en')\n",
    "display(tabsum)"
   ]
  },
  {
   "cell_type": "code",
   "execution_count": 113,
   "metadata": {},
   "outputs": [
    {
     "name": "stdout",
     "output_type": "stream",
     "text": [
      "ALDER1:\n"
     ]
    },
    {
     "data": {
      "text/html": [
       "<div>\n",
       "<style scoped>\n",
       "    .dataframe tbody tr th:only-of-type {\n",
       "        vertical-align: middle;\n",
       "    }\n",
       "\n",
       "    .dataframe tbody tr th {\n",
       "        vertical-align: top;\n",
       "    }\n",
       "\n",
       "    .dataframe thead th {\n",
       "        text-align: right;\n",
       "    }\n",
       "</style>\n",
       "<table border=\"1\" class=\"dataframe\">\n",
       "  <thead>\n",
       "    <tr style=\"text-align: right;\">\n",
       "      <th></th>\n",
       "      <th>id</th>\n",
       "      <th>text</th>\n",
       "    </tr>\n",
       "  </thead>\n",
       "  <tbody>\n",
       "    <tr>\n",
       "      <th>0</th>\n",
       "      <td>TOT</td>\n",
       "      <td>Age, total</td>\n",
       "    </tr>\n",
       "    <tr>\n",
       "      <th>1</th>\n",
       "      <td>-19</td>\n",
       "      <td>Under 20 years</td>\n",
       "    </tr>\n",
       "    <tr>\n",
       "      <th>2</th>\n",
       "      <td>20-24</td>\n",
       "      <td>20-24 years</td>\n",
       "    </tr>\n",
       "    <tr>\n",
       "      <th>3</th>\n",
       "      <td>25-29</td>\n",
       "      <td>25-29 years</td>\n",
       "    </tr>\n",
       "    <tr>\n",
       "      <th>4</th>\n",
       "      <td>30-34</td>\n",
       "      <td>30-34 years</td>\n",
       "    </tr>\n",
       "    <tr>\n",
       "      <th>5</th>\n",
       "      <td>35-39</td>\n",
       "      <td>35-39 years</td>\n",
       "    </tr>\n",
       "    <tr>\n",
       "      <th>6</th>\n",
       "      <td>40-44</td>\n",
       "      <td>40-44 years</td>\n",
       "    </tr>\n",
       "    <tr>\n",
       "      <th>7</th>\n",
       "      <td>45-49</td>\n",
       "      <td>45-49 years</td>\n",
       "    </tr>\n",
       "    <tr>\n",
       "      <th>8</th>\n",
       "      <td>50-54</td>\n",
       "      <td>50-54 years</td>\n",
       "    </tr>\n",
       "    <tr>\n",
       "      <th>9</th>\n",
       "      <td>55-59</td>\n",
       "      <td>55-59 years</td>\n",
       "    </tr>\n",
       "    <tr>\n",
       "      <th>10</th>\n",
       "      <td>60-</td>\n",
       "      <td>60 years and over</td>\n",
       "    </tr>\n",
       "  </tbody>\n",
       "</table>\n",
       "</div>"
      ],
      "text/plain": [
       "       id               text\n",
       "0     TOT         Age, total\n",
       "1     -19     Under 20 years\n",
       "2   20-24        20-24 years\n",
       "3   25-29        25-29 years\n",
       "4   30-34        30-34 years\n",
       "5   35-39        35-39 years\n",
       "6   40-44        40-44 years\n",
       "7   45-49        45-49 years\n",
       "8   50-54        50-54 years\n",
       "9   55-59        55-59 years\n",
       "10    60-  60 years and over"
      ]
     },
     "metadata": {},
     "output_type": "display_data"
    },
    {
     "name": "stdout",
     "output_type": "stream",
     "text": [
      "SEKTOR:\n"
     ]
    },
    {
     "data": {
      "text/html": [
       "<div>\n",
       "<style scoped>\n",
       "    .dataframe tbody tr th:only-of-type {\n",
       "        vertical-align: middle;\n",
       "    }\n",
       "\n",
       "    .dataframe tbody tr th {\n",
       "        vertical-align: top;\n",
       "    }\n",
       "\n",
       "    .dataframe thead th {\n",
       "        text-align: right;\n",
       "    }\n",
       "</style>\n",
       "<table border=\"1\" class=\"dataframe\">\n",
       "  <thead>\n",
       "    <tr style=\"text-align: right;\">\n",
       "      <th></th>\n",
       "      <th>id</th>\n",
       "      <th>text</th>\n",
       "    </tr>\n",
       "  </thead>\n",
       "  <tbody>\n",
       "    <tr>\n",
       "      <th>0</th>\n",
       "      <td>1000</td>\n",
       "      <td>All sectors</td>\n",
       "    </tr>\n",
       "    <tr>\n",
       "      <th>1</th>\n",
       "      <td>1032</td>\n",
       "      <td>General government</td>\n",
       "    </tr>\n",
       "    <tr>\n",
       "      <th>2</th>\n",
       "      <td>1016</td>\n",
       "      <td>Government including social security funds</td>\n",
       "    </tr>\n",
       "    <tr>\n",
       "      <th>3</th>\n",
       "      <td>1018</td>\n",
       "      <td>Municipal and regional government total</td>\n",
       "    </tr>\n",
       "    <tr>\n",
       "      <th>4</th>\n",
       "      <td>1020</td>\n",
       "      <td>Regional government</td>\n",
       "    </tr>\n",
       "    <tr>\n",
       "      <th>5</th>\n",
       "      <td>1025</td>\n",
       "      <td>Municipal government</td>\n",
       "    </tr>\n",
       "    <tr>\n",
       "      <th>6</th>\n",
       "      <td>1046</td>\n",
       "      <td>Corporations and organizations</td>\n",
       "    </tr>\n",
       "  </tbody>\n",
       "</table>\n",
       "</div>"
      ],
      "text/plain": [
       "     id                                        text\n",
       "0  1000                                 All sectors\n",
       "1  1032                          General government\n",
       "2  1016  Government including social security funds\n",
       "3  1018     Municipal and regional government total\n",
       "4  1020                         Regional government\n",
       "5  1025                        Municipal government\n",
       "6  1046              Corporations and organizations"
      ]
     },
     "metadata": {},
     "output_type": "display_data"
    },
    {
     "name": "stdout",
     "output_type": "stream",
     "text": [
      "AFLOEN:\n"
     ]
    },
    {
     "data": {
      "text/html": [
       "<div>\n",
       "<style scoped>\n",
       "    .dataframe tbody tr th:only-of-type {\n",
       "        vertical-align: middle;\n",
       "    }\n",
       "\n",
       "    .dataframe tbody tr th {\n",
       "        vertical-align: top;\n",
       "    }\n",
       "\n",
       "    .dataframe thead th {\n",
       "        text-align: right;\n",
       "    }\n",
       "</style>\n",
       "<table border=\"1\" class=\"dataframe\">\n",
       "  <thead>\n",
       "    <tr style=\"text-align: right;\">\n",
       "      <th></th>\n",
       "      <th>id</th>\n",
       "      <th>text</th>\n",
       "    </tr>\n",
       "  </thead>\n",
       "  <tbody>\n",
       "    <tr>\n",
       "      <th>0</th>\n",
       "      <td>TIFA</td>\n",
       "      <td>All forms of pay</td>\n",
       "    </tr>\n",
       "    <tr>\n",
       "      <th>1</th>\n",
       "      <td>TIME</td>\n",
       "      <td>Workers paid by the hour</td>\n",
       "    </tr>\n",
       "    <tr>\n",
       "      <th>2</th>\n",
       "      <td>FAST</td>\n",
       "      <td>Fixed salary-earners</td>\n",
       "    </tr>\n",
       "  </tbody>\n",
       "</table>\n",
       "</div>"
      ],
      "text/plain": [
       "     id                      text\n",
       "0  TIFA          All forms of pay\n",
       "1  TIME  Workers paid by the hour\n",
       "2  FAST      Fixed salary-earners"
      ]
     },
     "metadata": {},
     "output_type": "display_data"
    },
    {
     "name": "stdout",
     "output_type": "stream",
     "text": [
      "LONGRP:\n"
     ]
    },
    {
     "data": {
      "text/html": [
       "<div>\n",
       "<style scoped>\n",
       "    .dataframe tbody tr th:only-of-type {\n",
       "        vertical-align: middle;\n",
       "    }\n",
       "\n",
       "    .dataframe tbody tr th {\n",
       "        vertical-align: top;\n",
       "    }\n",
       "\n",
       "    .dataframe thead th {\n",
       "        text-align: right;\n",
       "    }\n",
       "</style>\n",
       "<table border=\"1\" class=\"dataframe\">\n",
       "  <thead>\n",
       "    <tr style=\"text-align: right;\">\n",
       "      <th></th>\n",
       "      <th>id</th>\n",
       "      <th>text</th>\n",
       "    </tr>\n",
       "  </thead>\n",
       "  <tbody>\n",
       "    <tr>\n",
       "      <th>0</th>\n",
       "      <td>LTOT</td>\n",
       "      <td>Employee group total</td>\n",
       "    </tr>\n",
       "    <tr>\n",
       "      <th>1</th>\n",
       "      <td>LED</td>\n",
       "      <td>General managers</td>\n",
       "    </tr>\n",
       "    <tr>\n",
       "      <th>2</th>\n",
       "      <td>VOK</td>\n",
       "      <td>Employees (exclusiv young people and trainees)</td>\n",
       "    </tr>\n",
       "    <tr>\n",
       "      <th>3</th>\n",
       "      <td>MED</td>\n",
       "      <td>Employees, non-managerial level</td>\n",
       "    </tr>\n",
       "    <tr>\n",
       "      <th>4</th>\n",
       "      <td>UNG</td>\n",
       "      <td>Young people, 13-17 years</td>\n",
       "    </tr>\n",
       "    <tr>\n",
       "      <th>5</th>\n",
       "      <td>ELE</td>\n",
       "      <td>Trainees</td>\n",
       "    </tr>\n",
       "  </tbody>\n",
       "</table>\n",
       "</div>"
      ],
      "text/plain": [
       "     id                                            text\n",
       "0  LTOT                            Employee group total\n",
       "1   LED                                General managers\n",
       "2   VOK  Employees (exclusiv young people and trainees)\n",
       "3   MED                 Employees, non-managerial level\n",
       "4   UNG                       Young people, 13-17 years\n",
       "5   ELE                                        Trainees"
      ]
     },
     "metadata": {},
     "output_type": "display_data"
    },
    {
     "name": "stdout",
     "output_type": "stream",
     "text": [
      "LØNMÅL:\n"
     ]
    },
    {
     "data": {
      "text/html": [
       "<div>\n",
       "<style scoped>\n",
       "    .dataframe tbody tr th:only-of-type {\n",
       "        vertical-align: middle;\n",
       "    }\n",
       "\n",
       "    .dataframe tbody tr th {\n",
       "        vertical-align: top;\n",
       "    }\n",
       "\n",
       "    .dataframe thead th {\n",
       "        text-align: right;\n",
       "    }\n",
       "</style>\n",
       "<table border=\"1\" class=\"dataframe\">\n",
       "  <thead>\n",
       "    <tr style=\"text-align: right;\">\n",
       "      <th></th>\n",
       "      <th>id</th>\n",
       "      <th>text</th>\n",
       "    </tr>\n",
       "  </thead>\n",
       "  <tbody>\n",
       "    <tr>\n",
       "      <th>0</th>\n",
       "      <td>FORINKL</td>\n",
       "      <td>EARNINGS IN DKK PER HOUR WORKED</td>\n",
       "    </tr>\n",
       "    <tr>\n",
       "      <th>1</th>\n",
       "      <td>OVERB</td>\n",
       "      <td>Overtime payment in DKK per hour worked</td>\n",
       "    </tr>\n",
       "    <tr>\n",
       "      <th>2</th>\n",
       "      <td>SYGDOM</td>\n",
       "      <td>Sickness with pay, etc. in DKK per hour worked</td>\n",
       "    </tr>\n",
       "    <tr>\n",
       "      <th>3</th>\n",
       "      <td>GENE</td>\n",
       "      <td>Nuisance bonus in DKK per hour worked</td>\n",
       "    </tr>\n",
       "    <tr>\n",
       "      <th>4</th>\n",
       "      <td>GODE</td>\n",
       "      <td>Fringe benefits in DKK per hour worked</td>\n",
       "    </tr>\n",
       "    <tr>\n",
       "      <th>5</th>\n",
       "      <td>UREGEL</td>\n",
       "      <td>Irregular payments in DKK per hour worked</td>\n",
       "    </tr>\n",
       "    <tr>\n",
       "      <th>6</th>\n",
       "      <td>PENS</td>\n",
       "      <td>Pension including ATP in DKK per hour worked</td>\n",
       "    </tr>\n",
       "    <tr>\n",
       "      <th>7</th>\n",
       "      <td>BASIS</td>\n",
       "      <td>Basic earnings in DKK per hour worked</td>\n",
       "    </tr>\n",
       "    <tr>\n",
       "      <th>8</th>\n",
       "      <td>SFERIE</td>\n",
       "      <td>..Special holiday allowance in DKK per hour wo...</td>\n",
       "    </tr>\n",
       "    <tr>\n",
       "      <th>9</th>\n",
       "      <td>FERIE</td>\n",
       "      <td>..Holiday payments in DKK per hour worked</td>\n",
       "    </tr>\n",
       "    <tr>\n",
       "      <th>10</th>\n",
       "      <td>NEDRE</td>\n",
       "      <td>Lower quartile, earnings in DKK per hour worked</td>\n",
       "    </tr>\n",
       "    <tr>\n",
       "      <th>11</th>\n",
       "      <td>MEDIAN</td>\n",
       "      <td>Median, earnings in DKK per hour worked</td>\n",
       "    </tr>\n",
       "    <tr>\n",
       "      <th>12</th>\n",
       "      <td>OVRE</td>\n",
       "      <td>upper quartile, earnings in DKK per hour worked</td>\n",
       "    </tr>\n",
       "    <tr>\n",
       "      <th>13</th>\n",
       "      <td>STAND</td>\n",
       "      <td>STANDARDIZED HOURLY EARNINGS</td>\n",
       "    </tr>\n",
       "    <tr>\n",
       "      <th>14</th>\n",
       "      <td>GENEST</td>\n",
       "      <td>Nuisance bonus in DKK per standard hour</td>\n",
       "    </tr>\n",
       "    <tr>\n",
       "      <th>15</th>\n",
       "      <td>GODEST</td>\n",
       "      <td>Fringe benefits in DKK per standard hour</td>\n",
       "    </tr>\n",
       "    <tr>\n",
       "      <th>16</th>\n",
       "      <td>UREGELST</td>\n",
       "      <td>Irregular payment in DKK per standard hour</td>\n",
       "    </tr>\n",
       "    <tr>\n",
       "      <th>17</th>\n",
       "      <td>PENSST</td>\n",
       "      <td>Pension including ATP in DKK per standard hour</td>\n",
       "    </tr>\n",
       "    <tr>\n",
       "      <th>18</th>\n",
       "      <td>BASISST</td>\n",
       "      <td>Basic earnings in DKK per standard hour</td>\n",
       "    </tr>\n",
       "    <tr>\n",
       "      <th>19</th>\n",
       "      <td>SFERIEST</td>\n",
       "      <td>..Special holiday allowance in DKK per standar...</td>\n",
       "    </tr>\n",
       "    <tr>\n",
       "      <th>20</th>\n",
       "      <td>NEDREST</td>\n",
       "      <td>Lower quartile, standardized earnings</td>\n",
       "    </tr>\n",
       "    <tr>\n",
       "      <th>21</th>\n",
       "      <td>MEDIANST</td>\n",
       "      <td>Median, standardized hourly earnings</td>\n",
       "    </tr>\n",
       "    <tr>\n",
       "      <th>22</th>\n",
       "      <td>OVREST</td>\n",
       "      <td>Upper quartile, standardized hourly earnings</td>\n",
       "    </tr>\n",
       "    <tr>\n",
       "      <th>23</th>\n",
       "      <td>MDRSNIT</td>\n",
       "      <td>STANDARDIZED MONTHLY EARNINGS</td>\n",
       "    </tr>\n",
       "    <tr>\n",
       "      <th>24</th>\n",
       "      <td>ANTAL</td>\n",
       "      <td>Number of fulltime employees in the earnings s...</td>\n",
       "    </tr>\n",
       "  </tbody>\n",
       "</table>\n",
       "</div>"
      ],
      "text/plain": [
       "          id                                               text\n",
       "0    FORINKL                    EARNINGS IN DKK PER HOUR WORKED\n",
       "1      OVERB            Overtime payment in DKK per hour worked\n",
       "2     SYGDOM     Sickness with pay, etc. in DKK per hour worked\n",
       "3       GENE              Nuisance bonus in DKK per hour worked\n",
       "4       GODE             Fringe benefits in DKK per hour worked\n",
       "5     UREGEL          Irregular payments in DKK per hour worked\n",
       "6       PENS       Pension including ATP in DKK per hour worked\n",
       "7      BASIS              Basic earnings in DKK per hour worked\n",
       "8     SFERIE  ..Special holiday allowance in DKK per hour wo...\n",
       "9      FERIE          ..Holiday payments in DKK per hour worked\n",
       "10     NEDRE    Lower quartile, earnings in DKK per hour worked\n",
       "11    MEDIAN            Median, earnings in DKK per hour worked\n",
       "12      OVRE    upper quartile, earnings in DKK per hour worked\n",
       "13     STAND                       STANDARDIZED HOURLY EARNINGS\n",
       "14    GENEST            Nuisance bonus in DKK per standard hour\n",
       "15    GODEST           Fringe benefits in DKK per standard hour\n",
       "16  UREGELST         Irregular payment in DKK per standard hour\n",
       "17    PENSST     Pension including ATP in DKK per standard hour\n",
       "18   BASISST            Basic earnings in DKK per standard hour\n",
       "19  SFERIEST  ..Special holiday allowance in DKK per standar...\n",
       "20   NEDREST              Lower quartile, standardized earnings\n",
       "21  MEDIANST               Median, standardized hourly earnings\n",
       "22    OVREST       Upper quartile, standardized hourly earnings\n",
       "23   MDRSNIT                      STANDARDIZED MONTHLY EARNINGS\n",
       "24     ANTAL  Number of fulltime employees in the earnings s..."
      ]
     },
     "metadata": {},
     "output_type": "display_data"
    },
    {
     "name": "stdout",
     "output_type": "stream",
     "text": [
      "KØN:\n"
     ]
    },
    {
     "data": {
      "text/html": [
       "<div>\n",
       "<style scoped>\n",
       "    .dataframe tbody tr th:only-of-type {\n",
       "        vertical-align: middle;\n",
       "    }\n",
       "\n",
       "    .dataframe tbody tr th {\n",
       "        vertical-align: top;\n",
       "    }\n",
       "\n",
       "    .dataframe thead th {\n",
       "        text-align: right;\n",
       "    }\n",
       "</style>\n",
       "<table border=\"1\" class=\"dataframe\">\n",
       "  <thead>\n",
       "    <tr style=\"text-align: right;\">\n",
       "      <th></th>\n",
       "      <th>id</th>\n",
       "      <th>text</th>\n",
       "    </tr>\n",
       "  </thead>\n",
       "  <tbody>\n",
       "    <tr>\n",
       "      <th>0</th>\n",
       "      <td>MOK</td>\n",
       "      <td>Men and women, total</td>\n",
       "    </tr>\n",
       "    <tr>\n",
       "      <th>1</th>\n",
       "      <td>M</td>\n",
       "      <td>Men</td>\n",
       "    </tr>\n",
       "    <tr>\n",
       "      <th>2</th>\n",
       "      <td>K</td>\n",
       "      <td>Women</td>\n",
       "    </tr>\n",
       "  </tbody>\n",
       "</table>\n",
       "</div>"
      ],
      "text/plain": [
       "    id                  text\n",
       "0  MOK  Men and women, total\n",
       "1    M                   Men\n",
       "2    K                 Women"
      ]
     },
     "metadata": {},
     "output_type": "display_data"
    },
    {
     "name": "stdout",
     "output_type": "stream",
     "text": [
      "Tid:\n"
     ]
    },
    {
     "data": {
      "text/html": [
       "<div>\n",
       "<style scoped>\n",
       "    .dataframe tbody tr th:only-of-type {\n",
       "        vertical-align: middle;\n",
       "    }\n",
       "\n",
       "    .dataframe tbody tr th {\n",
       "        vertical-align: top;\n",
       "    }\n",
       "\n",
       "    .dataframe thead th {\n",
       "        text-align: right;\n",
       "    }\n",
       "</style>\n",
       "<table border=\"1\" class=\"dataframe\">\n",
       "  <thead>\n",
       "    <tr style=\"text-align: right;\">\n",
       "      <th></th>\n",
       "      <th>id</th>\n",
       "      <th>text</th>\n",
       "    </tr>\n",
       "  </thead>\n",
       "  <tbody>\n",
       "    <tr>\n",
       "      <th>0</th>\n",
       "      <td>2013</td>\n",
       "      <td>2013</td>\n",
       "    </tr>\n",
       "    <tr>\n",
       "      <th>1</th>\n",
       "      <td>2014</td>\n",
       "      <td>2014</td>\n",
       "    </tr>\n",
       "    <tr>\n",
       "      <th>2</th>\n",
       "      <td>2015</td>\n",
       "      <td>2015</td>\n",
       "    </tr>\n",
       "    <tr>\n",
       "      <th>3</th>\n",
       "      <td>2016</td>\n",
       "      <td>2016</td>\n",
       "    </tr>\n",
       "    <tr>\n",
       "      <th>4</th>\n",
       "      <td>2017</td>\n",
       "      <td>2017</td>\n",
       "    </tr>\n",
       "    <tr>\n",
       "      <th>5</th>\n",
       "      <td>2018</td>\n",
       "      <td>2018</td>\n",
       "    </tr>\n",
       "    <tr>\n",
       "      <th>6</th>\n",
       "      <td>2019</td>\n",
       "      <td>2019</td>\n",
       "    </tr>\n",
       "    <tr>\n",
       "      <th>7</th>\n",
       "      <td>2020</td>\n",
       "      <td>2020</td>\n",
       "    </tr>\n",
       "    <tr>\n",
       "      <th>8</th>\n",
       "      <td>2021</td>\n",
       "      <td>2021</td>\n",
       "    </tr>\n",
       "    <tr>\n",
       "      <th>9</th>\n",
       "      <td>2022</td>\n",
       "      <td>2022</td>\n",
       "    </tr>\n",
       "  </tbody>\n",
       "</table>\n",
       "</div>"
      ],
      "text/plain": [
       "     id  text\n",
       "0  2013  2013\n",
       "1  2014  2014\n",
       "2  2015  2015\n",
       "3  2016  2016\n",
       "4  2017  2017\n",
       "5  2018  2018\n",
       "6  2019  2019\n",
       "7  2020  2020\n",
       "8  2021  2021\n",
       "9  2022  2022"
      ]
     },
     "metadata": {},
     "output_type": "display_data"
    }
   ],
   "source": [
    "# Then we would like to see the available values for a each variable and their id: \n",
    "for variable in tabsum['variable name']:\n",
    "   print(variable+':')\n",
    "   display(ind.variable_levels(variable, language='en'))\n"
   ]
  },
  {
   "cell_type": "code",
   "execution_count": 114,
   "metadata": {},
   "outputs": [
    {
     "data": {
      "text/plain": [
       "{'table': 'lons50',\n",
       " 'format': 'BULK',\n",
       " 'lang': 'en',\n",
       " 'variables': [{'code': 'ALDER1', 'values': ['*']},\n",
       "  {'code': 'SEKTOR', 'values': ['*']},\n",
       "  {'code': 'AFLOEN', 'values': ['*']},\n",
       "  {'code': 'LONGRP', 'values': ['*']},\n",
       "  {'code': 'LØNMÅL', 'values': ['*']},\n",
       "  {'code': 'KØN', 'values': ['*']},\n",
       "  {'code': 'Tid', 'values': ['*']}]}"
      ]
     },
     "execution_count": 114,
     "metadata": {},
     "output_type": "execute_result"
    }
   ],
   "source": [
    "# Then we use the define_base_params -method to give us a nice template (where from we can select available data).\n",
    "params = ind._define_base_params(language='en')\n",
    "params"
   ]
  },
  {
   "cell_type": "code",
   "execution_count": 115,
   "metadata": {},
   "outputs": [],
   "source": [
    "# Here we choose the data we want as our parameters \n",
    "params = {'table': 'lons50',\n",
    " 'format': 'BULK',\n",
    " 'lang': 'en',\n",
    " 'variables': [{'code': 'ALDER1', 'values': ['20-24','25-29','30-34','35-39','40-44','45-49','50-54','55-59','60-']},\n",
    "  {'code': 'SEKTOR', 'values': ['1018', '1016', '1046']},\n",
    "  {'code': 'AFLOEN', 'values': ['TIFA']},\n",
    "  {'code': 'LONGRP', 'values': ['LTOT']},\n",
    "  {'code': 'LØNMÅL', 'values': ['FORINKL']},\n",
    "  {'code': 'KØN', 'values': ['MOK']},\n",
    "  {'code': 'Tid', 'values': ['*']}]}\n"
   ]
  },
  {
   "cell_type": "code",
   "execution_count": 116,
   "metadata": {},
   "outputs": [
    {
     "name": "stdout",
     "output_type": "stream",
     "text": [
      "<class 'pandas.core.frame.DataFrame'>\n",
      "RangeIndex: 270 entries, 0 to 269\n",
      "Data columns (total 8 columns):\n",
      " #   Column   Non-Null Count  Dtype \n",
      "---  ------   --------------  ----- \n",
      " 0   ALDER1   270 non-null    object\n",
      " 1   SEKTOR   270 non-null    object\n",
      " 2   AFLOEN   270 non-null    object\n",
      " 3   LONGRP   270 non-null    object\n",
      " 4   LØNMÅL   270 non-null    object\n",
      " 5   KØN      270 non-null    object\n",
      " 6   TID      270 non-null    int64 \n",
      " 7   INDHOLD  270 non-null    object\n",
      "dtypes: int64(1), object(7)\n",
      "memory usage: 17.0+ KB\n"
     ]
    },
    {
     "data": {
      "text/html": [
       "<div>\n",
       "<style scoped>\n",
       "    .dataframe tbody tr th:only-of-type {\n",
       "        vertical-align: middle;\n",
       "    }\n",
       "\n",
       "    .dataframe tbody tr th {\n",
       "        vertical-align: top;\n",
       "    }\n",
       "\n",
       "    .dataframe thead th {\n",
       "        text-align: right;\n",
       "    }\n",
       "</style>\n",
       "<table border=\"1\" class=\"dataframe\">\n",
       "  <thead>\n",
       "    <tr style=\"text-align: right;\">\n",
       "      <th></th>\n",
       "      <th>ALDER1</th>\n",
       "      <th>SEKTOR</th>\n",
       "      <th>AFLOEN</th>\n",
       "      <th>LONGRP</th>\n",
       "      <th>LØNMÅL</th>\n",
       "      <th>KØN</th>\n",
       "      <th>TID</th>\n",
       "      <th>INDHOLD</th>\n",
       "    </tr>\n",
       "  </thead>\n",
       "  <tbody>\n",
       "    <tr>\n",
       "      <th>0</th>\n",
       "      <td>20-24 years</td>\n",
       "      <td>Government including social security funds</td>\n",
       "      <td>All forms of pay</td>\n",
       "      <td>Employee group total</td>\n",
       "      <td>EARNINGS IN DKK PER HOUR WORKED</td>\n",
       "      <td>Men and women, total</td>\n",
       "      <td>2013</td>\n",
       "      <td>185.38</td>\n",
       "    </tr>\n",
       "    <tr>\n",
       "      <th>1</th>\n",
       "      <td>20-24 years</td>\n",
       "      <td>Municipal and regional government total</td>\n",
       "      <td>All forms of pay</td>\n",
       "      <td>Employee group total</td>\n",
       "      <td>EARNINGS IN DKK PER HOUR WORKED</td>\n",
       "      <td>Men and women, total</td>\n",
       "      <td>2013</td>\n",
       "      <td>160.57</td>\n",
       "    </tr>\n",
       "    <tr>\n",
       "      <th>2</th>\n",
       "      <td>20-24 years</td>\n",
       "      <td>Corporations and organizations</td>\n",
       "      <td>All forms of pay</td>\n",
       "      <td>Employee group total</td>\n",
       "      <td>EARNINGS IN DKK PER HOUR WORKED</td>\n",
       "      <td>Men and women, total</td>\n",
       "      <td>2013</td>\n",
       "      <td>174.43</td>\n",
       "    </tr>\n",
       "    <tr>\n",
       "      <th>3</th>\n",
       "      <td>25-29 years</td>\n",
       "      <td>Government including social security funds</td>\n",
       "      <td>All forms of pay</td>\n",
       "      <td>Employee group total</td>\n",
       "      <td>EARNINGS IN DKK PER HOUR WORKED</td>\n",
       "      <td>Men and women, total</td>\n",
       "      <td>2013</td>\n",
       "      <td>242.88</td>\n",
       "    </tr>\n",
       "    <tr>\n",
       "      <th>4</th>\n",
       "      <td>25-29 years</td>\n",
       "      <td>Municipal and regional government total</td>\n",
       "      <td>All forms of pay</td>\n",
       "      <td>Employee group total</td>\n",
       "      <td>EARNINGS IN DKK PER HOUR WORKED</td>\n",
       "      <td>Men and women, total</td>\n",
       "      <td>2013</td>\n",
       "      <td>228.85</td>\n",
       "    </tr>\n",
       "  </tbody>\n",
       "</table>\n",
       "</div>"
      ],
      "text/plain": [
       "        ALDER1                                      SEKTOR            AFLOEN  \\\n",
       "0  20-24 years  Government including social security funds  All forms of pay   \n",
       "1  20-24 years     Municipal and regional government total  All forms of pay   \n",
       "2  20-24 years              Corporations and organizations  All forms of pay   \n",
       "3  25-29 years  Government including social security funds  All forms of pay   \n",
       "4  25-29 years     Municipal and regional government total  All forms of pay   \n",
       "\n",
       "                 LONGRP                           LØNMÅL  \\\n",
       "0  Employee group total  EARNINGS IN DKK PER HOUR WORKED   \n",
       "1  Employee group total  EARNINGS IN DKK PER HOUR WORKED   \n",
       "2  Employee group total  EARNINGS IN DKK PER HOUR WORKED   \n",
       "3  Employee group total  EARNINGS IN DKK PER HOUR WORKED   \n",
       "4  Employee group total  EARNINGS IN DKK PER HOUR WORKED   \n",
       "\n",
       "                    KØN   TID INDHOLD  \n",
       "0  Men and women, total  2013  185.38  \n",
       "1  Men and women, total  2013  160.57  \n",
       "2  Men and women, total  2013  174.43  \n",
       "3  Men and women, total  2013  242.88  \n",
       "4  Men and women, total  2013  228.85  "
      ]
     },
     "execution_count": 116,
     "metadata": {},
     "output_type": "execute_result"
    }
   ],
   "source": [
    "# To get an overview of the data we print some infomation and the top of the table showing the data.\n",
    "inc_api = ind.get_data(params=params)\n",
    "inc_api.info()\n",
    "inc_api.head()"
   ]
  },
  {
   "cell_type": "code",
   "execution_count": 117,
   "metadata": {},
   "outputs": [
    {
     "data": {
      "text/html": [
       "<div>\n",
       "<style scoped>\n",
       "    .dataframe tbody tr th:only-of-type {\n",
       "        vertical-align: middle;\n",
       "    }\n",
       "\n",
       "    .dataframe tbody tr th {\n",
       "        vertical-align: top;\n",
       "    }\n",
       "\n",
       "    .dataframe thead th {\n",
       "        text-align: right;\n",
       "    }\n",
       "</style>\n",
       "<table border=\"1\" class=\"dataframe\">\n",
       "  <thead>\n",
       "    <tr style=\"text-align: right;\">\n",
       "      <th></th>\n",
       "      <th>ALDER1</th>\n",
       "      <th>SEKTOR</th>\n",
       "      <th>AFLOEN</th>\n",
       "      <th>LONGRP</th>\n",
       "      <th>LØNMÅL</th>\n",
       "      <th>KØN</th>\n",
       "      <th>TID</th>\n",
       "      <th>INDHOLD</th>\n",
       "    </tr>\n",
       "  </thead>\n",
       "  <tbody>\n",
       "    <tr>\n",
       "      <th>2</th>\n",
       "      <td>20-24 years</td>\n",
       "      <td>Corporations and organizations</td>\n",
       "      <td>All forms of pay</td>\n",
       "      <td>Employee group total</td>\n",
       "      <td>EARNINGS IN DKK PER HOUR WORKED</td>\n",
       "      <td>Men and women, total</td>\n",
       "      <td>2013</td>\n",
       "      <td>174.43</td>\n",
       "    </tr>\n",
       "    <tr>\n",
       "      <th>0</th>\n",
       "      <td>20-24 years</td>\n",
       "      <td>Government including social security funds</td>\n",
       "      <td>All forms of pay</td>\n",
       "      <td>Employee group total</td>\n",
       "      <td>EARNINGS IN DKK PER HOUR WORKED</td>\n",
       "      <td>Men and women, total</td>\n",
       "      <td>2013</td>\n",
       "      <td>185.38</td>\n",
       "    </tr>\n",
       "    <tr>\n",
       "      <th>1</th>\n",
       "      <td>20-24 years</td>\n",
       "      <td>Municipal and regional government total</td>\n",
       "      <td>All forms of pay</td>\n",
       "      <td>Employee group total</td>\n",
       "      <td>EARNINGS IN DKK PER HOUR WORKED</td>\n",
       "      <td>Men and women, total</td>\n",
       "      <td>2013</td>\n",
       "      <td>160.57</td>\n",
       "    </tr>\n",
       "    <tr>\n",
       "      <th>29</th>\n",
       "      <td>20-24 years</td>\n",
       "      <td>Corporations and organizations</td>\n",
       "      <td>All forms of pay</td>\n",
       "      <td>Employee group total</td>\n",
       "      <td>EARNINGS IN DKK PER HOUR WORKED</td>\n",
       "      <td>Men and women, total</td>\n",
       "      <td>2014</td>\n",
       "      <td>177.54</td>\n",
       "    </tr>\n",
       "    <tr>\n",
       "      <th>27</th>\n",
       "      <td>20-24 years</td>\n",
       "      <td>Government including social security funds</td>\n",
       "      <td>All forms of pay</td>\n",
       "      <td>Employee group total</td>\n",
       "      <td>EARNINGS IN DKK PER HOUR WORKED</td>\n",
       "      <td>Men and women, total</td>\n",
       "      <td>2014</td>\n",
       "      <td>186.52</td>\n",
       "    </tr>\n",
       "  </tbody>\n",
       "</table>\n",
       "</div>"
      ],
      "text/plain": [
       "         ALDER1                                      SEKTOR            AFLOEN  \\\n",
       "2   20-24 years              Corporations and organizations  All forms of pay   \n",
       "0   20-24 years  Government including social security funds  All forms of pay   \n",
       "1   20-24 years     Municipal and regional government total  All forms of pay   \n",
       "29  20-24 years              Corporations and organizations  All forms of pay   \n",
       "27  20-24 years  Government including social security funds  All forms of pay   \n",
       "\n",
       "                  LONGRP                           LØNMÅL  \\\n",
       "2   Employee group total  EARNINGS IN DKK PER HOUR WORKED   \n",
       "0   Employee group total  EARNINGS IN DKK PER HOUR WORKED   \n",
       "1   Employee group total  EARNINGS IN DKK PER HOUR WORKED   \n",
       "29  Employee group total  EARNINGS IN DKK PER HOUR WORKED   \n",
       "27  Employee group total  EARNINGS IN DKK PER HOUR WORKED   \n",
       "\n",
       "                     KØN   TID INDHOLD  \n",
       "2   Men and women, total  2013  174.43  \n",
       "0   Men and women, total  2013  185.38  \n",
       "1   Men and women, total  2013  160.57  \n",
       "29  Men and women, total  2014  177.54  \n",
       "27  Men and women, total  2014  186.52  "
      ]
     },
     "execution_count": 117,
     "metadata": {},
     "output_type": "execute_result"
    }
   ],
   "source": [
    "# Next, we sort the data and again print the top of the table.\n",
    "inc_api.sort_values(by=['ALDER1', 'TID', 'SEKTOR'], inplace=True)\n",
    "inc_api.head(5)"
   ]
  },
  {
   "cell_type": "markdown",
   "metadata": {},
   "source": [
    "It seems that the \"INDHOLD\" column is currently stored as an object data type and the \"TID\" column is stored as an int64, so we will convert it to a float data type."
   ]
  },
  {
   "cell_type": "code",
   "execution_count": 118,
   "metadata": {},
   "outputs": [
    {
     "name": "stdout",
     "output_type": "stream",
     "text": [
      "float64\n"
     ]
    }
   ],
   "source": [
    "\n",
    "inc_api['INDHOLD'] = inc_api['INDHOLD'].astype(float)\n",
    "print(inc_api['INDHOLD'].dtype)"
   ]
  },
  {
   "cell_type": "code",
   "execution_count": 119,
   "metadata": {},
   "outputs": [
    {
     "name": "stdout",
     "output_type": "stream",
     "text": [
      "float64\n"
     ]
    }
   ],
   "source": [
    "inc_api['TID'] = inc_api['TID'].astype(float)\n",
    "print(inc_api['TID'].dtype)"
   ]
  },
  {
   "cell_type": "markdown",
   "metadata": {},
   "source": [
    "Importing the second data set about income where one of the variables is area in Denmark from DST through an API (we will refer to the data set as income-area). We will for this income-area data set go through the same methoed as we did for the income-age data set. "
   ]
  },
  {
   "cell_type": "code",
   "execution_count": 120,
   "metadata": {},
   "outputs": [],
   "source": [
    "ind1 = DstApi('LONS30') "
   ]
  },
  {
   "cell_type": "markdown",
   "metadata": {},
   "source": [
    "Getting a quick overview over the data"
   ]
  },
  {
   "cell_type": "code",
   "execution_count": 121,
   "metadata": {},
   "outputs": [
    {
     "name": "stdout",
     "output_type": "stream",
     "text": [
      "Table LONS30: Earnings by region, sector, salary, salary earners, components, sex and time\n",
      "Last update: 2023-11-29T08:00:00\n"
     ]
    },
    {
     "data": {
      "text/html": [
       "<div>\n",
       "<style scoped>\n",
       "    .dataframe tbody tr th:only-of-type {\n",
       "        vertical-align: middle;\n",
       "    }\n",
       "\n",
       "    .dataframe tbody tr th {\n",
       "        vertical-align: top;\n",
       "    }\n",
       "\n",
       "    .dataframe thead th {\n",
       "        text-align: right;\n",
       "    }\n",
       "</style>\n",
       "<table border=\"1\" class=\"dataframe\">\n",
       "  <thead>\n",
       "    <tr style=\"text-align: right;\">\n",
       "      <th></th>\n",
       "      <th>variable name</th>\n",
       "      <th># values</th>\n",
       "      <th>First value</th>\n",
       "      <th>First value label</th>\n",
       "      <th>Last value</th>\n",
       "      <th>Last value label</th>\n",
       "      <th>Time variable</th>\n",
       "    </tr>\n",
       "  </thead>\n",
       "  <tbody>\n",
       "    <tr>\n",
       "      <th>0</th>\n",
       "      <td>OMRÅDE</td>\n",
       "      <td>6</td>\n",
       "      <td>000</td>\n",
       "      <td>All Denmark</td>\n",
       "      <td>081</td>\n",
       "      <td>Region Nordjylland</td>\n",
       "      <td>False</td>\n",
       "    </tr>\n",
       "    <tr>\n",
       "      <th>1</th>\n",
       "      <td>SEKTOR</td>\n",
       "      <td>7</td>\n",
       "      <td>1000</td>\n",
       "      <td>All sectors</td>\n",
       "      <td>1046</td>\n",
       "      <td>Corporations and organizations</td>\n",
       "      <td>False</td>\n",
       "    </tr>\n",
       "    <tr>\n",
       "      <th>2</th>\n",
       "      <td>AFLOEN</td>\n",
       "      <td>3</td>\n",
       "      <td>TIFA</td>\n",
       "      <td>All forms of pay</td>\n",
       "      <td>FAST</td>\n",
       "      <td>Fixed salary-earners</td>\n",
       "      <td>False</td>\n",
       "    </tr>\n",
       "    <tr>\n",
       "      <th>3</th>\n",
       "      <td>LONGRP</td>\n",
       "      <td>6</td>\n",
       "      <td>LTOT</td>\n",
       "      <td>Employee group total</td>\n",
       "      <td>ELE</td>\n",
       "      <td>Trainees</td>\n",
       "      <td>False</td>\n",
       "    </tr>\n",
       "    <tr>\n",
       "      <th>4</th>\n",
       "      <td>LØNMÅL</td>\n",
       "      <td>25</td>\n",
       "      <td>FORINKL</td>\n",
       "      <td>EARNINGS IN DKK PER HOUR WORKED</td>\n",
       "      <td>ANTAL</td>\n",
       "      <td>Number of fulltime employees in the earnings s...</td>\n",
       "      <td>False</td>\n",
       "    </tr>\n",
       "    <tr>\n",
       "      <th>5</th>\n",
       "      <td>KØN</td>\n",
       "      <td>3</td>\n",
       "      <td>MOK</td>\n",
       "      <td>Men and women, total</td>\n",
       "      <td>K</td>\n",
       "      <td>Women</td>\n",
       "      <td>False</td>\n",
       "    </tr>\n",
       "    <tr>\n",
       "      <th>6</th>\n",
       "      <td>Tid</td>\n",
       "      <td>10</td>\n",
       "      <td>2013</td>\n",
       "      <td>2013</td>\n",
       "      <td>2022</td>\n",
       "      <td>2022</td>\n",
       "      <td>True</td>\n",
       "    </tr>\n",
       "  </tbody>\n",
       "</table>\n",
       "</div>"
      ],
      "text/plain": [
       "  variable name  # values First value                First value label  \\\n",
       "0        OMRÅDE         6         000                      All Denmark   \n",
       "1        SEKTOR         7        1000                      All sectors   \n",
       "2        AFLOEN         3        TIFA                 All forms of pay   \n",
       "3        LONGRP         6        LTOT             Employee group total   \n",
       "4        LØNMÅL        25     FORINKL  EARNINGS IN DKK PER HOUR WORKED   \n",
       "5           KØN         3         MOK             Men and women, total   \n",
       "6           Tid        10        2013                             2013   \n",
       "\n",
       "  Last value                                   Last value label  Time variable  \n",
       "0        081                                 Region Nordjylland          False  \n",
       "1       1046                     Corporations and organizations          False  \n",
       "2       FAST                               Fixed salary-earners          False  \n",
       "3        ELE                                           Trainees          False  \n",
       "4      ANTAL  Number of fulltime employees in the earnings s...          False  \n",
       "5          K                                              Women          False  \n",
       "6       2022                                               2022           True  "
      ]
     },
     "metadata": {},
     "output_type": "display_data"
    }
   ],
   "source": [
    "tabsum1 = ind1.tablesummary(language='en')\n",
    "display(tabsum1)"
   ]
  },
  {
   "cell_type": "code",
   "execution_count": 122,
   "metadata": {},
   "outputs": [
    {
     "name": "stdout",
     "output_type": "stream",
     "text": [
      "OMRÅDE:\n",
      "\n",
      "                Error: The table does not seem to contain the requested variable.\n",
      "                Check the spelling (variable names are case sensitive\n",
      "                )\n"
     ]
    },
    {
     "data": {
      "text/plain": [
       "IndexError('list index out of range')"
      ]
     },
     "metadata": {},
     "output_type": "display_data"
    },
    {
     "name": "stdout",
     "output_type": "stream",
     "text": [
      "SEKTOR:\n"
     ]
    },
    {
     "data": {
      "text/html": [
       "<div>\n",
       "<style scoped>\n",
       "    .dataframe tbody tr th:only-of-type {\n",
       "        vertical-align: middle;\n",
       "    }\n",
       "\n",
       "    .dataframe tbody tr th {\n",
       "        vertical-align: top;\n",
       "    }\n",
       "\n",
       "    .dataframe thead th {\n",
       "        text-align: right;\n",
       "    }\n",
       "</style>\n",
       "<table border=\"1\" class=\"dataframe\">\n",
       "  <thead>\n",
       "    <tr style=\"text-align: right;\">\n",
       "      <th></th>\n",
       "      <th>id</th>\n",
       "      <th>text</th>\n",
       "    </tr>\n",
       "  </thead>\n",
       "  <tbody>\n",
       "    <tr>\n",
       "      <th>0</th>\n",
       "      <td>1000</td>\n",
       "      <td>All sectors</td>\n",
       "    </tr>\n",
       "    <tr>\n",
       "      <th>1</th>\n",
       "      <td>1032</td>\n",
       "      <td>General government</td>\n",
       "    </tr>\n",
       "    <tr>\n",
       "      <th>2</th>\n",
       "      <td>1016</td>\n",
       "      <td>Government including social security funds</td>\n",
       "    </tr>\n",
       "    <tr>\n",
       "      <th>3</th>\n",
       "      <td>1018</td>\n",
       "      <td>Municipal and regional government total</td>\n",
       "    </tr>\n",
       "    <tr>\n",
       "      <th>4</th>\n",
       "      <td>1020</td>\n",
       "      <td>Regional government</td>\n",
       "    </tr>\n",
       "    <tr>\n",
       "      <th>5</th>\n",
       "      <td>1025</td>\n",
       "      <td>Municipal government</td>\n",
       "    </tr>\n",
       "    <tr>\n",
       "      <th>6</th>\n",
       "      <td>1046</td>\n",
       "      <td>Corporations and organizations</td>\n",
       "    </tr>\n",
       "  </tbody>\n",
       "</table>\n",
       "</div>"
      ],
      "text/plain": [
       "     id                                        text\n",
       "0  1000                                 All sectors\n",
       "1  1032                          General government\n",
       "2  1016  Government including social security funds\n",
       "3  1018     Municipal and regional government total\n",
       "4  1020                         Regional government\n",
       "5  1025                        Municipal government\n",
       "6  1046              Corporations and organizations"
      ]
     },
     "metadata": {},
     "output_type": "display_data"
    },
    {
     "name": "stdout",
     "output_type": "stream",
     "text": [
      "AFLOEN:\n"
     ]
    },
    {
     "data": {
      "text/html": [
       "<div>\n",
       "<style scoped>\n",
       "    .dataframe tbody tr th:only-of-type {\n",
       "        vertical-align: middle;\n",
       "    }\n",
       "\n",
       "    .dataframe tbody tr th {\n",
       "        vertical-align: top;\n",
       "    }\n",
       "\n",
       "    .dataframe thead th {\n",
       "        text-align: right;\n",
       "    }\n",
       "</style>\n",
       "<table border=\"1\" class=\"dataframe\">\n",
       "  <thead>\n",
       "    <tr style=\"text-align: right;\">\n",
       "      <th></th>\n",
       "      <th>id</th>\n",
       "      <th>text</th>\n",
       "    </tr>\n",
       "  </thead>\n",
       "  <tbody>\n",
       "    <tr>\n",
       "      <th>0</th>\n",
       "      <td>TIFA</td>\n",
       "      <td>All forms of pay</td>\n",
       "    </tr>\n",
       "    <tr>\n",
       "      <th>1</th>\n",
       "      <td>TIME</td>\n",
       "      <td>Workers paid by the hour</td>\n",
       "    </tr>\n",
       "    <tr>\n",
       "      <th>2</th>\n",
       "      <td>FAST</td>\n",
       "      <td>Fixed salary-earners</td>\n",
       "    </tr>\n",
       "  </tbody>\n",
       "</table>\n",
       "</div>"
      ],
      "text/plain": [
       "     id                      text\n",
       "0  TIFA          All forms of pay\n",
       "1  TIME  Workers paid by the hour\n",
       "2  FAST      Fixed salary-earners"
      ]
     },
     "metadata": {},
     "output_type": "display_data"
    },
    {
     "name": "stdout",
     "output_type": "stream",
     "text": [
      "LONGRP:\n"
     ]
    },
    {
     "data": {
      "text/html": [
       "<div>\n",
       "<style scoped>\n",
       "    .dataframe tbody tr th:only-of-type {\n",
       "        vertical-align: middle;\n",
       "    }\n",
       "\n",
       "    .dataframe tbody tr th {\n",
       "        vertical-align: top;\n",
       "    }\n",
       "\n",
       "    .dataframe thead th {\n",
       "        text-align: right;\n",
       "    }\n",
       "</style>\n",
       "<table border=\"1\" class=\"dataframe\">\n",
       "  <thead>\n",
       "    <tr style=\"text-align: right;\">\n",
       "      <th></th>\n",
       "      <th>id</th>\n",
       "      <th>text</th>\n",
       "    </tr>\n",
       "  </thead>\n",
       "  <tbody>\n",
       "    <tr>\n",
       "      <th>0</th>\n",
       "      <td>LTOT</td>\n",
       "      <td>Employee group total</td>\n",
       "    </tr>\n",
       "    <tr>\n",
       "      <th>1</th>\n",
       "      <td>LED</td>\n",
       "      <td>General managers</td>\n",
       "    </tr>\n",
       "    <tr>\n",
       "      <th>2</th>\n",
       "      <td>VOK</td>\n",
       "      <td>Employees (exclusiv young people and trainees)</td>\n",
       "    </tr>\n",
       "    <tr>\n",
       "      <th>3</th>\n",
       "      <td>MED</td>\n",
       "      <td>Employees, non-managerial level</td>\n",
       "    </tr>\n",
       "    <tr>\n",
       "      <th>4</th>\n",
       "      <td>UNG</td>\n",
       "      <td>Young people, 13-17 years</td>\n",
       "    </tr>\n",
       "    <tr>\n",
       "      <th>5</th>\n",
       "      <td>ELE</td>\n",
       "      <td>Trainees</td>\n",
       "    </tr>\n",
       "  </tbody>\n",
       "</table>\n",
       "</div>"
      ],
      "text/plain": [
       "     id                                            text\n",
       "0  LTOT                            Employee group total\n",
       "1   LED                                General managers\n",
       "2   VOK  Employees (exclusiv young people and trainees)\n",
       "3   MED                 Employees, non-managerial level\n",
       "4   UNG                       Young people, 13-17 years\n",
       "5   ELE                                        Trainees"
      ]
     },
     "metadata": {},
     "output_type": "display_data"
    },
    {
     "name": "stdout",
     "output_type": "stream",
     "text": [
      "LØNMÅL:\n"
     ]
    },
    {
     "data": {
      "text/html": [
       "<div>\n",
       "<style scoped>\n",
       "    .dataframe tbody tr th:only-of-type {\n",
       "        vertical-align: middle;\n",
       "    }\n",
       "\n",
       "    .dataframe tbody tr th {\n",
       "        vertical-align: top;\n",
       "    }\n",
       "\n",
       "    .dataframe thead th {\n",
       "        text-align: right;\n",
       "    }\n",
       "</style>\n",
       "<table border=\"1\" class=\"dataframe\">\n",
       "  <thead>\n",
       "    <tr style=\"text-align: right;\">\n",
       "      <th></th>\n",
       "      <th>id</th>\n",
       "      <th>text</th>\n",
       "    </tr>\n",
       "  </thead>\n",
       "  <tbody>\n",
       "    <tr>\n",
       "      <th>0</th>\n",
       "      <td>FORINKL</td>\n",
       "      <td>EARNINGS IN DKK PER HOUR WORKED</td>\n",
       "    </tr>\n",
       "    <tr>\n",
       "      <th>1</th>\n",
       "      <td>OVERB</td>\n",
       "      <td>Overtime payment in DKK per hour worked</td>\n",
       "    </tr>\n",
       "    <tr>\n",
       "      <th>2</th>\n",
       "      <td>SYGDOM</td>\n",
       "      <td>Sickness with pay, etc. in DKK per hour worked</td>\n",
       "    </tr>\n",
       "    <tr>\n",
       "      <th>3</th>\n",
       "      <td>GENE</td>\n",
       "      <td>Nuisance bonus in DKK per hour worked</td>\n",
       "    </tr>\n",
       "    <tr>\n",
       "      <th>4</th>\n",
       "      <td>GODE</td>\n",
       "      <td>Fringe benefits in DKK per hour worked</td>\n",
       "    </tr>\n",
       "    <tr>\n",
       "      <th>5</th>\n",
       "      <td>UREGEL</td>\n",
       "      <td>Irregular payments in DKK per hour worked</td>\n",
       "    </tr>\n",
       "    <tr>\n",
       "      <th>6</th>\n",
       "      <td>PENS</td>\n",
       "      <td>Pension including ATP in DKK per hour worked</td>\n",
       "    </tr>\n",
       "    <tr>\n",
       "      <th>7</th>\n",
       "      <td>BASIS</td>\n",
       "      <td>Basic earnings in DKK per hour worked</td>\n",
       "    </tr>\n",
       "    <tr>\n",
       "      <th>8</th>\n",
       "      <td>SFERIE</td>\n",
       "      <td>..Special holiday allowance in DKK per hour wo...</td>\n",
       "    </tr>\n",
       "    <tr>\n",
       "      <th>9</th>\n",
       "      <td>FERIE</td>\n",
       "      <td>..Holiday payments in DKK per hour worked</td>\n",
       "    </tr>\n",
       "    <tr>\n",
       "      <th>10</th>\n",
       "      <td>NEDRE</td>\n",
       "      <td>Lower quartile, earnings in DKK per hour worked</td>\n",
       "    </tr>\n",
       "    <tr>\n",
       "      <th>11</th>\n",
       "      <td>MEDIAN</td>\n",
       "      <td>Median, earnings in DKK per hour worked</td>\n",
       "    </tr>\n",
       "    <tr>\n",
       "      <th>12</th>\n",
       "      <td>OVRE</td>\n",
       "      <td>upper quartile, earnings in DKK per hour worked</td>\n",
       "    </tr>\n",
       "    <tr>\n",
       "      <th>13</th>\n",
       "      <td>STAND</td>\n",
       "      <td>STANDARDIZED HOURLY EARNINGS</td>\n",
       "    </tr>\n",
       "    <tr>\n",
       "      <th>14</th>\n",
       "      <td>GENEST</td>\n",
       "      <td>Nuisance bonus in DKK per standard hour</td>\n",
       "    </tr>\n",
       "    <tr>\n",
       "      <th>15</th>\n",
       "      <td>GODEST</td>\n",
       "      <td>Fringe benefits in DKK per standard hour</td>\n",
       "    </tr>\n",
       "    <tr>\n",
       "      <th>16</th>\n",
       "      <td>UREGELST</td>\n",
       "      <td>Irregular payment in DKK per standard hour</td>\n",
       "    </tr>\n",
       "    <tr>\n",
       "      <th>17</th>\n",
       "      <td>PENSST</td>\n",
       "      <td>Pension including ATP in DKK per standard hour</td>\n",
       "    </tr>\n",
       "    <tr>\n",
       "      <th>18</th>\n",
       "      <td>BASISST</td>\n",
       "      <td>Basic earnings in DKK per standard hour</td>\n",
       "    </tr>\n",
       "    <tr>\n",
       "      <th>19</th>\n",
       "      <td>SFERIEST</td>\n",
       "      <td>..Special holiday allowance in DKK per standar...</td>\n",
       "    </tr>\n",
       "    <tr>\n",
       "      <th>20</th>\n",
       "      <td>NEDREST</td>\n",
       "      <td>Lower quartile, standardized earnings</td>\n",
       "    </tr>\n",
       "    <tr>\n",
       "      <th>21</th>\n",
       "      <td>MEDIANST</td>\n",
       "      <td>Median, standardized hourly earnings</td>\n",
       "    </tr>\n",
       "    <tr>\n",
       "      <th>22</th>\n",
       "      <td>OVREST</td>\n",
       "      <td>Upper quartile, standardized hourly earnings</td>\n",
       "    </tr>\n",
       "    <tr>\n",
       "      <th>23</th>\n",
       "      <td>MDRSNIT</td>\n",
       "      <td>STANDARDIZED MONTHLY EARNINGS</td>\n",
       "    </tr>\n",
       "    <tr>\n",
       "      <th>24</th>\n",
       "      <td>ANTAL</td>\n",
       "      <td>Number of fulltime employees in the earnings s...</td>\n",
       "    </tr>\n",
       "  </tbody>\n",
       "</table>\n",
       "</div>"
      ],
      "text/plain": [
       "          id                                               text\n",
       "0    FORINKL                    EARNINGS IN DKK PER HOUR WORKED\n",
       "1      OVERB            Overtime payment in DKK per hour worked\n",
       "2     SYGDOM     Sickness with pay, etc. in DKK per hour worked\n",
       "3       GENE              Nuisance bonus in DKK per hour worked\n",
       "4       GODE             Fringe benefits in DKK per hour worked\n",
       "5     UREGEL          Irregular payments in DKK per hour worked\n",
       "6       PENS       Pension including ATP in DKK per hour worked\n",
       "7      BASIS              Basic earnings in DKK per hour worked\n",
       "8     SFERIE  ..Special holiday allowance in DKK per hour wo...\n",
       "9      FERIE          ..Holiday payments in DKK per hour worked\n",
       "10     NEDRE    Lower quartile, earnings in DKK per hour worked\n",
       "11    MEDIAN            Median, earnings in DKK per hour worked\n",
       "12      OVRE    upper quartile, earnings in DKK per hour worked\n",
       "13     STAND                       STANDARDIZED HOURLY EARNINGS\n",
       "14    GENEST            Nuisance bonus in DKK per standard hour\n",
       "15    GODEST           Fringe benefits in DKK per standard hour\n",
       "16  UREGELST         Irregular payment in DKK per standard hour\n",
       "17    PENSST     Pension including ATP in DKK per standard hour\n",
       "18   BASISST            Basic earnings in DKK per standard hour\n",
       "19  SFERIEST  ..Special holiday allowance in DKK per standar...\n",
       "20   NEDREST              Lower quartile, standardized earnings\n",
       "21  MEDIANST               Median, standardized hourly earnings\n",
       "22    OVREST       Upper quartile, standardized hourly earnings\n",
       "23   MDRSNIT                      STANDARDIZED MONTHLY EARNINGS\n",
       "24     ANTAL  Number of fulltime employees in the earnings s..."
      ]
     },
     "metadata": {},
     "output_type": "display_data"
    },
    {
     "name": "stdout",
     "output_type": "stream",
     "text": [
      "KØN:\n"
     ]
    },
    {
     "data": {
      "text/html": [
       "<div>\n",
       "<style scoped>\n",
       "    .dataframe tbody tr th:only-of-type {\n",
       "        vertical-align: middle;\n",
       "    }\n",
       "\n",
       "    .dataframe tbody tr th {\n",
       "        vertical-align: top;\n",
       "    }\n",
       "\n",
       "    .dataframe thead th {\n",
       "        text-align: right;\n",
       "    }\n",
       "</style>\n",
       "<table border=\"1\" class=\"dataframe\">\n",
       "  <thead>\n",
       "    <tr style=\"text-align: right;\">\n",
       "      <th></th>\n",
       "      <th>id</th>\n",
       "      <th>text</th>\n",
       "    </tr>\n",
       "  </thead>\n",
       "  <tbody>\n",
       "    <tr>\n",
       "      <th>0</th>\n",
       "      <td>MOK</td>\n",
       "      <td>Men and women, total</td>\n",
       "    </tr>\n",
       "    <tr>\n",
       "      <th>1</th>\n",
       "      <td>M</td>\n",
       "      <td>Men</td>\n",
       "    </tr>\n",
       "    <tr>\n",
       "      <th>2</th>\n",
       "      <td>K</td>\n",
       "      <td>Women</td>\n",
       "    </tr>\n",
       "  </tbody>\n",
       "</table>\n",
       "</div>"
      ],
      "text/plain": [
       "    id                  text\n",
       "0  MOK  Men and women, total\n",
       "1    M                   Men\n",
       "2    K                 Women"
      ]
     },
     "metadata": {},
     "output_type": "display_data"
    },
    {
     "name": "stdout",
     "output_type": "stream",
     "text": [
      "Tid:\n"
     ]
    },
    {
     "data": {
      "text/html": [
       "<div>\n",
       "<style scoped>\n",
       "    .dataframe tbody tr th:only-of-type {\n",
       "        vertical-align: middle;\n",
       "    }\n",
       "\n",
       "    .dataframe tbody tr th {\n",
       "        vertical-align: top;\n",
       "    }\n",
       "\n",
       "    .dataframe thead th {\n",
       "        text-align: right;\n",
       "    }\n",
       "</style>\n",
       "<table border=\"1\" class=\"dataframe\">\n",
       "  <thead>\n",
       "    <tr style=\"text-align: right;\">\n",
       "      <th></th>\n",
       "      <th>id</th>\n",
       "      <th>text</th>\n",
       "    </tr>\n",
       "  </thead>\n",
       "  <tbody>\n",
       "    <tr>\n",
       "      <th>0</th>\n",
       "      <td>2013</td>\n",
       "      <td>2013</td>\n",
       "    </tr>\n",
       "    <tr>\n",
       "      <th>1</th>\n",
       "      <td>2014</td>\n",
       "      <td>2014</td>\n",
       "    </tr>\n",
       "    <tr>\n",
       "      <th>2</th>\n",
       "      <td>2015</td>\n",
       "      <td>2015</td>\n",
       "    </tr>\n",
       "    <tr>\n",
       "      <th>3</th>\n",
       "      <td>2016</td>\n",
       "      <td>2016</td>\n",
       "    </tr>\n",
       "    <tr>\n",
       "      <th>4</th>\n",
       "      <td>2017</td>\n",
       "      <td>2017</td>\n",
       "    </tr>\n",
       "    <tr>\n",
       "      <th>5</th>\n",
       "      <td>2018</td>\n",
       "      <td>2018</td>\n",
       "    </tr>\n",
       "    <tr>\n",
       "      <th>6</th>\n",
       "      <td>2019</td>\n",
       "      <td>2019</td>\n",
       "    </tr>\n",
       "    <tr>\n",
       "      <th>7</th>\n",
       "      <td>2020</td>\n",
       "      <td>2020</td>\n",
       "    </tr>\n",
       "    <tr>\n",
       "      <th>8</th>\n",
       "      <td>2021</td>\n",
       "      <td>2021</td>\n",
       "    </tr>\n",
       "    <tr>\n",
       "      <th>9</th>\n",
       "      <td>2022</td>\n",
       "      <td>2022</td>\n",
       "    </tr>\n",
       "  </tbody>\n",
       "</table>\n",
       "</div>"
      ],
      "text/plain": [
       "     id  text\n",
       "0  2013  2013\n",
       "1  2014  2014\n",
       "2  2015  2015\n",
       "3  2016  2016\n",
       "4  2017  2017\n",
       "5  2018  2018\n",
       "6  2019  2019\n",
       "7  2020  2020\n",
       "8  2021  2021\n",
       "9  2022  2022"
      ]
     },
     "metadata": {},
     "output_type": "display_data"
    }
   ],
   "source": [
    "# Then we would like to see the available values for a each variable and their id: \n",
    "for variable in tabsum1['variable name']:\n",
    "  print(variable+':')\n",
    "  display(ind.variable_levels(variable, language='en'))"
   ]
  },
  {
   "cell_type": "code",
   "execution_count": 123,
   "metadata": {},
   "outputs": [
    {
     "data": {
      "text/plain": [
       "{'table': 'lons30',\n",
       " 'format': 'BULK',\n",
       " 'lang': 'en',\n",
       " 'variables': [{'code': 'OMRÅDE', 'values': ['*']},\n",
       "  {'code': 'SEKTOR', 'values': ['*']},\n",
       "  {'code': 'AFLOEN', 'values': ['*']},\n",
       "  {'code': 'LONGRP', 'values': ['*']},\n",
       "  {'code': 'LØNMÅL', 'values': ['*']},\n",
       "  {'code': 'KØN', 'values': ['*']},\n",
       "  {'code': 'Tid', 'values': ['*']}]}"
      ]
     },
     "execution_count": 123,
     "metadata": {},
     "output_type": "execute_result"
    }
   ],
   "source": [
    "# Then we use the define_base_params -method to give us a nice template (where from we can select available data).\n",
    "params1 = ind1._define_base_params(language='en')\n",
    "params1"
   ]
  },
  {
   "cell_type": "code",
   "execution_count": 124,
   "metadata": {},
   "outputs": [],
   "source": [
    "# Here we choose the data we want as our parameters \n",
    "params1 = {'table': 'lons30',\n",
    " 'format': 'BULK',\n",
    " 'lang': 'en',\n",
    " 'variables': [{'code': 'OMRÅDE', 'values': ['*']},\n",
    "  {'code': 'SEKTOR', 'values': ['1018', '1016', '1046']},\n",
    "  {'code': 'AFLOEN', 'values': ['TIFA']},\n",
    "  {'code': 'LONGRP', 'values': ['LTOT']},\n",
    "  {'code': 'LØNMÅL', 'values': ['FORINKL']},\n",
    "  {'code': 'KØN', 'values': ['MOK']},\n",
    "  {'code': 'Tid', 'values': ['*']}]}"
   ]
  },
  {
   "cell_type": "code",
   "execution_count": 125,
   "metadata": {},
   "outputs": [
    {
     "name": "stdout",
     "output_type": "stream",
     "text": [
      "<class 'pandas.core.frame.DataFrame'>\n",
      "RangeIndex: 180 entries, 0 to 179\n",
      "Data columns (total 8 columns):\n",
      " #   Column   Non-Null Count  Dtype \n",
      "---  ------   --------------  ----- \n",
      " 0   OMRÅDE   180 non-null    object\n",
      " 1   SEKTOR   180 non-null    object\n",
      " 2   AFLOEN   180 non-null    object\n",
      " 3   LONGRP   180 non-null    object\n",
      " 4   LØNMÅL   180 non-null    object\n",
      " 5   KØN      180 non-null    object\n",
      " 6   TID      180 non-null    int64 \n",
      " 7   INDHOLD  180 non-null    object\n",
      "dtypes: int64(1), object(7)\n",
      "memory usage: 11.4+ KB\n"
     ]
    },
    {
     "data": {
      "text/html": [
       "<div>\n",
       "<style scoped>\n",
       "    .dataframe tbody tr th:only-of-type {\n",
       "        vertical-align: middle;\n",
       "    }\n",
       "\n",
       "    .dataframe tbody tr th {\n",
       "        vertical-align: top;\n",
       "    }\n",
       "\n",
       "    .dataframe thead th {\n",
       "        text-align: right;\n",
       "    }\n",
       "</style>\n",
       "<table border=\"1\" class=\"dataframe\">\n",
       "  <thead>\n",
       "    <tr style=\"text-align: right;\">\n",
       "      <th></th>\n",
       "      <th>OMRÅDE</th>\n",
       "      <th>SEKTOR</th>\n",
       "      <th>AFLOEN</th>\n",
       "      <th>LONGRP</th>\n",
       "      <th>LØNMÅL</th>\n",
       "      <th>KØN</th>\n",
       "      <th>TID</th>\n",
       "      <th>INDHOLD</th>\n",
       "    </tr>\n",
       "  </thead>\n",
       "  <tbody>\n",
       "    <tr>\n",
       "      <th>0</th>\n",
       "      <td>Region Syddanmark</td>\n",
       "      <td>Government including social security funds</td>\n",
       "      <td>All forms of pay</td>\n",
       "      <td>Employee group total</td>\n",
       "      <td>EARNINGS IN DKK PER HOUR WORKED</td>\n",
       "      <td>Men and women, total</td>\n",
       "      <td>2013</td>\n",
       "      <td>294.24</td>\n",
       "    </tr>\n",
       "    <tr>\n",
       "      <th>1</th>\n",
       "      <td>All Denmark</td>\n",
       "      <td>Municipal and regional government total</td>\n",
       "      <td>All forms of pay</td>\n",
       "      <td>Employee group total</td>\n",
       "      <td>EARNINGS IN DKK PER HOUR WORKED</td>\n",
       "      <td>Men and women, total</td>\n",
       "      <td>2017</td>\n",
       "      <td>292.60</td>\n",
       "    </tr>\n",
       "    <tr>\n",
       "      <th>2</th>\n",
       "      <td>Region Sjælland</td>\n",
       "      <td>Corporations and organizations</td>\n",
       "      <td>All forms of pay</td>\n",
       "      <td>Employee group total</td>\n",
       "      <td>EARNINGS IN DKK PER HOUR WORKED</td>\n",
       "      <td>Men and women, total</td>\n",
       "      <td>2017</td>\n",
       "      <td>281.77</td>\n",
       "    </tr>\n",
       "    <tr>\n",
       "      <th>3</th>\n",
       "      <td>All Denmark</td>\n",
       "      <td>Corporations and organizations</td>\n",
       "      <td>All forms of pay</td>\n",
       "      <td>Employee group total</td>\n",
       "      <td>EARNINGS IN DKK PER HOUR WORKED</td>\n",
       "      <td>Men and women, total</td>\n",
       "      <td>2016</td>\n",
       "      <td>306.22</td>\n",
       "    </tr>\n",
       "    <tr>\n",
       "      <th>4</th>\n",
       "      <td>Region Midtjylland</td>\n",
       "      <td>Corporations and organizations</td>\n",
       "      <td>All forms of pay</td>\n",
       "      <td>Employee group total</td>\n",
       "      <td>EARNINGS IN DKK PER HOUR WORKED</td>\n",
       "      <td>Men and women, total</td>\n",
       "      <td>2016</td>\n",
       "      <td>288.56</td>\n",
       "    </tr>\n",
       "  </tbody>\n",
       "</table>\n",
       "</div>"
      ],
      "text/plain": [
       "               OMRÅDE                                      SEKTOR  \\\n",
       "0   Region Syddanmark  Government including social security funds   \n",
       "1         All Denmark     Municipal and regional government total   \n",
       "2     Region Sjælland              Corporations and organizations   \n",
       "3         All Denmark              Corporations and organizations   \n",
       "4  Region Midtjylland              Corporations and organizations   \n",
       "\n",
       "             AFLOEN                LONGRP                           LØNMÅL  \\\n",
       "0  All forms of pay  Employee group total  EARNINGS IN DKK PER HOUR WORKED   \n",
       "1  All forms of pay  Employee group total  EARNINGS IN DKK PER HOUR WORKED   \n",
       "2  All forms of pay  Employee group total  EARNINGS IN DKK PER HOUR WORKED   \n",
       "3  All forms of pay  Employee group total  EARNINGS IN DKK PER HOUR WORKED   \n",
       "4  All forms of pay  Employee group total  EARNINGS IN DKK PER HOUR WORKED   \n",
       "\n",
       "                    KØN   TID INDHOLD  \n",
       "0  Men and women, total  2013  294.24  \n",
       "1  Men and women, total  2017  292.60  \n",
       "2  Men and women, total  2017  281.77  \n",
       "3  Men and women, total  2016  306.22  \n",
       "4  Men and women, total  2016  288.56  "
      ]
     },
     "execution_count": 125,
     "metadata": {},
     "output_type": "execute_result"
    }
   ],
   "source": [
    "# To get an overview of the data we print some infomation and the top of the table showing the data.\n",
    "inc1_api = ind1.get_data(params=params1)\n",
    "inc1_api.info()\n",
    "inc1_api.head()"
   ]
  },
  {
   "cell_type": "code",
   "execution_count": 126,
   "metadata": {},
   "outputs": [
    {
     "data": {
      "text/html": [
       "<div>\n",
       "<style scoped>\n",
       "    .dataframe tbody tr th:only-of-type {\n",
       "        vertical-align: middle;\n",
       "    }\n",
       "\n",
       "    .dataframe tbody tr th {\n",
       "        vertical-align: top;\n",
       "    }\n",
       "\n",
       "    .dataframe thead th {\n",
       "        text-align: right;\n",
       "    }\n",
       "</style>\n",
       "<table border=\"1\" class=\"dataframe\">\n",
       "  <thead>\n",
       "    <tr style=\"text-align: right;\">\n",
       "      <th></th>\n",
       "      <th>OMRÅDE</th>\n",
       "      <th>SEKTOR</th>\n",
       "      <th>AFLOEN</th>\n",
       "      <th>LONGRP</th>\n",
       "      <th>LØNMÅL</th>\n",
       "      <th>KØN</th>\n",
       "      <th>TID</th>\n",
       "      <th>INDHOLD</th>\n",
       "    </tr>\n",
       "  </thead>\n",
       "  <tbody>\n",
       "    <tr>\n",
       "      <th>8</th>\n",
       "      <td>All Denmark</td>\n",
       "      <td>Corporations and organizations</td>\n",
       "      <td>All forms of pay</td>\n",
       "      <td>Employee group total</td>\n",
       "      <td>EARNINGS IN DKK PER HOUR WORKED</td>\n",
       "      <td>Men and women, total</td>\n",
       "      <td>2013</td>\n",
       "      <td>297.40</td>\n",
       "    </tr>\n",
       "    <tr>\n",
       "      <th>22</th>\n",
       "      <td>All Denmark</td>\n",
       "      <td>Government including social security funds</td>\n",
       "      <td>All forms of pay</td>\n",
       "      <td>Employee group total</td>\n",
       "      <td>EARNINGS IN DKK PER HOUR WORKED</td>\n",
       "      <td>Men and women, total</td>\n",
       "      <td>2013</td>\n",
       "      <td>309.14</td>\n",
       "    </tr>\n",
       "    <tr>\n",
       "      <th>46</th>\n",
       "      <td>All Denmark</td>\n",
       "      <td>Municipal and regional government total</td>\n",
       "      <td>All forms of pay</td>\n",
       "      <td>Employee group total</td>\n",
       "      <td>EARNINGS IN DKK PER HOUR WORKED</td>\n",
       "      <td>Men and women, total</td>\n",
       "      <td>2013</td>\n",
       "      <td>270.49</td>\n",
       "    </tr>\n",
       "    <tr>\n",
       "      <th>157</th>\n",
       "      <td>All Denmark</td>\n",
       "      <td>Corporations and organizations</td>\n",
       "      <td>All forms of pay</td>\n",
       "      <td>Employee group total</td>\n",
       "      <td>EARNINGS IN DKK PER HOUR WORKED</td>\n",
       "      <td>Men and women, total</td>\n",
       "      <td>2014</td>\n",
       "      <td>300.91</td>\n",
       "    </tr>\n",
       "    <tr>\n",
       "      <th>158</th>\n",
       "      <td>All Denmark</td>\n",
       "      <td>Government including social security funds</td>\n",
       "      <td>All forms of pay</td>\n",
       "      <td>Employee group total</td>\n",
       "      <td>EARNINGS IN DKK PER HOUR WORKED</td>\n",
       "      <td>Men and women, total</td>\n",
       "      <td>2014</td>\n",
       "      <td>313.27</td>\n",
       "    </tr>\n",
       "  </tbody>\n",
       "</table>\n",
       "</div>"
      ],
      "text/plain": [
       "          OMRÅDE                                      SEKTOR  \\\n",
       "8    All Denmark              Corporations and organizations   \n",
       "22   All Denmark  Government including social security funds   \n",
       "46   All Denmark     Municipal and regional government total   \n",
       "157  All Denmark              Corporations and organizations   \n",
       "158  All Denmark  Government including social security funds   \n",
       "\n",
       "               AFLOEN                LONGRP                           LØNMÅL  \\\n",
       "8    All forms of pay  Employee group total  EARNINGS IN DKK PER HOUR WORKED   \n",
       "22   All forms of pay  Employee group total  EARNINGS IN DKK PER HOUR WORKED   \n",
       "46   All forms of pay  Employee group total  EARNINGS IN DKK PER HOUR WORKED   \n",
       "157  All forms of pay  Employee group total  EARNINGS IN DKK PER HOUR WORKED   \n",
       "158  All forms of pay  Employee group total  EARNINGS IN DKK PER HOUR WORKED   \n",
       "\n",
       "                      KØN   TID INDHOLD  \n",
       "8    Men and women, total  2013  297.40  \n",
       "22   Men and women, total  2013  309.14  \n",
       "46   Men and women, total  2013  270.49  \n",
       "157  Men and women, total  2014  300.91  \n",
       "158  Men and women, total  2014  313.27  "
      ]
     },
     "execution_count": 126,
     "metadata": {},
     "output_type": "execute_result"
    }
   ],
   "source": [
    "# Next, we sort the data and again print the top of the table.\n",
    "inc1_api.sort_values(by=['OMRÅDE', 'TID', 'SEKTOR'], inplace=True)\n",
    "inc1_api.head(5)"
   ]
  },
  {
   "cell_type": "markdown",
   "metadata": {},
   "source": [
    "Importing the second data set about income where one of the variables is area in Denmark from DST through an API (we will refer to the data set as income-area). We will for this income-area data set go through the same methoed as we did for the income-age data set. "
   ]
  },
  {
   "cell_type": "code",
   "execution_count": 127,
   "metadata": {},
   "outputs": [
    {
     "name": "stdout",
     "output_type": "stream",
     "text": [
      "float64\n"
     ]
    }
   ],
   "source": [
    "inc1_api['INDHOLD'] = inc1_api['INDHOLD'].astype(float)\n",
    "print(inc1_api['INDHOLD'].dtype)"
   ]
  },
  {
   "cell_type": "code",
   "execution_count": 128,
   "metadata": {},
   "outputs": [
    {
     "name": "stdout",
     "output_type": "stream",
     "text": [
      "float64\n"
     ]
    }
   ],
   "source": [
    "inc1_api['TID'] = inc1_api['TID'].astype(float)\n",
    "print(inc1_api['TID'].dtype)"
   ]
  },
  {
   "cell_type": "markdown",
   "metadata": {},
   "source": [
    "# Cleaning the data sets"
   ]
  },
  {
   "cell_type": "code",
   "execution_count": 129,
   "metadata": {},
   "outputs": [
    {
     "data": {
      "text/html": [
       "<div>\n",
       "<style scoped>\n",
       "    .dataframe tbody tr th:only-of-type {\n",
       "        vertical-align: middle;\n",
       "    }\n",
       "\n",
       "    .dataframe tbody tr th {\n",
       "        vertical-align: top;\n",
       "    }\n",
       "\n",
       "    .dataframe thead th {\n",
       "        text-align: right;\n",
       "    }\n",
       "</style>\n",
       "<table border=\"1\" class=\"dataframe\">\n",
       "  <thead>\n",
       "    <tr style=\"text-align: right;\">\n",
       "      <th></th>\n",
       "      <th>ALDER1</th>\n",
       "      <th>SEKTOR</th>\n",
       "      <th>TID</th>\n",
       "      <th>INDHOLD</th>\n",
       "    </tr>\n",
       "  </thead>\n",
       "  <tbody>\n",
       "    <tr>\n",
       "      <th>2</th>\n",
       "      <td>20-24 years</td>\n",
       "      <td>Corporations and organizations</td>\n",
       "      <td>2013.0</td>\n",
       "      <td>174.43</td>\n",
       "    </tr>\n",
       "    <tr>\n",
       "      <th>0</th>\n",
       "      <td>20-24 years</td>\n",
       "      <td>Government including social security funds</td>\n",
       "      <td>2013.0</td>\n",
       "      <td>185.38</td>\n",
       "    </tr>\n",
       "    <tr>\n",
       "      <th>1</th>\n",
       "      <td>20-24 years</td>\n",
       "      <td>Municipal and regional government total</td>\n",
       "      <td>2013.0</td>\n",
       "      <td>160.57</td>\n",
       "    </tr>\n",
       "    <tr>\n",
       "      <th>29</th>\n",
       "      <td>20-24 years</td>\n",
       "      <td>Corporations and organizations</td>\n",
       "      <td>2014.0</td>\n",
       "      <td>177.54</td>\n",
       "    </tr>\n",
       "    <tr>\n",
       "      <th>27</th>\n",
       "      <td>20-24 years</td>\n",
       "      <td>Government including social security funds</td>\n",
       "      <td>2014.0</td>\n",
       "      <td>186.52</td>\n",
       "    </tr>\n",
       "    <tr>\n",
       "      <th>28</th>\n",
       "      <td>20-24 years</td>\n",
       "      <td>Municipal and regional government total</td>\n",
       "      <td>2014.0</td>\n",
       "      <td>165.41</td>\n",
       "    </tr>\n",
       "    <tr>\n",
       "      <th>56</th>\n",
       "      <td>20-24 years</td>\n",
       "      <td>Corporations and organizations</td>\n",
       "      <td>2015.0</td>\n",
       "      <td>180.73</td>\n",
       "    </tr>\n",
       "    <tr>\n",
       "      <th>54</th>\n",
       "      <td>20-24 years</td>\n",
       "      <td>Government including social security funds</td>\n",
       "      <td>2015.0</td>\n",
       "      <td>189.93</td>\n",
       "    </tr>\n",
       "    <tr>\n",
       "      <th>55</th>\n",
       "      <td>20-24 years</td>\n",
       "      <td>Municipal and regional government total</td>\n",
       "      <td>2015.0</td>\n",
       "      <td>168.73</td>\n",
       "    </tr>\n",
       "    <tr>\n",
       "      <th>83</th>\n",
       "      <td>20-24 years</td>\n",
       "      <td>Corporations and organizations</td>\n",
       "      <td>2016.0</td>\n",
       "      <td>182.76</td>\n",
       "    </tr>\n",
       "  </tbody>\n",
       "</table>\n",
       "</div>"
      ],
      "text/plain": [
       "         ALDER1                                      SEKTOR     TID  INDHOLD\n",
       "2   20-24 years              Corporations and organizations  2013.0   174.43\n",
       "0   20-24 years  Government including social security funds  2013.0   185.38\n",
       "1   20-24 years     Municipal and regional government total  2013.0   160.57\n",
       "29  20-24 years              Corporations and organizations  2014.0   177.54\n",
       "27  20-24 years  Government including social security funds  2014.0   186.52\n",
       "28  20-24 years     Municipal and regional government total  2014.0   165.41\n",
       "56  20-24 years              Corporations and organizations  2015.0   180.73\n",
       "54  20-24 years  Government including social security funds  2015.0   189.93\n",
       "55  20-24 years     Municipal and regional government total  2015.0   168.73\n",
       "83  20-24 years              Corporations and organizations  2016.0   182.76"
      ]
     },
     "execution_count": 129,
     "metadata": {},
     "output_type": "execute_result"
    }
   ],
   "source": [
    "#Dropping irrelevant variables from first data set\n",
    "Inc_age = inc_api.drop(['LONGRP', 'LØNMÅL', 'AFLOEN','KØN'],axis=1) # Drop irrelevant variables\n",
    "Inc_age.head(10)"
   ]
  },
  {
   "cell_type": "code",
   "execution_count": 130,
   "metadata": {},
   "outputs": [
    {
     "data": {
      "text/html": [
       "<div>\n",
       "<style scoped>\n",
       "    .dataframe tbody tr th:only-of-type {\n",
       "        vertical-align: middle;\n",
       "    }\n",
       "\n",
       "    .dataframe tbody tr th {\n",
       "        vertical-align: top;\n",
       "    }\n",
       "\n",
       "    .dataframe thead th {\n",
       "        text-align: right;\n",
       "    }\n",
       "</style>\n",
       "<table border=\"1\" class=\"dataframe\">\n",
       "  <thead>\n",
       "    <tr style=\"text-align: right;\">\n",
       "      <th></th>\n",
       "      <th>OMRÅDE</th>\n",
       "      <th>SEKTOR</th>\n",
       "      <th>TID</th>\n",
       "      <th>INDHOLD</th>\n",
       "    </tr>\n",
       "  </thead>\n",
       "  <tbody>\n",
       "    <tr>\n",
       "      <th>8</th>\n",
       "      <td>All Denmark</td>\n",
       "      <td>Corporations and organizations</td>\n",
       "      <td>2013.0</td>\n",
       "      <td>297.40</td>\n",
       "    </tr>\n",
       "    <tr>\n",
       "      <th>22</th>\n",
       "      <td>All Denmark</td>\n",
       "      <td>Government including social security funds</td>\n",
       "      <td>2013.0</td>\n",
       "      <td>309.14</td>\n",
       "    </tr>\n",
       "    <tr>\n",
       "      <th>46</th>\n",
       "      <td>All Denmark</td>\n",
       "      <td>Municipal and regional government total</td>\n",
       "      <td>2013.0</td>\n",
       "      <td>270.49</td>\n",
       "    </tr>\n",
       "    <tr>\n",
       "      <th>157</th>\n",
       "      <td>All Denmark</td>\n",
       "      <td>Corporations and organizations</td>\n",
       "      <td>2014.0</td>\n",
       "      <td>300.91</td>\n",
       "    </tr>\n",
       "    <tr>\n",
       "      <th>158</th>\n",
       "      <td>All Denmark</td>\n",
       "      <td>Government including social security funds</td>\n",
       "      <td>2014.0</td>\n",
       "      <td>313.27</td>\n",
       "    </tr>\n",
       "    <tr>\n",
       "      <th>148</th>\n",
       "      <td>All Denmark</td>\n",
       "      <td>Municipal and regional government total</td>\n",
       "      <td>2014.0</td>\n",
       "      <td>276.19</td>\n",
       "    </tr>\n",
       "    <tr>\n",
       "      <th>133</th>\n",
       "      <td>All Denmark</td>\n",
       "      <td>Corporations and organizations</td>\n",
       "      <td>2015.0</td>\n",
       "      <td>304.53</td>\n",
       "    </tr>\n",
       "    <tr>\n",
       "      <th>130</th>\n",
       "      <td>All Denmark</td>\n",
       "      <td>Government including social security funds</td>\n",
       "      <td>2015.0</td>\n",
       "      <td>315.47</td>\n",
       "    </tr>\n",
       "    <tr>\n",
       "      <th>154</th>\n",
       "      <td>All Denmark</td>\n",
       "      <td>Municipal and regional government total</td>\n",
       "      <td>2015.0</td>\n",
       "      <td>281.33</td>\n",
       "    </tr>\n",
       "    <tr>\n",
       "      <th>3</th>\n",
       "      <td>All Denmark</td>\n",
       "      <td>Corporations and organizations</td>\n",
       "      <td>2016.0</td>\n",
       "      <td>306.22</td>\n",
       "    </tr>\n",
       "  </tbody>\n",
       "</table>\n",
       "</div>"
      ],
      "text/plain": [
       "          OMRÅDE                                      SEKTOR     TID  INDHOLD\n",
       "8    All Denmark              Corporations and organizations  2013.0   297.40\n",
       "22   All Denmark  Government including social security funds  2013.0   309.14\n",
       "46   All Denmark     Municipal and regional government total  2013.0   270.49\n",
       "157  All Denmark              Corporations and organizations  2014.0   300.91\n",
       "158  All Denmark  Government including social security funds  2014.0   313.27\n",
       "148  All Denmark     Municipal and regional government total  2014.0   276.19\n",
       "133  All Denmark              Corporations and organizations  2015.0   304.53\n",
       "130  All Denmark  Government including social security funds  2015.0   315.47\n",
       "154  All Denmark     Municipal and regional government total  2015.0   281.33\n",
       "3    All Denmark              Corporations and organizations  2016.0   306.22"
      ]
     },
     "execution_count": 130,
     "metadata": {},
     "output_type": "execute_result"
    }
   ],
   "source": [
    "#Dropping irrelevant variables from second data set\n",
    "Inc_area = inc1_api.drop(['LONGRP', 'LØNMÅL', 'AFLOEN','KØN'],axis=1) # Drop irrelevant variables\n",
    "Inc_area.head(10)"
   ]
  },
  {
   "cell_type": "code",
   "execution_count": 131,
   "metadata": {},
   "outputs": [],
   "source": [
    "# Cleaning the data by removing duplicates.\n",
    "Inc_age_cleaned = Inc_age.dropna().drop_duplicates()\n",
    "Inc_area_cleaned = Inc_area.dropna().drop_duplicates()"
   ]
  },
  {
   "cell_type": "markdown",
   "metadata": {},
   "source": [
    "# Merge data sets"
   ]
  },
  {
   "cell_type": "code",
   "execution_count": 132,
   "metadata": {},
   "outputs": [
    {
     "name": "stdout",
     "output_type": "stream",
     "text": [
      "        ALDER1                          SEKTOR     TID  INDHOLD_age  \\\n",
      "0  20-24 years  Corporations and organizations  2013.0       174.43   \n",
      "1  20-24 years  Corporations and organizations  2013.0       174.43   \n",
      "2  20-24 years  Corporations and organizations  2013.0       174.43   \n",
      "3  20-24 years  Corporations and organizations  2013.0       174.43   \n",
      "4  20-24 years  Corporations and organizations  2013.0       174.43   \n",
      "\n",
      "               OMRÅDE  INDHOLD_area  \n",
      "0         All Denmark        297.40  \n",
      "1  Region Hovedstaden        333.24  \n",
      "2  Region Midtjylland        279.64  \n",
      "3  Region Nordjylland        263.39  \n",
      "4     Region Sjælland        269.16  \n"
     ]
    }
   ],
   "source": [
    "# Merge datasets on common 'TID' and 'SEKTOR' assuming 'SEKTOR' exists in both.\n",
    "# We are using an inner join here, meaning we only keep rows that match in both datasets.\n",
    "merged_df = pd.merge(Inc_age_cleaned, Inc_area_cleaned, on=['TID', 'SEKTOR'], suffixes=('_age', '_area'))\n",
    "\n",
    "# Check the merged data\n",
    "print(merged_df.head())"
   ]
  },
  {
   "cell_type": "markdown",
   "metadata": {},
   "source": [
    "# Analysis"
   ]
  },
  {
   "cell_type": "markdown",
   "metadata": {},
   "source": [
    "We start our analysis with a simpel overview over the income development in the years 2013-2022. The income has been increasing every year in the period."
   ]
  },
  {
   "cell_type": "code",
   "execution_count": 133,
   "metadata": {},
   "outputs": [
    {
     "data": {
      "image/png": "[encoded data removed]",
      "text/plain": [
       "<Figure size 1200x600 with 1 Axes>"
      ]
     },
     "metadata": {},
     "output_type": "display_data"
    }
   ],
   "source": [
    "# Group the data by year and calculate the average income for each year\n",
    "avg_income_by_year = merged_df.groupby('TID')['INDHOLD_age'].mean()\n",
    "\n",
    "# Import the custom plotting function\n",
    "from dataproject import plot_avg_income_over_years\n",
    "\n",
    "# Call the function to plot\n",
    "plot_avg_income_over_years(avg_income_by_year)"
   ]
  },
  {
   "cell_type": "markdown",
   "metadata": {},
   "source": [
    "Next, we show the development in the income for the different areas in Denmark for the same period. Here we see a much higher income in Region Hovedstaden than we see in the other areas."
   ]
  },
  {
   "cell_type": "code",
   "execution_count": 134,
   "metadata": {},
   "outputs": [
    {
     "data": {
      "image/png": "[encoded data removed]",
      "text/plain": [
       "<Figure size 1200x600 with 1 Axes>"
      ]
     },
     "metadata": {},
     "output_type": "display_data"
    }
   ],
   "source": [
    "# Import the custom plotting function\n",
    "from dataproject import plot_avg_income_by_year_area\n",
    "\n",
    "# Assuming 'merged_df' is defined\n",
    "# Call the function to plot\n",
    "plot_avg_income_by_year_area(merged_df, top_n_areas=6)"
   ]
  },
  {
   "cell_type": "code",
   "execution_count": 135,
   "metadata": {},
   "outputs": [
    {
     "name": "stdout",
     "output_type": "stream",
     "text": [
      "Most recent year in the dataset: 2022\n"
     ]
    }
   ],
   "source": [
    "# Find the most recent year in the merged dataset\n",
    "most_recent_year = int(merged_df['TID'].max())\n",
    "print(f\"Most recent year in the dataset: {most_recent_year}\")"
   ]
  },
  {
   "cell_type": "code",
   "execution_count": 136,
   "metadata": {},
   "outputs": [],
   "source": [
    "#For the code to the next figure we get FutureWarning which we want to ignore.\n",
    "warnings.filterwarnings('ignore', category=FutureWarning)"
   ]
  },
  {
   "cell_type": "markdown",
   "metadata": {},
   "source": [
    "For the last figure, we present two boxplots where the first one shows the income distribution by age for 2022 and the second shows the income distribution by area for 2022."
   ]
  },
  {
   "cell_type": "code",
   "execution_count": 137,
   "metadata": {},
   "outputs": [
    {
     "data": {
      "image/png": "[encoded data removed]",
      "text/plain": [
       "<Figure size 1800x1000 with 1 Axes>"
      ]
     },
     "metadata": {},
     "output_type": "display_data"
    },
    {
     "data": {
      "image/png": "[encoded data removed]",
      "text/plain": [
       "<Figure size 1800x1000 with 1 Axes>"
      ]
     },
     "metadata": {},
     "output_type": "display_data"
    }
   ],
   "source": [
    "# Import the custom plotting functions\n",
    "from dataproject import plot_income_distribution_by_age, plot_income_distribution_by_area\n",
    "\n",
    "# Define the most recent year\n",
    "most_recent_year = 2022  # Example year, replace with actual value\n",
    "\n",
    "# Call the functions to plot\n",
    "plot_income_distribution_by_age(merged_df, most_recent_year)\n",
    "plot_income_distribution_by_area(merged_df, most_recent_year)\n"
   ]
  },
  {
   "cell_type": "code",
   "execution_count": 138,
   "metadata": {},
   "outputs": [
    {
     "data": {
      "application/vnd.plotly.v1+json": {
       "config": {
        "plotlyServerURL": "https://plot.ly"
       },
       "data": [
        {
         "hovertemplate": "Sector=Corporations and organizations<br>Year=%{x}<br>Average Income=%{y}<extra></extra>",
         "legendgroup": "Corporations and organizations",
         "line": {
          "color": "#636efa",
          "dash": "solid"
         },
         "marker": {
          "symbol": "circle"
         },
         "mode": "lines",
         "name": "Corporations and organizations",
         "orientation": "v",
         "showlegend": true,
         "type": "scatter",
         "x": [
          2013,
          2014,
          2015,
          2016,
          2017,
          2018,
          2019,
          2020,
          2021,
          2022
         ],
         "xaxis": "x",
         "y": [
          290.10777777777776,
          293.7422222222222,
          297.68111111111114,
          301.2288888888889,
          308.8177777777778,
          318.9577777777778,
          325.4844444444444,
          330.94444444444446,
          337.5788888888889,
          349.4766666666667
         ],
         "yaxis": "y"
        },
        {
         "hovertemplate": "Sector=Government including social security funds<br>Year=%{x}<br>Average Income=%{y}<extra></extra>",
         "legendgroup": "Government including social security funds",
         "line": {
          "color": "#EF553B",
          "dash": "solid"
         },
         "marker": {
          "symbol": "circle"
         },
         "mode": "lines",
         "name": "Government including social security funds",
         "orientation": "v",
         "showlegend": true,
         "type": "scatter",
         "x": [
          2013,
          2014,
          2015,
          2016,
          2017,
          2018,
          2019,
          2020,
          2021,
          2022
         ],
         "xaxis": "x",
         "y": [
          295.0788888888889,
          298.37666666666667,
          301.52555555555557,
          304.9811111111111,
          310.2855555555556,
          321.2055555555555,
          329.09333333333336,
          333.83,
          338.15888888888884,
          353.3155555555556
         ],
         "yaxis": "y"
        },
        {
         "hovertemplate": "Sector=Municipal and regional government total<br>Year=%{x}<br>Average Income=%{y}<extra></extra>",
         "legendgroup": "Municipal and regional government total",
         "line": {
          "color": "#00cc96",
          "dash": "solid"
         },
         "marker": {
          "symbol": "circle"
         },
         "mode": "lines",
         "name": "Municipal and regional government total",
         "orientation": "v",
         "showlegend": true,
         "type": "scatter",
         "x": [
          2013,
          2014,
          2015,
          2016,
          2017,
          2018,
          2019,
          2020,
          2021,
          2022
         ],
         "xaxis": "x",
         "y": [
          261.03555555555556,
          266.60777777777776,
          271.49333333333334,
          276.51666666666665,
          282.57444444444445,
          286.7966666666667,
          291.90333333333336,
          303.04555555555555,
          307.50111111111113,
          320.3333333333333
         ],
         "yaxis": "y"
        }
       ],
       "layout": {
        "legend": {
         "title": {
          "text": "Sector"
         },
         "tracegroupgap": 0
        },
        "template": {
         "data": {
          "bar": [
           {
            "error_x": {
             "color": "#2a3f5f"
            },
            "error_y": {
             "color": "#2a3f5f"
            },
            "marker": {
             "line": {
              "color": "#E5ECF6",
              "width": 0.5
             },
             "pattern": {
              "fillmode": "overlay",
              "size": 10,
              "solidity": 0.2
             }
            },
            "type": "bar"
           }
          ],
          "barpolar": [
           {
            "marker": {
             "line": {
              "color": "#E5ECF6",
              "width": 0.5
             },
             "pattern": {
              "fillmode": "overlay",
              "size": 10,
              "solidity": 0.2
             }
            },
            "type": "barpolar"
           }
          ],
          "carpet": [
           {
            "aaxis": {
             "endlinecolor": "#2a3f5f",
             "gridcolor": "white",
             "linecolor": "white",
             "minorgridcolor": "white",
             "startlinecolor": "#2a3f5f"
            },
            "baxis": {
             "endlinecolor": "#2a3f5f",
             "gridcolor": "white",
             "linecolor": "white",
             "minorgridcolor": "white",
             "startlinecolor": "#2a3f5f"
            },
            "type": "carpet"
           }
          ],
          "choropleth": [
           {
            "colorbar": {
             "outlinewidth": 0,
             "ticks": ""
            },
            "type": "choropleth"
           }
          ],
          "contour": [
           {
            "colorbar": {
             "outlinewidth": 0,
             "ticks": ""
            },
            "colorscale": [
             [
              0,
              "#0d0887"
             ],
             [
              0.1111111111111111,
              "#46039f"
             ],
             [
              0.2222222222222222,
              "#7201a8"
             ],
             [
              0.3333333333333333,
              "#9c179e"
             ],
             [
              0.4444444444444444,
              "#bd3786"
             ],
             [
              0.5555555555555556,
              "#d8576b"
             ],
             [
              0.6666666666666666,
              "#ed7953"
             ],
             [
              0.7777777777777778,
              "#fb9f3a"
             ],
             [
              0.8888888888888888,
              "#fdca26"
             ],
             [
              1,
              "#f0f921"
             ]
            ],
            "type": "contour"
           }
          ],
          "contourcarpet": [
           {
            "colorbar": {
             "outlinewidth": 0,
             "ticks": ""
            },
            "type": "contourcarpet"
           }
          ],
          "heatmap": [
           {
            "colorbar": {
             "outlinewidth": 0,
             "ticks": ""
            },
            "colorscale": [
             [
              0,
              "#0d0887"
             ],
             [
              0.1111111111111111,
              "#46039f"
             ],
             [
              0.2222222222222222,
              "#7201a8"
             ],
             [
              0.3333333333333333,
              "#9c179e"
             ],
             [
              0.4444444444444444,
              "#bd3786"
             ],
             [
              0.5555555555555556,
              "#d8576b"
             ],
             [
              0.6666666666666666,
              "#ed7953"
             ],
             [
              0.7777777777777778,
              "#fb9f3a"
             ],
             [
              0.8888888888888888,
              "#fdca26"
             ],
             [
              1,
              "#f0f921"
             ]
            ],
            "type": "heatmap"
           }
          ],
          "heatmapgl": [
           {
            "colorbar": {
             "outlinewidth": 0,
             "ticks": ""
            },
            "colorscale": [
             [
              0,
              "#0d0887"
             ],
             [
              0.1111111111111111,
              "#46039f"
             ],
             [
              0.2222222222222222,
              "#7201a8"
             ],
             [
              0.3333333333333333,
              "#9c179e"
             ],
             [
              0.4444444444444444,
              "#bd3786"
             ],
             [
              0.5555555555555556,
              "#d8576b"
             ],
             [
              0.6666666666666666,
              "#ed7953"
             ],
             [
              0.7777777777777778,
              "#fb9f3a"
             ],
             [
              0.8888888888888888,
              "#fdca26"
             ],
             [
              1,
              "#f0f921"
             ]
            ],
            "type": "heatmapgl"
           }
          ],
          "histogram": [
           {
            "marker": {
             "pattern": {
              "fillmode": "overlay",
              "size": 10,
              "solidity": 0.2
             }
            },
            "type": "histogram"
           }
          ],
          "histogram2d": [
           {
            "colorbar": {
             "outlinewidth": 0,
             "ticks": ""
            },
            "colorscale": [
             [
              0,
              "#0d0887"
             ],
             [
              0.1111111111111111,
              "#46039f"
             ],
             [
              0.2222222222222222,
              "#7201a8"
             ],
             [
              0.3333333333333333,
              "#9c179e"
             ],
             [
              0.4444444444444444,
              "#bd3786"
             ],
             [
              0.5555555555555556,
              "#d8576b"
             ],
             [
              0.6666666666666666,
              "#ed7953"
             ],
             [
              0.7777777777777778,
              "#fb9f3a"
             ],
             [
              0.8888888888888888,
              "#fdca26"
             ],
             [
              1,
              "#f0f921"
             ]
            ],
            "type": "histogram2d"
           }
          ],
          "histogram2dcontour": [
           {
            "colorbar": {
             "outlinewidth": 0,
             "ticks": ""
            },
            "colorscale": [
             [
              0,
              "#0d0887"
             ],
             [
              0.1111111111111111,
              "#46039f"
             ],
             [
              0.2222222222222222,
              "#7201a8"
             ],
             [
              0.3333333333333333,
              "#9c179e"
             ],
             [
              0.4444444444444444,
              "#bd3786"
             ],
             [
              0.5555555555555556,
              "#d8576b"
             ],
             [
              0.6666666666666666,
              "#ed7953"
             ],
             [
              0.7777777777777778,
              "#fb9f3a"
             ],
             [
              0.8888888888888888,
              "#fdca26"
             ],
             [
              1,
              "#f0f921"
             ]
            ],
            "type": "histogram2dcontour"
           }
          ],
          "mesh3d": [
           {
            "colorbar": {
             "outlinewidth": 0,
             "ticks": ""
            },
            "type": "mesh3d"
           }
          ],
          "parcoords": [
           {
            "line": {
             "colorbar": {
              "outlinewidth": 0,
              "ticks": ""
             }
            },
            "type": "parcoords"
           }
          ],
          "pie": [
           {
            "automargin": true,
            "type": "pie"
           }
          ],
          "scatter": [
           {
            "fillpattern": {
             "fillmode": "overlay",
             "size": 10,
             "solidity": 0.2
            },
            "type": "scatter"
           }
          ],
          "scatter3d": [
           {
            "line": {
             "colorbar": {
              "outlinewidth": 0,
              "ticks": ""
             }
            },
            "marker": {
             "colorbar": {
              "outlinewidth": 0,
              "ticks": ""
             }
            },
            "type": "scatter3d"
           }
          ],
          "scattercarpet": [
           {
            "marker": {
             "colorbar": {
              "outlinewidth": 0,
              "ticks": ""
             }
            },
            "type": "scattercarpet"
           }
          ],
          "scattergeo": [
           {
            "marker": {
             "colorbar": {
              "outlinewidth": 0,
              "ticks": ""
             }
            },
            "type": "scattergeo"
           }
          ],
          "scattergl": [
           {
            "marker": {
             "colorbar": {
              "outlinewidth": 0,
              "ticks": ""
             }
            },
            "type": "scattergl"
           }
          ],
          "scattermapbox": [
           {
            "marker": {
             "colorbar": {
              "outlinewidth": 0,
              "ticks": ""
             }
            },
            "type": "scattermapbox"
           }
          ],
          "scatterpolar": [
           {
            "marker": {
             "colorbar": {
              "outlinewidth": 0,
              "ticks": ""
             }
            },
            "type": "scatterpolar"
           }
          ],
          "scatterpolargl": [
           {
            "marker": {
             "colorbar": {
              "outlinewidth": 0,
              "ticks": ""
             }
            },
            "type": "scatterpolargl"
           }
          ],
          "scatterternary": [
           {
            "marker": {
             "colorbar": {
              "outlinewidth": 0,
              "ticks": ""
             }
            },
            "type": "scatterternary"
           }
          ],
          "surface": [
           {
            "colorbar": {
             "outlinewidth": 0,
             "ticks": ""
            },
            "colorscale": [
             [
              0,
              "#0d0887"
             ],
             [
              0.1111111111111111,
              "#46039f"
             ],
             [
              0.2222222222222222,
              "#7201a8"
             ],
             [
              0.3333333333333333,
              "#9c179e"
             ],
             [
              0.4444444444444444,
              "#bd3786"
             ],
             [
              0.5555555555555556,
              "#d8576b"
             ],
             [
              0.6666666666666666,
              "#ed7953"
             ],
             [
              0.7777777777777778,
              "#fb9f3a"
             ],
             [
              0.8888888888888888,
              "#fdca26"
             ],
             [
              1,
              "#f0f921"
             ]
            ],
            "type": "surface"
           }
          ],
          "table": [
           {
            "cells": {
             "fill": {
              "color": "#EBF0F8"
             },
             "line": {
              "color": "white"
             }
            },
            "header": {
             "fill": {
              "color": "#C8D4E3"
             },
             "line": {
              "color": "white"
             }
            },
            "type": "table"
           }
          ]
         },
         "layout": {
          "annotationdefaults": {
           "arrowcolor": "#2a3f5f",
           "arrowhead": 0,
           "arrowwidth": 1
          },
          "autotypenumbers": "strict",
          "coloraxis": {
           "colorbar": {
            "outlinewidth": 0,
            "ticks": ""
           }
          },
          "colorscale": {
           "diverging": [
            [
             0,
             "#8e0152"
            ],
            [
             0.1,
             "#c51b7d"
            ],
            [
             0.2,
             "#de77ae"
            ],
            [
             0.3,
             "#f1b6da"
            ],
            [
             0.4,
             "#fde0ef"
            ],
            [
             0.5,
             "#f7f7f7"
            ],
            [
             0.6,
             "#e6f5d0"
            ],
            [
             0.7,
             "#b8e186"
            ],
            [
             0.8,
             "#7fbc41"
            ],
            [
             0.9,
             "#4d9221"
            ],
            [
             1,
             "#276419"
            ]
           ],
           "sequential": [
            [
             0,
             "#0d0887"
            ],
            [
             0.1111111111111111,
             "#46039f"
            ],
            [
             0.2222222222222222,
             "#7201a8"
            ],
            [
             0.3333333333333333,
             "#9c179e"
            ],
            [
             0.4444444444444444,
             "#bd3786"
            ],
            [
             0.5555555555555556,
             "#d8576b"
            ],
            [
             0.6666666666666666,
             "#ed7953"
            ],
            [
             0.7777777777777778,
             "#fb9f3a"
            ],
            [
             0.8888888888888888,
             "#fdca26"
            ],
            [
             1,
             "#f0f921"
            ]
           ],
           "sequentialminus": [
            [
             0,
             "#0d0887"
            ],
            [
             0.1111111111111111,
             "#46039f"
            ],
            [
             0.2222222222222222,
             "#7201a8"
            ],
            [
             0.3333333333333333,
             "#9c179e"
            ],
            [
             0.4444444444444444,
             "#bd3786"
            ],
            [
             0.5555555555555556,
             "#d8576b"
            ],
            [
             0.6666666666666666,
             "#ed7953"
            ],
            [
             0.7777777777777778,
             "#fb9f3a"
            ],
            [
             0.8888888888888888,
             "#fdca26"
            ],
            [
             1,
             "#f0f921"
            ]
           ]
          },
          "colorway": [
           "#636efa",
           "#EF553B",
           "#00cc96",
           "#ab63fa",
           "#FFA15A",
           "#19d3f3",
           "#FF6692",
           "#B6E880",
           "#FF97FF",
           "#FECB52"
          ],
          "font": {
           "color": "#2a3f5f"
          },
          "geo": {
           "bgcolor": "white",
           "lakecolor": "white",
           "landcolor": "#E5ECF6",
           "showlakes": true,
           "showland": true,
           "subunitcolor": "white"
          },
          "hoverlabel": {
           "align": "left"
          },
          "hovermode": "closest",
          "mapbox": {
           "style": "light"
          },
          "paper_bgcolor": "white",
          "plot_bgcolor": "#E5ECF6",
          "polar": {
           "angularaxis": {
            "gridcolor": "white",
            "linecolor": "white",
            "ticks": ""
           },
           "bgcolor": "#E5ECF6",
           "radialaxis": {
            "gridcolor": "white",
            "linecolor": "white",
            "ticks": ""
           }
          },
          "scene": {
           "xaxis": {
            "backgroundcolor": "#E5ECF6",
            "gridcolor": "white",
            "gridwidth": 2,
            "linecolor": "white",
            "showbackground": true,
            "ticks": "",
            "zerolinecolor": "white"
           },
           "yaxis": {
            "backgroundcolor": "#E5ECF6",
            "gridcolor": "white",
            "gridwidth": 2,
            "linecolor": "white",
            "showbackground": true,
            "ticks": "",
            "zerolinecolor": "white"
           },
           "zaxis": {
            "backgroundcolor": "#E5ECF6",
            "gridcolor": "white",
            "gridwidth": 2,
            "linecolor": "white",
            "showbackground": true,
            "ticks": "",
            "zerolinecolor": "white"
           }
          },
          "shapedefaults": {
           "line": {
            "color": "#2a3f5f"
           }
          },
          "ternary": {
           "aaxis": {
            "gridcolor": "white",
            "linecolor": "white",
            "ticks": ""
           },
           "baxis": {
            "gridcolor": "white",
            "linecolor": "white",
            "ticks": ""
           },
           "bgcolor": "#E5ECF6",
           "caxis": {
            "gridcolor": "white",
            "linecolor": "white",
            "ticks": ""
           }
          },
          "title": {
           "x": 0.05
          },
          "xaxis": {
           "automargin": true,
           "gridcolor": "white",
           "linecolor": "white",
           "ticks": "",
           "title": {
            "standoff": 15
           },
           "zerolinecolor": "white",
           "zerolinewidth": 2
          },
          "yaxis": {
           "automargin": true,
           "gridcolor": "white",
           "linecolor": "white",
           "ticks": "",
           "title": {
            "standoff": 15
           },
           "zerolinecolor": "white",
           "zerolinewidth": 2
          }
         }
        },
        "title": {
         "text": "Average Income Over Time by Sector"
        },
        "xaxis": {
         "anchor": "y",
         "domain": [
          0,
          1
         ],
         "title": {
          "text": "Year"
         }
        },
        "yaxis": {
         "anchor": "x",
         "domain": [
          0,
          1
         ],
         "title": {
          "text": "Average Income"
         }
        }
       }
      }
     },
     "metadata": {},
     "output_type": "display_data"
    }
   ],
   "source": [
    "# Merge datasets on common 'TID' and 'SEKTOR'\n",
    "merged_df = pd.merge(Inc_age_cleaned, Inc_area_cleaned, on=['TID', 'SEKTOR'], suffixes=('_age', '_area'))\n",
    "\n",
    "# Calculate the average income for each sector and year\n",
    "avg_income_by_sector = merged_df.groupby(['TID', 'SEKTOR'])['INDHOLD_age'].mean().reset_index()\n",
    "\n",
    "# Create an interactive line chart with Plotly\n",
    "fig = px.line(avg_income_by_sector, x='TID', y='INDHOLD_age', color='SEKTOR', \n",
    "              labels={'TID': 'Year', 'INDHOLD_age': 'Average Income', 'SEKTOR': 'Sector'},\n",
    "              title='Average Income Over Time by Sector')\n",
    "\n",
    "# Show the plot\n",
    "fig.show()"
   ]
  },
  {
   "cell_type": "code",
   "execution_count": 141,
   "metadata": {},
   "outputs": [
    {
     "data": {
      "application/vnd.plotly.v1+json": {
       "config": {
        "plotlyServerURL": "https://plot.ly"
       },
       "data": [
        {
         "hovertemplate": "Sector=Corporations and organizations<br>Area=All Denmark<br>Year=%{x}<br>Average Income=%{y}<extra></extra>",
         "legendgroup": "Corporations and organizations, All Denmark",
         "line": {
          "color": "#636efa",
          "dash": "solid"
         },
         "marker": {
          "symbol": "circle"
         },
         "mode": "lines",
         "name": "Corporations and organizations, All Denmark",
         "orientation": "v",
         "showlegend": true,
         "type": "scatter",
         "x": [
          2013,
          2014,
          2015,
          2016,
          2017,
          2018,
          2019,
          2020,
          2021,
          2022
         ],
         "xaxis": "x",
         "y": [
          297.4,
          300.91,
          304.53,
          306.22,
          313.14,
          323.24,
          329.55,
          334.97,
          341.04,
          351.39
         ],
         "yaxis": "y"
        },
        {
         "hovertemplate": "Sector=Corporations and organizations<br>Area=Region Hovedstaden<br>Year=%{x}<br>Average Income=%{y}<extra></extra>",
         "legendgroup": "Corporations and organizations, Region Hovedstaden",
         "line": {
          "color": "#636efa",
          "dash": "dot"
         },
         "marker": {
          "symbol": "circle"
         },
         "mode": "lines",
         "name": "Corporations and organizations, Region Hovedstaden",
         "orientation": "v",
         "showlegend": true,
         "type": "scatter",
         "x": [
          2013,
          2014,
          2015,
          2016,
          2017,
          2018,
          2019,
          2020,
          2021,
          2022
         ],
         "xaxis": "x",
         "y": [
          333.24,
          336.58,
          339.62,
          341.68,
          350.78,
          362.17,
          369.16,
          376.21,
          381.1,
          390.32
         ],
         "yaxis": "y"
        },
        {
         "hovertemplate": "Sector=Corporations and organizations<br>Area=Region Midtjylland<br>Year=%{x}<br>Average Income=%{y}<extra></extra>",
         "legendgroup": "Corporations and organizations, Region Midtjylland",
         "line": {
          "color": "#636efa",
          "dash": "dash"
         },
         "marker": {
          "symbol": "circle"
         },
         "mode": "lines",
         "name": "Corporations and organizations, Region Midtjylland",
         "orientation": "v",
         "showlegend": true,
         "type": "scatter",
         "x": [
          2013,
          2014,
          2015,
          2016,
          2017,
          2018,
          2019,
          2020,
          2021,
          2022
         ],
         "xaxis": "x",
         "y": [
          279.64,
          283.22,
          285.67,
          288.56,
          295.46,
          304.49,
          309.84,
          313.97,
          319.8,
          332.36
         ],
         "yaxis": "y"
        },
        {
         "hovertemplate": "Sector=Corporations and organizations<br>Area=Region Nordjylland<br>Year=%{x}<br>Average Income=%{y}<extra></extra>",
         "legendgroup": "Corporations and organizations, Region Nordjylland",
         "line": {
          "color": "#636efa",
          "dash": "longdash"
         },
         "marker": {
          "symbol": "circle"
         },
         "mode": "lines",
         "name": "Corporations and organizations, Region Nordjylland",
         "orientation": "v",
         "showlegend": true,
         "type": "scatter",
         "x": [
          2013,
          2014,
          2015,
          2016,
          2017,
          2018,
          2019,
          2020,
          2021,
          2022
         ],
         "xaxis": "x",
         "y": [
          263.39,
          268.58,
          274.26,
          276.29,
          282.24,
          289.19,
          294.8,
          298.83,
          303.63,
          313.39
         ],
         "yaxis": "y"
        },
        {
         "hovertemplate": "Sector=Corporations and organizations<br>Area=Region Sjælland<br>Year=%{x}<br>Average Income=%{y}<extra></extra>",
         "legendgroup": "Corporations and organizations, Region Sjælland",
         "line": {
          "color": "#636efa",
          "dash": "dashdot"
         },
         "marker": {
          "symbol": "circle"
         },
         "mode": "lines",
         "name": "Corporations and organizations, Region Sjælland",
         "orientation": "v",
         "showlegend": true,
         "type": "scatter",
         "x": [
          2013,
          2014,
          2015,
          2016,
          2017,
          2018,
          2019,
          2020,
          2021,
          2022
         ],
         "xaxis": "x",
         "y": [
          269.16,
          270.44,
          274.87,
          275.56,
          281.77,
          290.96,
          296.29,
          300.81,
          308.81,
          319.22
         ],
         "yaxis": "y"
        },
        {
         "hovertemplate": "Sector=Corporations and organizations<br>Area=Region Syddanmark<br>Year=%{x}<br>Average Income=%{y}<extra></extra>",
         "legendgroup": "Corporations and organizations, Region Syddanmark",
         "line": {
          "color": "#636efa",
          "dash": "longdashdot"
         },
         "marker": {
          "symbol": "circle"
         },
         "mode": "lines",
         "name": "Corporations and organizations, Region Syddanmark",
         "orientation": "v",
         "showlegend": true,
         "type": "scatter",
         "x": [
          2013,
          2014,
          2015,
          2016,
          2017,
          2018,
          2019,
          2020,
          2021,
          2022
         ],
         "xaxis": "x",
         "y": [
          274.68,
          276.87,
          281.69,
          283.01,
          288.16,
          298.25,
          305.57,
          311.05,
          318.13,
          327.9
         ],
         "yaxis": "y"
        },
        {
         "hovertemplate": "Sector=Government including social security funds<br>Area=All Denmark<br>Year=%{x}<br>Average Income=%{y}<extra></extra>",
         "legendgroup": "Government including social security funds, All Denmark",
         "line": {
          "color": "#EF553B",
          "dash": "solid"
         },
         "marker": {
          "symbol": "circle"
         },
         "mode": "lines",
         "name": "Government including social security funds, All Denmark",
         "orientation": "v",
         "showlegend": true,
         "type": "scatter",
         "x": [
          2013,
          2014,
          2015,
          2016,
          2017,
          2018,
          2019,
          2020,
          2021,
          2022
         ],
         "xaxis": "x",
         "y": [
          309.14,
          313.27,
          315.47,
          319.2,
          324.17,
          334.99,
          342.77,
          347.19,
          351.25,
          368.09
         ],
         "yaxis": "y"
        },
        {
         "hovertemplate": "Sector=Government including social security funds<br>Area=Region Hovedstaden<br>Year=%{x}<br>Average Income=%{y}<extra></extra>",
         "legendgroup": "Government including social security funds, Region Hovedstaden",
         "line": {
          "color": "#EF553B",
          "dash": "dot"
         },
         "marker": {
          "symbol": "circle"
         },
         "mode": "lines",
         "name": "Government including social security funds, Region Hovedstaden",
         "orientation": "v",
         "showlegend": true,
         "type": "scatter",
         "x": [
          2013,
          2014,
          2015,
          2016,
          2017,
          2018,
          2019,
          2020,
          2021,
          2022
         ],
         "xaxis": "x",
         "y": [
          323.66,
          326.31,
          328.58,
          332.61,
          338.64,
          351.2,
          359.9,
          364.47,
          369.7,
          387.09
         ],
         "yaxis": "y"
        },
        {
         "hovertemplate": "Sector=Government including social security funds<br>Area=Region Midtjylland<br>Year=%{x}<br>Average Income=%{y}<extra></extra>",
         "legendgroup": "Government including social security funds, Region Midtjylland",
         "line": {
          "color": "#EF553B",
          "dash": "dash"
         },
         "marker": {
          "symbol": "circle"
         },
         "mode": "lines",
         "name": "Government including social security funds, Region Midtjylland",
         "orientation": "v",
         "showlegend": true,
         "type": "scatter",
         "x": [
          2013,
          2014,
          2015,
          2016,
          2017,
          2018,
          2019,
          2020,
          2021,
          2022
         ],
         "xaxis": "x",
         "y": [
          302.37,
          305.72,
          306.99,
          309.89,
          313.79,
          323.55,
          330.09,
          335.96,
          338.93,
          356.05
         ],
         "yaxis": "y"
        },
        {
         "hovertemplate": "Sector=Government including social security funds<br>Area=Region Nordjylland<br>Year=%{x}<br>Average Income=%{y}<extra></extra>",
         "legendgroup": "Government including social security funds, Region Nordjylland",
         "line": {
          "color": "#EF553B",
          "dash": "longdash"
         },
         "marker": {
          "symbol": "circle"
         },
         "mode": "lines",
         "name": "Government including social security funds, Region Nordjylland",
         "orientation": "v",
         "showlegend": true,
         "type": "scatter",
         "x": [
          2013,
          2014,
          2015,
          2016,
          2017,
          2018,
          2019,
          2020,
          2021,
          2022
         ],
         "xaxis": "x",
         "y": [
          292.76,
          297.33,
          301.05,
          303.04,
          307.24,
          316.85,
          324.73,
          328.32,
          331.55,
          346.67
         ],
         "yaxis": "y"
        },
        {
         "hovertemplate": "Sector=Government including social security funds<br>Area=Region Sjælland<br>Year=%{x}<br>Average Income=%{y}<extra></extra>",
         "legendgroup": "Government including social security funds, Region Sjælland",
         "line": {
          "color": "#EF553B",
          "dash": "dashdot"
         },
         "marker": {
          "symbol": "circle"
         },
         "mode": "lines",
         "name": "Government including social security funds, Region Sjælland",
         "orientation": "v",
         "showlegend": true,
         "type": "scatter",
         "x": [
          2013,
          2014,
          2015,
          2016,
          2017,
          2018,
          2019,
          2020,
          2021,
          2022
         ],
         "xaxis": "x",
         "y": [
          298.92,
          304.67,
          306.83,
          311.01,
          315.92,
          325.5,
          332.31,
          335.79,
          339.25,
          355.13
         ],
         "yaxis": "y"
        },
        {
         "hovertemplate": "Sector=Government including social security funds<br>Area=Region Syddanmark<br>Year=%{x}<br>Average Income=%{y}<extra></extra>",
         "legendgroup": "Government including social security funds, Region Syddanmark",
         "line": {
          "color": "#EF553B",
          "dash": "longdashdot"
         },
         "marker": {
          "symbol": "circle"
         },
         "mode": "lines",
         "name": "Government including social security funds, Region Syddanmark",
         "orientation": "v",
         "showlegend": true,
         "type": "scatter",
         "x": [
          2013,
          2014,
          2015,
          2016,
          2017,
          2018,
          2019,
          2020,
          2021,
          2022
         ],
         "xaxis": "x",
         "y": [
          294.24,
          299.2,
          302.53,
          306.35,
          310.38,
          320.92,
          328.04,
          331.3,
          334.28,
          349.29
         ],
         "yaxis": "y"
        },
        {
         "hovertemplate": "Sector=Municipal and regional government total<br>Area=All Denmark<br>Year=%{x}<br>Average Income=%{y}<extra></extra>",
         "legendgroup": "Municipal and regional government total, All Denmark",
         "line": {
          "color": "#00cc96",
          "dash": "solid"
         },
         "marker": {
          "symbol": "circle"
         },
         "mode": "lines",
         "name": "Municipal and regional government total, All Denmark",
         "orientation": "v",
         "showlegend": true,
         "type": "scatter",
         "x": [
          2013,
          2014,
          2015,
          2016,
          2017,
          2018,
          2019,
          2020,
          2021,
          2022
         ],
         "xaxis": "x",
         "y": [
          270.49,
          276.19,
          281.33,
          286.52,
          292.6,
          296.81,
          302.2,
          312.89,
          316.46,
          329.41
         ],
         "yaxis": "y"
        },
        {
         "hovertemplate": "Sector=Municipal and regional government total<br>Area=Region Hovedstaden<br>Year=%{x}<br>Average Income=%{y}<extra></extra>",
         "legendgroup": "Municipal and regional government total, Region Hovedstaden",
         "line": {
          "color": "#00cc96",
          "dash": "dot"
         },
         "marker": {
          "symbol": "circle"
         },
         "mode": "lines",
         "name": "Municipal and regional government total, Region Hovedstaden",
         "orientation": "v",
         "showlegend": true,
         "type": "scatter",
         "x": [
          2013,
          2014,
          2015,
          2016,
          2017,
          2018,
          2019,
          2020,
          2021,
          2022
         ],
         "xaxis": "x",
         "y": [
          278.14,
          284.14,
          290.02,
          295.35,
          301.91,
          305.94,
          311.7,
          322.77,
          326.8,
          340.28
         ],
         "yaxis": "y"
        },
        {
         "hovertemplate": "Sector=Municipal and regional government total<br>Area=Region Midtjylland<br>Year=%{x}<br>Average Income=%{y}<extra></extra>",
         "legendgroup": "Municipal and regional government total, Region Midtjylland",
         "line": {
          "color": "#00cc96",
          "dash": "dash"
         },
         "marker": {
          "symbol": "circle"
         },
         "mode": "lines",
         "name": "Municipal and regional government total, Region Midtjylland",
         "orientation": "v",
         "showlegend": true,
         "type": "scatter",
         "x": [
          2013,
          2014,
          2015,
          2016,
          2017,
          2018,
          2019,
          2020,
          2021,
          2022
         ],
         "xaxis": "x",
         "y": [
          266.69,
          272.85,
          277.45,
          282.45,
          288.01,
          292.02,
          297.58,
          308.4,
          310.49,
          323.47
         ],
         "yaxis": "y"
        },
        {
         "hovertemplate": "Sector=Municipal and regional government total<br>Area=Region Nordjylland<br>Year=%{x}<br>Average Income=%{y}<extra></extra>",
         "legendgroup": "Municipal and regional government total, Region Nordjylland",
         "line": {
          "color": "#00cc96",
          "dash": "longdash"
         },
         "marker": {
          "symbol": "circle"
         },
         "mode": "lines",
         "name": "Municipal and regional government total, Region Nordjylland",
         "orientation": "v",
         "showlegend": true,
         "type": "scatter",
         "x": [
          2013,
          2014,
          2015,
          2016,
          2017,
          2018,
          2019,
          2020,
          2021,
          2022
         ],
         "xaxis": "x",
         "y": [
          264.41,
          269.24,
          274.39,
          280.1,
          286.2,
          290.28,
          295.81,
          306.04,
          309.62,
          322.52
         ],
         "yaxis": "y"
        },
        {
         "hovertemplate": "Sector=Municipal and regional government total<br>Area=Region Sjælland<br>Year=%{x}<br>Average Income=%{y}<extra></extra>",
         "legendgroup": "Municipal and regional government total, Region Sjælland",
         "line": {
          "color": "#00cc96",
          "dash": "dashdot"
         },
         "marker": {
          "symbol": "circle"
         },
         "mode": "lines",
         "name": "Municipal and regional government total, Region Sjælland",
         "orientation": "v",
         "showlegend": true,
         "type": "scatter",
         "x": [
          2013,
          2014,
          2015,
          2016,
          2017,
          2018,
          2019,
          2020,
          2021,
          2022
         ],
         "xaxis": "x",
         "y": [
          270.46,
          275.37,
          281.66,
          286.25,
          292.49,
          297.43,
          301.85,
          311.77,
          317.91,
          330.13
         ],
         "yaxis": "y"
        },
        {
         "hovertemplate": "Sector=Municipal and regional government total<br>Area=Region Syddanmark<br>Year=%{x}<br>Average Income=%{y}<extra></extra>",
         "legendgroup": "Municipal and regional government total, Region Syddanmark",
         "line": {
          "color": "#00cc96",
          "dash": "longdashdot"
         },
         "marker": {
          "symbol": "circle"
         },
         "mode": "lines",
         "name": "Municipal and regional government total, Region Syddanmark",
         "orientation": "v",
         "showlegend": true,
         "type": "scatter",
         "x": [
          2013,
          2014,
          2015,
          2016,
          2017,
          2018,
          2019,
          2020,
          2021,
          2022
         ],
         "xaxis": "x",
         "y": [
          266.27,
          271.94,
          275.84,
          281.07,
          286.81,
          291.13,
          296.24,
          306.87,
          309.55,
          322.4
         ],
         "yaxis": "y"
        }
       ],
       "layout": {
        "legend": {
         "title": {
          "text": "Sector, Area"
         },
         "tracegroupgap": 0
        },
        "template": {
         "data": {
          "bar": [
           {
            "error_x": {
             "color": "#2a3f5f"
            },
            "error_y": {
             "color": "#2a3f5f"
            },
            "marker": {
             "line": {
              "color": "#E5ECF6",
              "width": 0.5
             },
             "pattern": {
              "fillmode": "overlay",
              "size": 10,
              "solidity": 0.2
             }
            },
            "type": "bar"
           }
          ],
          "barpolar": [
           {
            "marker": {
             "line": {
              "color": "#E5ECF6",
              "width": 0.5
             },
             "pattern": {
              "fillmode": "overlay",
              "size": 10,
              "solidity": 0.2
             }
            },
            "type": "barpolar"
           }
          ],
          "carpet": [
           {
            "aaxis": {
             "endlinecolor": "#2a3f5f",
             "gridcolor": "white",
             "linecolor": "white",
             "minorgridcolor": "white",
             "startlinecolor": "#2a3f5f"
            },
            "baxis": {
             "endlinecolor": "#2a3f5f",
             "gridcolor": "white",
             "linecolor": "white",
             "minorgridcolor": "white",
             "startlinecolor": "#2a3f5f"
            },
            "type": "carpet"
           }
          ],
          "choropleth": [
           {
            "colorbar": {
             "outlinewidth": 0,
             "ticks": ""
            },
            "type": "choropleth"
           }
          ],
          "contour": [
           {
            "colorbar": {
             "outlinewidth": 0,
             "ticks": ""
            },
            "colorscale": [
             [
              0,
              "#0d0887"
             ],
             [
              0.1111111111111111,
              "#46039f"
             ],
             [
              0.2222222222222222,
              "#7201a8"
             ],
             [
              0.3333333333333333,
              "#9c179e"
             ],
             [
              0.4444444444444444,
              "#bd3786"
             ],
             [
              0.5555555555555556,
              "#d8576b"
             ],
             [
              0.6666666666666666,
              "#ed7953"
             ],
             [
              0.7777777777777778,
              "#fb9f3a"
             ],
             [
              0.8888888888888888,
              "#fdca26"
             ],
             [
              1,
              "#f0f921"
             ]
            ],
            "type": "contour"
           }
          ],
          "contourcarpet": [
           {
            "colorbar": {
             "outlinewidth": 0,
             "ticks": ""
            },
            "type": "contourcarpet"
           }
          ],
          "heatmap": [
           {
            "colorbar": {
             "outlinewidth": 0,
             "ticks": ""
            },
            "colorscale": [
             [
              0,
              "#0d0887"
             ],
             [
              0.1111111111111111,
              "#46039f"
             ],
             [
              0.2222222222222222,
              "#7201a8"
             ],
             [
              0.3333333333333333,
              "#9c179e"
             ],
             [
              0.4444444444444444,
              "#bd3786"
             ],
             [
              0.5555555555555556,
              "#d8576b"
             ],
             [
              0.6666666666666666,
              "#ed7953"
             ],
             [
              0.7777777777777778,
              "#fb9f3a"
             ],
             [
              0.8888888888888888,
              "#fdca26"
             ],
             [
              1,
              "#f0f921"
             ]
            ],
            "type": "heatmap"
           }
          ],
          "heatmapgl": [
           {
            "colorbar": {
             "outlinewidth": 0,
             "ticks": ""
            },
            "colorscale": [
             [
              0,
              "#0d0887"
             ],
             [
              0.1111111111111111,
              "#46039f"
             ],
             [
              0.2222222222222222,
              "#7201a8"
             ],
             [
              0.3333333333333333,
              "#9c179e"
             ],
             [
              0.4444444444444444,
              "#bd3786"
             ],
             [
              0.5555555555555556,
              "#d8576b"
             ],
             [
              0.6666666666666666,
              "#ed7953"
             ],
             [
              0.7777777777777778,
              "#fb9f3a"
             ],
             [
              0.8888888888888888,
              "#fdca26"
             ],
             [
              1,
              "#f0f921"
             ]
            ],
            "type": "heatmapgl"
           }
          ],
          "histogram": [
           {
            "marker": {
             "pattern": {
              "fillmode": "overlay",
              "size": 10,
              "solidity": 0.2
             }
            },
            "type": "histogram"
           }
          ],
          "histogram2d": [
           {
            "colorbar": {
             "outlinewidth": 0,
             "ticks": ""
            },
            "colorscale": [
             [
              0,
              "#0d0887"
             ],
             [
              0.1111111111111111,
              "#46039f"
             ],
             [
              0.2222222222222222,
              "#7201a8"
             ],
             [
              0.3333333333333333,
              "#9c179e"
             ],
             [
              0.4444444444444444,
              "#bd3786"
             ],
             [
              0.5555555555555556,
              "#d8576b"
             ],
             [
              0.6666666666666666,
              "#ed7953"
             ],
             [
              0.7777777777777778,
              "#fb9f3a"
             ],
             [
              0.8888888888888888,
              "#fdca26"
             ],
             [
              1,
              "#f0f921"
             ]
            ],
            "type": "histogram2d"
           }
          ],
          "histogram2dcontour": [
           {
            "colorbar": {
             "outlinewidth": 0,
             "ticks": ""
            },
            "colorscale": [
             [
              0,
              "#0d0887"
             ],
             [
              0.1111111111111111,
              "#46039f"
             ],
             [
              0.2222222222222222,
              "#7201a8"
             ],
             [
              0.3333333333333333,
              "#9c179e"
             ],
             [
              0.4444444444444444,
              "#bd3786"
             ],
             [
              0.5555555555555556,
              "#d8576b"
             ],
             [
              0.6666666666666666,
              "#ed7953"
             ],
             [
              0.7777777777777778,
              "#fb9f3a"
             ],
             [
              0.8888888888888888,
              "#fdca26"
             ],
             [
              1,
              "#f0f921"
             ]
            ],
            "type": "histogram2dcontour"
           }
          ],
          "mesh3d": [
           {
            "colorbar": {
             "outlinewidth": 0,
             "ticks": ""
            },
            "type": "mesh3d"
           }
          ],
          "parcoords": [
           {
            "line": {
             "colorbar": {
              "outlinewidth": 0,
              "ticks": ""
             }
            },
            "type": "parcoords"
           }
          ],
          "pie": [
           {
            "automargin": true,
            "type": "pie"
           }
          ],
          "scatter": [
           {
            "fillpattern": {
             "fillmode": "overlay",
             "size": 10,
             "solidity": 0.2
            },
            "type": "scatter"
           }
          ],
          "scatter3d": [
           {
            "line": {
             "colorbar": {
              "outlinewidth": 0,
              "ticks": ""
             }
            },
            "marker": {
             "colorbar": {
              "outlinewidth": 0,
              "ticks": ""
             }
            },
            "type": "scatter3d"
           }
          ],
          "scattercarpet": [
           {
            "marker": {
             "colorbar": {
              "outlinewidth": 0,
              "ticks": ""
             }
            },
            "type": "scattercarpet"
           }
          ],
          "scattergeo": [
           {
            "marker": {
             "colorbar": {
              "outlinewidth": 0,
              "ticks": ""
             }
            },
            "type": "scattergeo"
           }
          ],
          "scattergl": [
           {
            "marker": {
             "colorbar": {
              "outlinewidth": 0,
              "ticks": ""
             }
            },
            "type": "scattergl"
           }
          ],
          "scattermapbox": [
           {
            "marker": {
             "colorbar": {
              "outlinewidth": 0,
              "ticks": ""
             }
            },
            "type": "scattermapbox"
           }
          ],
          "scatterpolar": [
           {
            "marker": {
             "colorbar": {
              "outlinewidth": 0,
              "ticks": ""
             }
            },
            "type": "scatterpolar"
           }
          ],
          "scatterpolargl": [
           {
            "marker": {
             "colorbar": {
              "outlinewidth": 0,
              "ticks": ""
             }
            },
            "type": "scatterpolargl"
           }
          ],
          "scatterternary": [
           {
            "marker": {
             "colorbar": {
              "outlinewidth": 0,
              "ticks": ""
             }
            },
            "type": "scatterternary"
           }
          ],
          "surface": [
           {
            "colorbar": {
             "outlinewidth": 0,
             "ticks": ""
            },
            "colorscale": [
             [
              0,
              "#0d0887"
             ],
             [
              0.1111111111111111,
              "#46039f"
             ],
             [
              0.2222222222222222,
              "#7201a8"
             ],
             [
              0.3333333333333333,
              "#9c179e"
             ],
             [
              0.4444444444444444,
              "#bd3786"
             ],
             [
              0.5555555555555556,
              "#d8576b"
             ],
             [
              0.6666666666666666,
              "#ed7953"
             ],
             [
              0.7777777777777778,
              "#fb9f3a"
             ],
             [
              0.8888888888888888,
              "#fdca26"
             ],
             [
              1,
              "#f0f921"
             ]
            ],
            "type": "surface"
           }
          ],
          "table": [
           {
            "cells": {
             "fill": {
              "color": "#EBF0F8"
             },
             "line": {
              "color": "white"
             }
            },
            "header": {
             "fill": {
              "color": "#C8D4E3"
             },
             "line": {
              "color": "white"
             }
            },
            "type": "table"
           }
          ]
         },
         "layout": {
          "annotationdefaults": {
           "arrowcolor": "#2a3f5f",
           "arrowhead": 0,
           "arrowwidth": 1
          },
          "autotypenumbers": "strict",
          "coloraxis": {
           "colorbar": {
            "outlinewidth": 0,
            "ticks": ""
           }
          },
          "colorscale": {
           "diverging": [
            [
             0,
             "#8e0152"
            ],
            [
             0.1,
             "#c51b7d"
            ],
            [
             0.2,
             "#de77ae"
            ],
            [
             0.3,
             "#f1b6da"
            ],
            [
             0.4,
             "#fde0ef"
            ],
            [
             0.5,
             "#f7f7f7"
            ],
            [
             0.6,
             "#e6f5d0"
            ],
            [
             0.7,
             "#b8e186"
            ],
            [
             0.8,
             "#7fbc41"
            ],
            [
             0.9,
             "#4d9221"
            ],
            [
             1,
             "#276419"
            ]
           ],
           "sequential": [
            [
             0,
             "#0d0887"
            ],
            [
             0.1111111111111111,
             "#46039f"
            ],
            [
             0.2222222222222222,
             "#7201a8"
            ],
            [
             0.3333333333333333,
             "#9c179e"
            ],
            [
             0.4444444444444444,
             "#bd3786"
            ],
            [
             0.5555555555555556,
             "#d8576b"
            ],
            [
             0.6666666666666666,
             "#ed7953"
            ],
            [
             0.7777777777777778,
             "#fb9f3a"
            ],
            [
             0.8888888888888888,
             "#fdca26"
            ],
            [
             1,
             "#f0f921"
            ]
           ],
           "sequentialminus": [
            [
             0,
             "#0d0887"
            ],
            [
             0.1111111111111111,
             "#46039f"
            ],
            [
             0.2222222222222222,
             "#7201a8"
            ],
            [
             0.3333333333333333,
             "#9c179e"
            ],
            [
             0.4444444444444444,
             "#bd3786"
            ],
            [
             0.5555555555555556,
             "#d8576b"
            ],
            [
             0.6666666666666666,
             "#ed7953"
            ],
            [
             0.7777777777777778,
             "#fb9f3a"
            ],
            [
             0.8888888888888888,
             "#fdca26"
            ],
            [
             1,
             "#f0f921"
            ]
           ]
          },
          "colorway": [
           "#636efa",
           "#EF553B",
           "#00cc96",
           "#ab63fa",
           "#FFA15A",
           "#19d3f3",
           "#FF6692",
           "#B6E880",
           "#FF97FF",
           "#FECB52"
          ],
          "font": {
           "color": "#2a3f5f"
          },
          "geo": {
           "bgcolor": "white",
           "lakecolor": "white",
           "landcolor": "#E5ECF6",
           "showlakes": true,
           "showland": true,
           "subunitcolor": "white"
          },
          "hoverlabel": {
           "align": "left"
          },
          "hovermode": "closest",
          "mapbox": {
           "style": "light"
          },
          "paper_bgcolor": "white",
          "plot_bgcolor": "#E5ECF6",
          "polar": {
           "angularaxis": {
            "gridcolor": "white",
            "linecolor": "white",
            "ticks": ""
           },
           "bgcolor": "#E5ECF6",
           "radialaxis": {
            "gridcolor": "white",
            "linecolor": "white",
            "ticks": ""
           }
          },
          "scene": {
           "xaxis": {
            "backgroundcolor": "#E5ECF6",
            "gridcolor": "white",
            "gridwidth": 2,
            "linecolor": "white",
            "showbackground": true,
            "ticks": "",
            "zerolinecolor": "white"
           },
           "yaxis": {
            "backgroundcolor": "#E5ECF6",
            "gridcolor": "white",
            "gridwidth": 2,
            "linecolor": "white",
            "showbackground": true,
            "ticks": "",
            "zerolinecolor": "white"
           },
           "zaxis": {
            "backgroundcolor": "#E5ECF6",
            "gridcolor": "white",
            "gridwidth": 2,
            "linecolor": "white",
            "showbackground": true,
            "ticks": "",
            "zerolinecolor": "white"
           }
          },
          "shapedefaults": {
           "line": {
            "color": "#2a3f5f"
           }
          },
          "ternary": {
           "aaxis": {
            "gridcolor": "white",
            "linecolor": "white",
            "ticks": ""
           },
           "baxis": {
            "gridcolor": "white",
            "linecolor": "white",
            "ticks": ""
           },
           "bgcolor": "#E5ECF6",
           "caxis": {
            "gridcolor": "white",
            "linecolor": "white",
            "ticks": ""
           }
          },
          "title": {
           "x": 0.05
          },
          "xaxis": {
           "automargin": true,
           "gridcolor": "white",
           "linecolor": "white",
           "ticks": "",
           "title": {
            "standoff": 15
           },
           "zerolinecolor": "white",
           "zerolinewidth": 2
          },
          "yaxis": {
           "automargin": true,
           "gridcolor": "white",
           "linecolor": "white",
           "ticks": "",
           "title": {
            "standoff": 15
           },
           "zerolinecolor": "white",
           "zerolinewidth": 2
          }
         }
        },
        "title": {
         "text": "Average Income Over Time by Sector and Area"
        },
        "xaxis": {
         "anchor": "y",
         "domain": [
          0,
          1
         ],
         "title": {
          "text": "Year"
         }
        },
        "yaxis": {
         "anchor": "x",
         "domain": [
          0,
          1
         ],
         "title": {
          "text": "Average Income"
         }
        }
       }
      }
     },
     "metadata": {},
     "output_type": "display_data"
    }
   ],
   "source": [
    "import pandas as pd\n",
    "import plotly.express as px\n",
    "\n",
    "# Merge datasets on common 'TID' and 'SEKTOR'\n",
    "merged_df = pd.merge(Inc_age_cleaned, Inc_area_cleaned, on=['TID', 'SEKTOR'], suffixes=('_age', '_area'))\n",
    "\n",
    "# Calculate the average income for each sector, area, and year\n",
    "avg_income_by_sector_area = merged_df.groupby(['TID', 'SEKTOR', 'OMRÅDE'])['INDHOLD_area'].mean().reset_index()\n",
    "\n",
    "# Create an interactive line chart with Plotly\n",
    "fig = px.line(avg_income_by_sector_area, x='TID', y='INDHOLD_area', color='SEKTOR', line_dash='OMRÅDE',\n",
    "              labels={'TID': 'Year', 'INDHOLD_area': 'Average Income', 'SEKTOR': 'Sector', 'OMRÅDE': 'Area'},\n",
    "              title='Average Income Over Time by Sector and Area')\n",
    "\n",
    "fig.show()\n"
   ]
  },
  {
   "cell_type": "markdown",
   "metadata": {},
   "source": [
    "# Conclusion"
   ]
  },
  {
   "cell_type": "markdown",
   "metadata": {},
   "source": [
    "We find that income has been increasing in all regions in Denmark from 2013 to 2022. The income is greatest in the region 'Hovedstaden' and the least in 'Nordjylland' for all years, which most likely is because of 'Hovedstaden' including the capital of Denmark. Generally, we would expect to see more higher-salary jobs in capitals and larger citites. We also show two box plot with the median income for all regions and age groups in 2022. We see that although the median income for Copenhagen is very high, there is a large variability in the income distrubution for the bottom 50 pct. of income earners in 2022. \n",
    "\n",
    "In 2022 we see that the income median is increasing in age groups but peaks at the age group 50-54 whereafter it falls. This is presumably because young people are studying and earning a lower wage for the first years of their careers whereafter salaries increase with more experience in the job market/senior positions. The fall in income in the older age groups is most likely caused by more people retiring and switching to pensions that provides a lower income than working. For almost all age groups the median is relativly high in the box, which illustrates that there is greater income variability in the 50 pct. lowest earners compared to the 50 pct. highest."
   ]
  }
 ],
 "metadata": {
  "kernelspec": {
   "display_name": "base",
   "language": "python",
   "name": "python3"
  },
  "language_info": {
   "codemirror_mode": {
    "name": "ipython",
    "version": 3
   },
   "file_extension": ".py",
   "mimetype": "text/x-python",
   "name": "python",
   "nbconvert_exporter": "python",
   "pygments_lexer": "ipython3",
   "version": "3.11.7"
  },
  "toc-autonumbering": true,
  "vscode": {
   "interpreter": {
    "hash": "47ef90cdf3004d3f859f1fb202523c65c07ba7c22eefd261b181f4744e2d0403"
   }
  }
 },
 "nbformat": 4,
 "nbformat_minor": 4
}
