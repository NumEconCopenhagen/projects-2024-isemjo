{
 "cells": [
  {
   "cell_type": "markdown",
   "metadata": {},
   "source": [
    "# YOUR PROJECT TITLE"
   ]
  },
  {
   "attachments": {},
   "cell_type": "markdown",
   "metadata": {},
   "source": [
    "> **Note the following:** \n",
    "> 1. This is *not* meant to be an example of an actual **data analysis project**, just an example of how to structure such a project.\n",
    "> 1. Remember the general advice on structuring and commenting your code\n",
    "> 1. The `dataproject.py` file includes a function which can be used multiple times in this notebook."
   ]
  },
  {
   "cell_type": "code",
   "execution_count": null,
   "metadata": {},
   "outputs": [],
   "source": [
    "# The DST API wrapper\n",
    "#%pip install git+https://github.com/alemartinello/dstapi\n",
    "\n",
    "# A wrapper for multiple APIs with a pandas interface\n",
    "#%pip install pandas-datareader"
   ]
  },
  {
   "cell_type": "markdown",
   "metadata": {},
   "source": [
    "Imports and set magics:"
   ]
  },
  {
   "cell_type": "code",
   "execution_count": null,
   "metadata": {},
   "outputs": [],
   "source": [
    "import pandas as pd\n",
    "import numpy as np\n",
    "import ipywidgets as widgets\n",
    "\n",
    "import datetime\n",
    "import pandas_datareader \n",
    "from dstapi import DstApi\n",
    "\n",
    "import matplotlib.pyplot as plt\n",
    "plt.rcParams.update({\"axes.grid\":True,\"grid.color\":\"black\",\"grid.alpha\":\"0.25\",\"grid.linestyle\":\"--\"})\n",
    "plt.rcParams.update({'font.size': 14})\n",
    "\n",
    "# autoreload modules when code is run\n",
    "%load_ext autoreload\n",
    "%autoreload 2\n",
    "\n",
    "# user written modules\n",
    "import dataproject\n"
   ]
  },
  {
   "cell_type": "markdown",
   "metadata": {},
   "source": [
    "# Read and clean data"
   ]
  },
  {
   "cell_type": "markdown",
   "metadata": {},
   "source": [
    "Importing data from DST through an API"
   ]
  },
  {
   "cell_type": "code",
   "execution_count": null,
   "metadata": {},
   "outputs": [],
   "source": [
    "ind = DstApi('LONS50') "
   ]
  },
  {
   "cell_type": "markdown",
   "metadata": {},
   "source": [
    "Getting a quick overview over the data"
   ]
  },
  {
   "cell_type": "code",
   "execution_count": null,
   "metadata": {},
   "outputs": [],
   "source": [
    "tabsum = ind.tablesummary(language='en')\n",
    "display(tabsum)"
   ]
  },
  {
   "cell_type": "code",
   "execution_count": null,
   "metadata": {},
   "outputs": [],
   "source": [
    "# The available values for a each variable: \n",
    "for variable in tabsum['variable name']:\n",
    "   print(variable+':')\n",
    "   display(ind.variable_levels(variable, language='en'))\n"
   ]
  },
  {
   "cell_type": "code",
   "execution_count": null,
   "metadata": {},
   "outputs": [],
   "source": [
    "# The _define_base_params -method gives us a nice template (selects all available data)\n",
    "params = ind._define_base_params(language='en')\n",
    "params"
   ]
  },
  {
   "cell_type": "code",
   "execution_count": null,
   "metadata": {},
   "outputs": [],
   "source": [
    "params = {'table': 'lons50',\n",
    " 'format': 'BULK',\n",
    " 'lang': 'en',\n",
    " 'variables': [{'code': 'ALDER1', 'values': ['20-24','25-29','30-34','35-39','40-44','45-49','50-54','55-59','60-']},\n",
    "  {'code': 'SEKTOR', 'values': ['1018', '1016', '1046']},\n",
    "  {'code': 'AFLOEN', 'values': ['TIFA']},\n",
    "  {'code': 'LONGRP', 'values': ['LTOT']},\n",
    "  {'code': 'LØNMÅL', 'values': ['FORINKL']},\n",
    "  {'code': 'KØN', 'values': ['MOK']},\n",
    "  {'code': 'Tid', 'values': ['*']}]}\n"
   ]
  },
  {
   "cell_type": "code",
   "execution_count": null,
   "metadata": {},
   "outputs": [],
   "source": [
    "inc_api = ind.get_data(params=params)\n",
    "inc_api.info()\n",
    "inc_api.head()"
   ]
  },
  {
   "cell_type": "code",
   "execution_count": null,
   "metadata": {},
   "outputs": [],
   "source": [
    "inc_api.sort_values(by=['ALDER1', 'TID', 'SEKTOR'], inplace=True)\n",
    "inc_api.head(5)"
   ]
  },
  {
   "cell_type": "code",
   "execution_count": null,
   "metadata": {},
   "outputs": [],
   "source": [
    "inc_api['INDHOLD'] = inc_api['INDHOLD'].astype(float)\n",
    "print(inc_api['INDHOLD'].dtype)"
   ]
  },
  {
   "cell_type": "code",
   "execution_count": null,
   "metadata": {},
   "outputs": [],
   "source": [
    "inc_api['TID'] = inc_api['TID'].astype(float)\n",
    "print(inc_api['TID'].dtype)"
   ]
  },
  {
   "cell_type": "markdown",
   "metadata": {},
   "source": [
    "NR. 2 Data Set"
   ]
  },
  {
   "cell_type": "code",
   "execution_count": null,
   "metadata": {},
   "outputs": [],
   "source": [
    "ind1 = DstApi('LONS30') "
   ]
  },
  {
   "cell_type": "code",
   "execution_count": null,
   "metadata": {},
   "outputs": [],
   "source": [
    "tabsum1 = ind1.tablesummary(language='en')\n",
    "display(tabsum1)"
   ]
  },
  {
   "cell_type": "code",
   "execution_count": null,
   "metadata": {},
   "outputs": [],
   "source": [
    "# The available values for a each variable: \n",
    "for variable in tabsum1['variable name']:\n",
    "  print(variable+':')\n",
    "  display(ind.variable_levels(variable, language='en'))"
   ]
  },
  {
   "cell_type": "code",
   "execution_count": null,
   "metadata": {},
   "outputs": [],
   "source": [
    "# The _define_base_params -method gives us a nice template (selects all available data)\n",
    "params1 = ind1._define_base_params(language='en')\n",
    "params1"
   ]
  },
  {
   "cell_type": "code",
   "execution_count": null,
   "metadata": {},
   "outputs": [],
   "source": [
    "params1 = {'table': 'lons30',\n",
    " 'format': 'BULK',\n",
    " 'lang': 'en',\n",
    " 'variables': [{'code': 'OMRÅDE', 'values': ['*']},\n",
    "  {'code': 'SEKTOR', 'values': ['1018', '1016', '1046']},\n",
    "  {'code': 'AFLOEN', 'values': ['TIFA']},\n",
    "  {'code': 'LONGRP', 'values': ['LTOT']},\n",
    "  {'code': 'LØNMÅL', 'values': ['FORINKL']},\n",
    "  {'code': 'KØN', 'values': ['MOK']},\n",
    "  {'code': 'Tid', 'values': ['*']}]}"
   ]
  },
  {
   "cell_type": "code",
   "execution_count": null,
   "metadata": {},
   "outputs": [],
   "source": [
    "inc1_api = ind1.get_data(params=params1)\n",
    "inc1_api.info()\n",
    "inc1_api.head()"
   ]
  },
  {
   "cell_type": "code",
   "execution_count": null,
   "metadata": {},
   "outputs": [],
   "source": [
    "inc1_api.sort_values(by=['OMRÅDE', 'TID', 'SEKTOR'], inplace=True)\n",
    "inc1_api.head(5)"
   ]
  },
  {
   "cell_type": "code",
   "execution_count": null,
   "metadata": {},
   "outputs": [],
   "source": [
    "inc1_api['INDHOLD'] = inc1_api['INDHOLD'].astype(float)\n",
    "print(inc1_api['INDHOLD'].dtype)"
   ]
  },
  {
   "cell_type": "code",
   "execution_count": null,
   "metadata": {},
   "outputs": [],
   "source": [
    "inc1_api['TID'] = inc1_api['TID'].astype(float)\n",
    "print(inc1_api['TID'].dtype)"
   ]
  },
  {
   "cell_type": "markdown",
   "metadata": {},
   "source": [
    "Cleaning data"
   ]
  },
  {
   "cell_type": "code",
   "execution_count": null,
   "metadata": {},
   "outputs": [],
   "source": [
    "#Dropping irrelevant variables from first data set\n",
    "Inc_age = inc_api.drop(['LONGRP', 'LØNMÅL', 'AFLOEN','KØN'],axis=1) # Drop irrelevant variables\n",
    "Inc_age.head(10)"
   ]
  },
  {
   "cell_type": "code",
   "execution_count": null,
   "metadata": {},
   "outputs": [],
   "source": [
    "#Dropping irrelevant variables from first data set\n",
    "Inc_area = inc1_api.drop(['LONGRP', 'LØNMÅL', 'AFLOEN','KØN'],axis=1) # Drop irrelevant variables\n",
    "Inc_area.head(10)"
   ]
  },
  {
   "cell_type": "markdown",
   "metadata": {},
   "source": [
    "# Merge data sets"
   ]
  },
  {
   "cell_type": "code",
   "execution_count": null,
   "metadata": {},
   "outputs": [],
   "source": [
    "Inc_age_cleaned = Inc_age.dropna().drop_duplicates()\n",
    "Inc_area_cleaned = Inc_area.dropna().drop_duplicates()\n",
    "\n",
    "# Merge datasets on common 'TID' and 'SEKTOR' assuming 'SEKTOR' exists in both.\n",
    "# We are using an inner join here, meaning we only keep rows that match in both datasets.\n",
    "merged_df = pd.merge(Inc_age_cleaned, Inc_area_cleaned, on=['TID', 'SEKTOR'], suffixes=('_age', '_area'))\n",
    "\n",
    "# Check the merged data\n",
    "print(merged_df.head())"
   ]
  },
  {
   "cell_type": "markdown",
   "metadata": {},
   "source": [
    "# Analysis"
   ]
  },
  {
   "cell_type": "code",
   "execution_count": null,
   "metadata": {},
   "outputs": [],
   "source": [
    "# Find the most recent year in the merged dataset\n",
    "most_recent_year = int(merged_df['TID'].max())\n",
    "print(f\"Most recent year in the dataset: {most_recent_year}\")\n"
   ]
  },
  {
   "cell_type": "code",
   "execution_count": null,
   "metadata": {},
   "outputs": [],
   "source": [
    "pip install seaborn\n"
   ]
  },
  {
   "cell_type": "code",
   "execution_count": null,
   "metadata": {},
   "outputs": [],
   "source": [
    "import warnings\n",
    "warnings.filterwarnings('ignore', category=FutureWarning)\n"
   ]
  },
  {
   "cell_type": "code",
   "execution_count": null,
   "metadata": {},
   "outputs": [],
   "source": [
    "import seaborn as sns\n",
    "\n",
    "# Set the seaborn style for better aesthetics\n",
    "sns.set_style(\"whitegrid\")\n",
    "\n",
    "# For Age Groups\n",
    "plt.figure(figsize=(18, 10))\n",
    "sns.boxplot(x='ALDER1', y='INDHOLD_age', data=merged_df_recent_year, palette=\"Set3\", showfliers=True, showmeans=True,\n",
    "            meanprops={\"marker\":\"o\", \"markerfacecolor\":\"white\", \"markeredgecolor\":\"black\", \"markersize\":\"10\"})\n",
    "plt.title(f'Income Distribution by Age Group for {most_recent_year}', fontsize=16)\n",
    "plt.xlabel('Age Group', fontsize=14)\n",
    "plt.ylabel('Income', fontsize=14)\n",
    "plt.xticks(rotation=45, fontsize=12)  # Ensure labels are readable\n",
    "plt.tight_layout()  # Adjust layout to make room for label\n",
    "plt.show()\n",
    "\n",
    "# For Areas\n",
    "plt.figure(figsize=(18, 10))\n",
    "sns.boxplot(x='OMRÅDE', y='INDHOLD_area', data=merged_df_recent_year, palette=\"Set2\", showfliers=True, showmeans=True,\n",
    "            meanprops={\"marker\":\"o\", \"markerfacecolor\":\"white\", \"markeredgecolor\":\"black\", \"markersize\":\"10\"})\n",
    "plt.title(f'Income Distribution by Area for {most_recent_year}', fontsize=16)\n",
    "plt.xlabel('Area', fontsize=14)\n",
    "plt.ylabel('Income', fontsize=14)\n",
    "plt.xticks(rotation=45, fontsize=12)  # Ensure labels are readable\n",
    "plt.tight_layout()  # Adjust layout to make room for label\n",
    "plt.show()\n"
   ]
  },
  {
   "cell_type": "markdown",
   "metadata": {},
   "source": [
    "## Explore each data set"
   ]
  },
  {
   "cell_type": "code",
   "execution_count": null,
   "metadata": {},
   "outputs": [],
   "source": [
    "pip install plotly\n"
   ]
  },
  {
   "cell_type": "code",
   "execution_count": null,
   "metadata": {},
   "outputs": [],
   "source": [
    "pip install 'nbformat>=4.2.0'\n"
   ]
  },
  {
   "cell_type": "code",
   "execution_count": null,
   "metadata": {},
   "outputs": [],
   "source": [
    "import plotly.express as px\n"
   ]
  },
  {
   "cell_type": "code",
   "execution_count": null,
   "metadata": {},
   "outputs": [],
   "source": [
    "# Ensure 'TID' is the correct data type for plotting\n",
    "merged_df['TID'] = pd.to_datetime(merged_df['TID'], format='%Y').dt.year\n",
    "\n",
    "# Plotting\n",
    "fig_age = px.line(merged_df, x='TID', y='INDHOLD_age', color='ALDER1', \n",
    "                  labels={'TID': 'Year', 'INDHOLD_age': 'Income', 'ALDER1': 'Age Group'},\n",
    "                  title='Income Development Over Time by Age Group')\n",
    "fig_age.update_layout(transition_duration=500)\n",
    "fig_age.show()\n"
   ]
  },
  {
   "cell_type": "code",
   "execution_count": null,
   "metadata": {},
   "outputs": [],
   "source": [
    "# Plotting\n",
    "fig_area = px.line(merged_df, x='TID', y='INDHOLD_area', color='OMRÅDE', \n",
    "                   labels={'TID': 'Year', 'INDHOLD_area': 'Income', 'OMRÅDE': 'Area'},\n",
    "                   title='Income Development Over Time by Area')\n",
    "fig_area.update_layout(transition_duration=500)\n",
    "fig_area.show()"
   ]
  },
  {
   "cell_type": "markdown",
   "metadata": {},
   "source": [
    "# Conclusion"
   ]
  },
  {
   "cell_type": "markdown",
   "metadata": {},
   "source": [
    "ADD CONCISE CONLUSION."
   ]
  }
 ],
 "metadata": {
  "kernelspec": {
   "display_name": "base",
   "language": "python",
   "name": "python3"
  },
  "language_info": {
   "codemirror_mode": {
    "name": "ipython",
    "version": 3
   },
   "file_extension": ".py",
   "mimetype": "text/x-python",
   "name": "python",
   "nbconvert_exporter": "python",
   "pygments_lexer": "ipython3",
   "version": "3.9.18"
  },
  "toc-autonumbering": true,
  "vscode": {
   "interpreter": {
    "hash": "47ef90cdf3004d3f859f1fb202523c65c07ba7c22eefd261b181f4744e2d0403"
   }
  }
 },
 "nbformat": 4,
 "nbformat_minor": 4
}
