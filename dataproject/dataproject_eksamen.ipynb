{
 "cells": [
  {
   "cell_type": "markdown",
   "metadata": {},
   "source": [
    "# Income analysis for Denmark"
   ]
  },
  {
   "cell_type": "markdown",
   "metadata": {},
   "source": [
    "In this data project we analyize the income charateristics in Denmark. We focus our analysis on income for different age groups, regions and sectors in Denmark from 2013-2022.\n",
    "\n",
    "First we import the data using and API from Danmarks Statistik. We use two statistics, LONS50 and LONS30, clean them both and merge them. \n",
    "\n",
    "We then start our analysis by first examining the overall income devlopment from 2013 to 2022, looking at the hourly wage (earnings in DKK per hour worked) for all of Denmark. \n",
    "\n",
    "We then analyize the income devlopment and income distrubution for the different areas in Denmark using a box-plot. We then look at the income distrubution for the different age groups - also using a box-plot.\n",
    "\n",
    "Lastly we examine the devlopment and growth rate in the income for different sector. Using an interactive graph and box we also examine the sector income development for different areas. We finish by conluding our analysis of income characteristics in Denmark."
   ]
  },
  {
   "cell_type": "markdown",
   "metadata": {},
   "source": [
    "First we install the necessary programs:"
   ]
  },
  {
   "cell_type": "code",
   "execution_count": 4,
   "metadata": {},
   "outputs": [
    {
     "name": "stdout",
     "output_type": "stream",
     "text": [
      "Channels:\n",
      " - conda-forge\n",
      " - defaults\n",
      "Platform: osx-arm64\n",
      "Collecting package metadata (repodata.json): done\n",
      "Solving environment: done\n",
      "\n",
      "# All requested packages already installed.\n",
      "\n",
      "\n",
      "Note: you may need to restart the kernel to use updated packages.\n",
      "Requirement already satisfied: ipywidgets in /Users/isabellagrunwald/anaconda3/lib/python3.11/site-packages (8.0.4)\n",
      "Requirement already satisfied: ipykernel>=4.5.1 in /Users/isabellagrunwald/anaconda3/lib/python3.11/site-packages (from ipywidgets) (6.28.0)\n",
      "Requirement already satisfied: ipython>=6.1.0 in /Users/isabellagrunwald/anaconda3/lib/python3.11/site-packages (from ipywidgets) (8.20.0)\n",
      "Requirement already satisfied: traitlets>=4.3.1 in /Users/isabellagrunwald/anaconda3/lib/python3.11/site-packages (from ipywidgets) (5.7.1)\n",
      "Requirement already satisfied: widgetsnbextension~=4.0 in /Users/isabellagrunwald/anaconda3/lib/python3.11/site-packages (from ipywidgets) (4.0.5)\n",
      "Requirement already satisfied: jupyterlab-widgets~=3.0 in /Users/isabellagrunwald/anaconda3/lib/python3.11/site-packages (from ipywidgets) (3.0.9)\n",
      "Requirement already satisfied: appnope in /Users/isabellagrunwald/anaconda3/lib/python3.11/site-packages (from ipykernel>=4.5.1->ipywidgets) (0.1.2)\n",
      "Requirement already satisfied: comm>=0.1.1 in /Users/isabellagrunwald/anaconda3/lib/python3.11/site-packages (from ipykernel>=4.5.1->ipywidgets) (0.1.2)\n",
      "Requirement already satisfied: debugpy>=1.6.5 in /Users/isabellagrunwald/anaconda3/lib/python3.11/site-packages (from ipykernel>=4.5.1->ipywidgets) (1.6.7)\n",
      "Requirement already satisfied: jupyter-client>=6.1.12 in /Users/isabellagrunwald/anaconda3/lib/python3.11/site-packages (from ipykernel>=4.5.1->ipywidgets) (8.6.0)\n",
      "Requirement already satisfied: jupyter-core!=5.0.*,>=4.12 in /Users/isabellagrunwald/anaconda3/lib/python3.11/site-packages (from ipykernel>=4.5.1->ipywidgets) (5.5.0)\n",
      "Requirement already satisfied: matplotlib-inline>=0.1 in /Users/isabellagrunwald/anaconda3/lib/python3.11/site-packages (from ipykernel>=4.5.1->ipywidgets) (0.1.6)\n",
      "Requirement already satisfied: nest-asyncio in /Users/isabellagrunwald/anaconda3/lib/python3.11/site-packages (from ipykernel>=4.5.1->ipywidgets) (1.5.6)\n",
      "Requirement already satisfied: packaging in /Users/isabellagrunwald/anaconda3/lib/python3.11/site-packages (from ipykernel>=4.5.1->ipywidgets) (23.1)\n",
      "Requirement already satisfied: psutil in /Users/isabellagrunwald/anaconda3/lib/python3.11/site-packages (from ipykernel>=4.5.1->ipywidgets) (5.9.0)\n",
      "Requirement already satisfied: pyzmq>=24 in /Users/isabellagrunwald/anaconda3/lib/python3.11/site-packages (from ipykernel>=4.5.1->ipywidgets) (25.1.2)\n",
      "Requirement already satisfied: tornado>=6.1 in /Users/isabellagrunwald/anaconda3/lib/python3.11/site-packages (from ipykernel>=4.5.1->ipywidgets) (6.3.3)\n",
      "Requirement already satisfied: decorator in /Users/isabellagrunwald/anaconda3/lib/python3.11/site-packages (from ipython>=6.1.0->ipywidgets) (5.1.1)\n",
      "Requirement already satisfied: jedi>=0.16 in /Users/isabellagrunwald/anaconda3/lib/python3.11/site-packages (from ipython>=6.1.0->ipywidgets) (0.18.1)\n",
      "Requirement already satisfied: prompt-toolkit<3.1.0,>=3.0.41 in /Users/isabellagrunwald/anaconda3/lib/python3.11/site-packages (from ipython>=6.1.0->ipywidgets) (3.0.43)\n",
      "Requirement already satisfied: pygments>=2.4.0 in /Users/isabellagrunwald/anaconda3/lib/python3.11/site-packages (from ipython>=6.1.0->ipywidgets) (2.15.1)\n",
      "Requirement already satisfied: stack-data in /Users/isabellagrunwald/anaconda3/lib/python3.11/site-packages (from ipython>=6.1.0->ipywidgets) (0.2.0)\n",
      "Requirement already satisfied: pexpect>4.3 in /Users/isabellagrunwald/anaconda3/lib/python3.11/site-packages (from ipython>=6.1.0->ipywidgets) (4.8.0)\n",
      "Requirement already satisfied: parso<0.9.0,>=0.8.0 in /Users/isabellagrunwald/anaconda3/lib/python3.11/site-packages (from jedi>=0.16->ipython>=6.1.0->ipywidgets) (0.8.3)\n",
      "Requirement already satisfied: python-dateutil>=2.8.2 in /Users/isabellagrunwald/anaconda3/lib/python3.11/site-packages (from jupyter-client>=6.1.12->ipykernel>=4.5.1->ipywidgets) (2.8.2)\n",
      "Requirement already satisfied: platformdirs>=2.5 in /Users/isabellagrunwald/anaconda3/lib/python3.11/site-packages (from jupyter-core!=5.0.*,>=4.12->ipykernel>=4.5.1->ipywidgets) (3.10.0)\n",
      "Requirement already satisfied: ptyprocess>=0.5 in /Users/isabellagrunwald/anaconda3/lib/python3.11/site-packages (from pexpect>4.3->ipython>=6.1.0->ipywidgets) (0.7.0)\n",
      "Requirement already satisfied: wcwidth in /Users/isabellagrunwald/anaconda3/lib/python3.11/site-packages (from prompt-toolkit<3.1.0,>=3.0.41->ipython>=6.1.0->ipywidgets) (0.2.5)\n",
      "Requirement already satisfied: executing in /Users/isabellagrunwald/anaconda3/lib/python3.11/site-packages (from stack-data->ipython>=6.1.0->ipywidgets) (0.8.3)\n",
      "Requirement already satisfied: asttokens in /Users/isabellagrunwald/anaconda3/lib/python3.11/site-packages (from stack-data->ipython>=6.1.0->ipywidgets) (2.0.5)\n",
      "Requirement already satisfied: pure-eval in /Users/isabellagrunwald/anaconda3/lib/python3.11/site-packages (from stack-data->ipython>=6.1.0->ipywidgets) (0.2.2)\n",
      "Requirement already satisfied: six>=1.5 in /Users/isabellagrunwald/anaconda3/lib/python3.11/site-packages (from python-dateutil>=2.8.2->jupyter-client>=6.1.12->ipykernel>=4.5.1->ipywidgets) (1.16.0)\n",
      "Note: you may need to restart the kernel to use updated packages.\n",
      "usage: jupyter [-h] [--version] [--config-dir] [--data-dir] [--runtime-dir]\n",
      "               [--paths] [--json] [--debug]\n",
      "               [subcommand]\n",
      "\n",
      "Jupyter: Interactive Computing\n",
      "\n",
      "positional arguments:\n",
      "  subcommand     the subcommand to launch\n",
      "\n",
      "options:\n",
      "  -h, --help     show this help message and exit\n",
      "  --version      show the versions of core jupyter packages and exit\n",
      "  --config-dir   show Jupyter config dir\n",
      "  --data-dir     show Jupyter data dir\n",
      "  --runtime-dir  show Jupyter runtime dir\n",
      "  --paths        show all Jupyter paths. Add --json for machine-readable\n",
      "                 format.\n",
      "  --json         output paths as machine-readable json\n",
      "  --debug        output debug information about paths\n",
      "\n",
      "Available subcommands: console dejavu events execute kernel kernelspec lab\n",
      "labextension labhub migrate nbconvert notebook qtconsole run server\n",
      "troubleshoot trust\n",
      "\n",
      "Jupyter command `jupyter-nbextension` not found.\n",
      "usage: jupyter [-h] [--version] [--config-dir] [--data-dir] [--runtime-dir]\n",
      "               [--paths] [--json] [--debug]\n",
      "               [subcommand]\n",
      "\n",
      "Jupyter: Interactive Computing\n",
      "\n",
      "positional arguments:\n",
      "  subcommand     the subcommand to launch\n",
      "\n",
      "options:\n",
      "  -h, --help     show this help message and exit\n",
      "  --version      show the versions of core jupyter packages and exit\n",
      "  --config-dir   show Jupyter config dir\n",
      "  --data-dir     show Jupyter data dir\n",
      "  --runtime-dir  show Jupyter runtime dir\n",
      "  --paths        show all Jupyter paths. Add --json for machine-readable\n",
      "                 format.\n",
      "  --json         output paths as machine-readable json\n",
      "  --debug        output debug information about paths\n",
      "\n",
      "Available subcommands: console dejavu events execute kernel kernelspec lab\n",
      "labextension labhub migrate nbconvert notebook qtconsole run server\n",
      "troubleshoot trust\n",
      "\n",
      "Jupyter command `jupyter-nbextension` not found.\n",
      "\u001b[33m(Deprecated) Installing extensions with the jupyter labextension install command is now deprecated and will be removed in a future major version of JupyterLab.\n",
      "\n",
      "Users should manage prebuilt extensions with package managers like pip and conda, and extension authors are encouraged to distribute their extensions as prebuilt packages \u001b[0m\n",
      "Building jupyterlab assets (production, minimized)\n"
     ]
    }
   ],
   "source": [
    "# The DST API wrapper\n",
    "#%pip install git+https://github.com/alemartinello/dstapi\n",
    "\n",
    "# A wrapper for multiple APIs with a pandas interface\n",
    "#%pip install pandas-datareader\n",
    "\n",
    "# For data visualization\n",
    "#%pip install seaborn\n",
    "\n",
    "# For widgets\n",
    "%conda install -c conda-forge nodejs\n",
    "%pip install ipywidgets\n",
    "\n",
    "# Enable the necessary Jupyter notebook extensions\n",
    "#!jupyter nbextension enable --py widgetsnbextension\n",
    "#!jupyter nbextension install --py widgetsnbextension\n",
    "#!jupyter labextension install @jupyter-widgets/jupyterlab-manager\n"
   ]
  },
  {
   "cell_type": "markdown",
   "metadata": {},
   "source": [
    "The we write necessary imports and set magics:"
   ]
  },
  {
   "cell_type": "code",
   "execution_count": null,
   "metadata": {},
   "outputs": [],
   "source": [
    "import pandas as pd\n",
    "import numpy as np\n",
    "import ipywidgets as widgets\n",
    "import warnings\n",
    "import seaborn as sns\n",
    "import plotly.express as px\n",
    "from IPython.display import display\n",
    "\n",
    "import datetime\n",
    "import pandas_datareader \n",
    "from dstapi import DstApi\n",
    "\n",
    "import matplotlib.pyplot as plt\n",
    "plt.rcParams.update({\"axes.grid\":True,\"grid.color\":\"black\",\"grid.alpha\":\"0.25\",\"grid.linestyle\":\"--\"})\n",
    "plt.rcParams.update({'font.size': 14})\n",
    "\n",
    "# autoreload modules when code is run\n",
    "%load_ext autoreload\n",
    "%autoreload 2\n",
    "\n",
    "# Importing python file\n",
    "import dataprojecteksamen\n",
    "\n",
    "#We use this later on for our plots\n",
    "warnings.filterwarnings('ignore', category=FutureWarning)\n"
   ]
  },
  {
   "cell_type": "markdown",
   "metadata": {},
   "source": [
    "# Read and clean data"
   ]
  },
  {
   "cell_type": "markdown",
   "metadata": {},
   "source": [
    "Importing the first data set about income where one of the variables is age from DST through an API (we will refer to the data set as income-age)."
   ]
  },
  {
   "cell_type": "code",
   "execution_count": null,
   "metadata": {},
   "outputs": [],
   "source": [
    "ind = DstApi('LONS50') "
   ]
  },
  {
   "cell_type": "markdown",
   "metadata": {},
   "source": [
    "Getting a quick overview over the data"
   ]
  },
  {
   "cell_type": "code",
   "execution_count": null,
   "metadata": {},
   "outputs": [],
   "source": [
    "tabsum = ind.tablesummary(language='en')\n",
    "display(tabsum)"
   ]
  },
  {
   "cell_type": "markdown",
   "metadata": {},
   "source": [
    "Then we would like to see the available values for a each variable and their id: "
   ]
  },
  {
   "cell_type": "code",
   "execution_count": null,
   "metadata": {},
   "outputs": [],
   "source": [
    "# The available values for a each variable and their id: \n",
    "for variable in tabsum['variable name']:\n",
    "   print(variable+':')\n",
    "   display(ind.variable_levels(variable, language='en'))\n"
   ]
  },
  {
   "cell_type": "markdown",
   "metadata": {},
   "source": [
    "Then we use the define_base_params -method to give us a nice template (where from we can select available data)."
   ]
  },
  {
   "cell_type": "code",
   "execution_count": null,
   "metadata": {},
   "outputs": [],
   "source": [
    "params = ind._define_base_params(language='en')\n",
    "params"
   ]
  },
  {
   "cell_type": "markdown",
   "metadata": {},
   "source": [
    "We then choose the data we want as our parameters. We want to examine the income for different age groups and sektors."
   ]
  },
  {
   "cell_type": "code",
   "execution_count": null,
   "metadata": {},
   "outputs": [],
   "source": [
    "# The data we want as our parameters \n",
    "params = {'table': 'lons50',\n",
    " 'format': 'BULK',\n",
    " 'lang': 'en',\n",
    " 'variables': [{'code': 'ALDER1', 'values': ['20-24','25-29','30-34','35-39','40-44','45-49','50-54','55-59','60-']},\n",
    "  {'code': 'SEKTOR', 'values': ['1018', '1016', '1046']},\n",
    "  {'code': 'AFLOEN', 'values': ['TIFA']},\n",
    "  {'code': 'LONGRP', 'values': ['LTOT']},\n",
    "  {'code': 'LØNMÅL', 'values': ['FORINKL']},\n",
    "  {'code': 'KØN', 'values': ['MOK']},\n",
    "  {'code': 'Tid', 'values': ['*']}]}\n"
   ]
  },
  {
   "cell_type": "markdown",
   "metadata": {},
   "source": [
    "To get an overview of the data we print some infomation and the top of the table showing the data. Remove the # to show the dataframe."
   ]
  },
  {
   "cell_type": "code",
   "execution_count": null,
   "metadata": {},
   "outputs": [],
   "source": [
    "inc_api = ind.get_data(params=params)\n",
    "#inc_api.info()\n",
    "#inc_api.head()"
   ]
  },
  {
   "cell_type": "markdown",
   "metadata": {},
   "source": [
    "Next, we sort the data and again print the top of the table."
   ]
  },
  {
   "cell_type": "code",
   "execution_count": null,
   "metadata": {},
   "outputs": [],
   "source": [
    "inc_api.sort_values(by=['ALDER1', 'TID', 'SEKTOR'], inplace=True)\n",
    "inc_api.head(5)"
   ]
  },
  {
   "cell_type": "markdown",
   "metadata": {},
   "source": [
    "It seems that the \"INDHOLD\" column is currently stored as an object data type and the \"TID\" column is stored as an int64, so we will convert it to a float data type."
   ]
  },
  {
   "cell_type": "code",
   "execution_count": null,
   "metadata": {},
   "outputs": [],
   "source": [
    "inc_api['INDHOLD'] = inc_api['INDHOLD'].astype(float)\n",
    "#print(inc_api['INDHOLD'].dtype)"
   ]
  },
  {
   "cell_type": "code",
   "execution_count": null,
   "metadata": {},
   "outputs": [],
   "source": [
    "inc_api['TID'] = inc_api['TID'].astype(float)\n",
    "#print(inc_api['TID'].dtype)"
   ]
  },
  {
   "cell_type": "markdown",
   "metadata": {},
   "source": [
    "We import the second data set about income where one of the variables is area in Denmark from DST through an API (we will refer to the data set as income-area). We will for this income-area data set go through the same methoed as we did for the income-age data set. "
   ]
  },
  {
   "cell_type": "code",
   "execution_count": null,
   "metadata": {},
   "outputs": [],
   "source": [
    "ind1 = DstApi('LONS30') "
   ]
  },
  {
   "cell_type": "markdown",
   "metadata": {},
   "source": [
    "Getting a quick overview over the data"
   ]
  },
  {
   "cell_type": "code",
   "execution_count": null,
   "metadata": {},
   "outputs": [],
   "source": [
    "tabsum1 = ind1.tablesummary(language='en')\n",
    "display(tabsum1)"
   ]
  },
  {
   "cell_type": "markdown",
   "metadata": {},
   "source": [
    "Then we would like to see the available values for a each variable and their id: "
   ]
  },
  {
   "cell_type": "code",
   "execution_count": null,
   "metadata": {},
   "outputs": [],
   "source": [
    "#for variable in tabsum1['variable name']:\n",
    "  #print(variable+':')\n",
    "  #display(ind.variable_levels(variable, language='en'))"
   ]
  },
  {
   "cell_type": "markdown",
   "metadata": {},
   "source": [
    "Then we use the define_base_params -method to give us a nice template (where from we can select available data)."
   ]
  },
  {
   "cell_type": "code",
   "execution_count": null,
   "metadata": {},
   "outputs": [],
   "source": [
    "params1 = ind1._define_base_params(language='en')\n",
    "params1"
   ]
  },
  {
   "cell_type": "markdown",
   "metadata": {},
   "source": [
    "Here we choose the data we want as our parameters:"
   ]
  },
  {
   "cell_type": "code",
   "execution_count": null,
   "metadata": {},
   "outputs": [],
   "source": [
    "params1 = {'table': 'lons30',\n",
    " 'format': 'BULK',\n",
    " 'lang': 'en',\n",
    " 'variables': [{'code': 'OMRÅDE', 'values': ['*']},\n",
    "  {'code': 'SEKTOR', 'values': ['1018', '1016', '1046']},\n",
    "  {'code': 'AFLOEN', 'values': ['TIFA']},\n",
    "  {'code': 'LONGRP', 'values': ['LTOT']},\n",
    "  {'code': 'LØNMÅL', 'values': ['FORINKL']},\n",
    "  {'code': 'KØN', 'values': ['MOK']},\n",
    "  {'code': 'Tid', 'values': ['*']}]}"
   ]
  },
  {
   "cell_type": "markdown",
   "metadata": {},
   "source": [
    "To get an overview of the data we print some infomation and the top of the table showing the data. Remove the # to show the dataframe."
   ]
  },
  {
   "cell_type": "code",
   "execution_count": null,
   "metadata": {},
   "outputs": [],
   "source": [
    "inc1_api = ind1.get_data(params=params1)\n",
    "#inc1_api.info()\n",
    "#inc1_api.head()"
   ]
  },
  {
   "cell_type": "markdown",
   "metadata": {},
   "source": [
    "Next, we sort the data and again print the top of the table:"
   ]
  },
  {
   "cell_type": "code",
   "execution_count": null,
   "metadata": {},
   "outputs": [],
   "source": [
    "inc1_api.sort_values(by=['OMRÅDE', 'TID', 'SEKTOR'], inplace=True)\n",
    "#inc1_api.head(5)"
   ]
  },
  {
   "cell_type": "markdown",
   "metadata": {},
   "source": [
    "Importing the second data set about income where one of the variables is area in Denmark from DST through an API (we will refer to the data set as income-area). We will for this income-area data set go through the same methoed as we did for the income-age data set. "
   ]
  },
  {
   "cell_type": "code",
   "execution_count": null,
   "metadata": {},
   "outputs": [],
   "source": [
    "inc1_api['INDHOLD'] = inc1_api['INDHOLD'].astype(float)\n",
    "#print(inc1_api['INDHOLD'].dtype)"
   ]
  },
  {
   "cell_type": "code",
   "execution_count": null,
   "metadata": {},
   "outputs": [],
   "source": [
    "inc1_api['TID'] = inc1_api['TID'].astype(float)\n",
    "#print(inc1_api['TID'].dtype)"
   ]
  },
  {
   "cell_type": "markdown",
   "metadata": {},
   "source": [
    "# Cleaning the data sets"
   ]
  },
  {
   "cell_type": "markdown",
   "metadata": {},
   "source": [
    "We now clean the data set by dropping irrelevant variables and removing duplicates."
   ]
  },
  {
   "cell_type": "markdown",
   "metadata": {},
   "source": [
    "Dropping irrelevant variables from first data set:"
   ]
  },
  {
   "cell_type": "code",
   "execution_count": null,
   "metadata": {},
   "outputs": [],
   "source": [
    "Inc_age = inc_api.drop(['LONGRP', 'LØNMÅL', 'AFLOEN','KØN'],axis=1) \n",
    "Inc_age.head(10)"
   ]
  },
  {
   "cell_type": "markdown",
   "metadata": {},
   "source": [
    "Dropping irrelevant variables from second data set:"
   ]
  },
  {
   "cell_type": "code",
   "execution_count": null,
   "metadata": {},
   "outputs": [],
   "source": [
    "Inc_area = inc1_api.drop(['LONGRP', 'LØNMÅL', 'AFLOEN','KØN'],axis=1) # Drop irrelevant variables\n",
    "Inc_area.head(10)"
   ]
  },
  {
   "cell_type": "markdown",
   "metadata": {},
   "source": [
    "Cleaning the data by removing duplicates:"
   ]
  },
  {
   "cell_type": "code",
   "execution_count": null,
   "metadata": {},
   "outputs": [],
   "source": [
    "Inc_age_cleaned = Inc_age.dropna().drop_duplicates()\n",
    "Inc_area_cleaned = Inc_area.dropna().drop_duplicates()"
   ]
  },
  {
   "cell_type": "markdown",
   "metadata": {},
   "source": [
    "# Merge data sets"
   ]
  },
  {
   "cell_type": "markdown",
   "metadata": {},
   "source": [
    "We now merge the two data set into one."
   ]
  },
  {
   "cell_type": "markdown",
   "metadata": {},
   "source": [
    "We merge datasets on common 'TID' and 'SEKTOR'. We are using an inner join here, meaning we only keep rows that match in both datasets:"
   ]
  },
  {
   "cell_type": "code",
   "execution_count": null,
   "metadata": {},
   "outputs": [],
   "source": [
    "merged_df = pd.merge(Inc_age_cleaned, Inc_area_cleaned, on=['TID', 'SEKTOR'], suffixes=('_age', '_area'))\n",
    "\n",
    "# Check the merged data\n",
    "print(merged_df.head())"
   ]
  },
  {
   "cell_type": "markdown",
   "metadata": {},
   "source": [
    "# Analysis"
   ]
  },
  {
   "cell_type": "markdown",
   "metadata": {},
   "source": [
    "We start our analysis with a simpel overview over the income development in the years 2013-2022. The income (measured as the hourly wage) has been increasing every year in the period."
   ]
  },
  {
   "cell_type": "code",
   "execution_count": null,
   "metadata": {},
   "outputs": [],
   "source": [
    "# We group the data by year and calculate the average income for each year\n",
    "avg_income_by_year = merged_df.groupby('TID')['INDHOLD_age'].mean()\n",
    "\n",
    "# We import the plot function from the dataproject python file\n",
    "from dataprojecteksamen import plot_avg_income_over_years\n",
    "\n",
    "# Then plot the function\n",
    "plot_avg_income_over_years(avg_income_by_year)"
   ]
  },
  {
   "cell_type": "markdown",
   "metadata": {},
   "source": [
    "We see that the average income in Denmark has been increasing over the entire periode from 2014 to 2022."
   ]
  },
  {
   "cell_type": "markdown",
   "metadata": {},
   "source": [
    "Next, we show the development in the income for the different areas in Denmark for the same period."
   ]
  },
  {
   "cell_type": "code",
   "execution_count": null,
   "metadata": {},
   "outputs": [],
   "source": [
    "# We import the plot function from the python file\n",
    "from dataprojecteksamen import plot_avg_income_by_year_area\n",
    "\n",
    "# Plot the function\n",
    "plot_avg_income_by_year_area(merged_df)"
   ]
  },
  {
   "cell_type": "markdown",
   "metadata": {},
   "source": [
    "Here we see a much higher income in Region Hovedstaden compared to the other areas, and Region Syddanmark has the lowest average income. The average income has been increasin over the entire period for all areas."
   ]
  },
  {
   "cell_type": "markdown",
   "metadata": {},
   "source": [
    "We then want to examine the income distrubution for different age groups and areas for the most recent year. In the next figure, we present two boxplots where the first one shows the income distribution by age for 2022 and the second shows the income distribution by area for 2022."
   ]
  },
  {
   "cell_type": "markdown",
   "metadata": {},
   "source": [
    "We find the most recent year in the merged dataset:"
   ]
  },
  {
   "cell_type": "code",
   "execution_count": null,
   "metadata": {},
   "outputs": [],
   "source": [
    "most_recent_year = int(merged_df['TID'].max())\n",
    "print(f\"Most recent year in the dataset: {most_recent_year}\")"
   ]
  },
  {
   "cell_type": "markdown",
   "metadata": {},
   "source": [
    "We plot the income distrbution by area in the year 2022:"
   ]
  },
  {
   "cell_type": "code",
   "execution_count": null,
   "metadata": {},
   "outputs": [],
   "source": [
    "# We import the plot functions\n",
    "from dataprojecteksamen import plot_income_distribution_by_area\n",
    "\n",
    "# We define the most recent year\n",
    "most_recent_year = 2022\n",
    "\n",
    "# We plot the functions\n",
    "plot_income_distribution_by_area(merged_df, most_recent_year)"
   ]
  },
  {
   "cell_type": "markdown",
   "metadata": {},
   "source": [
    "The line indicates the median income and the dot shows the mean income. \n",
    "We see that the median income is largest in Region Hovedstaden. We also see that the median is higher than the mean, which suggests that most people have higher incomes, but there are a few individuals with very low incomes that are affecting the average. For all other regions the median is lower than the mean, indicating that a smaller portion of the population in these areas contribute to raising the average income. Overall, we see that the income in Region Hovedstaden pulls up the average income for all of Denmark. The lowest average and median income is in Region Nordjylland. "
   ]
  },
  {
   "cell_type": "markdown",
   "metadata": {},
   "source": [
    "We then plot the income distrbution by age group in the year 2022:"
   ]
  },
  {
   "cell_type": "code",
   "execution_count": null,
   "metadata": {},
   "outputs": [],
   "source": [
    "# We import the plot functions\n",
    "from dataprojecteksamen import plot_income_distribution_by_age\n",
    "\n",
    "# We define the most recent year\n",
    "most_recent_year = 2022\n",
    "\n",
    "# We plot the functions\n",
    "plot_income_distribution_by_age(merged_df, most_recent_year)"
   ]
  },
  {
   "cell_type": "markdown",
   "metadata": {},
   "source": [
    "We see that the average income increases from age group 20-24 all the way to 50-54 years whereafter it falls. This is most likely because young people in the age group 20-24 are studying and therefore, and first in the age group 25-29 start to enter the workforce. As experience increase pay most likely also icnreases. In the age group 55-59 people start to enter retirement, which may contribute to the fall in average income.\n",
    "\n",
    "We see from age group 25-29 to 55-59 the median is higher than the average income indicating that few individuals contribute to dragging down the average. Whereas for the group 20-24 and 60 years and over the median is slighty higher than the average, which indicates that the distrubtion is overall fairly equal for these groups however a few indivuals contribute a slightly higher average."
   ]
  },
  {
   "cell_type": "markdown",
   "metadata": {},
   "source": [
    "Last we want to examine the average income development for different sectors in Denmark."
   ]
  },
  {
   "cell_type": "markdown",
   "metadata": {},
   "source": [
    "We plot the average income for the different sectors for the periode 2013-2022 for different areas. The area can be choosen using the dropdown box."
   ]
  },
  {
   "cell_type": "code",
   "execution_count": null,
   "metadata": {},
   "outputs": [],
   "source": [
    "# Import the function from the python file\n",
    "from dataprojecteksamen import interactive_plot\n",
    "\n",
    "# Plot the function\n",
    "interactive_plot(Inc_age_cleaned, Inc_area_cleaned)"
   ]
  },
  {
   "cell_type": "markdown",
   "metadata": {},
   "source": [
    "When looking at all of Denmark we see that the income is greates over the entire period in the sector Corporations and organizations and lowest in Municipal and regional goverment, but has been increasing for all the three sectors over the entire period. \n",
    "\n",
    "In Region Hovedstaden the average income is much lower in the sector Municipal and regional goverment compared to the other two, however the average income from sector for Goverment including social security funds have increased in 2022 to be almost as high as Cooperations and organizations. \n",
    "\n",
    "This picture is very different when we look at the other areas in Denmark. In all other regions the income is greates in the sector for Goverment including social security funds. And in Region Nordjylland and Sjælland it is the lowest. The plots indicate that the sector Corporations and organizations provide a higher wage in the regions containing the two largest cities in Denmark, Copenhagen and Aarhus (Region Hovedstaden and Midtjylland). Wheras in the more rural areas the average income stemming from goverment and muncipial and regional goverment sectors is higher than from the private sector. "
   ]
  },
  {
   "cell_type": "markdown",
   "metadata": {},
   "source": [
    "We then examine the growth rate from 2013 to 2022 for the different sectors. The drop box can be used to select the areas."
   ]
  },
  {
   "cell_type": "code",
   "execution_count": null,
   "metadata": {},
   "outputs": [],
   "source": [
    "# We import the growth rate funtion from the python file\n",
    "from dataprojecteksamen import interactive_growth_rate\n",
    "\n",
    "# We show the box\n",
    "interactive_growth_rate(Inc_age_cleaned, Inc_area_cleaned)"
   ]
  },
  {
   "cell_type": "markdown",
   "metadata": {},
   "source": [
    "We see from the drop box that in all of Denmark the growth rate in average income has been the greatest in the sector Municipal and regional gowerment (which is also the case when looking at the regions indivdiually) and lowest in Corporations and organizations. This indicates a generall greater income growth in the public sector compared to private. "
   ]
  },
  {
   "cell_type": "markdown",
   "metadata": {},
   "source": [
    "# Conclusion"
   ]
  },
  {
   "cell_type": "markdown",
   "metadata": {},
   "source": [
    "We find that income has been increasing in all regions in Denmark from 2013 to 2022. The income is greatest in the region 'Hovedstaden' and the least in 'Nordjylland' for all years, which most likely is because of 'Hovedstaden' including the capital of Denmark. Generally, we would expect to see more higher-salary jobs in capitals and larger citites. We also show two box plot with the median income for all regions and age groups in 2022. We see that although the median income for Copenhagen is very high, there is a large variability in the income distrubution for the bottom 50 pct. of income earners in 2022, with few indivduals lowering the average.\n",
    "\n",
    "In 2022 we see that the income median is increasing in age groups but peaks at the age group 50-54 whereafter it falls. This is presumably because young people are studying and earning a lower wage for the first years of their careers whereafter salaries increase with more experience in the job market/senior positions. The fall in income in the older age groups is most likely caused by more people retiring and switching to pensions that provides a lower income than working. For almost all age groups the median is relativly high in the box-plot, which illustrates that there is greater income variability in the 50 pct. lowest earners compared to the 50 pct. highest, and that a smaller portion of the groups lowers the average.\n",
    "\n",
    "The average income has increased for all sectors in Denmark from 2013 to 2022, however the sector Municipal and regional gowerment has had the greates growth rate, which is also the case when looking at the individual areas. In region Hovedstaden the highest income is from the sector Corporations and organizations, wheras in the other areas the sector for Goverment including social security funds has the highest average income."
   ]
  }
 ],
 "metadata": {
  "kernelspec": {
   "display_name": "base",
   "language": "python",
   "name": "python3"
  },
  "language_info": {
   "codemirror_mode": {
    "name": "ipython",
    "version": 3
   },
   "file_extension": ".py",
   "mimetype": "text/x-python",
   "name": "python",
   "nbconvert_exporter": "python",
   "pygments_lexer": "ipython3",
   "version": "3.11.7"
  },
  "toc-autonumbering": true,
  "vscode": {
   "interpreter": {
    "hash": "47ef90cdf3004d3f859f1fb202523c65c07ba7c22eefd261b181f4744e2d0403"
   }
  }
 },
 "nbformat": 4,
 "nbformat_minor": 4
}
