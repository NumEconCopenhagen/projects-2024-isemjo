{
 "cells": [
  {
   "cell_type": "markdown",
   "metadata": {},
   "source": [
    "# Income analysis for Denmark"
   ]
  },
  {
   "cell_type": "markdown",
   "metadata": {},
   "source": [
    "In this data project we analyize the income charateristics in Denmark. We focus our analysis on income for different age groups, regions and sectors in Denmark from 2013-2022.\n",
    "\n",
    "First we import the data using and API from Danmarks Statistik. We use two statistics, LONS50 and LONS30, clean them both and merge them. \n",
    "\n",
    "We then start our analysis by first examining the overall income devlopment from 2013 to 2022, looking at the hourly wage (earnings in DKK per hour worked) for all of Denmark. \n",
    "\n",
    "We then analyize the income devlopment and income distrubution for the different areas in Denmark using a box-plot. We then look at the income distrubution for the different age groups - also using a box-plot.\n",
    "\n",
    "Lastly we examine the devlopment and growth rate in the income for different sector. Using an interactive graph and box we also examine the sector income development for different areas. We finish by conluding our analysis of income characteristics in Denmark."
   ]
  },
  {
   "cell_type": "markdown",
   "metadata": {},
   "source": [
    "First we install the necessary programs:"
   ]
  },
  {
   "cell_type": "code",
   "execution_count": 1,
   "metadata": {},
   "outputs": [
    {
     "name": "stdout",
     "output_type": "stream",
     "text": [
      "Collecting git+https://github.com/alemartinello/dstapi\n",
      "  Cloning https://github.com/alemartinello/dstapi to /private/var/folders/zt/j3vldpcn0kl54_5vmb_wxwpc0000gn/T/pip-req-build-2tq2io1k\n",
      "  Running command git clone --filter=blob:none --quiet https://github.com/alemartinello/dstapi /private/var/folders/zt/j3vldpcn0kl54_5vmb_wxwpc0000gn/T/pip-req-build-2tq2io1k\n",
      "  Resolved https://github.com/alemartinello/dstapi to commit d9eeb5a82cbc70b7d63b2ff44d92632fd77123a4\n",
      "  Preparing metadata (setup.py) ... \u001b[?25ldone\n",
      "\u001b[?25hRequirement already satisfied: pandas in /Users/isabellagrunwald/anaconda3/lib/python3.11/site-packages (from dstapi==0.2) (2.1.4)\n",
      "Requirement already satisfied: requests in /Users/isabellagrunwald/anaconda3/lib/python3.11/site-packages (from dstapi==0.2) (2.31.0)\n",
      "Requirement already satisfied: numpy<2,>=1.23.2 in /Users/isabellagrunwald/anaconda3/lib/python3.11/site-packages (from pandas->dstapi==0.2) (1.26.3)\n",
      "Requirement already satisfied: python-dateutil>=2.8.2 in /Users/isabellagrunwald/anaconda3/lib/python3.11/site-packages (from pandas->dstapi==0.2) (2.8.2)\n",
      "Requirement already satisfied: pytz>=2020.1 in /Users/isabellagrunwald/anaconda3/lib/python3.11/site-packages (from pandas->dstapi==0.2) (2023.3.post1)\n",
      "Requirement already satisfied: tzdata>=2022.1 in /Users/isabellagrunwald/anaconda3/lib/python3.11/site-packages (from pandas->dstapi==0.2) (2023.3)\n",
      "Requirement already satisfied: charset-normalizer<4,>=2 in /Users/isabellagrunwald/anaconda3/lib/python3.11/site-packages (from requests->dstapi==0.2) (2.0.4)\n",
      "Requirement already satisfied: idna<4,>=2.5 in /Users/isabellagrunwald/anaconda3/lib/python3.11/site-packages (from requests->dstapi==0.2) (3.4)\n",
      "Requirement already satisfied: urllib3<3,>=1.21.1 in /Users/isabellagrunwald/anaconda3/lib/python3.11/site-packages (from requests->dstapi==0.2) (2.0.7)\n",
      "Requirement already satisfied: certifi>=2017.4.17 in /Users/isabellagrunwald/anaconda3/lib/python3.11/site-packages (from requests->dstapi==0.2) (2024.2.2)\n",
      "Requirement already satisfied: six>=1.5 in /Users/isabellagrunwald/anaconda3/lib/python3.11/site-packages (from python-dateutil>=2.8.2->pandas->dstapi==0.2) (1.16.0)\n",
      "Note: you may need to restart the kernel to use updated packages.\n",
      "Requirement already satisfied: pandas-datareader in /Users/isabellagrunwald/anaconda3/lib/python3.11/site-packages (0.10.0)\n",
      "Requirement already satisfied: lxml in /Users/isabellagrunwald/anaconda3/lib/python3.11/site-packages (from pandas-datareader) (4.9.3)\n",
      "Requirement already satisfied: pandas>=0.23 in /Users/isabellagrunwald/anaconda3/lib/python3.11/site-packages (from pandas-datareader) (2.1.4)\n",
      "Requirement already satisfied: requests>=2.19.0 in /Users/isabellagrunwald/anaconda3/lib/python3.11/site-packages (from pandas-datareader) (2.31.0)\n",
      "Requirement already satisfied: numpy<2,>=1.23.2 in /Users/isabellagrunwald/anaconda3/lib/python3.11/site-packages (from pandas>=0.23->pandas-datareader) (1.26.3)\n",
      "Requirement already satisfied: python-dateutil>=2.8.2 in /Users/isabellagrunwald/anaconda3/lib/python3.11/site-packages (from pandas>=0.23->pandas-datareader) (2.8.2)\n",
      "Requirement already satisfied: pytz>=2020.1 in /Users/isabellagrunwald/anaconda3/lib/python3.11/site-packages (from pandas>=0.23->pandas-datareader) (2023.3.post1)\n",
      "Requirement already satisfied: tzdata>=2022.1 in /Users/isabellagrunwald/anaconda3/lib/python3.11/site-packages (from pandas>=0.23->pandas-datareader) (2023.3)\n",
      "Requirement already satisfied: charset-normalizer<4,>=2 in /Users/isabellagrunwald/anaconda3/lib/python3.11/site-packages (from requests>=2.19.0->pandas-datareader) (2.0.4)\n",
      "Requirement already satisfied: idna<4,>=2.5 in /Users/isabellagrunwald/anaconda3/lib/python3.11/site-packages (from requests>=2.19.0->pandas-datareader) (3.4)\n",
      "Requirement already satisfied: urllib3<3,>=1.21.1 in /Users/isabellagrunwald/anaconda3/lib/python3.11/site-packages (from requests>=2.19.0->pandas-datareader) (2.0.7)\n",
      "Requirement already satisfied: certifi>=2017.4.17 in /Users/isabellagrunwald/anaconda3/lib/python3.11/site-packages (from requests>=2.19.0->pandas-datareader) (2024.2.2)\n",
      "Requirement already satisfied: six>=1.5 in /Users/isabellagrunwald/anaconda3/lib/python3.11/site-packages (from python-dateutil>=2.8.2->pandas>=0.23->pandas-datareader) (1.16.0)\n",
      "Note: you may need to restart the kernel to use updated packages.\n",
      "Requirement already satisfied: seaborn in /Users/isabellagrunwald/anaconda3/lib/python3.11/site-packages (0.12.2)\n",
      "Requirement already satisfied: numpy!=1.24.0,>=1.17 in /Users/isabellagrunwald/anaconda3/lib/python3.11/site-packages (from seaborn) (1.26.3)\n",
      "Requirement already satisfied: pandas>=0.25 in /Users/isabellagrunwald/anaconda3/lib/python3.11/site-packages (from seaborn) (2.1.4)\n",
      "Requirement already satisfied: matplotlib!=3.6.1,>=3.1 in /Users/isabellagrunwald/anaconda3/lib/python3.11/site-packages (from seaborn) (3.8.0)\n",
      "Requirement already satisfied: contourpy>=1.0.1 in /Users/isabellagrunwald/anaconda3/lib/python3.11/site-packages (from matplotlib!=3.6.1,>=3.1->seaborn) (1.2.0)\n",
      "Requirement already satisfied: cycler>=0.10 in /Users/isabellagrunwald/anaconda3/lib/python3.11/site-packages (from matplotlib!=3.6.1,>=3.1->seaborn) (0.11.0)\n",
      "Requirement already satisfied: fonttools>=4.22.0 in /Users/isabellagrunwald/anaconda3/lib/python3.11/site-packages (from matplotlib!=3.6.1,>=3.1->seaborn) (4.25.0)\n",
      "Requirement already satisfied: kiwisolver>=1.0.1 in /Users/isabellagrunwald/anaconda3/lib/python3.11/site-packages (from matplotlib!=3.6.1,>=3.1->seaborn) (1.4.4)\n",
      "Requirement already satisfied: packaging>=20.0 in /Users/isabellagrunwald/anaconda3/lib/python3.11/site-packages (from matplotlib!=3.6.1,>=3.1->seaborn) (23.1)\n",
      "Requirement already satisfied: pillow>=6.2.0 in /Users/isabellagrunwald/anaconda3/lib/python3.11/site-packages (from matplotlib!=3.6.1,>=3.1->seaborn) (10.2.0)\n",
      "Requirement already satisfied: pyparsing>=2.3.1 in /Users/isabellagrunwald/anaconda3/lib/python3.11/site-packages (from matplotlib!=3.6.1,>=3.1->seaborn) (3.0.9)\n",
      "Requirement already satisfied: python-dateutil>=2.7 in /Users/isabellagrunwald/anaconda3/lib/python3.11/site-packages (from matplotlib!=3.6.1,>=3.1->seaborn) (2.8.2)\n",
      "Requirement already satisfied: pytz>=2020.1 in /Users/isabellagrunwald/anaconda3/lib/python3.11/site-packages (from pandas>=0.25->seaborn) (2023.3.post1)\n",
      "Requirement already satisfied: tzdata>=2022.1 in /Users/isabellagrunwald/anaconda3/lib/python3.11/site-packages (from pandas>=0.25->seaborn) (2023.3)\n",
      "Requirement already satisfied: six>=1.5 in /Users/isabellagrunwald/anaconda3/lib/python3.11/site-packages (from python-dateutil>=2.7->matplotlib!=3.6.1,>=3.1->seaborn) (1.16.0)\n",
      "Note: you may need to restart the kernel to use updated packages.\n"
     ]
    }
   ],
   "source": [
    "# The DST API wrapper\n",
    "%pip install git+https://github.com/alemartinello/dstapi\n",
    "\n",
    "# A wrapper for multiple APIs with a pandas interface\n",
    "%pip install pandas-datareader\n",
    "\n",
    "# For data visualization\n",
    "%pip install seaborn"
   ]
  },
  {
   "cell_type": "markdown",
   "metadata": {},
   "source": [
    "The we write necessary imports and set magics:"
   ]
  },
  {
   "cell_type": "code",
   "execution_count": 2,
   "metadata": {},
   "outputs": [],
   "source": [
    "import pandas as pd\n",
    "import numpy as np\n",
    "import ipywidgets as widgets\n",
    "import warnings\n",
    "import seaborn as sns\n",
    "import plotly.express as px\n",
    "from IPython.display import display\n",
    "\n",
    "import datetime\n",
    "import pandas_datareader \n",
    "from dstapi import DstApi\n",
    "\n",
    "import matplotlib.pyplot as plt\n",
    "plt.rcParams.update({\"axes.grid\":True,\"grid.color\":\"black\",\"grid.alpha\":\"0.25\",\"grid.linestyle\":\"--\"})\n",
    "plt.rcParams.update({'font.size': 14})\n",
    "\n",
    "# autoreload modules when code is run\n",
    "%load_ext autoreload\n",
    "%autoreload 2\n",
    "\n",
    "# Importing python file\n",
    "import dataprojecteksamen\n",
    "\n",
    "#We use this later on for our plots\n",
    "warnings.filterwarnings('ignore', category=FutureWarning)\n"
   ]
  },
  {
   "cell_type": "markdown",
   "metadata": {},
   "source": [
    "# Read and clean data"
   ]
  },
  {
   "cell_type": "markdown",
   "metadata": {},
   "source": [
    "Importing the first data set about income where one of the variables is age from DST through an API (we will refer to the data set as income-age)."
   ]
  },
  {
   "cell_type": "code",
   "execution_count": 3,
   "metadata": {},
   "outputs": [],
   "source": [
    "ind = DstApi('LONS50') "
   ]
  },
  {
   "cell_type": "markdown",
   "metadata": {},
   "source": [
    "Getting a quick overview over the data"
   ]
  },
  {
   "cell_type": "code",
   "execution_count": 4,
   "metadata": {},
   "outputs": [
    {
     "name": "stdout",
     "output_type": "stream",
     "text": [
      "Table LONS50: Earnings by age, sector, salary, salary earners, components, sex and time\n",
      "Last update: 2023-11-29T08:00:00\n"
     ]
    },
    {
     "data": {
      "text/html": [
       "<div>\n",
       "<style scoped>\n",
       "    .dataframe tbody tr th:only-of-type {\n",
       "        vertical-align: middle;\n",
       "    }\n",
       "\n",
       "    .dataframe tbody tr th {\n",
       "        vertical-align: top;\n",
       "    }\n",
       "\n",
       "    .dataframe thead th {\n",
       "        text-align: right;\n",
       "    }\n",
       "</style>\n",
       "<table border=\"1\" class=\"dataframe\">\n",
       "  <thead>\n",
       "    <tr style=\"text-align: right;\">\n",
       "      <th></th>\n",
       "      <th>variable name</th>\n",
       "      <th># values</th>\n",
       "      <th>First value</th>\n",
       "      <th>First value label</th>\n",
       "      <th>Last value</th>\n",
       "      <th>Last value label</th>\n",
       "      <th>Time variable</th>\n",
       "    </tr>\n",
       "  </thead>\n",
       "  <tbody>\n",
       "    <tr>\n",
       "      <th>0</th>\n",
       "      <td>ALDER1</td>\n",
       "      <td>11</td>\n",
       "      <td>TOT</td>\n",
       "      <td>Age, total</td>\n",
       "      <td>60-</td>\n",
       "      <td>60 years and over</td>\n",
       "      <td>False</td>\n",
       "    </tr>\n",
       "    <tr>\n",
       "      <th>1</th>\n",
       "      <td>SEKTOR</td>\n",
       "      <td>7</td>\n",
       "      <td>1000</td>\n",
       "      <td>All sectors</td>\n",
       "      <td>1046</td>\n",
       "      <td>Corporations and organizations</td>\n",
       "      <td>False</td>\n",
       "    </tr>\n",
       "    <tr>\n",
       "      <th>2</th>\n",
       "      <td>AFLOEN</td>\n",
       "      <td>3</td>\n",
       "      <td>TIFA</td>\n",
       "      <td>All forms of pay</td>\n",
       "      <td>FAST</td>\n",
       "      <td>Fixed salary-earners</td>\n",
       "      <td>False</td>\n",
       "    </tr>\n",
       "    <tr>\n",
       "      <th>3</th>\n",
       "      <td>LONGRP</td>\n",
       "      <td>6</td>\n",
       "      <td>LTOT</td>\n",
       "      <td>Employee group total</td>\n",
       "      <td>ELE</td>\n",
       "      <td>Trainees</td>\n",
       "      <td>False</td>\n",
       "    </tr>\n",
       "    <tr>\n",
       "      <th>4</th>\n",
       "      <td>LØNMÅL</td>\n",
       "      <td>25</td>\n",
       "      <td>FORINKL</td>\n",
       "      <td>EARNINGS IN DKK PER HOUR WORKED</td>\n",
       "      <td>ANTAL</td>\n",
       "      <td>Number of fulltime employees in the earnings s...</td>\n",
       "      <td>False</td>\n",
       "    </tr>\n",
       "    <tr>\n",
       "      <th>5</th>\n",
       "      <td>KØN</td>\n",
       "      <td>3</td>\n",
       "      <td>MOK</td>\n",
       "      <td>Men and women, total</td>\n",
       "      <td>K</td>\n",
       "      <td>Women</td>\n",
       "      <td>False</td>\n",
       "    </tr>\n",
       "    <tr>\n",
       "      <th>6</th>\n",
       "      <td>Tid</td>\n",
       "      <td>10</td>\n",
       "      <td>2013</td>\n",
       "      <td>2013</td>\n",
       "      <td>2022</td>\n",
       "      <td>2022</td>\n",
       "      <td>True</td>\n",
       "    </tr>\n",
       "  </tbody>\n",
       "</table>\n",
       "</div>"
      ],
      "text/plain": [
       "  variable name  # values First value                First value label  \\\n",
       "0        ALDER1        11         TOT                       Age, total   \n",
       "1        SEKTOR         7        1000                      All sectors   \n",
       "2        AFLOEN         3        TIFA                 All forms of pay   \n",
       "3        LONGRP         6        LTOT             Employee group total   \n",
       "4        LØNMÅL        25     FORINKL  EARNINGS IN DKK PER HOUR WORKED   \n",
       "5           KØN         3         MOK             Men and women, total   \n",
       "6           Tid        10        2013                             2013   \n",
       "\n",
       "  Last value                                   Last value label  Time variable  \n",
       "0        60-                                  60 years and over          False  \n",
       "1       1046                     Corporations and organizations          False  \n",
       "2       FAST                               Fixed salary-earners          False  \n",
       "3        ELE                                           Trainees          False  \n",
       "4      ANTAL  Number of fulltime employees in the earnings s...          False  \n",
       "5          K                                              Women          False  \n",
       "6       2022                                               2022           True  "
      ]
     },
     "metadata": {},
     "output_type": "display_data"
    }
   ],
   "source": [
    "tabsum = ind.tablesummary(language='en')\n",
    "display(tabsum)"
   ]
  },
  {
   "cell_type": "markdown",
   "metadata": {},
   "source": [
    "Then we would like to see the available values for a each variable and their id: "
   ]
  },
  {
   "cell_type": "code",
   "execution_count": 5,
   "metadata": {},
   "outputs": [
    {
     "name": "stdout",
     "output_type": "stream",
     "text": [
      "ALDER1:\n"
     ]
    },
    {
     "data": {
      "text/html": [
       "<div>\n",
       "<style scoped>\n",
       "    .dataframe tbody tr th:only-of-type {\n",
       "        vertical-align: middle;\n",
       "    }\n",
       "\n",
       "    .dataframe tbody tr th {\n",
       "        vertical-align: top;\n",
       "    }\n",
       "\n",
       "    .dataframe thead th {\n",
       "        text-align: right;\n",
       "    }\n",
       "</style>\n",
       "<table border=\"1\" class=\"dataframe\">\n",
       "  <thead>\n",
       "    <tr style=\"text-align: right;\">\n",
       "      <th></th>\n",
       "      <th>id</th>\n",
       "      <th>text</th>\n",
       "    </tr>\n",
       "  </thead>\n",
       "  <tbody>\n",
       "    <tr>\n",
       "      <th>0</th>\n",
       "      <td>TOT</td>\n",
       "      <td>Age, total</td>\n",
       "    </tr>\n",
       "    <tr>\n",
       "      <th>1</th>\n",
       "      <td>-19</td>\n",
       "      <td>Under 20 years</td>\n",
       "    </tr>\n",
       "    <tr>\n",
       "      <th>2</th>\n",
       "      <td>20-24</td>\n",
       "      <td>20-24 years</td>\n",
       "    </tr>\n",
       "    <tr>\n",
       "      <th>3</th>\n",
       "      <td>25-29</td>\n",
       "      <td>25-29 years</td>\n",
       "    </tr>\n",
       "    <tr>\n",
       "      <th>4</th>\n",
       "      <td>30-34</td>\n",
       "      <td>30-34 years</td>\n",
       "    </tr>\n",
       "    <tr>\n",
       "      <th>5</th>\n",
       "      <td>35-39</td>\n",
       "      <td>35-39 years</td>\n",
       "    </tr>\n",
       "    <tr>\n",
       "      <th>6</th>\n",
       "      <td>40-44</td>\n",
       "      <td>40-44 years</td>\n",
       "    </tr>\n",
       "    <tr>\n",
       "      <th>7</th>\n",
       "      <td>45-49</td>\n",
       "      <td>45-49 years</td>\n",
       "    </tr>\n",
       "    <tr>\n",
       "      <th>8</th>\n",
       "      <td>50-54</td>\n",
       "      <td>50-54 years</td>\n",
       "    </tr>\n",
       "    <tr>\n",
       "      <th>9</th>\n",
       "      <td>55-59</td>\n",
       "      <td>55-59 years</td>\n",
       "    </tr>\n",
       "    <tr>\n",
       "      <th>10</th>\n",
       "      <td>60-</td>\n",
       "      <td>60 years and over</td>\n",
       "    </tr>\n",
       "  </tbody>\n",
       "</table>\n",
       "</div>"
      ],
      "text/plain": [
       "       id               text\n",
       "0     TOT         Age, total\n",
       "1     -19     Under 20 years\n",
       "2   20-24        20-24 years\n",
       "3   25-29        25-29 years\n",
       "4   30-34        30-34 years\n",
       "5   35-39        35-39 years\n",
       "6   40-44        40-44 years\n",
       "7   45-49        45-49 years\n",
       "8   50-54        50-54 years\n",
       "9   55-59        55-59 years\n",
       "10    60-  60 years and over"
      ]
     },
     "metadata": {},
     "output_type": "display_data"
    },
    {
     "name": "stdout",
     "output_type": "stream",
     "text": [
      "SEKTOR:\n"
     ]
    },
    {
     "data": {
      "text/html": [
       "<div>\n",
       "<style scoped>\n",
       "    .dataframe tbody tr th:only-of-type {\n",
       "        vertical-align: middle;\n",
       "    }\n",
       "\n",
       "    .dataframe tbody tr th {\n",
       "        vertical-align: top;\n",
       "    }\n",
       "\n",
       "    .dataframe thead th {\n",
       "        text-align: right;\n",
       "    }\n",
       "</style>\n",
       "<table border=\"1\" class=\"dataframe\">\n",
       "  <thead>\n",
       "    <tr style=\"text-align: right;\">\n",
       "      <th></th>\n",
       "      <th>id</th>\n",
       "      <th>text</th>\n",
       "    </tr>\n",
       "  </thead>\n",
       "  <tbody>\n",
       "    <tr>\n",
       "      <th>0</th>\n",
       "      <td>1000</td>\n",
       "      <td>All sectors</td>\n",
       "    </tr>\n",
       "    <tr>\n",
       "      <th>1</th>\n",
       "      <td>1032</td>\n",
       "      <td>General government</td>\n",
       "    </tr>\n",
       "    <tr>\n",
       "      <th>2</th>\n",
       "      <td>1016</td>\n",
       "      <td>Government including social security funds</td>\n",
       "    </tr>\n",
       "    <tr>\n",
       "      <th>3</th>\n",
       "      <td>1018</td>\n",
       "      <td>Municipal and regional government total</td>\n",
       "    </tr>\n",
       "    <tr>\n",
       "      <th>4</th>\n",
       "      <td>1020</td>\n",
       "      <td>Regional government</td>\n",
       "    </tr>\n",
       "    <tr>\n",
       "      <th>5</th>\n",
       "      <td>1025</td>\n",
       "      <td>Municipal government</td>\n",
       "    </tr>\n",
       "    <tr>\n",
       "      <th>6</th>\n",
       "      <td>1046</td>\n",
       "      <td>Corporations and organizations</td>\n",
       "    </tr>\n",
       "  </tbody>\n",
       "</table>\n",
       "</div>"
      ],
      "text/plain": [
       "     id                                        text\n",
       "0  1000                                 All sectors\n",
       "1  1032                          General government\n",
       "2  1016  Government including social security funds\n",
       "3  1018     Municipal and regional government total\n",
       "4  1020                         Regional government\n",
       "5  1025                        Municipal government\n",
       "6  1046              Corporations and organizations"
      ]
     },
     "metadata": {},
     "output_type": "display_data"
    },
    {
     "name": "stdout",
     "output_type": "stream",
     "text": [
      "AFLOEN:\n"
     ]
    },
    {
     "data": {
      "text/html": [
       "<div>\n",
       "<style scoped>\n",
       "    .dataframe tbody tr th:only-of-type {\n",
       "        vertical-align: middle;\n",
       "    }\n",
       "\n",
       "    .dataframe tbody tr th {\n",
       "        vertical-align: top;\n",
       "    }\n",
       "\n",
       "    .dataframe thead th {\n",
       "        text-align: right;\n",
       "    }\n",
       "</style>\n",
       "<table border=\"1\" class=\"dataframe\">\n",
       "  <thead>\n",
       "    <tr style=\"text-align: right;\">\n",
       "      <th></th>\n",
       "      <th>id</th>\n",
       "      <th>text</th>\n",
       "    </tr>\n",
       "  </thead>\n",
       "  <tbody>\n",
       "    <tr>\n",
       "      <th>0</th>\n",
       "      <td>TIFA</td>\n",
       "      <td>All forms of pay</td>\n",
       "    </tr>\n",
       "    <tr>\n",
       "      <th>1</th>\n",
       "      <td>TIME</td>\n",
       "      <td>Workers paid by the hour</td>\n",
       "    </tr>\n",
       "    <tr>\n",
       "      <th>2</th>\n",
       "      <td>FAST</td>\n",
       "      <td>Fixed salary-earners</td>\n",
       "    </tr>\n",
       "  </tbody>\n",
       "</table>\n",
       "</div>"
      ],
      "text/plain": [
       "     id                      text\n",
       "0  TIFA          All forms of pay\n",
       "1  TIME  Workers paid by the hour\n",
       "2  FAST      Fixed salary-earners"
      ]
     },
     "metadata": {},
     "output_type": "display_data"
    },
    {
     "name": "stdout",
     "output_type": "stream",
     "text": [
      "LONGRP:\n"
     ]
    },
    {
     "data": {
      "text/html": [
       "<div>\n",
       "<style scoped>\n",
       "    .dataframe tbody tr th:only-of-type {\n",
       "        vertical-align: middle;\n",
       "    }\n",
       "\n",
       "    .dataframe tbody tr th {\n",
       "        vertical-align: top;\n",
       "    }\n",
       "\n",
       "    .dataframe thead th {\n",
       "        text-align: right;\n",
       "    }\n",
       "</style>\n",
       "<table border=\"1\" class=\"dataframe\">\n",
       "  <thead>\n",
       "    <tr style=\"text-align: right;\">\n",
       "      <th></th>\n",
       "      <th>id</th>\n",
       "      <th>text</th>\n",
       "    </tr>\n",
       "  </thead>\n",
       "  <tbody>\n",
       "    <tr>\n",
       "      <th>0</th>\n",
       "      <td>LTOT</td>\n",
       "      <td>Employee group total</td>\n",
       "    </tr>\n",
       "    <tr>\n",
       "      <th>1</th>\n",
       "      <td>LED</td>\n",
       "      <td>General managers</td>\n",
       "    </tr>\n",
       "    <tr>\n",
       "      <th>2</th>\n",
       "      <td>VOK</td>\n",
       "      <td>Employees (exclusiv young people and trainees)</td>\n",
       "    </tr>\n",
       "    <tr>\n",
       "      <th>3</th>\n",
       "      <td>MED</td>\n",
       "      <td>Employees, non-managerial level</td>\n",
       "    </tr>\n",
       "    <tr>\n",
       "      <th>4</th>\n",
       "      <td>UNG</td>\n",
       "      <td>Young people, 13-17 years</td>\n",
       "    </tr>\n",
       "    <tr>\n",
       "      <th>5</th>\n",
       "      <td>ELE</td>\n",
       "      <td>Trainees</td>\n",
       "    </tr>\n",
       "  </tbody>\n",
       "</table>\n",
       "</div>"
      ],
      "text/plain": [
       "     id                                            text\n",
       "0  LTOT                            Employee group total\n",
       "1   LED                                General managers\n",
       "2   VOK  Employees (exclusiv young people and trainees)\n",
       "3   MED                 Employees, non-managerial level\n",
       "4   UNG                       Young people, 13-17 years\n",
       "5   ELE                                        Trainees"
      ]
     },
     "metadata": {},
     "output_type": "display_data"
    },
    {
     "name": "stdout",
     "output_type": "stream",
     "text": [
      "LØNMÅL:\n"
     ]
    },
    {
     "data": {
      "text/html": [
       "<div>\n",
       "<style scoped>\n",
       "    .dataframe tbody tr th:only-of-type {\n",
       "        vertical-align: middle;\n",
       "    }\n",
       "\n",
       "    .dataframe tbody tr th {\n",
       "        vertical-align: top;\n",
       "    }\n",
       "\n",
       "    .dataframe thead th {\n",
       "        text-align: right;\n",
       "    }\n",
       "</style>\n",
       "<table border=\"1\" class=\"dataframe\">\n",
       "  <thead>\n",
       "    <tr style=\"text-align: right;\">\n",
       "      <th></th>\n",
       "      <th>id</th>\n",
       "      <th>text</th>\n",
       "    </tr>\n",
       "  </thead>\n",
       "  <tbody>\n",
       "    <tr>\n",
       "      <th>0</th>\n",
       "      <td>FORINKL</td>\n",
       "      <td>EARNINGS IN DKK PER HOUR WORKED</td>\n",
       "    </tr>\n",
       "    <tr>\n",
       "      <th>1</th>\n",
       "      <td>OVERB</td>\n",
       "      <td>Overtime payment in DKK per hour worked</td>\n",
       "    </tr>\n",
       "    <tr>\n",
       "      <th>2</th>\n",
       "      <td>SYGDOM</td>\n",
       "      <td>Sickness with pay, etc. in DKK per hour worked</td>\n",
       "    </tr>\n",
       "    <tr>\n",
       "      <th>3</th>\n",
       "      <td>GENE</td>\n",
       "      <td>Nuisance bonus in DKK per hour worked</td>\n",
       "    </tr>\n",
       "    <tr>\n",
       "      <th>4</th>\n",
       "      <td>GODE</td>\n",
       "      <td>Fringe benefits in DKK per hour worked</td>\n",
       "    </tr>\n",
       "    <tr>\n",
       "      <th>5</th>\n",
       "      <td>UREGEL</td>\n",
       "      <td>Irregular payments in DKK per hour worked</td>\n",
       "    </tr>\n",
       "    <tr>\n",
       "      <th>6</th>\n",
       "      <td>PENS</td>\n",
       "      <td>Pension including ATP in DKK per hour worked</td>\n",
       "    </tr>\n",
       "    <tr>\n",
       "      <th>7</th>\n",
       "      <td>BASIS</td>\n",
       "      <td>Basic earnings in DKK per hour worked</td>\n",
       "    </tr>\n",
       "    <tr>\n",
       "      <th>8</th>\n",
       "      <td>SFERIE</td>\n",
       "      <td>..Special holiday allowance in DKK per hour wo...</td>\n",
       "    </tr>\n",
       "    <tr>\n",
       "      <th>9</th>\n",
       "      <td>FERIE</td>\n",
       "      <td>..Holiday payments in DKK per hour worked</td>\n",
       "    </tr>\n",
       "    <tr>\n",
       "      <th>10</th>\n",
       "      <td>NEDRE</td>\n",
       "      <td>Lower quartile, earnings in DKK per hour worked</td>\n",
       "    </tr>\n",
       "    <tr>\n",
       "      <th>11</th>\n",
       "      <td>MEDIAN</td>\n",
       "      <td>Median, earnings in DKK per hour worked</td>\n",
       "    </tr>\n",
       "    <tr>\n",
       "      <th>12</th>\n",
       "      <td>OVRE</td>\n",
       "      <td>upper quartile, earnings in DKK per hour worked</td>\n",
       "    </tr>\n",
       "    <tr>\n",
       "      <th>13</th>\n",
       "      <td>STAND</td>\n",
       "      <td>STANDARDIZED HOURLY EARNINGS</td>\n",
       "    </tr>\n",
       "    <tr>\n",
       "      <th>14</th>\n",
       "      <td>GENEST</td>\n",
       "      <td>Nuisance bonus in DKK per standard hour</td>\n",
       "    </tr>\n",
       "    <tr>\n",
       "      <th>15</th>\n",
       "      <td>GODEST</td>\n",
       "      <td>Fringe benefits in DKK per standard hour</td>\n",
       "    </tr>\n",
       "    <tr>\n",
       "      <th>16</th>\n",
       "      <td>UREGELST</td>\n",
       "      <td>Irregular payment in DKK per standard hour</td>\n",
       "    </tr>\n",
       "    <tr>\n",
       "      <th>17</th>\n",
       "      <td>PENSST</td>\n",
       "      <td>Pension including ATP in DKK per standard hour</td>\n",
       "    </tr>\n",
       "    <tr>\n",
       "      <th>18</th>\n",
       "      <td>BASISST</td>\n",
       "      <td>Basic earnings in DKK per standard hour</td>\n",
       "    </tr>\n",
       "    <tr>\n",
       "      <th>19</th>\n",
       "      <td>SFERIEST</td>\n",
       "      <td>..Special holiday allowance in DKK per standar...</td>\n",
       "    </tr>\n",
       "    <tr>\n",
       "      <th>20</th>\n",
       "      <td>NEDREST</td>\n",
       "      <td>Lower quartile, standardized earnings</td>\n",
       "    </tr>\n",
       "    <tr>\n",
       "      <th>21</th>\n",
       "      <td>MEDIANST</td>\n",
       "      <td>Median, standardized hourly earnings</td>\n",
       "    </tr>\n",
       "    <tr>\n",
       "      <th>22</th>\n",
       "      <td>OVREST</td>\n",
       "      <td>Upper quartile, standardized hourly earnings</td>\n",
       "    </tr>\n",
       "    <tr>\n",
       "      <th>23</th>\n",
       "      <td>MDRSNIT</td>\n",
       "      <td>STANDARDIZED MONTHLY EARNINGS</td>\n",
       "    </tr>\n",
       "    <tr>\n",
       "      <th>24</th>\n",
       "      <td>ANTAL</td>\n",
       "      <td>Number of fulltime employees in the earnings s...</td>\n",
       "    </tr>\n",
       "  </tbody>\n",
       "</table>\n",
       "</div>"
      ],
      "text/plain": [
       "          id                                               text\n",
       "0    FORINKL                    EARNINGS IN DKK PER HOUR WORKED\n",
       "1      OVERB            Overtime payment in DKK per hour worked\n",
       "2     SYGDOM     Sickness with pay, etc. in DKK per hour worked\n",
       "3       GENE              Nuisance bonus in DKK per hour worked\n",
       "4       GODE             Fringe benefits in DKK per hour worked\n",
       "5     UREGEL          Irregular payments in DKK per hour worked\n",
       "6       PENS       Pension including ATP in DKK per hour worked\n",
       "7      BASIS              Basic earnings in DKK per hour worked\n",
       "8     SFERIE  ..Special holiday allowance in DKK per hour wo...\n",
       "9      FERIE          ..Holiday payments in DKK per hour worked\n",
       "10     NEDRE    Lower quartile, earnings in DKK per hour worked\n",
       "11    MEDIAN            Median, earnings in DKK per hour worked\n",
       "12      OVRE    upper quartile, earnings in DKK per hour worked\n",
       "13     STAND                       STANDARDIZED HOURLY EARNINGS\n",
       "14    GENEST            Nuisance bonus in DKK per standard hour\n",
       "15    GODEST           Fringe benefits in DKK per standard hour\n",
       "16  UREGELST         Irregular payment in DKK per standard hour\n",
       "17    PENSST     Pension including ATP in DKK per standard hour\n",
       "18   BASISST            Basic earnings in DKK per standard hour\n",
       "19  SFERIEST  ..Special holiday allowance in DKK per standar...\n",
       "20   NEDREST              Lower quartile, standardized earnings\n",
       "21  MEDIANST               Median, standardized hourly earnings\n",
       "22    OVREST       Upper quartile, standardized hourly earnings\n",
       "23   MDRSNIT                      STANDARDIZED MONTHLY EARNINGS\n",
       "24     ANTAL  Number of fulltime employees in the earnings s..."
      ]
     },
     "metadata": {},
     "output_type": "display_data"
    },
    {
     "name": "stdout",
     "output_type": "stream",
     "text": [
      "KØN:\n"
     ]
    },
    {
     "data": {
      "text/html": [
       "<div>\n",
       "<style scoped>\n",
       "    .dataframe tbody tr th:only-of-type {\n",
       "        vertical-align: middle;\n",
       "    }\n",
       "\n",
       "    .dataframe tbody tr th {\n",
       "        vertical-align: top;\n",
       "    }\n",
       "\n",
       "    .dataframe thead th {\n",
       "        text-align: right;\n",
       "    }\n",
       "</style>\n",
       "<table border=\"1\" class=\"dataframe\">\n",
       "  <thead>\n",
       "    <tr style=\"text-align: right;\">\n",
       "      <th></th>\n",
       "      <th>id</th>\n",
       "      <th>text</th>\n",
       "    </tr>\n",
       "  </thead>\n",
       "  <tbody>\n",
       "    <tr>\n",
       "      <th>0</th>\n",
       "      <td>MOK</td>\n",
       "      <td>Men and women, total</td>\n",
       "    </tr>\n",
       "    <tr>\n",
       "      <th>1</th>\n",
       "      <td>M</td>\n",
       "      <td>Men</td>\n",
       "    </tr>\n",
       "    <tr>\n",
       "      <th>2</th>\n",
       "      <td>K</td>\n",
       "      <td>Women</td>\n",
       "    </tr>\n",
       "  </tbody>\n",
       "</table>\n",
       "</div>"
      ],
      "text/plain": [
       "    id                  text\n",
       "0  MOK  Men and women, total\n",
       "1    M                   Men\n",
       "2    K                 Women"
      ]
     },
     "metadata": {},
     "output_type": "display_data"
    },
    {
     "name": "stdout",
     "output_type": "stream",
     "text": [
      "Tid:\n"
     ]
    },
    {
     "data": {
      "text/html": [
       "<div>\n",
       "<style scoped>\n",
       "    .dataframe tbody tr th:only-of-type {\n",
       "        vertical-align: middle;\n",
       "    }\n",
       "\n",
       "    .dataframe tbody tr th {\n",
       "        vertical-align: top;\n",
       "    }\n",
       "\n",
       "    .dataframe thead th {\n",
       "        text-align: right;\n",
       "    }\n",
       "</style>\n",
       "<table border=\"1\" class=\"dataframe\">\n",
       "  <thead>\n",
       "    <tr style=\"text-align: right;\">\n",
       "      <th></th>\n",
       "      <th>id</th>\n",
       "      <th>text</th>\n",
       "    </tr>\n",
       "  </thead>\n",
       "  <tbody>\n",
       "    <tr>\n",
       "      <th>0</th>\n",
       "      <td>2013</td>\n",
       "      <td>2013</td>\n",
       "    </tr>\n",
       "    <tr>\n",
       "      <th>1</th>\n",
       "      <td>2014</td>\n",
       "      <td>2014</td>\n",
       "    </tr>\n",
       "    <tr>\n",
       "      <th>2</th>\n",
       "      <td>2015</td>\n",
       "      <td>2015</td>\n",
       "    </tr>\n",
       "    <tr>\n",
       "      <th>3</th>\n",
       "      <td>2016</td>\n",
       "      <td>2016</td>\n",
       "    </tr>\n",
       "    <tr>\n",
       "      <th>4</th>\n",
       "      <td>2017</td>\n",
       "      <td>2017</td>\n",
       "    </tr>\n",
       "    <tr>\n",
       "      <th>5</th>\n",
       "      <td>2018</td>\n",
       "      <td>2018</td>\n",
       "    </tr>\n",
       "    <tr>\n",
       "      <th>6</th>\n",
       "      <td>2019</td>\n",
       "      <td>2019</td>\n",
       "    </tr>\n",
       "    <tr>\n",
       "      <th>7</th>\n",
       "      <td>2020</td>\n",
       "      <td>2020</td>\n",
       "    </tr>\n",
       "    <tr>\n",
       "      <th>8</th>\n",
       "      <td>2021</td>\n",
       "      <td>2021</td>\n",
       "    </tr>\n",
       "    <tr>\n",
       "      <th>9</th>\n",
       "      <td>2022</td>\n",
       "      <td>2022</td>\n",
       "    </tr>\n",
       "  </tbody>\n",
       "</table>\n",
       "</div>"
      ],
      "text/plain": [
       "     id  text\n",
       "0  2013  2013\n",
       "1  2014  2014\n",
       "2  2015  2015\n",
       "3  2016  2016\n",
       "4  2017  2017\n",
       "5  2018  2018\n",
       "6  2019  2019\n",
       "7  2020  2020\n",
       "8  2021  2021\n",
       "9  2022  2022"
      ]
     },
     "metadata": {},
     "output_type": "display_data"
    }
   ],
   "source": [
    "# The available values for a each variable and their id: \n",
    "for variable in tabsum['variable name']:\n",
    "   print(variable+':')\n",
    "   display(ind.variable_levels(variable, language='en'))\n"
   ]
  },
  {
   "cell_type": "markdown",
   "metadata": {},
   "source": [
    "Then we use the define_base_params -method to give us a nice template (where from we can select available data)."
   ]
  },
  {
   "cell_type": "code",
   "execution_count": 6,
   "metadata": {},
   "outputs": [
    {
     "data": {
      "text/plain": [
       "{'table': 'lons50',\n",
       " 'format': 'BULK',\n",
       " 'lang': 'en',\n",
       " 'variables': [{'code': 'ALDER1', 'values': ['*']},\n",
       "  {'code': 'SEKTOR', 'values': ['*']},\n",
       "  {'code': 'AFLOEN', 'values': ['*']},\n",
       "  {'code': 'LONGRP', 'values': ['*']},\n",
       "  {'code': 'LØNMÅL', 'values': ['*']},\n",
       "  {'code': 'KØN', 'values': ['*']},\n",
       "  {'code': 'Tid', 'values': ['*']}]}"
      ]
     },
     "execution_count": 6,
     "metadata": {},
     "output_type": "execute_result"
    }
   ],
   "source": [
    "params = ind._define_base_params(language='en')\n",
    "params"
   ]
  },
  {
   "cell_type": "markdown",
   "metadata": {},
   "source": [
    "We then choose the data we want as our parameters. We want to examine the income for different age groups and sektors."
   ]
  },
  {
   "cell_type": "code",
   "execution_count": 7,
   "metadata": {},
   "outputs": [],
   "source": [
    "# The data we want as our parameters \n",
    "params = {'table': 'lons50',\n",
    " 'format': 'BULK',\n",
    " 'lang': 'en',\n",
    " 'variables': [{'code': 'ALDER1', 'values': ['20-24','25-29','30-34','35-39','40-44','45-49','50-54','55-59','60-']},\n",
    "  {'code': 'SEKTOR', 'values': ['1018', '1016', '1046']},\n",
    "  {'code': 'AFLOEN', 'values': ['TIFA']},\n",
    "  {'code': 'LONGRP', 'values': ['LTOT']},\n",
    "  {'code': 'LØNMÅL', 'values': ['FORINKL']},\n",
    "  {'code': 'KØN', 'values': ['MOK']},\n",
    "  {'code': 'Tid', 'values': ['*']}]}\n"
   ]
  },
  {
   "cell_type": "markdown",
   "metadata": {},
   "source": [
    "To get an overview of the data we print some infomation and the top of the table showing the data. Remove the # to show the dataframe."
   ]
  },
  {
   "cell_type": "code",
   "execution_count": 8,
   "metadata": {},
   "outputs": [],
   "source": [
    "inc_api = ind.get_data(params=params)\n",
    "#inc_api.info()\n",
    "#inc_api.head()"
   ]
  },
  {
   "cell_type": "markdown",
   "metadata": {},
   "source": [
    "Next, we sort the data and again print the top of the table."
   ]
  },
  {
   "cell_type": "code",
   "execution_count": 9,
   "metadata": {},
   "outputs": [
    {
     "data": {
      "text/html": [
       "<div>\n",
       "<style scoped>\n",
       "    .dataframe tbody tr th:only-of-type {\n",
       "        vertical-align: middle;\n",
       "    }\n",
       "\n",
       "    .dataframe tbody tr th {\n",
       "        vertical-align: top;\n",
       "    }\n",
       "\n",
       "    .dataframe thead th {\n",
       "        text-align: right;\n",
       "    }\n",
       "</style>\n",
       "<table border=\"1\" class=\"dataframe\">\n",
       "  <thead>\n",
       "    <tr style=\"text-align: right;\">\n",
       "      <th></th>\n",
       "      <th>ALDER1</th>\n",
       "      <th>SEKTOR</th>\n",
       "      <th>AFLOEN</th>\n",
       "      <th>LONGRP</th>\n",
       "      <th>LØNMÅL</th>\n",
       "      <th>KØN</th>\n",
       "      <th>TID</th>\n",
       "      <th>INDHOLD</th>\n",
       "    </tr>\n",
       "  </thead>\n",
       "  <tbody>\n",
       "    <tr>\n",
       "      <th>2</th>\n",
       "      <td>20-24 years</td>\n",
       "      <td>Corporations and organizations</td>\n",
       "      <td>All forms of pay</td>\n",
       "      <td>Employee group total</td>\n",
       "      <td>EARNINGS IN DKK PER HOUR WORKED</td>\n",
       "      <td>Men and women, total</td>\n",
       "      <td>2013</td>\n",
       "      <td>174.43</td>\n",
       "    </tr>\n",
       "    <tr>\n",
       "      <th>0</th>\n",
       "      <td>20-24 years</td>\n",
       "      <td>Government including social security funds</td>\n",
       "      <td>All forms of pay</td>\n",
       "      <td>Employee group total</td>\n",
       "      <td>EARNINGS IN DKK PER HOUR WORKED</td>\n",
       "      <td>Men and women, total</td>\n",
       "      <td>2013</td>\n",
       "      <td>185.38</td>\n",
       "    </tr>\n",
       "    <tr>\n",
       "      <th>1</th>\n",
       "      <td>20-24 years</td>\n",
       "      <td>Municipal and regional government total</td>\n",
       "      <td>All forms of pay</td>\n",
       "      <td>Employee group total</td>\n",
       "      <td>EARNINGS IN DKK PER HOUR WORKED</td>\n",
       "      <td>Men and women, total</td>\n",
       "      <td>2013</td>\n",
       "      <td>160.57</td>\n",
       "    </tr>\n",
       "    <tr>\n",
       "      <th>29</th>\n",
       "      <td>20-24 years</td>\n",
       "      <td>Corporations and organizations</td>\n",
       "      <td>All forms of pay</td>\n",
       "      <td>Employee group total</td>\n",
       "      <td>EARNINGS IN DKK PER HOUR WORKED</td>\n",
       "      <td>Men and women, total</td>\n",
       "      <td>2014</td>\n",
       "      <td>177.54</td>\n",
       "    </tr>\n",
       "    <tr>\n",
       "      <th>27</th>\n",
       "      <td>20-24 years</td>\n",
       "      <td>Government including social security funds</td>\n",
       "      <td>All forms of pay</td>\n",
       "      <td>Employee group total</td>\n",
       "      <td>EARNINGS IN DKK PER HOUR WORKED</td>\n",
       "      <td>Men and women, total</td>\n",
       "      <td>2014</td>\n",
       "      <td>186.52</td>\n",
       "    </tr>\n",
       "  </tbody>\n",
       "</table>\n",
       "</div>"
      ],
      "text/plain": [
       "         ALDER1                                      SEKTOR            AFLOEN  \\\n",
       "2   20-24 years              Corporations and organizations  All forms of pay   \n",
       "0   20-24 years  Government including social security funds  All forms of pay   \n",
       "1   20-24 years     Municipal and regional government total  All forms of pay   \n",
       "29  20-24 years              Corporations and organizations  All forms of pay   \n",
       "27  20-24 years  Government including social security funds  All forms of pay   \n",
       "\n",
       "                  LONGRP                           LØNMÅL  \\\n",
       "2   Employee group total  EARNINGS IN DKK PER HOUR WORKED   \n",
       "0   Employee group total  EARNINGS IN DKK PER HOUR WORKED   \n",
       "1   Employee group total  EARNINGS IN DKK PER HOUR WORKED   \n",
       "29  Employee group total  EARNINGS IN DKK PER HOUR WORKED   \n",
       "27  Employee group total  EARNINGS IN DKK PER HOUR WORKED   \n",
       "\n",
       "                     KØN   TID INDHOLD  \n",
       "2   Men and women, total  2013  174.43  \n",
       "0   Men and women, total  2013  185.38  \n",
       "1   Men and women, total  2013  160.57  \n",
       "29  Men and women, total  2014  177.54  \n",
       "27  Men and women, total  2014  186.52  "
      ]
     },
     "execution_count": 9,
     "metadata": {},
     "output_type": "execute_result"
    }
   ],
   "source": [
    "inc_api.sort_values(by=['ALDER1', 'TID', 'SEKTOR'], inplace=True)\n",
    "inc_api.head(5)"
   ]
  },
  {
   "cell_type": "markdown",
   "metadata": {},
   "source": [
    "It seems that the \"INDHOLD\" column is currently stored as an object data type and the \"TID\" column is stored as an int64, so we will convert it to a float data type."
   ]
  },
  {
   "cell_type": "code",
   "execution_count": 10,
   "metadata": {},
   "outputs": [],
   "source": [
    "inc_api['INDHOLD'] = inc_api['INDHOLD'].astype(float)\n",
    "#print(inc_api['INDHOLD'].dtype)"
   ]
  },
  {
   "cell_type": "code",
   "execution_count": 11,
   "metadata": {},
   "outputs": [],
   "source": [
    "inc_api['TID'] = inc_api['TID'].astype(float)\n",
    "#print(inc_api['TID'].dtype)"
   ]
  },
  {
   "cell_type": "markdown",
   "metadata": {},
   "source": [
    "We import the second data set about income where one of the variables is area in Denmark from DST through an API (we will refer to the data set as income-area). We will for this income-area data set go through the same methoed as we did for the income-age data set. "
   ]
  },
  {
   "cell_type": "code",
   "execution_count": 12,
   "metadata": {},
   "outputs": [],
   "source": [
    "ind1 = DstApi('LONS30') "
   ]
  },
  {
   "cell_type": "markdown",
   "metadata": {},
   "source": [
    "Getting a quick overview over the data"
   ]
  },
  {
   "cell_type": "code",
   "execution_count": 13,
   "metadata": {},
   "outputs": [
    {
     "name": "stdout",
     "output_type": "stream",
     "text": [
      "Table LONS30: Earnings by region, sector, salary, salary earners, components, sex and time\n",
      "Last update: 2023-11-29T08:00:00\n"
     ]
    },
    {
     "data": {
      "text/html": [
       "<div>\n",
       "<style scoped>\n",
       "    .dataframe tbody tr th:only-of-type {\n",
       "        vertical-align: middle;\n",
       "    }\n",
       "\n",
       "    .dataframe tbody tr th {\n",
       "        vertical-align: top;\n",
       "    }\n",
       "\n",
       "    .dataframe thead th {\n",
       "        text-align: right;\n",
       "    }\n",
       "</style>\n",
       "<table border=\"1\" class=\"dataframe\">\n",
       "  <thead>\n",
       "    <tr style=\"text-align: right;\">\n",
       "      <th></th>\n",
       "      <th>variable name</th>\n",
       "      <th># values</th>\n",
       "      <th>First value</th>\n",
       "      <th>First value label</th>\n",
       "      <th>Last value</th>\n",
       "      <th>Last value label</th>\n",
       "      <th>Time variable</th>\n",
       "    </tr>\n",
       "  </thead>\n",
       "  <tbody>\n",
       "    <tr>\n",
       "      <th>0</th>\n",
       "      <td>OMRÅDE</td>\n",
       "      <td>6</td>\n",
       "      <td>000</td>\n",
       "      <td>All Denmark</td>\n",
       "      <td>081</td>\n",
       "      <td>Region Nordjylland</td>\n",
       "      <td>False</td>\n",
       "    </tr>\n",
       "    <tr>\n",
       "      <th>1</th>\n",
       "      <td>SEKTOR</td>\n",
       "      <td>7</td>\n",
       "      <td>1000</td>\n",
       "      <td>All sectors</td>\n",
       "      <td>1046</td>\n",
       "      <td>Corporations and organizations</td>\n",
       "      <td>False</td>\n",
       "    </tr>\n",
       "    <tr>\n",
       "      <th>2</th>\n",
       "      <td>AFLOEN</td>\n",
       "      <td>3</td>\n",
       "      <td>TIFA</td>\n",
       "      <td>All forms of pay</td>\n",
       "      <td>FAST</td>\n",
       "      <td>Fixed salary-earners</td>\n",
       "      <td>False</td>\n",
       "    </tr>\n",
       "    <tr>\n",
       "      <th>3</th>\n",
       "      <td>LONGRP</td>\n",
       "      <td>6</td>\n",
       "      <td>LTOT</td>\n",
       "      <td>Employee group total</td>\n",
       "      <td>ELE</td>\n",
       "      <td>Trainees</td>\n",
       "      <td>False</td>\n",
       "    </tr>\n",
       "    <tr>\n",
       "      <th>4</th>\n",
       "      <td>LØNMÅL</td>\n",
       "      <td>25</td>\n",
       "      <td>FORINKL</td>\n",
       "      <td>EARNINGS IN DKK PER HOUR WORKED</td>\n",
       "      <td>ANTAL</td>\n",
       "      <td>Number of fulltime employees in the earnings s...</td>\n",
       "      <td>False</td>\n",
       "    </tr>\n",
       "    <tr>\n",
       "      <th>5</th>\n",
       "      <td>KØN</td>\n",
       "      <td>3</td>\n",
       "      <td>MOK</td>\n",
       "      <td>Men and women, total</td>\n",
       "      <td>K</td>\n",
       "      <td>Women</td>\n",
       "      <td>False</td>\n",
       "    </tr>\n",
       "    <tr>\n",
       "      <th>6</th>\n",
       "      <td>Tid</td>\n",
       "      <td>10</td>\n",
       "      <td>2013</td>\n",
       "      <td>2013</td>\n",
       "      <td>2022</td>\n",
       "      <td>2022</td>\n",
       "      <td>True</td>\n",
       "    </tr>\n",
       "  </tbody>\n",
       "</table>\n",
       "</div>"
      ],
      "text/plain": [
       "  variable name  # values First value                First value label  \\\n",
       "0        OMRÅDE         6         000                      All Denmark   \n",
       "1        SEKTOR         7        1000                      All sectors   \n",
       "2        AFLOEN         3        TIFA                 All forms of pay   \n",
       "3        LONGRP         6        LTOT             Employee group total   \n",
       "4        LØNMÅL        25     FORINKL  EARNINGS IN DKK PER HOUR WORKED   \n",
       "5           KØN         3         MOK             Men and women, total   \n",
       "6           Tid        10        2013                             2013   \n",
       "\n",
       "  Last value                                   Last value label  Time variable  \n",
       "0        081                                 Region Nordjylland          False  \n",
       "1       1046                     Corporations and organizations          False  \n",
       "2       FAST                               Fixed salary-earners          False  \n",
       "3        ELE                                           Trainees          False  \n",
       "4      ANTAL  Number of fulltime employees in the earnings s...          False  \n",
       "5          K                                              Women          False  \n",
       "6       2022                                               2022           True  "
      ]
     },
     "metadata": {},
     "output_type": "display_data"
    }
   ],
   "source": [
    "tabsum1 = ind1.tablesummary(language='en')\n",
    "display(tabsum1)"
   ]
  },
  {
   "cell_type": "markdown",
   "metadata": {},
   "source": [
    "Then we would like to see the available values for a each variable and their id: "
   ]
  },
  {
   "cell_type": "code",
   "execution_count": 14,
   "metadata": {},
   "outputs": [],
   "source": [
    "#for variable in tabsum1['variable name']:\n",
    "  #print(variable+':')\n",
    "  #display(ind.variable_levels(variable, language='en'))"
   ]
  },
  {
   "cell_type": "markdown",
   "metadata": {},
   "source": [
    "Then we use the define_base_params -method to give us a nice template (where from we can select available data)."
   ]
  },
  {
   "cell_type": "code",
   "execution_count": 15,
   "metadata": {},
   "outputs": [
    {
     "data": {
      "text/plain": [
       "{'table': 'lons30',\n",
       " 'format': 'BULK',\n",
       " 'lang': 'en',\n",
       " 'variables': [{'code': 'OMRÅDE', 'values': ['*']},\n",
       "  {'code': 'SEKTOR', 'values': ['*']},\n",
       "  {'code': 'AFLOEN', 'values': ['*']},\n",
       "  {'code': 'LONGRP', 'values': ['*']},\n",
       "  {'code': 'LØNMÅL', 'values': ['*']},\n",
       "  {'code': 'KØN', 'values': ['*']},\n",
       "  {'code': 'Tid', 'values': ['*']}]}"
      ]
     },
     "execution_count": 15,
     "metadata": {},
     "output_type": "execute_result"
    }
   ],
   "source": [
    "params1 = ind1._define_base_params(language='en')\n",
    "params1"
   ]
  },
  {
   "cell_type": "markdown",
   "metadata": {},
   "source": [
    "Here we choose the data we want as our parameters:"
   ]
  },
  {
   "cell_type": "code",
   "execution_count": 16,
   "metadata": {},
   "outputs": [],
   "source": [
    "params1 = {'table': 'lons30',\n",
    " 'format': 'BULK',\n",
    " 'lang': 'en',\n",
    " 'variables': [{'code': 'OMRÅDE', 'values': ['*']},\n",
    "  {'code': 'SEKTOR', 'values': ['1018', '1016', '1046']},\n",
    "  {'code': 'AFLOEN', 'values': ['TIFA']},\n",
    "  {'code': 'LONGRP', 'values': ['LTOT']},\n",
    "  {'code': 'LØNMÅL', 'values': ['FORINKL']},\n",
    "  {'code': 'KØN', 'values': ['MOK']},\n",
    "  {'code': 'Tid', 'values': ['*']}]}"
   ]
  },
  {
   "cell_type": "markdown",
   "metadata": {},
   "source": [
    "To get an overview of the data we print some infomation and the top of the table showing the data. Remove the # to show the dataframe."
   ]
  },
  {
   "cell_type": "code",
   "execution_count": 17,
   "metadata": {},
   "outputs": [],
   "source": [
    "inc1_api = ind1.get_data(params=params1)\n",
    "#inc1_api.info()\n",
    "#inc1_api.head()"
   ]
  },
  {
   "cell_type": "markdown",
   "metadata": {},
   "source": [
    "Next, we sort the data and again print the top of the table:"
   ]
  },
  {
   "cell_type": "code",
   "execution_count": 18,
   "metadata": {},
   "outputs": [],
   "source": [
    "inc1_api.sort_values(by=['OMRÅDE', 'TID', 'SEKTOR'], inplace=True)\n",
    "#inc1_api.head(5)"
   ]
  },
  {
   "cell_type": "markdown",
   "metadata": {},
   "source": [
    "Importing the second data set about income where one of the variables is area in Denmark from DST through an API (we will refer to the data set as income-area). We will for this income-area data set go through the same methoed as we did for the income-age data set. "
   ]
  },
  {
   "cell_type": "code",
   "execution_count": 19,
   "metadata": {},
   "outputs": [],
   "source": [
    "inc1_api['INDHOLD'] = inc1_api['INDHOLD'].astype(float)\n",
    "#print(inc1_api['INDHOLD'].dtype)"
   ]
  },
  {
   "cell_type": "code",
   "execution_count": 20,
   "metadata": {},
   "outputs": [],
   "source": [
    "inc1_api['TID'] = inc1_api['TID'].astype(float)\n",
    "#print(inc1_api['TID'].dtype)"
   ]
  },
  {
   "cell_type": "markdown",
   "metadata": {},
   "source": [
    "# Cleaning the data sets"
   ]
  },
  {
   "cell_type": "markdown",
   "metadata": {},
   "source": [
    "We now clean the data set by dropping irrelevant variables and removing duplicates."
   ]
  },
  {
   "cell_type": "markdown",
   "metadata": {},
   "source": [
    "Dropping irrelevant variables from first data set:"
   ]
  },
  {
   "cell_type": "code",
   "execution_count": 21,
   "metadata": {},
   "outputs": [
    {
     "data": {
      "text/html": [
       "<div>\n",
       "<style scoped>\n",
       "    .dataframe tbody tr th:only-of-type {\n",
       "        vertical-align: middle;\n",
       "    }\n",
       "\n",
       "    .dataframe tbody tr th {\n",
       "        vertical-align: top;\n",
       "    }\n",
       "\n",
       "    .dataframe thead th {\n",
       "        text-align: right;\n",
       "    }\n",
       "</style>\n",
       "<table border=\"1\" class=\"dataframe\">\n",
       "  <thead>\n",
       "    <tr style=\"text-align: right;\">\n",
       "      <th></th>\n",
       "      <th>ALDER1</th>\n",
       "      <th>SEKTOR</th>\n",
       "      <th>TID</th>\n",
       "      <th>INDHOLD</th>\n",
       "    </tr>\n",
       "  </thead>\n",
       "  <tbody>\n",
       "    <tr>\n",
       "      <th>2</th>\n",
       "      <td>20-24 years</td>\n",
       "      <td>Corporations and organizations</td>\n",
       "      <td>2013.0</td>\n",
       "      <td>174.43</td>\n",
       "    </tr>\n",
       "    <tr>\n",
       "      <th>0</th>\n",
       "      <td>20-24 years</td>\n",
       "      <td>Government including social security funds</td>\n",
       "      <td>2013.0</td>\n",
       "      <td>185.38</td>\n",
       "    </tr>\n",
       "    <tr>\n",
       "      <th>1</th>\n",
       "      <td>20-24 years</td>\n",
       "      <td>Municipal and regional government total</td>\n",
       "      <td>2013.0</td>\n",
       "      <td>160.57</td>\n",
       "    </tr>\n",
       "    <tr>\n",
       "      <th>29</th>\n",
       "      <td>20-24 years</td>\n",
       "      <td>Corporations and organizations</td>\n",
       "      <td>2014.0</td>\n",
       "      <td>177.54</td>\n",
       "    </tr>\n",
       "    <tr>\n",
       "      <th>27</th>\n",
       "      <td>20-24 years</td>\n",
       "      <td>Government including social security funds</td>\n",
       "      <td>2014.0</td>\n",
       "      <td>186.52</td>\n",
       "    </tr>\n",
       "    <tr>\n",
       "      <th>28</th>\n",
       "      <td>20-24 years</td>\n",
       "      <td>Municipal and regional government total</td>\n",
       "      <td>2014.0</td>\n",
       "      <td>165.41</td>\n",
       "    </tr>\n",
       "    <tr>\n",
       "      <th>56</th>\n",
       "      <td>20-24 years</td>\n",
       "      <td>Corporations and organizations</td>\n",
       "      <td>2015.0</td>\n",
       "      <td>180.73</td>\n",
       "    </tr>\n",
       "    <tr>\n",
       "      <th>54</th>\n",
       "      <td>20-24 years</td>\n",
       "      <td>Government including social security funds</td>\n",
       "      <td>2015.0</td>\n",
       "      <td>189.93</td>\n",
       "    </tr>\n",
       "    <tr>\n",
       "      <th>55</th>\n",
       "      <td>20-24 years</td>\n",
       "      <td>Municipal and regional government total</td>\n",
       "      <td>2015.0</td>\n",
       "      <td>168.73</td>\n",
       "    </tr>\n",
       "    <tr>\n",
       "      <th>83</th>\n",
       "      <td>20-24 years</td>\n",
       "      <td>Corporations and organizations</td>\n",
       "      <td>2016.0</td>\n",
       "      <td>182.76</td>\n",
       "    </tr>\n",
       "  </tbody>\n",
       "</table>\n",
       "</div>"
      ],
      "text/plain": [
       "         ALDER1                                      SEKTOR     TID  INDHOLD\n",
       "2   20-24 years              Corporations and organizations  2013.0   174.43\n",
       "0   20-24 years  Government including social security funds  2013.0   185.38\n",
       "1   20-24 years     Municipal and regional government total  2013.0   160.57\n",
       "29  20-24 years              Corporations and organizations  2014.0   177.54\n",
       "27  20-24 years  Government including social security funds  2014.0   186.52\n",
       "28  20-24 years     Municipal and regional government total  2014.0   165.41\n",
       "56  20-24 years              Corporations and organizations  2015.0   180.73\n",
       "54  20-24 years  Government including social security funds  2015.0   189.93\n",
       "55  20-24 years     Municipal and regional government total  2015.0   168.73\n",
       "83  20-24 years              Corporations and organizations  2016.0   182.76"
      ]
     },
     "execution_count": 21,
     "metadata": {},
     "output_type": "execute_result"
    }
   ],
   "source": [
    "Inc_age = inc_api.drop(['LONGRP', 'LØNMÅL', 'AFLOEN','KØN'],axis=1) \n",
    "Inc_age.head(10)"
   ]
  },
  {
   "cell_type": "markdown",
   "metadata": {},
   "source": [
    "Dropping irrelevant variables from second data set:"
   ]
  },
  {
   "cell_type": "code",
   "execution_count": 22,
   "metadata": {},
   "outputs": [
    {
     "data": {
      "text/html": [
       "<div>\n",
       "<style scoped>\n",
       "    .dataframe tbody tr th:only-of-type {\n",
       "        vertical-align: middle;\n",
       "    }\n",
       "\n",
       "    .dataframe tbody tr th {\n",
       "        vertical-align: top;\n",
       "    }\n",
       "\n",
       "    .dataframe thead th {\n",
       "        text-align: right;\n",
       "    }\n",
       "</style>\n",
       "<table border=\"1\" class=\"dataframe\">\n",
       "  <thead>\n",
       "    <tr style=\"text-align: right;\">\n",
       "      <th></th>\n",
       "      <th>OMRÅDE</th>\n",
       "      <th>SEKTOR</th>\n",
       "      <th>TID</th>\n",
       "      <th>INDHOLD</th>\n",
       "    </tr>\n",
       "  </thead>\n",
       "  <tbody>\n",
       "    <tr>\n",
       "      <th>8</th>\n",
       "      <td>All Denmark</td>\n",
       "      <td>Corporations and organizations</td>\n",
       "      <td>2013.0</td>\n",
       "      <td>297.40</td>\n",
       "    </tr>\n",
       "    <tr>\n",
       "      <th>20</th>\n",
       "      <td>All Denmark</td>\n",
       "      <td>Government including social security funds</td>\n",
       "      <td>2013.0</td>\n",
       "      <td>309.14</td>\n",
       "    </tr>\n",
       "    <tr>\n",
       "      <th>45</th>\n",
       "      <td>All Denmark</td>\n",
       "      <td>Municipal and regional government total</td>\n",
       "      <td>2013.0</td>\n",
       "      <td>270.49</td>\n",
       "    </tr>\n",
       "    <tr>\n",
       "      <th>157</th>\n",
       "      <td>All Denmark</td>\n",
       "      <td>Corporations and organizations</td>\n",
       "      <td>2014.0</td>\n",
       "      <td>300.91</td>\n",
       "    </tr>\n",
       "    <tr>\n",
       "      <th>158</th>\n",
       "      <td>All Denmark</td>\n",
       "      <td>Government including social security funds</td>\n",
       "      <td>2014.0</td>\n",
       "      <td>313.27</td>\n",
       "    </tr>\n",
       "    <tr>\n",
       "      <th>148</th>\n",
       "      <td>All Denmark</td>\n",
       "      <td>Municipal and regional government total</td>\n",
       "      <td>2014.0</td>\n",
       "      <td>276.19</td>\n",
       "    </tr>\n",
       "    <tr>\n",
       "      <th>133</th>\n",
       "      <td>All Denmark</td>\n",
       "      <td>Corporations and organizations</td>\n",
       "      <td>2015.0</td>\n",
       "      <td>304.53</td>\n",
       "    </tr>\n",
       "    <tr>\n",
       "      <th>130</th>\n",
       "      <td>All Denmark</td>\n",
       "      <td>Government including social security funds</td>\n",
       "      <td>2015.0</td>\n",
       "      <td>315.47</td>\n",
       "    </tr>\n",
       "    <tr>\n",
       "      <th>154</th>\n",
       "      <td>All Denmark</td>\n",
       "      <td>Municipal and regional government total</td>\n",
       "      <td>2015.0</td>\n",
       "      <td>281.33</td>\n",
       "    </tr>\n",
       "    <tr>\n",
       "      <th>3</th>\n",
       "      <td>All Denmark</td>\n",
       "      <td>Corporations and organizations</td>\n",
       "      <td>2016.0</td>\n",
       "      <td>306.22</td>\n",
       "    </tr>\n",
       "  </tbody>\n",
       "</table>\n",
       "</div>"
      ],
      "text/plain": [
       "          OMRÅDE                                      SEKTOR     TID  INDHOLD\n",
       "8    All Denmark              Corporations and organizations  2013.0   297.40\n",
       "20   All Denmark  Government including social security funds  2013.0   309.14\n",
       "45   All Denmark     Municipal and regional government total  2013.0   270.49\n",
       "157  All Denmark              Corporations and organizations  2014.0   300.91\n",
       "158  All Denmark  Government including social security funds  2014.0   313.27\n",
       "148  All Denmark     Municipal and regional government total  2014.0   276.19\n",
       "133  All Denmark              Corporations and organizations  2015.0   304.53\n",
       "130  All Denmark  Government including social security funds  2015.0   315.47\n",
       "154  All Denmark     Municipal and regional government total  2015.0   281.33\n",
       "3    All Denmark              Corporations and organizations  2016.0   306.22"
      ]
     },
     "execution_count": 22,
     "metadata": {},
     "output_type": "execute_result"
    }
   ],
   "source": [
    "Inc_area = inc1_api.drop(['LONGRP', 'LØNMÅL', 'AFLOEN','KØN'],axis=1) # Drop irrelevant variables\n",
    "Inc_area.head(10)"
   ]
  },
  {
   "cell_type": "markdown",
   "metadata": {},
   "source": [
    "Cleaning the data by removing duplicates:"
   ]
  },
  {
   "cell_type": "code",
   "execution_count": 23,
   "metadata": {},
   "outputs": [],
   "source": [
    "Inc_age_cleaned = Inc_age.dropna().drop_duplicates()\n",
    "Inc_area_cleaned = Inc_area.dropna().drop_duplicates()"
   ]
  },
  {
   "cell_type": "markdown",
   "metadata": {},
   "source": [
    "# Merge data sets"
   ]
  },
  {
   "cell_type": "markdown",
   "metadata": {},
   "source": [
    "We now merge the two data set into one."
   ]
  },
  {
   "cell_type": "markdown",
   "metadata": {},
   "source": [
    "We merge datasets on common 'TID' and 'SEKTOR'. We are using an inner join here, meaning we only keep rows that match in both datasets:"
   ]
  },
  {
   "cell_type": "code",
   "execution_count": 24,
   "metadata": {},
   "outputs": [
    {
     "name": "stdout",
     "output_type": "stream",
     "text": [
      "        ALDER1                          SEKTOR     TID  INDHOLD_age  \\\n",
      "0  20-24 years  Corporations and organizations  2013.0       174.43   \n",
      "1  20-24 years  Corporations and organizations  2013.0       174.43   \n",
      "2  20-24 years  Corporations and organizations  2013.0       174.43   \n",
      "3  20-24 years  Corporations and organizations  2013.0       174.43   \n",
      "4  20-24 years  Corporations and organizations  2013.0       174.43   \n",
      "\n",
      "               OMRÅDE  INDHOLD_area  \n",
      "0         All Denmark        297.40  \n",
      "1  Region Hovedstaden        333.24  \n",
      "2  Region Midtjylland        279.64  \n",
      "3  Region Nordjylland        263.39  \n",
      "4     Region Sjælland        269.16  \n"
     ]
    }
   ],
   "source": [
    "merged_df = pd.merge(Inc_age_cleaned, Inc_area_cleaned, on=['TID', 'SEKTOR'], suffixes=('_age', '_area'))\n",
    "\n",
    "# Check the merged data\n",
    "print(merged_df.head())"
   ]
  },
  {
   "cell_type": "markdown",
   "metadata": {},
   "source": [
    "# Analysis"
   ]
  },
  {
   "cell_type": "markdown",
   "metadata": {},
   "source": [
    "We start our analysis with a simpel overview over the income development in the years 2013-2022. The income (measured as the hourly wage) has been increasing every year in the period."
   ]
  },
  {
   "cell_type": "code",
   "execution_count": 25,
   "metadata": {},
   "outputs": [
    {
     "data": {
      "image/png": "[encoded data removed]",
      "text/plain": [
       "<Figure size 1200x600 with 1 Axes>"
      ]
     },
     "metadata": {},
     "output_type": "display_data"
    }
   ],
   "source": [
    "# We group the data by year and calculate the average income for each year\n",
    "avg_income_by_year = merged_df.groupby('TID')['INDHOLD_age'].mean()\n",
    "\n",
    "# We import the plot function from the dataproject python file\n",
    "from dataproject import plot_avg_income_over_years\n",
    "\n",
    "# Then plot the function\n",
    "plot_avg_income_over_years(avg_income_by_year)"
   ]
  },
  {
   "cell_type": "markdown",
   "metadata": {},
   "source": [
    "We see that the average income in Denmark has been increasing over the entire periode from 2014 to 2022."
   ]
  },
  {
   "cell_type": "markdown",
   "metadata": {},
   "source": [
    "Next, we show the development in the income for the different areas in Denmark for the same period."
   ]
  },
  {
   "cell_type": "code",
   "execution_count": 26,
   "metadata": {},
   "outputs": [
    {
     "data": {
      "image/png": "[encoded data removed]",
      "text/plain": [
       "<Figure size 1200x600 with 1 Axes>"
      ]
     },
     "metadata": {},
     "output_type": "display_data"
    }
   ],
   "source": [
    "# We import the plot function from the python file\n",
    "from dataproject import plot_avg_income_by_year_area\n",
    "\n",
    "# Plot the function\n",
    "plot_avg_income_by_year_area(merged_df)"
   ]
  },
  {
   "cell_type": "markdown",
   "metadata": {},
   "source": [
    "Here we see a much higher income in Region Hovedstaden compared to the other areas, and Region Syddanmark has the lowest average income. The average income has been increasin over the entire period for all areas."
   ]
  },
  {
   "cell_type": "markdown",
   "metadata": {},
   "source": [
    "We then want to examine the income distrubution for different age groups and areas for the most recent year. In the next figure, we present two boxplots where the first one shows the income distribution by age for 2022 and the second shows the income distribution by area for 2022."
   ]
  },
  {
   "cell_type": "markdown",
   "metadata": {},
   "source": [
    "We find the most recent year in the merged dataset:"
   ]
  },
  {
   "cell_type": "code",
   "execution_count": 27,
   "metadata": {},
   "outputs": [
    {
     "name": "stdout",
     "output_type": "stream",
     "text": [
      "Most recent year in the dataset: 2022\n"
     ]
    }
   ],
   "source": [
    "most_recent_year = int(merged_df['TID'].max())\n",
    "print(f\"Most recent year in the dataset: {most_recent_year}\")"
   ]
  },
  {
   "cell_type": "markdown",
   "metadata": {},
   "source": [
    "We plot the income distrbution by area in the year 2022:"
   ]
  },
  {
   "cell_type": "code",
   "execution_count": 28,
   "metadata": {},
   "outputs": [
    {
     "data": {
      "image/png": "[encoded data removed]",
      "text/plain": [
       "<Figure size 1800x1000 with 1 Axes>"
      ]
     },
     "metadata": {},
     "output_type": "display_data"
    }
   ],
   "source": [
    "# We import the plot functions\n",
    "from dataproject import plot_income_distribution_by_area\n",
    "\n",
    "# We define the most recent year\n",
    "most_recent_year = 2022\n",
    "\n",
    "# We plot the functions\n",
    "plot_income_distribution_by_area(merged_df, most_recent_year)"
   ]
  },
  {
   "cell_type": "markdown",
   "metadata": {},
   "source": [
    "The line indicates the median income and the dot shows the mean income. \n",
    "We see that the median income is largest in Region Hovedstaden. We also see that the median is higher than the mean, which suggests that most people have higher incomes, but there are a few individuals with very low incomes that are affecting the average. For all other regions the median is lower than the mean, indicating that a smaller portion of the population in these areas contribute to raising the average income. Overall, we see that the income in Region Hovedstaden pulls up the average income for all of Denmark. The lowest average and median income is in Region Nordjylland. "
   ]
  },
  {
   "cell_type": "markdown",
   "metadata": {},
   "source": [
    "We then plot the income distrbution by age group in the year 2022:"
   ]
  },
  {
   "cell_type": "code",
   "execution_count": 29,
   "metadata": {},
   "outputs": [
    {
     "data": {
      "image/png": "[encoded data removed]",
      "text/plain": [
       "<Figure size 1800x1000 with 1 Axes>"
      ]
     },
     "metadata": {},
     "output_type": "display_data"
    }
   ],
   "source": [
    "# We import the plot functions\n",
    "from dataproject import plot_income_distribution_by_age\n",
    "\n",
    "# We define the most recent year\n",
    "most_recent_year = 2022\n",
    "\n",
    "# We plot the functions\n",
    "plot_income_distribution_by_age(merged_df, most_recent_year)"
   ]
  },
  {
   "cell_type": "markdown",
   "metadata": {},
   "source": [
    "We see that the average income increases from age group 20-24 all the way to 50-54 years whereafter it falls. This is most likely because young people in the age group 20-24 are studying and therefore, and first in the age group 25-29 start to enter the workforce. As experience increase pay most likely also icnreases. In the age group 55-59 people start to enter retirement, which may contribute to the fall in average income.\n",
    "\n",
    "We see from age group 25-29 to 55-59 the median is higher than the average income indicating that few individuals contribute to dragging down the average. Whereas for the group 20-24 and 60 years and over the median is slighty higher than the average, which indicates that the distrubtion is overall fairly equal for these groups however a few indivuals contribute a slightly higher average."
   ]
  },
  {
   "cell_type": "markdown",
   "metadata": {},
   "source": [
    "Last we want to examine the average income development for different sectors in Denmark."
   ]
  },
  {
   "cell_type": "markdown",
   "metadata": {},
   "source": [
    "We plot the average income for the different sectors for the periode 2013-2022 for different areas. The area can be choosen using the dropdown box."
   ]
  },
  {
   "cell_type": "code",
   "execution_count": 31,
   "metadata": {},
   "outputs": [
    {
     "data": {
      "application/vnd.plotly.v1+json": {
       "config": {
        "plotlyServerURL": "https://plot.ly"
       },
       "data": [
        {
         "hovertemplate": "Sector=Corporations and organizations<br>Year=%{x}<br>Average Income=%{y}<extra></extra>",
         "legendgroup": "Corporations and organizations",
         "line": {
          "color": "#636efa",
          "dash": "solid"
         },
         "marker": {
          "symbol": "circle"
         },
         "mode": "lines",
         "name": "Corporations and organizations",
         "orientation": "v",
         "showlegend": true,
         "type": "scatter",
         "x": [
          2013,
          2014,
          2015,
          2016,
          2017,
          2018,
          2019,
          2020,
          2021,
          2022
         ],
         "xaxis": "x",
         "y": [
          297.4,
          300.91,
          304.53,
          306.22,
          313.14,
          323.24,
          329.55,
          334.97,
          341.04,
          351.39
         ],
         "yaxis": "y"
        },
        {
         "hovertemplate": "Sector=Government including social security funds<br>Year=%{x}<br>Average Income=%{y}<extra></extra>",
         "legendgroup": "Government including social security funds",
         "line": {
          "color": "#EF553B",
          "dash": "solid"
         },
         "marker": {
          "symbol": "circle"
         },
         "mode": "lines",
         "name": "Government including social security funds",
         "orientation": "v",
         "showlegend": true,
         "type": "scatter",
         "x": [
          2013,
          2014,
          2015,
          2016,
          2017,
          2018,
          2019,
          2020,
          2021,
          2022
         ],
         "xaxis": "x",
         "y": [
          309.14,
          313.27,
          315.47,
          319.2,
          324.17,
          334.99,
          342.77,
          347.19,
          351.25,
          368.09
         ],
         "yaxis": "y"
        },
        {
         "hovertemplate": "Sector=Municipal and regional government total<br>Year=%{x}<br>Average Income=%{y}<extra></extra>",
         "legendgroup": "Municipal and regional government total",
         "line": {
          "color": "#00cc96",
          "dash": "solid"
         },
         "marker": {
          "symbol": "circle"
         },
         "mode": "lines",
         "name": "Municipal and regional government total",
         "orientation": "v",
         "showlegend": true,
         "type": "scatter",
         "x": [
          2013,
          2014,
          2015,
          2016,
          2017,
          2018,
          2019,
          2020,
          2021,
          2022
         ],
         "xaxis": "x",
         "y": [
          270.49,
          276.19,
          281.33,
          286.52,
          292.6,
          296.81,
          302.2,
          312.89,
          316.46,
          329.41
         ],
         "yaxis": "y"
        }
       ],
       "layout": {
        "legend": {
         "title": {
          "text": "Sector"
         },
         "tracegroupgap": 0
        },
        "template": {
         "data": {
          "bar": [
           {
            "error_x": {
             "color": "#2a3f5f"
            },
            "error_y": {
             "color": "#2a3f5f"
            },
            "marker": {
             "line": {
              "color": "#E5ECF6",
              "width": 0.5
             },
             "pattern": {
              "fillmode": "overlay",
              "size": 10,
              "solidity": 0.2
             }
            },
            "type": "bar"
           }
          ],
          "barpolar": [
           {
            "marker": {
             "line": {
              "color": "#E5ECF6",
              "width": 0.5
             },
             "pattern": {
              "fillmode": "overlay",
              "size": 10,
              "solidity": 0.2
             }
            },
            "type": "barpolar"
           }
          ],
          "carpet": [
           {
            "aaxis": {
             "endlinecolor": "#2a3f5f",
             "gridcolor": "white",
             "linecolor": "white",
             "minorgridcolor": "white",
             "startlinecolor": "#2a3f5f"
            },
            "baxis": {
             "endlinecolor": "#2a3f5f",
             "gridcolor": "white",
             "linecolor": "white",
             "minorgridcolor": "white",
             "startlinecolor": "#2a3f5f"
            },
            "type": "carpet"
           }
          ],
          "choropleth": [
           {
            "colorbar": {
             "outlinewidth": 0,
             "ticks": ""
            },
            "type": "choropleth"
           }
          ],
          "contour": [
           {
            "colorbar": {
             "outlinewidth": 0,
             "ticks": ""
            },
            "colorscale": [
             [
              0,
              "#0d0887"
             ],
             [
              0.1111111111111111,
              "#46039f"
             ],
             [
              0.2222222222222222,
              "#7201a8"
             ],
             [
              0.3333333333333333,
              "#9c179e"
             ],
             [
              0.4444444444444444,
              "#bd3786"
             ],
             [
              0.5555555555555556,
              "#d8576b"
             ],
             [
              0.6666666666666666,
              "#ed7953"
             ],
             [
              0.7777777777777778,
              "#fb9f3a"
             ],
             [
              0.8888888888888888,
              "#fdca26"
             ],
             [
              1,
              "#f0f921"
             ]
            ],
            "type": "contour"
           }
          ],
          "contourcarpet": [
           {
            "colorbar": {
             "outlinewidth": 0,
             "ticks": ""
            },
            "type": "contourcarpet"
           }
          ],
          "heatmap": [
           {
            "colorbar": {
             "outlinewidth": 0,
             "ticks": ""
            },
            "colorscale": [
             [
              0,
              "#0d0887"
             ],
             [
              0.1111111111111111,
              "#46039f"
             ],
             [
              0.2222222222222222,
              "#7201a8"
             ],
             [
              0.3333333333333333,
              "#9c179e"
             ],
             [
              0.4444444444444444,
              "#bd3786"
             ],
             [
              0.5555555555555556,
              "#d8576b"
             ],
             [
              0.6666666666666666,
              "#ed7953"
             ],
             [
              0.7777777777777778,
              "#fb9f3a"
             ],
             [
              0.8888888888888888,
              "#fdca26"
             ],
             [
              1,
              "#f0f921"
             ]
            ],
            "type": "heatmap"
           }
          ],
          "heatmapgl": [
           {
            "colorbar": {
             "outlinewidth": 0,
             "ticks": ""
            },
            "colorscale": [
             [
              0,
              "#0d0887"
             ],
             [
              0.1111111111111111,
              "#46039f"
             ],
             [
              0.2222222222222222,
              "#7201a8"
             ],
             [
              0.3333333333333333,
              "#9c179e"
             ],
             [
              0.4444444444444444,
              "#bd3786"
             ],
             [
              0.5555555555555556,
              "#d8576b"
             ],
             [
              0.6666666666666666,
              "#ed7953"
             ],
             [
              0.7777777777777778,
              "#fb9f3a"
             ],
             [
              0.8888888888888888,
              "#fdca26"
             ],
             [
              1,
              "#f0f921"
             ]
            ],
            "type": "heatmapgl"
           }
          ],
          "histogram": [
           {
            "marker": {
             "pattern": {
              "fillmode": "overlay",
              "size": 10,
              "solidity": 0.2
             }
            },
            "type": "histogram"
           }
          ],
          "histogram2d": [
           {
            "colorbar": {
             "outlinewidth": 0,
             "ticks": ""
            },
            "colorscale": [
             [
              0,
              "#0d0887"
             ],
             [
              0.1111111111111111,
              "#46039f"
             ],
             [
              0.2222222222222222,
              "#7201a8"
             ],
             [
              0.3333333333333333,
              "#9c179e"
             ],
             [
              0.4444444444444444,
              "#bd3786"
             ],
             [
              0.5555555555555556,
              "#d8576b"
             ],
             [
              0.6666666666666666,
              "#ed7953"
             ],
             [
              0.7777777777777778,
              "#fb9f3a"
             ],
             [
              0.8888888888888888,
              "#fdca26"
             ],
             [
              1,
              "#f0f921"
             ]
            ],
            "type": "histogram2d"
           }
          ],
          "histogram2dcontour": [
           {
            "colorbar": {
             "outlinewidth": 0,
             "ticks": ""
            },
            "colorscale": [
             [
              0,
              "#0d0887"
             ],
             [
              0.1111111111111111,
              "#46039f"
             ],
             [
              0.2222222222222222,
              "#7201a8"
             ],
             [
              0.3333333333333333,
              "#9c179e"
             ],
             [
              0.4444444444444444,
              "#bd3786"
             ],
             [
              0.5555555555555556,
              "#d8576b"
             ],
             [
              0.6666666666666666,
              "#ed7953"
             ],
             [
              0.7777777777777778,
              "#fb9f3a"
             ],
             [
              0.8888888888888888,
              "#fdca26"
             ],
             [
              1,
              "#f0f921"
             ]
            ],
            "type": "histogram2dcontour"
           }
          ],
          "mesh3d": [
           {
            "colorbar": {
             "outlinewidth": 0,
             "ticks": ""
            },
            "type": "mesh3d"
           }
          ],
          "parcoords": [
           {
            "line": {
             "colorbar": {
              "outlinewidth": 0,
              "ticks": ""
             }
            },
            "type": "parcoords"
           }
          ],
          "pie": [
           {
            "automargin": true,
            "type": "pie"
           }
          ],
          "scatter": [
           {
            "fillpattern": {
             "fillmode": "overlay",
             "size": 10,
             "solidity": 0.2
            },
            "type": "scatter"
           }
          ],
          "scatter3d": [
           {
            "line": {
             "colorbar": {
              "outlinewidth": 0,
              "ticks": ""
             }
            },
            "marker": {
             "colorbar": {
              "outlinewidth": 0,
              "ticks": ""
             }
            },
            "type": "scatter3d"
           }
          ],
          "scattercarpet": [
           {
            "marker": {
             "colorbar": {
              "outlinewidth": 0,
              "ticks": ""
             }
            },
            "type": "scattercarpet"
           }
          ],
          "scattergeo": [
           {
            "marker": {
             "colorbar": {
              "outlinewidth": 0,
              "ticks": ""
             }
            },
            "type": "scattergeo"
           }
          ],
          "scattergl": [
           {
            "marker": {
             "colorbar": {
              "outlinewidth": 0,
              "ticks": ""
             }
            },
            "type": "scattergl"
           }
          ],
          "scattermapbox": [
           {
            "marker": {
             "colorbar": {
              "outlinewidth": 0,
              "ticks": ""
             }
            },
            "type": "scattermapbox"
           }
          ],
          "scatterpolar": [
           {
            "marker": {
             "colorbar": {
              "outlinewidth": 0,
              "ticks": ""
             }
            },
            "type": "scatterpolar"
           }
          ],
          "scatterpolargl": [
           {
            "marker": {
             "colorbar": {
              "outlinewidth": 0,
              "ticks": ""
             }
            },
            "type": "scatterpolargl"
           }
          ],
          "scatterternary": [
           {
            "marker": {
             "colorbar": {
              "outlinewidth": 0,
              "ticks": ""
             }
            },
            "type": "scatterternary"
           }
          ],
          "surface": [
           {
            "colorbar": {
             "outlinewidth": 0,
             "ticks": ""
            },
            "colorscale": [
             [
              0,
              "#0d0887"
             ],
             [
              0.1111111111111111,
              "#46039f"
             ],
             [
              0.2222222222222222,
              "#7201a8"
             ],
             [
              0.3333333333333333,
              "#9c179e"
             ],
             [
              0.4444444444444444,
              "#bd3786"
             ],
             [
              0.5555555555555556,
              "#d8576b"
             ],
             [
              0.6666666666666666,
              "#ed7953"
             ],
             [
              0.7777777777777778,
              "#fb9f3a"
             ],
             [
              0.8888888888888888,
              "#fdca26"
             ],
             [
              1,
              "#f0f921"
             ]
            ],
            "type": "surface"
           }
          ],
          "table": [
           {
            "cells": {
             "fill": {
              "color": "#EBF0F8"
             },
             "line": {
              "color": "white"
             }
            },
            "header": {
             "fill": {
              "color": "#C8D4E3"
             },
             "line": {
              "color": "white"
             }
            },
            "type": "table"
           }
          ]
         },
         "layout": {
          "annotationdefaults": {
           "arrowcolor": "#2a3f5f",
           "arrowhead": 0,
           "arrowwidth": 1
          },
          "autotypenumbers": "strict",
          "coloraxis": {
           "colorbar": {
            "outlinewidth": 0,
            "ticks": ""
           }
          },
          "colorscale": {
           "diverging": [
            [
             0,
             "#8e0152"
            ],
            [
             0.1,
             "#c51b7d"
            ],
            [
             0.2,
             "#de77ae"
            ],
            [
             0.3,
             "#f1b6da"
            ],
            [
             0.4,
             "#fde0ef"
            ],
            [
             0.5,
             "#f7f7f7"
            ],
            [
             0.6,
             "#e6f5d0"
            ],
            [
             0.7,
             "#b8e186"
            ],
            [
             0.8,
             "#7fbc41"
            ],
            [
             0.9,
             "#4d9221"
            ],
            [
             1,
             "#276419"
            ]
           ],
           "sequential": [
            [
             0,
             "#0d0887"
            ],
            [
             0.1111111111111111,
             "#46039f"
            ],
            [
             0.2222222222222222,
             "#7201a8"
            ],
            [
             0.3333333333333333,
             "#9c179e"
            ],
            [
             0.4444444444444444,
             "#bd3786"
            ],
            [
             0.5555555555555556,
             "#d8576b"
            ],
            [
             0.6666666666666666,
             "#ed7953"
            ],
            [
             0.7777777777777778,
             "#fb9f3a"
            ],
            [
             0.8888888888888888,
             "#fdca26"
            ],
            [
             1,
             "#f0f921"
            ]
           ],
           "sequentialminus": [
            [
             0,
             "#0d0887"
            ],
            [
             0.1111111111111111,
             "#46039f"
            ],
            [
             0.2222222222222222,
             "#7201a8"
            ],
            [
             0.3333333333333333,
             "#9c179e"
            ],
            [
             0.4444444444444444,
             "#bd3786"
            ],
            [
             0.5555555555555556,
             "#d8576b"
            ],
            [
             0.6666666666666666,
             "#ed7953"
            ],
            [
             0.7777777777777778,
             "#fb9f3a"
            ],
            [
             0.8888888888888888,
             "#fdca26"
            ],
            [
             1,
             "#f0f921"
            ]
           ]
          },
          "colorway": [
           "#636efa",
           "#EF553B",
           "#00cc96",
           "#ab63fa",
           "#FFA15A",
           "#19d3f3",
           "#FF6692",
           "#B6E880",
           "#FF97FF",
           "#FECB52"
          ],
          "font": {
           "color": "#2a3f5f"
          },
          "geo": {
           "bgcolor": "white",
           "lakecolor": "white",
           "landcolor": "#E5ECF6",
           "showlakes": true,
           "showland": true,
           "subunitcolor": "white"
          },
          "hoverlabel": {
           "align": "left"
          },
          "hovermode": "closest",
          "mapbox": {
           "style": "light"
          },
          "paper_bgcolor": "white",
          "plot_bgcolor": "#E5ECF6",
          "polar": {
           "angularaxis": {
            "gridcolor": "white",
            "linecolor": "white",
            "ticks": ""
           },
           "bgcolor": "#E5ECF6",
           "radialaxis": {
            "gridcolor": "white",
            "linecolor": "white",
            "ticks": ""
           }
          },
          "scene": {
           "xaxis": {
            "backgroundcolor": "#E5ECF6",
            "gridcolor": "white",
            "gridwidth": 2,
            "linecolor": "white",
            "showbackground": true,
            "ticks": "",
            "zerolinecolor": "white"
           },
           "yaxis": {
            "backgroundcolor": "#E5ECF6",
            "gridcolor": "white",
            "gridwidth": 2,
            "linecolor": "white",
            "showbackground": true,
            "ticks": "",
            "zerolinecolor": "white"
           },
           "zaxis": {
            "backgroundcolor": "#E5ECF6",
            "gridcolor": "white",
            "gridwidth": 2,
            "linecolor": "white",
            "showbackground": true,
            "ticks": "",
            "zerolinecolor": "white"
           }
          },
          "shapedefaults": {
           "line": {
            "color": "#2a3f5f"
           }
          },
          "ternary": {
           "aaxis": {
            "gridcolor": "white",
            "linecolor": "white",
            "ticks": ""
           },
           "baxis": {
            "gridcolor": "white",
            "linecolor": "white",
            "ticks": ""
           },
           "bgcolor": "#E5ECF6",
           "caxis": {
            "gridcolor": "white",
            "linecolor": "white",
            "ticks": ""
           }
          },
          "title": {
           "x": 0.05
          },
          "xaxis": {
           "automargin": true,
           "gridcolor": "white",
           "linecolor": "white",
           "ticks": "",
           "title": {
            "standoff": 15
           },
           "zerolinecolor": "white",
           "zerolinewidth": 2
          },
          "yaxis": {
           "automargin": true,
           "gridcolor": "white",
           "linecolor": "white",
           "ticks": "",
           "title": {
            "standoff": 15
           },
           "zerolinecolor": "white",
           "zerolinewidth": 2
          }
         }
        },
        "title": {
         "text": "Average Income Over Time by Sector in All Denmark"
        },
        "xaxis": {
         "anchor": "y",
         "domain": [
          0,
          1
         ],
         "title": {
          "text": "Year"
         }
        },
        "yaxis": {
         "anchor": "x",
         "domain": [
          0,
          1
         ],
         "title": {
          "text": "Average Income"
         }
        }
       }
      }
     },
     "metadata": {},
     "output_type": "display_data"
    },
    {
     "data": {
      "application/vnd.jupyter.widget-view+json": {
       "model_id": "118902b5d1524642aedcd90a4ab3c338",
       "version_major": 2,
       "version_minor": 0
      },
      "text/plain": [
       "Dropdown(description='Select Area:', options=('All Denmark', 'Region Hovedstaden', 'Region Midtjylland', 'Regi…"
      ]
     },
     "metadata": {},
     "output_type": "display_data"
    },
    {
     "data": {
      "application/vnd.jupyter.widget-view+json": {
       "model_id": "464f594db0fd4f978c72ffa5a6416754",
       "version_major": 2,
       "version_minor": 0
      },
      "text/plain": [
       "Output()"
      ]
     },
     "metadata": {},
     "output_type": "display_data"
    },
    {
     "data": {
      "application/vnd.plotly.v1+json": {
       "config": {
        "plotlyServerURL": "https://plot.ly"
       },
       "data": [
        {
         "hovertemplate": "Sector=Corporations and organizations<br>Year=%{x}<br>Average Income=%{y}<extra></extra>",
         "legendgroup": "Corporations and organizations",
         "line": {
          "color": "#636efa",
          "dash": "solid"
         },
         "marker": {
          "symbol": "circle"
         },
         "mode": "lines",
         "name": "Corporations and organizations",
         "orientation": "v",
         "showlegend": true,
         "type": "scatter",
         "x": [
          2013,
          2014,
          2015,
          2016,
          2017,
          2018,
          2019,
          2020,
          2021,
          2022
         ],
         "xaxis": "x",
         "y": [
          297.4,
          300.91,
          304.53,
          306.22,
          313.14,
          323.24,
          329.55,
          334.97,
          341.04,
          351.39
         ],
         "yaxis": "y"
        },
        {
         "hovertemplate": "Sector=Government including social security funds<br>Year=%{x}<br>Average Income=%{y}<extra></extra>",
         "legendgroup": "Government including social security funds",
         "line": {
          "color": "#EF553B",
          "dash": "solid"
         },
         "marker": {
          "symbol": "circle"
         },
         "mode": "lines",
         "name": "Government including social security funds",
         "orientation": "v",
         "showlegend": true,
         "type": "scatter",
         "x": [
          2013,
          2014,
          2015,
          2016,
          2017,
          2018,
          2019,
          2020,
          2021,
          2022
         ],
         "xaxis": "x",
         "y": [
          309.14,
          313.27,
          315.47,
          319.2,
          324.17,
          334.99,
          342.77,
          347.19,
          351.25,
          368.09
         ],
         "yaxis": "y"
        },
        {
         "hovertemplate": "Sector=Municipal and regional government total<br>Year=%{x}<br>Average Income=%{y}<extra></extra>",
         "legendgroup": "Municipal and regional government total",
         "line": {
          "color": "#00cc96",
          "dash": "solid"
         },
         "marker": {
          "symbol": "circle"
         },
         "mode": "lines",
         "name": "Municipal and regional government total",
         "orientation": "v",
         "showlegend": true,
         "type": "scatter",
         "x": [
          2013,
          2014,
          2015,
          2016,
          2017,
          2018,
          2019,
          2020,
          2021,
          2022
         ],
         "xaxis": "x",
         "y": [
          270.49,
          276.19,
          281.33,
          286.52,
          292.6,
          296.81,
          302.2,
          312.89,
          316.46,
          329.41
         ],
         "yaxis": "y"
        }
       ],
       "layout": {
        "legend": {
         "title": {
          "text": "Sector"
         },
         "tracegroupgap": 0
        },
        "template": {
         "data": {
          "bar": [
           {
            "error_x": {
             "color": "#2a3f5f"
            },
            "error_y": {
             "color": "#2a3f5f"
            },
            "marker": {
             "line": {
              "color": "#E5ECF6",
              "width": 0.5
             },
             "pattern": {
              "fillmode": "overlay",
              "size": 10,
              "solidity": 0.2
             }
            },
            "type": "bar"
           }
          ],
          "barpolar": [
           {
            "marker": {
             "line": {
              "color": "#E5ECF6",
              "width": 0.5
             },
             "pattern": {
              "fillmode": "overlay",
              "size": 10,
              "solidity": 0.2
             }
            },
            "type": "barpolar"
           }
          ],
          "carpet": [
           {
            "aaxis": {
             "endlinecolor": "#2a3f5f",
             "gridcolor": "white",
             "linecolor": "white",
             "minorgridcolor": "white",
             "startlinecolor": "#2a3f5f"
            },
            "baxis": {
             "endlinecolor": "#2a3f5f",
             "gridcolor": "white",
             "linecolor": "white",
             "minorgridcolor": "white",
             "startlinecolor": "#2a3f5f"
            },
            "type": "carpet"
           }
          ],
          "choropleth": [
           {
            "colorbar": {
             "outlinewidth": 0,
             "ticks": ""
            },
            "type": "choropleth"
           }
          ],
          "contour": [
           {
            "colorbar": {
             "outlinewidth": 0,
             "ticks": ""
            },
            "colorscale": [
             [
              0,
              "#0d0887"
             ],
             [
              0.1111111111111111,
              "#46039f"
             ],
             [
              0.2222222222222222,
              "#7201a8"
             ],
             [
              0.3333333333333333,
              "#9c179e"
             ],
             [
              0.4444444444444444,
              "#bd3786"
             ],
             [
              0.5555555555555556,
              "#d8576b"
             ],
             [
              0.6666666666666666,
              "#ed7953"
             ],
             [
              0.7777777777777778,
              "#fb9f3a"
             ],
             [
              0.8888888888888888,
              "#fdca26"
             ],
             [
              1,
              "#f0f921"
             ]
            ],
            "type": "contour"
           }
          ],
          "contourcarpet": [
           {
            "colorbar": {
             "outlinewidth": 0,
             "ticks": ""
            },
            "type": "contourcarpet"
           }
          ],
          "heatmap": [
           {
            "colorbar": {
             "outlinewidth": 0,
             "ticks": ""
            },
            "colorscale": [
             [
              0,
              "#0d0887"
             ],
             [
              0.1111111111111111,
              "#46039f"
             ],
             [
              0.2222222222222222,
              "#7201a8"
             ],
             [
              0.3333333333333333,
              "#9c179e"
             ],
             [
              0.4444444444444444,
              "#bd3786"
             ],
             [
              0.5555555555555556,
              "#d8576b"
             ],
             [
              0.6666666666666666,
              "#ed7953"
             ],
             [
              0.7777777777777778,
              "#fb9f3a"
             ],
             [
              0.8888888888888888,
              "#fdca26"
             ],
             [
              1,
              "#f0f921"
             ]
            ],
            "type": "heatmap"
           }
          ],
          "heatmapgl": [
           {
            "colorbar": {
             "outlinewidth": 0,
             "ticks": ""
            },
            "colorscale": [
             [
              0,
              "#0d0887"
             ],
             [
              0.1111111111111111,
              "#46039f"
             ],
             [
              0.2222222222222222,
              "#7201a8"
             ],
             [
              0.3333333333333333,
              "#9c179e"
             ],
             [
              0.4444444444444444,
              "#bd3786"
             ],
             [
              0.5555555555555556,
              "#d8576b"
             ],
             [
              0.6666666666666666,
              "#ed7953"
             ],
             [
              0.7777777777777778,
              "#fb9f3a"
             ],
             [
              0.8888888888888888,
              "#fdca26"
             ],
             [
              1,
              "#f0f921"
             ]
            ],
            "type": "heatmapgl"
           }
          ],
          "histogram": [
           {
            "marker": {
             "pattern": {
              "fillmode": "overlay",
              "size": 10,
              "solidity": 0.2
             }
            },
            "type": "histogram"
           }
          ],
          "histogram2d": [
           {
            "colorbar": {
             "outlinewidth": 0,
             "ticks": ""
            },
            "colorscale": [
             [
              0,
              "#0d0887"
             ],
             [
              0.1111111111111111,
              "#46039f"
             ],
             [
              0.2222222222222222,
              "#7201a8"
             ],
             [
              0.3333333333333333,
              "#9c179e"
             ],
             [
              0.4444444444444444,
              "#bd3786"
             ],
             [
              0.5555555555555556,
              "#d8576b"
             ],
             [
              0.6666666666666666,
              "#ed7953"
             ],
             [
              0.7777777777777778,
              "#fb9f3a"
             ],
             [
              0.8888888888888888,
              "#fdca26"
             ],
             [
              1,
              "#f0f921"
             ]
            ],
            "type": "histogram2d"
           }
          ],
          "histogram2dcontour": [
           {
            "colorbar": {
             "outlinewidth": 0,
             "ticks": ""
            },
            "colorscale": [
             [
              0,
              "#0d0887"
             ],
             [
              0.1111111111111111,
              "#46039f"
             ],
             [
              0.2222222222222222,
              "#7201a8"
             ],
             [
              0.3333333333333333,
              "#9c179e"
             ],
             [
              0.4444444444444444,
              "#bd3786"
             ],
             [
              0.5555555555555556,
              "#d8576b"
             ],
             [
              0.6666666666666666,
              "#ed7953"
             ],
             [
              0.7777777777777778,
              "#fb9f3a"
             ],
             [
              0.8888888888888888,
              "#fdca26"
             ],
             [
              1,
              "#f0f921"
             ]
            ],
            "type": "histogram2dcontour"
           }
          ],
          "mesh3d": [
           {
            "colorbar": {
             "outlinewidth": 0,
             "ticks": ""
            },
            "type": "mesh3d"
           }
          ],
          "parcoords": [
           {
            "line": {
             "colorbar": {
              "outlinewidth": 0,
              "ticks": ""
             }
            },
            "type": "parcoords"
           }
          ],
          "pie": [
           {
            "automargin": true,
            "type": "pie"
           }
          ],
          "scatter": [
           {
            "fillpattern": {
             "fillmode": "overlay",
             "size": 10,
             "solidity": 0.2
            },
            "type": "scatter"
           }
          ],
          "scatter3d": [
           {
            "line": {
             "colorbar": {
              "outlinewidth": 0,
              "ticks": ""
             }
            },
            "marker": {
             "colorbar": {
              "outlinewidth": 0,
              "ticks": ""
             }
            },
            "type": "scatter3d"
           }
          ],
          "scattercarpet": [
           {
            "marker": {
             "colorbar": {
              "outlinewidth": 0,
              "ticks": ""
             }
            },
            "type": "scattercarpet"
           }
          ],
          "scattergeo": [
           {
            "marker": {
             "colorbar": {
              "outlinewidth": 0,
              "ticks": ""
             }
            },
            "type": "scattergeo"
           }
          ],
          "scattergl": [
           {
            "marker": {
             "colorbar": {
              "outlinewidth": 0,
              "ticks": ""
             }
            },
            "type": "scattergl"
           }
          ],
          "scattermapbox": [
           {
            "marker": {
             "colorbar": {
              "outlinewidth": 0,
              "ticks": ""
             }
            },
            "type": "scattermapbox"
           }
          ],
          "scatterpolar": [
           {
            "marker": {
             "colorbar": {
              "outlinewidth": 0,
              "ticks": ""
             }
            },
            "type": "scatterpolar"
           }
          ],
          "scatterpolargl": [
           {
            "marker": {
             "colorbar": {
              "outlinewidth": 0,
              "ticks": ""
             }
            },
            "type": "scatterpolargl"
           }
          ],
          "scatterternary": [
           {
            "marker": {
             "colorbar": {
              "outlinewidth": 0,
              "ticks": ""
             }
            },
            "type": "scatterternary"
           }
          ],
          "surface": [
           {
            "colorbar": {
             "outlinewidth": 0,
             "ticks": ""
            },
            "colorscale": [
             [
              0,
              "#0d0887"
             ],
             [
              0.1111111111111111,
              "#46039f"
             ],
             [
              0.2222222222222222,
              "#7201a8"
             ],
             [
              0.3333333333333333,
              "#9c179e"
             ],
             [
              0.4444444444444444,
              "#bd3786"
             ],
             [
              0.5555555555555556,
              "#d8576b"
             ],
             [
              0.6666666666666666,
              "#ed7953"
             ],
             [
              0.7777777777777778,
              "#fb9f3a"
             ],
             [
              0.8888888888888888,
              "#fdca26"
             ],
             [
              1,
              "#f0f921"
             ]
            ],
            "type": "surface"
           }
          ],
          "table": [
           {
            "cells": {
             "fill": {
              "color": "#EBF0F8"
             },
             "line": {
              "color": "white"
             }
            },
            "header": {
             "fill": {
              "color": "#C8D4E3"
             },
             "line": {
              "color": "white"
             }
            },
            "type": "table"
           }
          ]
         },
         "layout": {
          "annotationdefaults": {
           "arrowcolor": "#2a3f5f",
           "arrowhead": 0,
           "arrowwidth": 1
          },
          "autotypenumbers": "strict",
          "coloraxis": {
           "colorbar": {
            "outlinewidth": 0,
            "ticks": ""
           }
          },
          "colorscale": {
           "diverging": [
            [
             0,
             "#8e0152"
            ],
            [
             0.1,
             "#c51b7d"
            ],
            [
             0.2,
             "#de77ae"
            ],
            [
             0.3,
             "#f1b6da"
            ],
            [
             0.4,
             "#fde0ef"
            ],
            [
             0.5,
             "#f7f7f7"
            ],
            [
             0.6,
             "#e6f5d0"
            ],
            [
             0.7,
             "#b8e186"
            ],
            [
             0.8,
             "#7fbc41"
            ],
            [
             0.9,
             "#4d9221"
            ],
            [
             1,
             "#276419"
            ]
           ],
           "sequential": [
            [
             0,
             "#0d0887"
            ],
            [
             0.1111111111111111,
             "#46039f"
            ],
            [
             0.2222222222222222,
             "#7201a8"
            ],
            [
             0.3333333333333333,
             "#9c179e"
            ],
            [
             0.4444444444444444,
             "#bd3786"
            ],
            [
             0.5555555555555556,
             "#d8576b"
            ],
            [
             0.6666666666666666,
             "#ed7953"
            ],
            [
             0.7777777777777778,
             "#fb9f3a"
            ],
            [
             0.8888888888888888,
             "#fdca26"
            ],
            [
             1,
             "#f0f921"
            ]
           ],
           "sequentialminus": [
            [
             0,
             "#0d0887"
            ],
            [
             0.1111111111111111,
             "#46039f"
            ],
            [
             0.2222222222222222,
             "#7201a8"
            ],
            [
             0.3333333333333333,
             "#9c179e"
            ],
            [
             0.4444444444444444,
             "#bd3786"
            ],
            [
             0.5555555555555556,
             "#d8576b"
            ],
            [
             0.6666666666666666,
             "#ed7953"
            ],
            [
             0.7777777777777778,
             "#fb9f3a"
            ],
            [
             0.8888888888888888,
             "#fdca26"
            ],
            [
             1,
             "#f0f921"
            ]
           ]
          },
          "colorway": [
           "#636efa",
           "#EF553B",
           "#00cc96",
           "#ab63fa",
           "#FFA15A",
           "#19d3f3",
           "#FF6692",
           "#B6E880",
           "#FF97FF",
           "#FECB52"
          ],
          "font": {
           "color": "#2a3f5f"
          },
          "geo": {
           "bgcolor": "white",
           "lakecolor": "white",
           "landcolor": "#E5ECF6",
           "showlakes": true,
           "showland": true,
           "subunitcolor": "white"
          },
          "hoverlabel": {
           "align": "left"
          },
          "hovermode": "closest",
          "mapbox": {
           "style": "light"
          },
          "paper_bgcolor": "white",
          "plot_bgcolor": "#E5ECF6",
          "polar": {
           "angularaxis": {
            "gridcolor": "white",
            "linecolor": "white",
            "ticks": ""
           },
           "bgcolor": "#E5ECF6",
           "radialaxis": {
            "gridcolor": "white",
            "linecolor": "white",
            "ticks": ""
           }
          },
          "scene": {
           "xaxis": {
            "backgroundcolor": "#E5ECF6",
            "gridcolor": "white",
            "gridwidth": 2,
            "linecolor": "white",
            "showbackground": true,
            "ticks": "",
            "zerolinecolor": "white"
           },
           "yaxis": {
            "backgroundcolor": "#E5ECF6",
            "gridcolor": "white",
            "gridwidth": 2,
            "linecolor": "white",
            "showbackground": true,
            "ticks": "",
            "zerolinecolor": "white"
           },
           "zaxis": {
            "backgroundcolor": "#E5ECF6",
            "gridcolor": "white",
            "gridwidth": 2,
            "linecolor": "white",
            "showbackground": true,
            "ticks": "",
            "zerolinecolor": "white"
           }
          },
          "shapedefaults": {
           "line": {
            "color": "#2a3f5f"
           }
          },
          "ternary": {
           "aaxis": {
            "gridcolor": "white",
            "linecolor": "white",
            "ticks": ""
           },
           "baxis": {
            "gridcolor": "white",
            "linecolor": "white",
            "ticks": ""
           },
           "bgcolor": "#E5ECF6",
           "caxis": {
            "gridcolor": "white",
            "linecolor": "white",
            "ticks": ""
           }
          },
          "title": {
           "x": 0.05
          },
          "xaxis": {
           "automargin": true,
           "gridcolor": "white",
           "linecolor": "white",
           "ticks": "",
           "title": {
            "standoff": 15
           },
           "zerolinecolor": "white",
           "zerolinewidth": 2
          },
          "yaxis": {
           "automargin": true,
           "gridcolor": "white",
           "linecolor": "white",
           "ticks": "",
           "title": {
            "standoff": 15
           },
           "zerolinecolor": "white",
           "zerolinewidth": 2
          }
         }
        },
        "title": {
         "text": "Average Income Over Time by Sector in All Denmark"
        },
        "xaxis": {
         "anchor": "y",
         "domain": [
          0,
          1
         ],
         "title": {
          "text": "Year"
         }
        },
        "yaxis": {
         "anchor": "x",
         "domain": [
          0,
          1
         ],
         "title": {
          "text": "Average Income"
         }
        }
       }
      }
     },
     "metadata": {},
     "output_type": "display_data"
    }
   ],
   "source": [
    "# Import the function from the python file\n",
    "from dataprojecteksamen import interactive_plot\n",
    "\n",
    "# Plot the function\n",
    "interactive_plot(Inc_age_cleaned, Inc_area_cleaned)"
   ]
  },
  {
   "cell_type": "markdown",
   "metadata": {},
   "source": [
    "When looking at all of Denmark we see that the income is greates over the entire period in the sector Corporations and organizations and lowest in Municipal and regional goverment, but has been increasing for all the three sectors over the entire period. \n",
    "\n",
    "In Region Hovedstaden the average income is much lower in the sector Municipal and regional goverment compared to the other two, however the average income from sector for Goverment including social security funds have increased in 2022 to be almost as high as Cooperations and organizations. \n",
    "\n",
    "This picture is very different when we look at the other areas in Denmark. In all other regions the income is greates in the sector for Goverment including social security funds. And in Region Nordjylland and Sjælland it is the lowest. The plots indicate that the sector Corporations and organizations provide a higher wage in the regions containing the two largest cities in Denmark, Copenhagen and Aarhus (Region Hovedstaden and Midtjylland). Wheras in the more rural areas the average income stemming from goverment and muncipial and regional goverment sectors is higher than from the private sector. "
   ]
  },
  {
   "cell_type": "markdown",
   "metadata": {},
   "source": [
    "We then examine the growth rate from 2013 to 2022 for the different sectors. The drop box can be used to select the areas."
   ]
  },
  {
   "cell_type": "code",
   "execution_count": 32,
   "metadata": {},
   "outputs": [
    {
     "data": {
      "application/vnd.jupyter.widget-view+json": {
       "model_id": "ed6f92aa49b546a5be27932ece081c68",
       "version_major": 2,
       "version_minor": 0
      },
      "text/plain": [
       "Dropdown(description='Select Area:', options=('All Denmark', 'Region Hovedstaden', 'Region Midtjylland', 'Regi…"
      ]
     },
     "metadata": {},
     "output_type": "display_data"
    },
    {
     "data": {
      "application/vnd.jupyter.widget-view+json": {
       "model_id": "ca5c7e295ad74df1871613e1581e68d2",
       "version_major": 2,
       "version_minor": 0
      },
      "text/plain": [
       "Output()"
      ]
     },
     "metadata": {},
     "output_type": "display_data"
    }
   ],
   "source": [
    "# We import the growth rate funtion from the python file\n",
    "from dataprojecteksamen import interactive_growth_rate\n",
    "\n",
    "# We show the box\n",
    "interactive_growth_rate(Inc_age_cleaned, Inc_area_cleaned)"
   ]
  },
  {
   "cell_type": "markdown",
   "metadata": {},
   "source": [
    "We see from the drop box that in all of Denmark the growth rate in average income has been the greatest in the sector Municipal and regional gowerment (which is also the case when looking at the regions indivdiually) and lowest in Corporations and organizations. This indicates a generall greater income growth in the public sector compared to private. "
   ]
  },
  {
   "cell_type": "markdown",
   "metadata": {},
   "source": [
    "# Conclusion"
   ]
  },
  {
   "cell_type": "markdown",
   "metadata": {},
   "source": [
    "We find that income has been increasing in all regions in Denmark from 2013 to 2022. The income is greatest in the region 'Hovedstaden' and the least in 'Nordjylland' for all years, which most likely is because of 'Hovedstaden' including the capital of Denmark. Generally, we would expect to see more higher-salary jobs in capitals and larger citites. We also show two box plot with the median income for all regions and age groups in 2022. We see that although the median income for Copenhagen is very high, there is a large variability in the income distrubution for the bottom 50 pct. of income earners in 2022, with few indivduals lowering the average.\n",
    "\n",
    "In 2022 we see that the income median is increasing in age groups but peaks at the age group 50-54 whereafter it falls. This is presumably because young people are studying and earning a lower wage for the first years of their careers whereafter salaries increase with more experience in the job market/senior positions. The fall in income in the older age groups is most likely caused by more people retiring and switching to pensions that provides a lower income than working. For almost all age groups the median is relativly high in the box-plot, which illustrates that there is greater income variability in the 50 pct. lowest earners compared to the 50 pct. highest, and that a smaller portion of the groups lowers the average.\n",
    "\n",
    "The average income has increased for all sectors in Denmark from 2013 to 2022, however the sector Municipal and regional gowerment has had the greates growth rate, which is also the case when looking at the individual areas. In region Hovedstaden the highest income is from the sector Corporations and organizations, wheras in the other areas the sector for Goverment including social security funds has the highest average income."
   ]
  }
 ],
 "metadata": {
  "kernelspec": {
   "display_name": "base",
   "language": "python",
   "name": "python3"
  },
  "language_info": {
   "codemirror_mode": {
    "name": "ipython",
    "version": 3
   },
   "file_extension": ".py",
   "mimetype": "text/x-python",
   "name": "python",
   "nbconvert_exporter": "python",
   "pygments_lexer": "ipython3",
   "version": "3.11.7"
  },
  "toc-autonumbering": true,
  "vscode": {
   "interpreter": {
    "hash": "47ef90cdf3004d3f859f1fb202523c65c07ba7c22eefd261b181f4744e2d0403"
   }
  }
 },
 "nbformat": 4,
 "nbformat_minor": 4
}
