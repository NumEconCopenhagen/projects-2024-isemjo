{
 "cells": [
  {
   "cell_type": "markdown",
   "metadata": {},
   "source": [
    "Import ting"
   ]
  },
  {
   "cell_type": "code",
   "execution_count": 1,
   "metadata": {},
   "outputs": [],
   "source": [
    "import numpy as np\n",
    "from scipy import optimize\n",
    "import sympy as sm\n",
    "import matplotlib.pyplot as plt\n",
    "\n",
    "# Autoreload modules when code is run\n",
    "%load_ext autoreload\n",
    "%autoreload 2\n",
    "\n",
    "# My modules\n",
    "from modelproject import solow_equations, multi_start \n",
    "\n",
    "# Predefined options for all plots\n",
    "plt.rcParams.update({\"axes.grid\":True,\"grid.color\":\"black\",\"grid.alpha\":\"0.25\",\"grid.linestyle\":\"-\"})\n",
    "plt.rcParams.update({'figure.figsize': (10, 6)})\n",
    "plt.rcParams.update({'font.size': 10})"
   ]
  },
  {
   "cell_type": "code",
   "execution_count": 2,
   "metadata": {},
   "outputs": [
    {
     "data": {
      "text/latex": [
       "$\\displaystyle r_{t} = \\frac{Y_{t} \\alpha}{K_{t}}$"
      ],
      "text/plain": [
       "Eq(r_t, Y_t*alpha/K_t)"
      ]
     },
     "metadata": {},
     "output_type": "display_data"
    },
    {
     "data": {
      "text/latex": [
       "$\\displaystyle w_{t} = \\frac{Y_{t} \\left(1 - \\alpha\\right)}{L_{t}}$"
      ],
      "text/plain": [
       "Eq(w_t, Y_t*(1 - alpha)/L_t)"
      ]
     },
     "metadata": {},
     "output_type": "display_data"
    }
   ],
   "source": [
    "import sympy as sm\n",
    "\n",
    "# Create SymPy symbols for the variables and parameters\n",
    "Y_t, K_t, A_t, L_t, alpha, r_t, w_t = sm.symbols('Y_t, K_t, A_t, L_t, alpha, r_t, w_t')\n",
    "\n",
    "# Set the production function\n",
    "production_function = K_t**alpha * A_t**(1-alpha) * L_t**(1-alpha)\n",
    "\n",
    "# Find rent and wages\n",
    "rent = sm.diff(production_function, K_t)\n",
    "wages = sm.diff(production_function, L_t)\n",
    "\n",
    "# Replace the production function with Y_t\n",
    "rent = rent.subs(production_function, Y_t)\n",
    "wages = wages.subs(production_function, Y_t)\n",
    "\n",
    "# For display purposes, I create equations for rent and wages\n",
    "display_rent = sm.Eq(r_t, rent)\n",
    "display_wages = sm.Eq(w_t, wages)\n",
    "\n",
    "# Display rent and wages in SymPy format\n",
    "display(display_rent, display_wages)\n"
   ]
  },
  {
   "cell_type": "markdown",
   "metadata": {},
   "source": [
    "Solving the model"
   ]
  },
  {
   "cell_type": "code",
   "execution_count": 3,
   "metadata": {},
   "outputs": [],
   "source": [
    "# Set parameter values\n",
    "s_val = 0.2\n",
    "n_val = 0.0\n",
    "g_val = 0.015\n",
    "delta_val = 0.06\n",
    "alpha_val = 1/3\n"
   ]
  },
  {
   "cell_type": "code",
   "execution_count": 4,
   "metadata": {},
   "outputs": [
    {
     "ename": "ValueError",
     "evalue": "The truth value of an array with more than one element is ambiguous. Use a.any() or a.all()",
     "output_type": "error",
     "traceback": [
      "\u001b[0;31m---------------------------------------------------------------------------\u001b[0m",
      "\u001b[0;31mValueError\u001b[0m                                Traceback (most recent call last)",
      "Cell \u001b[0;32mIn[4], line 2\u001b[0m\n\u001b[1;32m      1\u001b[0m \u001b[38;5;66;03m# Call the Multi-Start function to find the steady state values of capital \u001b[39;00m\n\u001b[0;32m----> 2\u001b[0m steady_state_k, smallest_residual \u001b[38;5;241m=\u001b[39m multi_start(num_guesses\u001b[38;5;241m=\u001b[39m\u001b[38;5;241m100\u001b[39m,\n\u001b[1;32m      3\u001b[0m             bounds \u001b[38;5;241m=\u001b[39m [\u001b[38;5;241m1e-5\u001b[39m, \u001b[38;5;241m50\u001b[39m],\n\u001b[1;32m      4\u001b[0m             fun \u001b[38;5;241m=\u001b[39m solow_equations, \n\u001b[1;32m      5\u001b[0m             args \u001b[38;5;241m=\u001b[39m (s_val, n_val, g_val, delta_val, alpha_val), \n\u001b[1;32m      6\u001b[0m             method \u001b[38;5;241m=\u001b[39m \u001b[38;5;124m'\u001b[39m\u001b[38;5;124mhybr\u001b[39m\u001b[38;5;124m'\u001b[39m)\n\u001b[1;32m      8\u001b[0m \u001b[38;5;28mprint\u001b[39m(\u001b[38;5;124mf\u001b[39m\u001b[38;5;124m'\u001b[39m\u001b[38;5;124mMuti-Start Solution:\u001b[39m\u001b[38;5;130;01m\\n\u001b[39;00m\u001b[38;5;130;01m\\\u001b[39;00m\n\u001b[1;32m      9\u001b[0m \u001b[38;5;124mThere are \u001b[39m\u001b[38;5;132;01m{\u001b[39;00msteady_state_k\u001b[38;5;132;01m:\u001b[39;00m\u001b[38;5;124m.3f\u001b[39m\u001b[38;5;132;01m}\u001b[39;00m\u001b[38;5;124m units of capital in steady state\u001b[39m\u001b[38;5;130;01m\\n\u001b[39;00m\u001b[38;5;130;01m\\\u001b[39;00m\n\u001b[1;32m     10\u001b[0m \u001b[38;5;124mThe functions residual is \u001b[39m\u001b[38;5;132;01m{\u001b[39;00msmallest_residual\u001b[38;5;132;01m:\u001b[39;00m\u001b[38;5;124m.3e\u001b[39m\u001b[38;5;132;01m}\u001b[39;00m\u001b[38;5;124m'\u001b[39m)\n",
      "File \u001b[0;32m~/Desktop/projects-2024-isemjo-2/PHINE/modelproject.py:60\u001b[0m, in \u001b[0;36mmulti_start\u001b[0;34m(num_guesses, bounds, fun, args, method)\u001b[0m\n\u001b[1;32m     57\u001b[0m initial_guess \u001b[38;5;241m=\u001b[39m random\u001b[38;5;241m.\u001b[39msample(random_samples, \u001b[38;5;241m2\u001b[39m)\n\u001b[1;32m     59\u001b[0m \u001b[38;5;66;03m# Solve the optimization problem with the current initial guess\u001b[39;00m\n\u001b[0;32m---> 60\u001b[0m sol \u001b[38;5;241m=\u001b[39m optimize\u001b[38;5;241m.\u001b[39mroot(fun \u001b[38;5;241m=\u001b[39m fun, x0 \u001b[38;5;241m=\u001b[39m initial_guess, args \u001b[38;5;241m=\u001b[39m args, method \u001b[38;5;241m=\u001b[39m method)\n\u001b[1;32m     62\u001b[0m \u001b[38;5;66;03m# Calculate the residual norm (Euclidean norm) of the current solution\u001b[39;00m\n\u001b[1;32m     63\u001b[0m residual_norm \u001b[38;5;241m=\u001b[39m np\u001b[38;5;241m.\u001b[39mlinalg\u001b[38;5;241m.\u001b[39mnorm(sol\u001b[38;5;241m.\u001b[39mfun)\n",
      "File \u001b[0;32m~/anaconda3/lib/python3.11/site-packages/scipy/optimize/_root.py:236\u001b[0m, in \u001b[0;36mroot\u001b[0;34m(fun, x0, args, method, jac, tol, callback, options)\u001b[0m\n\u001b[1;32m    233\u001b[0m         options\u001b[38;5;241m.\u001b[39msetdefault(\u001b[38;5;124m'\u001b[39m\u001b[38;5;124mfatol\u001b[39m\u001b[38;5;124m'\u001b[39m, np\u001b[38;5;241m.\u001b[39minf)\n\u001b[1;32m    235\u001b[0m \u001b[38;5;28;01mif\u001b[39;00m meth \u001b[38;5;241m==\u001b[39m \u001b[38;5;124m'\u001b[39m\u001b[38;5;124mhybr\u001b[39m\u001b[38;5;124m'\u001b[39m:\n\u001b[0;32m--> 236\u001b[0m     sol \u001b[38;5;241m=\u001b[39m _root_hybr(fun, x0, args\u001b[38;5;241m=\u001b[39margs, jac\u001b[38;5;241m=\u001b[39mjac, \u001b[38;5;241m*\u001b[39m\u001b[38;5;241m*\u001b[39moptions)\n\u001b[1;32m    237\u001b[0m \u001b[38;5;28;01melif\u001b[39;00m meth \u001b[38;5;241m==\u001b[39m \u001b[38;5;124m'\u001b[39m\u001b[38;5;124mlm\u001b[39m\u001b[38;5;124m'\u001b[39m:\n\u001b[1;32m    238\u001b[0m     sol \u001b[38;5;241m=\u001b[39m _root_leastsq(fun, x0, args\u001b[38;5;241m=\u001b[39margs, jac\u001b[38;5;241m=\u001b[39mjac, \u001b[38;5;241m*\u001b[39m\u001b[38;5;241m*\u001b[39moptions)\n",
      "File \u001b[0;32m~/anaconda3/lib/python3.11/site-packages/scipy/optimize/_minpack_py.py:228\u001b[0m, in \u001b[0;36m_root_hybr\u001b[0;34m(func, x0, args, jac, col_deriv, xtol, maxfev, band, eps, factor, diag, **unknown_options)\u001b[0m\n\u001b[1;32m    226\u001b[0m \u001b[38;5;28;01mif\u001b[39;00m \u001b[38;5;129;01mnot\u001b[39;00m \u001b[38;5;28misinstance\u001b[39m(args, \u001b[38;5;28mtuple\u001b[39m):\n\u001b[1;32m    227\u001b[0m     args \u001b[38;5;241m=\u001b[39m (args,)\n\u001b[0;32m--> 228\u001b[0m shape, dtype \u001b[38;5;241m=\u001b[39m _check_func(\u001b[38;5;124m'\u001b[39m\u001b[38;5;124mfsolve\u001b[39m\u001b[38;5;124m'\u001b[39m, \u001b[38;5;124m'\u001b[39m\u001b[38;5;124mfunc\u001b[39m\u001b[38;5;124m'\u001b[39m, func, x0, args, n, (n,))\n\u001b[1;32m    229\u001b[0m \u001b[38;5;28;01mif\u001b[39;00m epsfcn \u001b[38;5;129;01mis\u001b[39;00m \u001b[38;5;28;01mNone\u001b[39;00m:\n\u001b[1;32m    230\u001b[0m     epsfcn \u001b[38;5;241m=\u001b[39m finfo(dtype)\u001b[38;5;241m.\u001b[39meps\n",
      "File \u001b[0;32m~/anaconda3/lib/python3.11/site-packages/scipy/optimize/_minpack_py.py:25\u001b[0m, in \u001b[0;36m_check_func\u001b[0;34m(checker, argname, thefunc, x0, args, numinputs, output_shape)\u001b[0m\n\u001b[1;32m     23\u001b[0m \u001b[38;5;28;01mdef\u001b[39;00m \u001b[38;5;21m_check_func\u001b[39m(checker, argname, thefunc, x0, args, numinputs,\n\u001b[1;32m     24\u001b[0m                 output_shape\u001b[38;5;241m=\u001b[39m\u001b[38;5;28;01mNone\u001b[39;00m):\n\u001b[0;32m---> 25\u001b[0m     res \u001b[38;5;241m=\u001b[39m atleast_1d(thefunc(\u001b[38;5;241m*\u001b[39m((x0[:numinputs],) \u001b[38;5;241m+\u001b[39m args)))\n\u001b[1;32m     26\u001b[0m     \u001b[38;5;28;01mif\u001b[39;00m (output_shape \u001b[38;5;129;01mis\u001b[39;00m \u001b[38;5;129;01mnot\u001b[39;00m \u001b[38;5;28;01mNone\u001b[39;00m) \u001b[38;5;129;01mand\u001b[39;00m (shape(res) \u001b[38;5;241m!=\u001b[39m output_shape):\n\u001b[1;32m     27\u001b[0m         \u001b[38;5;28;01mif\u001b[39;00m (output_shape[\u001b[38;5;241m0\u001b[39m] \u001b[38;5;241m!=\u001b[39m \u001b[38;5;241m1\u001b[39m):\n",
      "File \u001b[0;32m~/Desktop/projects-2024-isemjo-2/PHINE/modelproject.py:22\u001b[0m, in \u001b[0;36msolow_equations\u001b[0;34m(variables, s, n, g, delta, alpha)\u001b[0m\n\u001b[1;32m     19\u001b[0m k \u001b[38;5;241m=\u001b[39m variables\n\u001b[1;32m     21\u001b[0m \u001b[38;5;66;03m# Checks for edge cases, used in multi_start\u001b[39;00m\n\u001b[0;32m---> 22\u001b[0m \u001b[38;5;28;01mif\u001b[39;00m k \u001b[38;5;241m<\u001b[39m\u001b[38;5;241m=\u001b[39m \u001b[38;5;241m0\u001b[39m:\n\u001b[1;32m     23\u001b[0m     \u001b[38;5;66;03m# Return a very large residual to indicate a poor solution\u001b[39;00m\n\u001b[1;32m     24\u001b[0m     \u001b[38;5;28;01mreturn\u001b[39;00m [np\u001b[38;5;241m.\u001b[39minf, np\u001b[38;5;241m.\u001b[39minf]\n\u001b[1;32m     26\u001b[0m \u001b[38;5;66;03m# Set Solow equations for k_{t+1}-k_{t} = 0 \u001b[39;00m\n",
      "\u001b[0;31mValueError\u001b[0m: The truth value of an array with more than one element is ambiguous. Use a.any() or a.all()"
     ]
    }
   ],
   "source": [
    "# Call the Multi-Start function to find the steady state values of capital \n",
    "steady_state_k, smallest_residual = multi_start(num_guesses=100,\n",
    "            bounds = [1e-5, 50],\n",
    "            fun = solow_equations, \n",
    "            args = (s_val, n_val, g_val, delta_val, alpha_val), \n",
    "            method = 'hybr')\n",
    "\n",
    "print(f'Muti-Start Solution:\\n\\\n",
    "There are {steady_state_k:.3f} units of capital in steady state\\n\\\n",
    "The functions residual is {smallest_residual:.3e}')"
   ]
  }
 ],
 "metadata": {
  "kernelspec": {
   "display_name": "base",
   "language": "python",
   "name": "python3"
  },
  "language_info": {
   "codemirror_mode": {
    "name": "ipython",
    "version": 3
   },
   "file_extension": ".py",
   "mimetype": "text/x-python",
   "name": "python",
   "nbconvert_exporter": "python",
   "pygments_lexer": "ipython3",
   "version": "3.11.7"
  },
  "toc-autonumbering": true,
  "vscode": {
   "interpreter": {
    "hash": "47ef90cdf3004d3f859f1fb202523c65c07ba7c22eefd261b181f4744e2d0403"
   }
  }
 },
 "nbformat": 4,
 "nbformat_minor": 4
}
