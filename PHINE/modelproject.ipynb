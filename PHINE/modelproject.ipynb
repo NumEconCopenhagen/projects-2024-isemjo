{
 "cells": [
  {
   "cell_type": "code",
   "execution_count": null,
   "metadata": {},
   "outputs": [],
   "source": []
  },
  {
   "cell_type": "code",
   "execution_count": null,
   "metadata": {},
   "outputs": [],
   "source": [
    "import numpy as np\n",
    "from scipy import optimize\n",
    "import sympy as sm\n",
    "import matplotlib.pyplot as plt\n",
    "\n",
    "# Autoreload modules when code is run\n",
    "%load_ext autoreload\n",
    "%autoreload 2\n",
    "\n",
    "# My modules\n",
    "from modelproject import solow_equations, multi_start, null_clines, find_intersection, simulate_growth_paths\n",
    "\n",
    "# Predefined options for all plots\n",
    "plt.rcParams.update({\"axes.grid\":True,\"grid.color\":\"black\",\"grid.alpha\":\"0.25\",\"grid.linestyle\":\"-\"})\n",
    "plt.rcParams.update({'figure.figsize': (10, 6)})\n",
    "plt.rcParams.update({'font.size': 10})"
   ]
  },
  {
   "cell_type": "code",
   "execution_count": null,
   "metadata": {},
   "outputs": [],
   "source": [
    "import sympy as sm\n",
    "\n",
    "# Create SymPy symbols for the variables and parameters\n",
    "Y_t, K_t, A_t, L_t, alpha, r_t, w_t = sm.symbols('Y_t, K_t, A_t, L_t, alpha, r_t, w_t')\n",
    "\n",
    "# Set the production function\n",
    "production_function = K_t**alpha * A_t**(1-alpha) * L_t**(1-alpha)\n",
    "\n",
    "# Find rent and wages\n",
    "rent = sm.diff(production_function, K_t)\n",
    "wages = sm.diff(production_function, L_t)\n",
    "\n",
    "# Replace the production function with Y_t\n",
    "rent = rent.subs(production_function, Y_t)\n",
    "wages = wages.subs(production_function, Y_t)\n",
    "\n",
    "# For display purposes, I create equations for rent and wages\n",
    "display_rent = sm.Eq(r_t, rent)\n",
    "display_wages = sm.Eq(w_t, wages)\n",
    "\n",
    "# Display rent and wages in SymPy format\n",
    "display(display_rent, display_wages)\n"
   ]
  },
  {
   "cell_type": "markdown",
   "metadata": {},
   "source": [
    "Solving the model"
   ]
  },
  {
   "cell_type": "code",
   "execution_count": null,
   "metadata": {},
   "outputs": [],
   "source": [
    "# Set parameter values\n",
    "s_val = 0.2\n",
    "n_val = 0.0\n",
    "g_val = 0.015\n",
    "delta_val = 0.06\n",
    "alpha_val = 1/3\n"
   ]
  },
  {
   "cell_type": "code",
   "execution_count": null,
   "metadata": {},
   "outputs": [],
   "source": [
    "# Call the Multi-Start function to find the steady state values of capital \n",
    "steady_state_k, smallest_residual = multi_start(num_guesses=100,\n",
    "            bounds = [1e-5, 50],\n",
    "            fun = solow_equations, \n",
    "            args = (s_val, n_val, g_val, delta_val, alpha_val), \n",
    "            method = 'hybr')\n",
    "\n",
    "print(f'Muti-Start Solution:\\n\\\n",
    "There are {steady_state_k:.3f} units of physical capital, and {steady_state_h:.3f} units of human capital in steady state\\n\\\n",
    "The functions residual is {smallest_residual:.3e}')"
   ]
  }
 ],
 "metadata": {
  "kernelspec": {
   "display_name": "base",
   "language": "python",
   "name": "python3"
  },
  "language_info": {
   "codemirror_mode": {
    "name": "ipython",
    "version": 3
   },
   "file_extension": ".py",
   "mimetype": "text/x-python",
   "name": "python",
   "nbconvert_exporter": "python",
   "pygments_lexer": "ipython3",
   "version": "3.9.18"
  },
  "toc-autonumbering": true,
  "vscode": {
   "interpreter": {
    "hash": "47ef90cdf3004d3f859f1fb202523c65c07ba7c22eefd261b181f4744e2d0403"
   }
  }
 },
 "nbformat": 4,
 "nbformat_minor": 4
}
