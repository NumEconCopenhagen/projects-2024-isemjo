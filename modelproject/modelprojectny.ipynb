{
 "cells": [
  {
   "cell_type": "code",
   "execution_count": 2,
   "metadata": {},
   "outputs": [],
   "source": [
    "import numpy as np\n",
    "from scipy import optimize\n",
    "import sympy as sm\n",
    "import matplotlib.pyplot as plt\n",
    "from ipywidgets import interact, FloatSlider\n",
    "\n",
    "# Python script\n",
    "from modelproject import solow_equation, multi_start\n",
    "from modelproject import solow_equation1, multi_start1"
   ]
  },
  {
   "cell_type": "code",
   "execution_count": 3,
   "metadata": {},
   "outputs": [
    {
     "data": {
      "text/latex": [
       "$\\displaystyle r_{t} = \\frac{K_{t}^{\\alpha} X^{\\kappa} \\alpha \\left(A_{t} L_{t}\\right)^{\\beta}}{K_{t}}$"
      ],
      "text/plain": [
       "Eq(r_t, K_t**alpha*X**kappa*alpha*(A_t*L_t)**beta/K_t)"
      ]
     },
     "metadata": {},
     "output_type": "display_data"
    },
    {
     "data": {
      "text/latex": [
       "$\\displaystyle w_{t} = \\frac{K_{t}^{\\alpha} X^{\\kappa} \\beta \\left(A_{t} L_{t}\\right)^{\\beta}}{L_{t}}$"
      ],
      "text/plain": [
       "Eq(w_t, K_t**alpha*X**kappa*beta*(A_t*L_t)**beta/L_t)"
      ]
     },
     "metadata": {},
     "output_type": "display_data"
    },
    {
     "data": {
      "text/latex": [
       "$\\displaystyle landrent_{t} = \\frac{K_{t}^{\\alpha} X^{\\kappa} \\kappa \\left(A_{t} L_{t}\\right)^{\\beta}}{X}$"
      ],
      "text/plain": [
       "Eq(landrent_t, K_t**alpha*X**kappa*kappa*(A_t*L_t)**beta/X)"
      ]
     },
     "metadata": {},
     "output_type": "display_data"
    }
   ],
   "source": [
    "# This line creates symbolic representation for various variables and parameters\n",
    "Y_t, K_t, X, A_t, L_t, alpha, beta, kappa, r_t, w_t, landrent_t = sm.symbols('Y_t, K_t, X, A_t, L_t, alpha, beta, kappa, r_t, w_t, landrent_t')\n",
    "\n",
    "# This line defines the production function\n",
    "production_function = K_t**alpha * (A_t*L_t)**beta * X**kappa\n",
    "\n",
    "# These lines computes the partial derivative of the production function respect to capital, labour, and, land to find the rent of the capital, the wages, and, the rent of the land.\n",
    "rent = sm.diff(production_function, K_t)\n",
    "wages = sm.diff(production_function, L_t)\n",
    "landrent = sm.diff(production_function, X)\n",
    "\n",
    "# To show the equations for rent, wages and landrent, we create them as an equation:\n",
    "display_rent = sm.Eq(r_t, rent)\n",
    "display_wages = sm.Eq(w_t, wages)\n",
    "display_landrent = sm.Eq(landrent_t, landrent)\n",
    "\n",
    "# Command for displaying in SymPy format\n",
    "display(display_rent, display_wages, display_landrent)"
   ]
  },
  {
   "cell_type": "code",
   "execution_count": 4,
   "metadata": {},
   "outputs": [
    {
     "data": {
      "text/latex": [
       "$\\displaystyle r_{t} = \\frac{Y_{t} \\alpha}{K_{t}}$"
      ],
      "text/plain": [
       "Eq(r_t, Y_t*alpha/K_t)"
      ]
     },
     "metadata": {},
     "output_type": "display_data"
    },
    {
     "data": {
      "text/latex": [
       "$\\displaystyle w_{t} = \\frac{Y_{t} \\beta}{L_{t}}$"
      ],
      "text/plain": [
       "Eq(w_t, Y_t*beta/L_t)"
      ]
     },
     "metadata": {},
     "output_type": "display_data"
    },
    {
     "data": {
      "text/latex": [
       "$\\displaystyle landrent_{t} = \\frac{Y_{t} \\kappa}{X}$"
      ],
      "text/plain": [
       "Eq(landrent_t, Y_t*kappa/X)"
      ]
     },
     "metadata": {},
     "output_type": "display_data"
    }
   ],
   "source": [
    "# Then we would like to substistute the production function with Y_t\n",
    "rent = rent.subs(production_function, Y_t)\n",
    "wages = wages.subs(production_function, Y_t)\n",
    "landrent = landrent.subs(production_function, Y_t)\n",
    "\n",
    "# Again, we create equations for rent, wages and landrent:\n",
    "display_rent = sm.Eq(r_t, rent)\n",
    "display_wages = sm.Eq(w_t, wages)\n",
    "display_landrent = sm.Eq(landrent_t, landrent)\n",
    "\n",
    "# Display rent and wages in SymPy format\n",
    "display(display_rent, display_wages, display_landrent)"
   ]
  },
  {
   "cell_type": "code",
   "execution_count": 5,
   "metadata": {},
   "outputs": [],
   "source": [
    "# Defining parameters\n",
    "s_val = 0.2\n",
    "n_val = 0.005\n",
    "g_val = 0.02\n",
    "delta_val = 0.06\n",
    "alpha_val = 0.2\n",
    "beta_val = 0.6\n",
    "kappa_val = 0.2\n",
    "A_0 = 1\n",
    "L_0 =1"
   ]
  },
  {
   "cell_type": "code",
   "execution_count": 6,
   "metadata": {},
   "outputs": [
    {
     "name": "stdout",
     "output_type": "stream",
     "text": [
      "The unique SS solution value for the capital-output ratio is [2.53914905]\n"
     ]
    }
   ],
   "source": [
    "# Call the Multi-Start function to find the steady state value of z.\n",
    "steady_state_z, smallest_residual = multi_start(num_guesses=100,\n",
    "            bounds = [1e-5, 50],\n",
    "            fun = solow_equation, \n",
    "            args = (s_val, n_val, g_val, delta_val, alpha_val, beta_val, kappa_val), \n",
    "            method = 'hybr')\n",
    "\n",
    "print(\"The unique SS solution value for the capital-output ratio is\",steady_state_z)"
   ]
  },
  {
   "cell_type": "code",
   "execution_count": 7,
   "metadata": {},
   "outputs": [
    {
     "name": "stdout",
     "output_type": "stream",
     "text": [
      "1. z(t+1) at z_t=0: 0**alpha*s**(1 - alpha)*(1/((g + 1)*(n + 1)))**beta\n",
      "2. Derivative of z(t+1) with respect to z_t is positive for all z_t > 0: (alpha*z_t**alpha*(s - z_t*(delta - 1))**(2 - alpha) + z_t**(alpha + 1)*(alpha - 1)*(delta - 1)*(s - z_t*(delta - 1))**(1 - alpha))/(z_t*((g + 1)*(n + 1))**beta*(s - z_t*(delta - 1))) > 0\n",
      "3. Slope of z(t+1) at z_t=0: 0**alpha*zoo*alpha*s**(1 - alpha)*(1/((g + 1)*(n + 1)))**beta + 0**alpha*s**(1 - alpha)*(1/((g + 1)*(n + 1)))**beta*(1 - alpha)*(1 - delta)/s\n",
      "Slope at (0,0) is strictly larger than one: False\n"
     ]
    }
   ],
   "source": [
    "# Define the symbols and parameters\n",
    "z_t = sm.Symbol('z_t')\n",
    "n, g, s, delta, a = sm.symbols('n g s delta a', real=True, positive=True)\n",
    "\n",
    "# Define the function z_{t+1}\n",
    "z_t_plus_1 = (1 / ((1 + n) * (1 + g)))**beta * (s + (1 - delta) * z_t)**(1 - alpha) * z_t**alpha\n",
    "\n",
    "# 1. Check if the function passes through (0, 0)\n",
    "z_t_at_zero = z_t_plus_1.subs(z_t, 0)\n",
    "print(f\"1. z(t+1) at z_t=0: {z_t_at_zero}\")\n",
    "\n",
    "# 2. Check if the function is strictly increasing\n",
    "z_t_plus_1_derivative = sm.diff(z_t_plus_1, z_t)\n",
    "\n",
    "# Use assumptions to verify that the derivative is positive for all z_t > 0\n",
    "derivative_positive = sm.simplify(z_t_plus_1_derivative > 0)\n",
    "print(f\"2. Derivative of z(t+1) with respect to z_t is positive for all z_t > 0: {derivative_positive}\")\n",
    "\n",
    "# 3. Check the slope at (0,0)\n",
    "slope_at_zero = z_t_plus_1_derivative.subs(z_t, 0)\n",
    "print(f\"3. Slope of z(t+1) at z_t=0: {slope_at_zero}\")\n",
    "\n",
    "# Ensure that the slope is strictly larger than one\n",
    "if slope_at_zero.is_real and slope_at_zero > 1:\n",
    "    print(f\"Slope at (0,0) is strictly larger than one: True\")\n",
    "else:\n",
    "    print(f\"Slope at (0,0) is strictly larger than one: False\")"
   ]
  }
 ],
 "metadata": {
  "kernelspec": {
   "display_name": "base",
   "language": "python",
   "name": "python3"
  },
  "language_info": {
   "codemirror_mode": {
    "name": "ipython",
    "version": 3
   },
   "file_extension": ".py",
   "mimetype": "text/x-python",
   "name": "python",
   "nbconvert_exporter": "python",
   "pygments_lexer": "ipython3",
   "version": "3.11.7"
  }
 },
 "nbformat": 4,
 "nbformat_minor": 2
}
