{
 "cells": [
  {
   "cell_type": "markdown",
   "metadata": {},
   "source": [
    "# THE SOLOW MODEL WITH LAND"
   ]
  },
  {
   "cell_type": "markdown",
   "metadata": {},
   "source": [
    "Imports and set magics:"
   ]
  },
  {
   "cell_type": "code",
   "execution_count": 2,
   "metadata": {},
   "outputs": [],
   "source": [
    "import numpy as np\n",
    "from scipy import optimize\n",
    "import sympy as sm\n",
    "import matplotlib.pyplot as plt\n",
    "\n",
    "# autoreload modules when code is run\n",
    "%load_ext autoreload\n",
    "%autoreload 2\n",
    "\n",
    "# local modules\n",
    "from modelproject import solow_equation, multi_start"
   ]
  },
  {
   "cell_type": "markdown",
   "metadata": {},
   "source": [
    "# Model description"
   ]
  },
  {
   "cell_type": "markdown",
   "metadata": {},
   "source": [
    "We have the following equations in the Solow Model with land:\n",
    "\\begin{aligned}\n",
    "    Y_{t} &= K^{\\alpha}_{t}(A_{t}L_{t})^{\\beta}X^{\\kappa}, \\quad \\alpha>0, \\beta>0, \\kappa>0, \\alpha+\\beta+\\kappa=1 \\hspace{4em} &(1)\\\\\n",
    "    K_{t+1} &= sY_{t} + (1-\\delta)K_{t}, \\quad 0 < s < 1, 0 < \\delta < 1, \\quad K_{0} \\text{ given}\\hspace{4em} &(2)\\\\\n",
    "    L_{t+1} &= (1+n)L_{t}, \\quad n≥0,  \\quad L_{0} \\text{ given}\\hspace{4em} &(3)\\\\\n",
    "    A_{t+1} &= (1+g)A_{t}, \\quad g≥0, \\quad A_{0}  \\text{ given} \\hspace{4em} &(4)\n",
    "\\end{aligned}\n",
    "\n",
    "1. The first equation is a Cobb-Douglas aggregate production function with land and exogenous constant technical coefficients $\\alpha$, $\\beta$ and $\\kappa$. The input X of land does not carry a time subscript since alnd is in fixed supply. <br>\n",
    "2. The second equation is the capital accumulation equation, assuming given rates of gross investments in physical capital (now disregarding human kapital) and of depreciation. <br>\n",
    "3. Equation (3) and (4) assume given growth rates for the labour force, $L_{t}$, and for the labour-augmenting productivity factor, $A_{t}$. Thus n is the growth rate of the labour force, and g reflects the rate of labour-augmenting technological progress. We assume both of these rates are at least zero. <br>\n",
    "\n",
    "We asumme constant return to scale for $K_{t}$, $L_{t}$ and X. When X is constant over time there is diminishing returns to scale for $K_{t}$ and $L_{t}$.\n",
    "\n",
    "The competetive factor markets imply that, in each period, each factor will earn its marginal product which depends on the predetermined levels of $K_{t}$, $L_{t}$, $A_{t}$ and X:\n",
    "\\begin{aligned}\n",
    "    (\\frac{K_{t}}{A_{t}L_{t}})^{\\alpha-1}(\\frac{X_{t}}{A_{t}L_{t}})^{\\kappa},  \\hspace{4em} &(5)\\\\\n",
    "    (\\frac{K_{t}}{A_{t}L_{t}})^{\\alpha}(\\frac{X_{t}}{A_{t}L_{t}})^{\\kappa}A_{t},  \\hspace{4em} &(6)\\\\\n",
    "    (\\frac{K_{t}}{A_{t}L_{t}})^{\\alpha}(\\frac{X_{t}}{A_{t}L_{t}})^{\\kappa-1},  \\hspace{4em} &(7)\\\\\n",
    "\\end{aligned}\n"
   ]
  },
  {
   "cell_type": "markdown",
   "metadata": {},
   "source": [
    "## Income shares of production factors"
   ]
  },
  {
   "cell_type": "code",
   "execution_count": 3,
   "metadata": {},
   "outputs": [
    {
     "data": {
      "text/latex": [
       "$\\displaystyle r_{t} = \\frac{Y_{t} \\alpha}{K_{t}}$"
      ],
      "text/plain": [
       "Eq(r_t, Y_t*alpha/K_t)"
      ]
     },
     "metadata": {},
     "output_type": "display_data"
    },
    {
     "data": {
      "text/latex": [
       "$\\displaystyle w_{t} = \\frac{Y_{t} \\beta}{L_{t}}$"
      ],
      "text/plain": [
       "Eq(w_t, Y_t*beta/L_t)"
      ]
     },
     "metadata": {},
     "output_type": "display_data"
    },
    {
     "data": {
      "text/latex": [
       "$\\displaystyle landrent_{t} = \\frac{Y_{t} \\kappa}{X}$"
      ],
      "text/plain": [
       "Eq(landrent_t, Y_t*kappa/X)"
      ]
     },
     "metadata": {},
     "output_type": "display_data"
    }
   ],
   "source": [
    "import sympy as sm\n",
    "\n",
    "# Create SymPy symbols for the variables and parameters\n",
    "Y_t, K_t, X, A_t, L_t, alpha, beta, kappa, r_t, w_t, landrent_t = sm.symbols('Y_t, K_t, X, A_t, L_t, alpha, beta, kappa, r_t, w_t, landrent_t')\n",
    "\n",
    "# Set the production function\n",
    "production_function = K_t**alpha * (A_t*L_t)**beta * X**kappa\n",
    "\n",
    "# Find rent and wages\n",
    "rent = sm.diff(production_function, K_t)\n",
    "wages = sm.diff(production_function, L_t)\n",
    "landrent = sm.diff(production_function, X)\n",
    "\n",
    "# Replace the production function with Y_t\n",
    "rent = rent.subs(production_function, Y_t)\n",
    "wages = wages.subs(production_function, Y_t)\n",
    "landrent = landrent.subs(production_function, Y_t)\n",
    "\n",
    "# For display purposes, I create equations for rent and wages\n",
    "display_rent = sm.Eq(r_t, rent)\n",
    "display_wages = sm.Eq(w_t, wages)\n",
    "display_landrent = sm.Eq(landrent_t, landrent)\n",
    "\n",
    "# Display rent and wages in SymPy format\n",
    "display(display_rent, display_wages, display_landrent)"
   ]
  },
  {
   "cell_type": "markdown",
   "metadata": {},
   "source": [
    "We have now shown that the income shares of capital, labour and land ($r_{t}K_{t}/Y_{t}$, etc.) are $\\alpha$, $\\beta$ and $\\kappa$, respectively, so the model is one of constant income shares."
   ]
  },
  {
   "cell_type": "markdown",
   "metadata": {},
   "source": [
    "## Solving the Steady-State"
   ]
  },
  {
   "cell_type": "markdown",
   "metadata": {},
   "source": [
    "The Solow model with land can be analyzed directly in terms of the capital-output ratio, $z_{t}≡K_{t}/Y_{t}=k_{t}/y_{t}$, for which we want to establish convergence to a constant steady state level. We will start by using the transition equation for $z_{t}$:\n",
    "\\begin{aligned}\n",
    "    z_{t+1} &= (\\frac{1}{(1+n)(1+g)})^{\\beta}[s+(1-\\delta)z_{t}]^{1-\\alpha}z_{t}^{a} \\hspace{4em} &(8)\n",
    "\\end{aligned}"
   ]
  },
  {
   "cell_type": "markdown",
   "metadata": {},
   "source": [
    "In the Steady-State we have that $z_{t_+1}=z_{t}=z^{*}$. We now isolate $z$:"
   ]
  },
  {
   "cell_type": "markdown",
   "metadata": {},
   "source": [
    "## Numerical solution"
   ]
  },
  {
   "cell_type": "code",
   "execution_count": 4,
   "metadata": {},
   "outputs": [],
   "source": [
    "# Defining parameters\n",
    "\n",
    "s_val = 0.2\n",
    "n_val = 0.005\n",
    "g_val = 0.02\n",
    "delta_val = 0.06\n",
    "alpha_val = 0.2\n",
    "beta_val = 0.6\n",
    "kappa_val = 0.2\n",
    "A_0 = 1\n",
    "L_0 =1"
   ]
  },
  {
   "cell_type": "code",
   "execution_count": 5,
   "metadata": {},
   "outputs": [
    {
     "name": "stdout",
     "output_type": "stream",
     "text": [
      "[2.53914905]\n"
     ]
    }
   ],
   "source": [
    "# Call the Multi-Start function to find the steady state value of z.\n",
    "steady_state_z, smallest_residual = multi_start(num_guesses=100,\n",
    "            bounds = [1e-5, 50],\n",
    "            fun = solow_equation, \n",
    "            args = (s_val, n_val, g_val, delta_val, alpha_val, beta_val), \n",
    "            method = 'hybr')\n",
    "\n",
    "print(steady_state_z)"
   ]
  },
  {
   "cell_type": "markdown",
   "metadata": {},
   "source": [
    "# Further analysis"
   ]
  },
  {
   "cell_type": "markdown",
   "metadata": {},
   "source": []
  },
  {
   "cell_type": "markdown",
   "metadata": {},
   "source": [
    "Make detailed vizualizations of how your model changes with parameter values. \n",
    "\n",
    "Try to make an extension of the model. "
   ]
  },
  {
   "cell_type": "code",
   "execution_count": 6,
   "metadata": {},
   "outputs": [
    {
     "data": {
      "application/vnd.jupyter.widget-view+json": {
       "model_id": "5e8e244fd14c482fac40b1c291c19bef",
       "version_major": 2,
       "version_minor": 0
      },
      "text/plain": [
       "interactive(children=(FloatSlider(value=0.6, description='beta', max=2.0), FloatSlider(value=0.2, description=…"
      ]
     },
     "metadata": {},
     "output_type": "display_data"
    }
   ],
   "source": [
    "import numpy as np\n",
    "import matplotlib.pyplot as plt\n",
    "from ipywidgets import interact, FloatSlider\n",
    "\n",
    "def equation(beta, alpha, delta, n, g, s, z):\n",
    "    z_next = ((1 / ((1 + n) * (1 + g))) ** beta) * (s + (1 - delta) * z) ** (1 - alpha) * z ** alpha\n",
    "    return z_next\n",
    "\n",
    "def plot_graph(beta, alpha, delta, n, g, s):\n",
    "    z = np.linspace(0, 4, 100)\n",
    "    z_next = equation(beta, alpha, delta, n, g, s, z)\n",
    "    \n",
    "    plt.figure(figsize=(8, 6))\n",
    "    \n",
    "    plt.plot(z, z_next, label='Transition equation')\n",
    "    plt.plot(z, z, 'r--', label='45-degree line')\n",
    "    \n",
    "    plt.xlabel('$z_{t}$')\n",
    "    plt.ylabel('$z_{t+1}$')\n",
    "    plt.title('Transition equation vs 45-degree line')\n",
    "    plt.legend()\n",
    "    plt.xlim(0, 4)\n",
    "    plt.ylim(0, 4)\n",
    "    \n",
    "    plt.show()\n",
    "\n",
    "# Define sliders with default values\n",
    "beta_slider = FloatSlider(min=0, max=2, step=0.1, value=0.6, description='beta')\n",
    "alpha_slider = FloatSlider(min=0, max=1, step=0.1, value=0.2, description='alpha')\n",
    "delta_slider = FloatSlider(min=0, max=1, step=0.01, value=0.06, description='delta')\n",
    "n_slider = FloatSlider(min=0, max=1, step=0.001, value=0.005, description='n')\n",
    "g_slider = FloatSlider(min=0, max=1, step=0.01, value=0.02, description='g')\n",
    "s_slider = FloatSlider(min=0, max=1, step=0.01, value=0.2, description='s')\n",
    "\n",
    "# Create interactive plot\n",
    "interact(plot_graph, beta=beta_slider, alpha=alpha_slider, delta=delta_slider, \n",
    "         n=n_slider, g=g_slider, s=s_slider);\n"
   ]
  },
  {
   "cell_type": "markdown",
   "metadata": {},
   "source": [
    "# Conclusion"
   ]
  },
  {
   "cell_type": "markdown",
   "metadata": {},
   "source": [
    "Add concise conclusion. "
   ]
  }
 ],
 "metadata": {
  "kernelspec": {
   "display_name": "base",
   "language": "python",
   "name": "python3"
  },
  "language_info": {
   "codemirror_mode": {
    "name": "ipython",
    "version": 3
   },
   "file_extension": ".py",
   "mimetype": "text/x-python",
   "name": "python",
   "nbconvert_exporter": "python",
   "pygments_lexer": "ipython3",
   "version": "3.11.7"
  },
  "toc-autonumbering": true,
  "vscode": {
   "interpreter": {
    "hash": "47ef90cdf3004d3f859f1fb202523c65c07ba7c22eefd261b181f4744e2d0403"
   }
  }
 },
 "nbformat": 4,
 "nbformat_minor": 4
}
