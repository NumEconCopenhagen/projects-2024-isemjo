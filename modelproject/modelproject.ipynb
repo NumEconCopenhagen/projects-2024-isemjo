{
 "cells": [
  {
   "cell_type": "markdown",
   "metadata": {},
   "source": [
    "# THE SOLOW MODEL WITH LAND"
   ]
  },
  {
   "cell_type": "markdown",
   "metadata": {},
   "source": [
    "Imports and set magics:"
   ]
  },
  {
   "cell_type": "code",
   "execution_count": 61,
   "metadata": {},
   "outputs": [
    {
     "name": "stdout",
     "output_type": "stream",
     "text": [
      "The autoreload extension is already loaded. To reload it, use:\n",
      "  %reload_ext autoreload\n"
     ]
    }
   ],
   "source": [
    "import numpy as np\n",
    "from scipy import optimize\n",
    "import sympy as sm\n",
    "import matplotlib.pyplot as plt\n",
    "\n",
    "# autoreload modules when code is run\n",
    "%load_ext autoreload\n",
    "%autoreload 2\n",
    "\n",
    "# local modules\n",
    "from modelproject import solow_equation, multi_start"
   ]
  },
  {
   "cell_type": "markdown",
   "metadata": {},
   "source": [
    "# Model description"
   ]
  },
  {
   "cell_type": "markdown",
   "metadata": {},
   "source": [
    "We have the following equations in the Solow Model with land:\n",
    "\\begin{aligned}\n",
    "    Y_{t} &= K^{\\alpha}_{t}(A_{t}L_{t})^{\\beta}X^{\\kappa}, \\quad \\alpha>0, \\beta>0, \\kappa>0, \\alpha+\\beta+\\kappa=1 \\hspace{4em} &(1)\\\\\n",
    "    K_{t+1} &= sY_{t} + (1-\\delta)K_{t}, \\quad 0 < s < 1, 0 < \\delta < 1, \\quad K_{0} \\text{ given}\\hspace{4em} &(2)\\\\\n",
    "    L_{t+1} &= (1+n)L_{t}, \\quad n≥0,  \\quad L_{0} \\text{ given}\\hspace{4em} &(3)\\\\\n",
    "    A_{t+1} &= (1+g)A_{t}, \\quad g≥0, \\quad A_{0}  \\text{ given} \\hspace{4em} &(4)\n",
    "\\end{aligned}\n",
    "\n",
    "1. The first equation is a Cobb-Douglas aggregate production function with land and exogenous constant technical coefficients $\\alpha$, $\\beta$ and $\\kappa$. The input X of land does not carry a time subscript since alnd is in fixed supply. <br>\n",
    "2. The second equation is the capital accumulation equation, assuming given rates of gross investments in physical capital (now disregarding human kapital) and of depreciation. <br>\n",
    "3. Equation (3) and (4) assume given growth rates for the labour force, $L_{t}$, and for the labour-augmenting productivity factor, $A_{t}$. Thus n is the growth rate of the labour force, and g reflects the rate of labour-augmenting technological progress. We assume both of these rates are at least zero. <br>\n",
    "\n",
    "We asumme constant return to scale for $K_{t}$, $L_{t}$ and X. When X is constant over time there is diminishing returns to scale for $K_{t}$ and $L_{t}$.\n",
    "\n",
    "The competetive factor markets imply that, in each period, each factor will earn its marginal product which depends on the predetermined levels of $K_{t}$, $L_{t}$, $A_{t}$ and X:\n",
    "\\begin{aligned}\n",
    "    (\\frac{K_{t}}{A_{t}L_{t}})^{\\alpha-1}(\\frac{X_{t}}{A_{t}L_{t}})^{\\kappa},  \\hspace{4em} &(5)\\\\\n",
    "    (\\frac{K_{t}}{A_{t}L_{t}})^{\\alpha}(\\frac{X_{t}}{A_{t}L_{t}})^{\\kappa}A_{t},  \\hspace{4em} &(6)\\\\\n",
    "    (\\frac{K_{t}}{A_{t}L_{t}})^{\\alpha}(\\frac{X_{t}}{A_{t}L_{t}})^{\\kappa-1},  \\hspace{4em} &(7)\\\\\n",
    "\\end{aligned}\n"
   ]
  },
  {
   "cell_type": "markdown",
   "metadata": {},
   "source": [
    "## Income shares of production factors"
   ]
  },
  {
   "cell_type": "code",
   "execution_count": 62,
   "metadata": {},
   "outputs": [
    {
     "data": {
      "text/latex": [
       "$\\displaystyle r_{t} = \\frac{Y_{t} \\alpha}{K_{t}}$"
      ],
      "text/plain": [
       "Eq(r_t, Y_t*alpha/K_t)"
      ]
     },
     "metadata": {},
     "output_type": "display_data"
    },
    {
     "data": {
      "text/latex": [
       "$\\displaystyle w_{t} = \\frac{Y_{t} \\beta}{L_{t}}$"
      ],
      "text/plain": [
       "Eq(w_t, Y_t*beta/L_t)"
      ]
     },
     "metadata": {},
     "output_type": "display_data"
    },
    {
     "data": {
      "text/latex": [
       "$\\displaystyle landrent_{t} = \\frac{Y_{t} \\kappa}{X}$"
      ],
      "text/plain": [
       "Eq(landrent_t, Y_t*kappa/X)"
      ]
     },
     "metadata": {},
     "output_type": "display_data"
    }
   ],
   "source": [
    "import sympy as sm\n",
    "\n",
    "# Create SymPy symbols for the variables and parameters\n",
    "Y_t, K_t, X, A_t, L_t, alpha, beta, kappa, r_t, w_t, landrent_t = sm.symbols('Y_t, K_t, X, A_t, L_t, alpha, beta, kappa, r_t, w_t, landrent_t')\n",
    "\n",
    "# Set the production function\n",
    "production_function = K_t**alpha * (A_t*L_t)**beta * X**kappa\n",
    "\n",
    "# Find rent and wages\n",
    "rent = sm.diff(production_function, K_t)\n",
    "wages = sm.diff(production_function, L_t)\n",
    "landrent = sm.diff(production_function, X)\n",
    "\n",
    "# Replace the production function with Y_t\n",
    "rent = rent.subs(production_function, Y_t)\n",
    "wages = wages.subs(production_function, Y_t)\n",
    "landrent = landrent.subs(production_function, Y_t)\n",
    "\n",
    "# For display purposes, I create equations for rent and wages\n",
    "display_rent = sm.Eq(r_t, rent)\n",
    "display_wages = sm.Eq(w_t, wages)\n",
    "display_landrent = sm.Eq(landrent_t, landrent)\n",
    "\n",
    "# Display rent and wages in SymPy format\n",
    "display(display_rent, display_wages, display_landrent)"
   ]
  },
  {
   "cell_type": "markdown",
   "metadata": {},
   "source": [
    "We have now shown that the income shares of capital, labour and land ($r_{t}K_{t}/Y_{t}$, etc.) are $\\alpha$, $\\beta$ and $\\kappa$, respectively, so the model is one of constant income shares."
   ]
  },
  {
   "cell_type": "markdown",
   "metadata": {},
   "source": [
    "## Solving the Steady-State"
   ]
  },
  {
   "cell_type": "markdown",
   "metadata": {},
   "source": [
    "The Solow model with land can be analyzed directly in terms of the capital-output ratio, $z_{t}≡K_{t}/Y_{t}=k_{t}/y_{t}$, for which we want to establish convergence to a constant steady state level. We will start by using the transition equation for $z_{t}$:\n",
    "\\begin{aligned}\n",
    "    z_{t+1} &= (\\frac{1}{(1+n)(1+g)})^{\\beta}[s+(1-\\delta)z_{t}]^{1-\\alpha}z_{t}^{a} \\hspace{4em} &(8)\n",
    "\\end{aligned}"
   ]
  },
  {
   "cell_type": "markdown",
   "metadata": {},
   "source": [
    "In the Steady-State we have that $z_{t_+1}=z_{t}=z^{*}$. We now isolate $z$:"
   ]
  },
  {
   "cell_type": "markdown",
   "metadata": {},
   "source": [
    "## Numerical solution"
   ]
  },
  {
   "cell_type": "code",
   "execution_count": 63,
   "metadata": {},
   "outputs": [],
   "source": [
    "# Defining parameters\n",
    "\n",
    "s_val = 0.2\n",
    "n_val = 0.005\n",
    "g_val = 0.02\n",
    "delta_val = 0.06\n",
    "alpha_val = 0.2\n",
    "beta_val = 0.6"
   ]
  },
  {
   "cell_type": "code",
   "execution_count": 64,
   "metadata": {},
   "outputs": [
    {
     "ename": "TypeError",
     "evalue": "unsupported format string passed to numpy.ndarray.__format__",
     "output_type": "error",
     "traceback": [
      "\u001b[0;31m---------------------------------------------------------------------------\u001b[0m",
      "\u001b[0;31mTypeError\u001b[0m                                 Traceback (most recent call last)",
      "Cell \u001b[0;32mIn[64], line 8\u001b[0m\n\u001b[1;32m      1\u001b[0m \u001b[38;5;66;03m# Call the Multi-Start function to find the steady state value of z.\u001b[39;00m\n\u001b[1;32m      2\u001b[0m steady_state_z, smallest_residual \u001b[38;5;241m=\u001b[39m multi_start(num_guesses\u001b[38;5;241m=\u001b[39m\u001b[38;5;241m100\u001b[39m,\n\u001b[1;32m      3\u001b[0m             bounds \u001b[38;5;241m=\u001b[39m [\u001b[38;5;241m1e-5\u001b[39m, \u001b[38;5;241m50\u001b[39m],\n\u001b[1;32m      4\u001b[0m             fun \u001b[38;5;241m=\u001b[39m solow_equation, \n\u001b[1;32m      5\u001b[0m             args \u001b[38;5;241m=\u001b[39m (s_val, n_val, g_val, delta_val, alpha_val, beta_val), \n\u001b[1;32m      6\u001b[0m             method \u001b[38;5;241m=\u001b[39m \u001b[38;5;124m'\u001b[39m\u001b[38;5;124mhybr\u001b[39m\u001b[38;5;124m'\u001b[39m)\n\u001b[0;32m----> 8\u001b[0m \u001b[38;5;28mprint\u001b[39m(\u001b[38;5;124mf\u001b[39m\u001b[38;5;124m'\u001b[39m\u001b[38;5;124mMuti-Start Solution:\u001b[39m\u001b[38;5;130;01m\\n\u001b[39;00m\u001b[38;5;130;01m\\\u001b[39;00m\n\u001b[1;32m      9\u001b[0m \u001b[38;5;124mWe have \u001b[39m\u001b[38;5;132;01m{\u001b[39;00msteady_state_z\u001b[38;5;132;01m:\u001b[39;00m\u001b[38;5;124m.3f\u001b[39m\u001b[38;5;132;01m}\u001b[39;00m\u001b[38;5;124m in steady state\u001b[39m\u001b[38;5;130;01m\\n\u001b[39;00m\u001b[38;5;130;01m\\\u001b[39;00m\n\u001b[1;32m     10\u001b[0m \u001b[38;5;124mThe functions residual is \u001b[39m\u001b[38;5;132;01m{\u001b[39;00msmallest_residual\u001b[38;5;132;01m:\u001b[39;00m\u001b[38;5;124m.3e\u001b[39m\u001b[38;5;132;01m}\u001b[39;00m\u001b[38;5;124m'\u001b[39m)\n",
      "\u001b[0;31mTypeError\u001b[0m: unsupported format string passed to numpy.ndarray.__format__"
     ]
    }
   ],
   "source": [
    "# Call the Multi-Start function to find the steady state value of z.\n",
    "steady_state_z, smallest_residual = multi_start(num_guesses=100,\n",
    "            bounds = [1e-5, 50],\n",
    "            fun = solow_equation, \n",
    "            args = (s_val, n_val, g_val, delta_val, alpha_val, beta_val), \n",
    "            method = 'hybr')\n",
    "\n",
    "print(f'Muti-Start Solution:\\n\\\n",
    "We have {steady_state_z:.3f} in steady state\\n\\\n",
    "The functions residual is {smallest_residual:.3e}')"
   ]
  },
  {
   "cell_type": "markdown",
   "metadata": {},
   "source": [
    "# Further analysis"
   ]
  },
  {
   "cell_type": "markdown",
   "metadata": {},
   "source": [
    "Make detailed vizualizations of how your model changes with parameter values. \n",
    "\n",
    "Try to make an extension of the model. "
   ]
  },
  {
   "cell_type": "markdown",
   "metadata": {},
   "source": [
    "# Conclusion"
   ]
  },
  {
   "cell_type": "markdown",
   "metadata": {},
   "source": [
    "Add concise conclusion. "
   ]
  }
 ],
 "metadata": {
  "kernelspec": {
   "display_name": "base",
   "language": "python",
   "name": "python3"
  },
  "language_info": {
   "codemirror_mode": {
    "name": "ipython",
    "version": 3
   },
   "file_extension": ".py",
   "mimetype": "text/x-python",
   "name": "python",
   "nbconvert_exporter": "python",
   "pygments_lexer": "ipython3",
   "version": "3.11.7"
  },
  "toc-autonumbering": true,
  "vscode": {
   "interpreter": {
    "hash": "47ef90cdf3004d3f859f1fb202523c65c07ba7c22eefd261b181f4744e2d0403"
   }
  }
 },
 "nbformat": 4,
 "nbformat_minor": 4
}
