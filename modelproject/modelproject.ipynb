{
 "cells": [
  {
   "cell_type": "markdown",
   "metadata": {},
   "source": [
    "# The Solow Model with Land"
   ]
  },
  {
   "cell_type": "markdown",
   "metadata": {},
   "source": [
    "In this section of the code, we import the required libraries and Python scripts."
   ]
  },
  {
   "cell_type": "code",
   "execution_count": 17,
   "metadata": {},
   "outputs": [],
   "source": [
    "import numpy as np\n",
    "from scipy import optimize\n",
    "import sympy as sm\n",
    "import matplotlib.pyplot as plt\n",
    "from ipywidgets import interact, FloatSlider\n",
    "\n",
    "# Python script\n",
    "from modelproject import solow_equation, multi_start\n",
    "from modelproject import solow_equation1, multi_start1"
   ]
  },
  {
   "cell_type": "markdown",
   "metadata": {},
   "source": [
    "# 1. Model description"
   ]
  },
  {
   "cell_type": "markdown",
   "metadata": {},
   "source": [
    "We use Chapter 7.1 in \"xxx\" as our baseline model, which highlights the importance of a natural resource by emphasizing the role of land where we have the following equations:"
   ]
  },
  {
   "cell_type": "markdown",
   "metadata": {},
   "source": [
    "\\begin{aligned}\n",
    "    Y_{t} &= K^{\\alpha}_{t}(A_{t}L_{t})^{\\beta}X^{\\kappa}, \\quad \\alpha>0, \\beta>0, \\kappa>0, \\alpha+\\beta+\\kappa=1 \\hspace{4em} &(1)\\\\\n",
    "    K_{t+1} &= sY_{t} + (1-\\delta)K_{t}, \\quad 0 < s < 1, 0 < \\delta < 1, \\quad K_{0} \\text{ given}\\hspace{4em} &(2)\\\\\n",
    "    L_{t+1} &= (1+n)L_{t}, \\quad n≥0,  \\quad L_{0} \\text{ given}\\hspace{4em} &(3)\\\\\n",
    "    A_{t+1} &= (1+g)A_{t}, \\quad g≥0, \\quad A_{0}  \\text{ given} \\hspace{4em} &(4)\n",
    "\\end{aligned}\n",
    "\n",
    "1. The first equation is a Cobb-Douglas aggregate production function with land and exogenous constant technical coefficients $\\alpha$, $\\beta$ and $\\kappa$. The input X of land does not carry a time subscript since land is in fixed supply. <br>\n",
    "2. The second equation is the capital accumulation equation, assuming given rates of gross investments in capital and of depreciation. <br>\n",
    "3. Equation (3) and (4) assume given growth rates for the labour force, $L_{t}$, and for the labour-augmenting productivity factor, $A_{t}$. Thus n is the growth rate of the labour force, and g reflects the rate of labour-augmenting technological progress. We assume both of these rates are at least zero. <br>\n",
    "\n",
    "We asumme constant return to scale for $K_{t}$, $L_{t}$ and X. When X is constant over time there is diminishing returns to scale for $K_{t}$ and $L_{t}$.\n"
   ]
  },
  {
   "cell_type": "markdown",
   "metadata": {},
   "source": [
    "## 1.2 Income shares of production factors"
   ]
  },
  {
   "cell_type": "code",
   "execution_count": 18,
   "metadata": {},
   "outputs": [
    {
     "data": {
      "text/latex": [
       "$\\displaystyle r_{t} = \\frac{K_{t}^{\\alpha} X^{\\kappa} \\alpha \\left(A_{t} L_{t}\\right)^{\\beta}}{K_{t}}$"
      ],
      "text/plain": [
       "Eq(r_t, K_t**alpha*X**kappa*alpha*(A_t*L_t)**beta/K_t)"
      ]
     },
     "metadata": {},
     "output_type": "display_data"
    },
    {
     "data": {
      "text/latex": [
       "$\\displaystyle w_{t} = \\frac{K_{t}^{\\alpha} X^{\\kappa} \\beta \\left(A_{t} L_{t}\\right)^{\\beta}}{L_{t}}$"
      ],
      "text/plain": [
       "Eq(w_t, K_t**alpha*X**kappa*beta*(A_t*L_t)**beta/L_t)"
      ]
     },
     "metadata": {},
     "output_type": "display_data"
    },
    {
     "data": {
      "text/latex": [
       "$\\displaystyle landrent_{t} = \\frac{K_{t}^{\\alpha} X^{\\kappa} \\kappa \\left(A_{t} L_{t}\\right)^{\\beta}}{X}$"
      ],
      "text/plain": [
       "Eq(landrent_t, K_t**alpha*X**kappa*kappa*(A_t*L_t)**beta/X)"
      ]
     },
     "metadata": {},
     "output_type": "display_data"
    }
   ],
   "source": [
    "# This line creates symbolic representation for various variables and parameters\n",
    "Y_t, K_t, X, A_t, L_t, alpha, beta, kappa, r_t, w_t, landrent_t = sm.symbols('Y_t, K_t, X, A_t, L_t, alpha, beta, kappa, r_t, w_t, landrent_t')\n",
    "\n",
    "# This line defines the production function\n",
    "production_function = K_t**alpha * (A_t*L_t)**beta * X**kappa\n",
    "\n",
    "# These lines computes the partial derivative of the production function respect to capital, labour, and, land to find the rent of the capital, the wages, and, the rent of the land.\n",
    "rent = sm.diff(production_function, K_t)\n",
    "wages = sm.diff(production_function, L_t)\n",
    "landrent = sm.diff(production_function, X)\n",
    "\n",
    "# To show the equations for rent, wages and landrent, we create them as an equation:\n",
    "display_rent = sm.Eq(r_t, rent)\n",
    "display_wages = sm.Eq(w_t, wages)\n",
    "display_landrent = sm.Eq(landrent_t, landrent)\n",
    "\n",
    "# Command for displaying in SymPy format\n",
    "display(display_rent, display_wages, display_landrent)"
   ]
  },
  {
   "cell_type": "code",
   "execution_count": 19,
   "metadata": {},
   "outputs": [
    {
     "data": {
      "text/latex": [
       "$\\displaystyle r_{t} = \\frac{Y_{t} \\alpha}{K_{t}}$"
      ],
      "text/plain": [
       "Eq(r_t, Y_t*alpha/K_t)"
      ]
     },
     "metadata": {},
     "output_type": "display_data"
    },
    {
     "data": {
      "text/latex": [
       "$\\displaystyle w_{t} = \\frac{Y_{t} \\beta}{L_{t}}$"
      ],
      "text/plain": [
       "Eq(w_t, Y_t*beta/L_t)"
      ]
     },
     "metadata": {},
     "output_type": "display_data"
    },
    {
     "data": {
      "text/latex": [
       "$\\displaystyle landrent_{t} = \\frac{Y_{t} \\kappa}{X}$"
      ],
      "text/plain": [
       "Eq(landrent_t, Y_t*kappa/X)"
      ]
     },
     "metadata": {},
     "output_type": "display_data"
    }
   ],
   "source": [
    "# Then we would like to substistute the production function with Y_t\n",
    "rent = rent.subs(production_function, Y_t)\n",
    "wages = wages.subs(production_function, Y_t)\n",
    "landrent = landrent.subs(production_function, Y_t)\n",
    "\n",
    "# Again, we create equations for rent, wages and landrent:\n",
    "display_rent = sm.Eq(r_t, rent)\n",
    "display_wages = sm.Eq(w_t, wages)\n",
    "display_landrent = sm.Eq(landrent_t, landrent)\n",
    "\n",
    "# Display rent and wages in SymPy format\n",
    "display(display_rent, display_wages, display_landrent)"
   ]
  },
  {
   "cell_type": "markdown",
   "metadata": {},
   "source": [
    "We have now shown that the income shares of capital, labour and land ($r_{t}K_{t}/Y_{t}$, etc.) are $\\alpha$, $\\beta$ and $\\kappa$, respectively, so the model is one of constant income shares."
   ]
  },
  {
   "cell_type": "markdown",
   "metadata": {},
   "source": [
    "# 2 Solving the Steady-State"
   ]
  },
  {
   "cell_type": "markdown",
   "metadata": {},
   "source": [
    "The Solow model with land can be analyzed directly in terms of the capital-output ratio, $z_{t}≡K_{t}/Y_{t}=k_{t}/y_{t}$, for which we want to establish convergence to a constant steady state level. We will start by using the transition equation for $z_{t}$:\n",
    "\\begin{aligned}\n",
    "    z_{t+1} &= (\\frac{1}{(1+n)(1+g)})^{\\beta}[s+(1-\\delta)z_{t}]^{1-\\alpha}z_{t}^{a} \\hspace{4em} &(8)\n",
    "\\end{aligned}"
   ]
  },
  {
   "cell_type": "markdown",
   "metadata": {},
   "source": [
    "In the Steady-State we have that $z_{t_+1}=z_{t}=z^{*}$. We now isolate $z$:"
   ]
  },
  {
   "cell_type": "code",
   "execution_count": 20,
   "metadata": {},
   "outputs": [],
   "source": [
    "# Defining parameters\n",
    "s_val = 0.2\n",
    "n_val = 0.005\n",
    "g_val = 0.02\n",
    "delta_val = 0.06\n",
    "alpha_val = 0.2\n",
    "beta_val = 0.6\n",
    "kappa_val = 0.2\n",
    "A_0 = 1\n",
    "L_0 =1"
   ]
  },
  {
   "cell_type": "code",
   "execution_count": 21,
   "metadata": {},
   "outputs": [
    {
     "name": "stdout",
     "output_type": "stream",
     "text": [
      "The unique SS solution value for the capital-output ratio is [2.53914905]\n"
     ]
    }
   ],
   "source": [
    "# Call the Multi-Start function to find the steady state value of z.\n",
    "steady_state_z, smallest_residual = multi_start(num_guesses=100,\n",
    "            bounds = [1e-5, 50],\n",
    "            fun = solow_equation, \n",
    "            args = (s_val, n_val, g_val, delta_val, alpha_val, beta_val, kappa_val), \n",
    "            method = 'hybr')\n",
    "\n",
    "print(\"The unique SS solution value for the capital-output ratio is\",steady_state_z)"
   ]
  },
  {
   "cell_type": "markdown",
   "metadata": {},
   "source": [
    "\n",
    "The steady state solution is calculated based on parameter values that approximate empirical data."
   ]
  },
  {
   "cell_type": "markdown",
   "metadata": {},
   "source": [
    "## 2.1 Graphical solution"
   ]
  },
  {
   "cell_type": "markdown",
   "metadata": {},
   "source": [
    "In this section, we graphically demonstrate how the transition equation for the capital-output ratio, 𝑧, converges to a specific and constant steady state level, 𝑧∗ Additionally, we visually illustrate the properties of the transition curve: it passes through the origin (0,0), is strictly increasing everywhere, and intersects the 45-degree line at exactly one point where it is strictly positive."
   ]
  },
  {
   "cell_type": "code",
   "execution_count": 22,
   "metadata": {},
   "outputs": [
    {
     "data": {
      "application/vnd.jupyter.widget-view+json": {
       "model_id": "6c124f90c9044e4bb61bb1fb525cefa5",
       "version_major": 2,
       "version_minor": 0
      },
      "text/plain": [
       "interactive(children=(FloatSlider(value=0.6, description='beta', max=2.0), FloatSlider(value=0.2, description=…"
      ]
     },
     "metadata": {},
     "output_type": "display_data"
    }
   ],
   "source": [
    "#This function defines the transition equation \n",
    "def equation(beta, alpha, delta, n, g, s, z):\n",
    "    z_next = ((1 / ((1 + n) * (1 + g))) ** beta) * (s + (1 - delta) * z) ** (1 - alpha) * z ** alpha\n",
    "    return z_next\n",
    "\n",
    "def plot_graph(beta, alpha, delta, n, g, s):\n",
    "    z = np.linspace(0, 4, 100)\n",
    "    z_next = equation(beta, alpha, delta, n, g, s, z)\n",
    "    \n",
    "    plt.figure(figsize=(8, 6))\n",
    "    \n",
    "    # Plots the transition equation and the 45-degree line\n",
    "    plt.plot(z, z_next, label='Transition equation')\n",
    "    plt.plot(z, z, 'r--', label='45-degree line')\n",
    "    \n",
    "    # Writing plot aesthetic such as labels, title, legend, and axes limits.\n",
    "    plt.xlabel('$z_{t}$')\n",
    "    plt.ylabel('$z_{t+1}$')\n",
    "    plt.title('Transition equation vs 45-degree line')\n",
    "    plt.legend()\n",
    "    plt.xlim(0, 4)\n",
    "    plt.ylim(0, 4)\n",
    "    \n",
    "    plt.show()\n",
    "\n",
    "# Define sliders with default values\n",
    "beta_slider = FloatSlider(min=0, max=2, step=0.1, value=0.6, description='beta')\n",
    "alpha_slider = FloatSlider(min=0, max=1, step=0.1, value=0.2, description='alpha')\n",
    "delta_slider = FloatSlider(min=0, max=1, step=0.01, value=0.06, description='delta')\n",
    "n_slider = FloatSlider(min=0, max=1, step=0.001, value=0.005, description='n')\n",
    "g_slider = FloatSlider(min=0, max=1, step=0.01, value=0.02, description='g')\n",
    "s_slider = FloatSlider(min=0, max=1, step=0.01, value=0.2, description='s')\n",
    "\n",
    "# Create interactive plot\n",
    "interact(plot_graph, beta=beta_slider, alpha=alpha_slider, delta=delta_slider, \n",
    "         n=n_slider, g=g_slider, s=s_slider);\n"
   ]
  },
  {
   "cell_type": "markdown",
   "metadata": {},
   "source": [
    "The provided code sets up an interactive plot to visually explore the behavior of a transition equation for the capital-output ratio."
   ]
  },
  {
   "cell_type": "markdown",
   "metadata": {},
   "source": [
    "# 3 Adding Exhaustible Natural Resources"
   ]
  },
  {
   "cell_type": "markdown",
   "metadata": {},
   "source": [
    "Land is not the only significant natural resource in aggregate production. Other crucial nonrenewable resources include oil, gas, coal, metals, and non-metallic minerals. Unlike land, whose quantity remains constant during production, non-renewable resources diminish as they are utilized. This depletion implies a greater barrier to growth compared to land. To explore this hypothesis, we plan to expand our Solow model, which currently includes land, to also account for exhaustible natural resources. We denote the total stock by R which each period will be reduced by the amount of E.\n",
    "\n",
    "The model with land and exhustible natural resources will then be: "
   ]
  },
  {
   "cell_type": "markdown",
   "metadata": {},
   "source": [
    "\\begin{aligned}\n",
    "    Y_{t} &= K^{\\alpha}_{t}(A_{t}L_{t})^{\\beta}X^{\\kappa}E_t^{\\varepsilon}, \\quad \\alpha>0, \\beta>0, \\kappa>0, \\varepsilon>0, \\alpha+\\beta+\\kappa+ \\varepsilon=1 \\hspace{4em} &(1)\\\\\n",
    "    K_{t+1} &= sY_{t} + (1-\\delta)K_{t}, \\quad 0 < s < 1, 0 < \\delta < 1, \\quad K_{0} \\text{ given}\\hspace{4em} &(2)\\\\\n",
    "    L_{t+1} &= (1+n)L_{t}, \\quad n≥0,  \\quad L_{0} \\text{ given}\\hspace{4em} &(3)\\\\\n",
    "    A_{t+1} &= (1+g)A_{t}, \\quad g≥0, \\quad A_{0}  \\text{ given} \\hspace{4em} &(4)\\\\\n",
    "    R_{t+1} &= R_t-E_t\\\\\n",
    "    E_t &= \\psi R_t \\quad 0<\\psi<1\n",
    "\\end{aligned}\n",
    "\n",
    "Adding this to model\n",
    "1. We enhance the Cobb-Douglas aggregate production function, which already includes land, by adding the variable, E, representing the amount of natural resources utilized.  <br>\n",
    "4. The depletion of the natural resource, detailing the remaining stock, $R_{t+1}$ , after the natural resources are consumed in production at time, t. <br>\n",
    "5. The consumption rate of the natural resource in production, which is a constant fraction of the remaining stock each period. <br>\n"
   ]
  },
  {
   "cell_type": "markdown",
   "metadata": {},
   "source": [
    "## 3.1 Solving SS"
   ]
  },
  {
   "cell_type": "markdown",
   "metadata": {},
   "source": [
    "Using the same methoed to calculate the SS for the new transition equation: \n",
    "\n",
    "\\begin{aligned}\n",
    "    j_{t+1} &= \\frac{1}{((1+n)(1+g))^{\\beta}(1-\\psi)^\\epsilon}[s+(1-\\delta)j_{t}]^{1-\\alpha}j_{t}^{a} \\hspace{4em} &(8)\n",
    "\\end{aligned}\n",
    "\n",
    "Naming the capital-output ratio j in this version with exhaustible natural resources. "
   ]
  },
  {
   "cell_type": "code",
   "execution_count": 23,
   "metadata": {},
   "outputs": [],
   "source": [
    "# Defining parameters\n",
    "psi_val = 0.05\n",
    "epsilon_val = 0.1"
   ]
  },
  {
   "cell_type": "code",
   "execution_count": 24,
   "metadata": {},
   "outputs": [
    {
     "name": "stdout",
     "output_type": "stream",
     "text": [
      "The unique SS solution value for the capital-output ratio is [2.33925535]\n"
     ]
    }
   ],
   "source": [
    "# Call the Multi-Start1 function to find the steady state value of j.\n",
    "steady_state_j, smallest_residual = multi_start1(num_guesses=100,\n",
    "            bounds = [1e-5, 50],\n",
    "            fun = solow_equation1, \n",
    "            args = (s_val, n_val, g_val, delta_val, alpha_val, beta_val, kappa_val, psi_val, epsilon_val), \n",
    "            method = 'hybr')\n",
    "\n",
    "print(\"The unique SS solution value for the capital-output ratio is\",steady_state_j)"
   ]
  }
 ],
 "metadata": {
  "kernelspec": {
   "display_name": "base",
   "language": "python",
   "name": "python3"
  },
  "language_info": {
   "codemirror_mode": {
    "name": "ipython",
    "version": 3
   },
   "file_extension": ".py",
   "mimetype": "text/x-python",
   "name": "python",
   "nbconvert_exporter": "python",
   "pygments_lexer": "ipython3",
   "version": "3.11.7"
  },
  "toc-autonumbering": true,
  "vscode": {
   "interpreter": {
    "hash": "47ef90cdf3004d3f859f1fb202523c65c07ba7c22eefd261b181f4744e2d0403"
   }
  }
 },
 "nbformat": 4,
 "nbformat_minor": 4
}
